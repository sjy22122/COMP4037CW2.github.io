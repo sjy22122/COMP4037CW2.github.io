{
 "cells": [
  {
   "cell_type": "code",
   "execution_count": 1,
   "id": "3f82fe79-3cb9-410e-a89c-b9d389fa1c1a",
   "metadata": {},
   "outputs": [],
   "source": [
    "import pandas as pd\n",
    "import plotly.express as px\n",
    "\n",
    "#https://plotly.com/python-api-reference/generated/plotly.express.sunburst.html"
   ]
  },
  {
   "cell_type": "code",
   "execution_count": 2,
   "id": "9acf15e4-8ec6-4a7a-be04-f969ee9c4320",
   "metadata": {},
   "outputs": [
    {
     "data": {
      "text/html": [
       "<div>\n",
       "<style scoped>\n",
       "    .dataframe tbody tr th:only-of-type {\n",
       "        vertical-align: middle;\n",
       "    }\n",
       "\n",
       "    .dataframe tbody tr th {\n",
       "        vertical-align: top;\n",
       "    }\n",
       "\n",
       "    .dataframe thead th {\n",
       "        text-align: right;\n",
       "    }\n",
       "</style>\n",
       "<table border=\"1\" class=\"dataframe\">\n",
       "  <thead>\n",
       "    <tr style=\"text-align: right;\">\n",
       "      <th></th>\n",
       "      <th>Unnamed: 0</th>\n",
       "      <th>Country</th>\n",
       "      <th>Gender</th>\n",
       "      <th>Age Group</th>\n",
       "      <th>Year</th>\n",
       "      <th>Deaths</th>\n",
       "      <th>DeathRate</th>\n",
       "      <th>Unnamed: 7</th>\n",
       "    </tr>\n",
       "  </thead>\n",
       "  <tbody>\n",
       "    <tr>\n",
       "      <th>0</th>\n",
       "      <td>Total Deaths</td>\n",
       "      <td>France</td>\n",
       "      <td>Female</td>\n",
       "      <td>Children&amp;Teenager (0-14)</td>\n",
       "      <td>2000</td>\n",
       "      <td>2183.0</td>\n",
       "      <td>0.000403</td>\n",
       "      <td>NaN</td>\n",
       "    </tr>\n",
       "    <tr>\n",
       "      <th>1</th>\n",
       "      <td>Total Deaths</td>\n",
       "      <td>France</td>\n",
       "      <td>Female</td>\n",
       "      <td>Children&amp;Teenager (0-14)</td>\n",
       "      <td>2001</td>\n",
       "      <td>2224.0</td>\n",
       "      <td>0.000408</td>\n",
       "      <td>NaN</td>\n",
       "    </tr>\n",
       "    <tr>\n",
       "      <th>2</th>\n",
       "      <td>Total Deaths</td>\n",
       "      <td>France</td>\n",
       "      <td>Female</td>\n",
       "      <td>Children&amp;Teenager (0-14)</td>\n",
       "      <td>2002</td>\n",
       "      <td>2079.0</td>\n",
       "      <td>0.000381</td>\n",
       "      <td>NaN</td>\n",
       "    </tr>\n",
       "    <tr>\n",
       "      <th>3</th>\n",
       "      <td>Total Deaths</td>\n",
       "      <td>France</td>\n",
       "      <td>Female</td>\n",
       "      <td>Children&amp;Teenager (0-14)</td>\n",
       "      <td>2003</td>\n",
       "      <td>1987.0</td>\n",
       "      <td>0.000363</td>\n",
       "      <td>NaN</td>\n",
       "    </tr>\n",
       "    <tr>\n",
       "      <th>4</th>\n",
       "      <td>Total Deaths</td>\n",
       "      <td>France</td>\n",
       "      <td>Female</td>\n",
       "      <td>Children&amp;Teenager (0-14)</td>\n",
       "      <td>2004</td>\n",
       "      <td>1891.0</td>\n",
       "      <td>0.000346</td>\n",
       "      <td>NaN</td>\n",
       "    </tr>\n",
       "  </tbody>\n",
       "</table>\n",
       "</div>"
      ],
      "text/plain": [
       "     Unnamed: 0 Country  Gender                 Age Group  Year  Deaths   \n",
       "0  Total Deaths  France  Female  Children&Teenager (0-14)  2000  2183.0  \\\n",
       "1  Total Deaths  France  Female  Children&Teenager (0-14)  2001  2224.0   \n",
       "2  Total Deaths  France  Female  Children&Teenager (0-14)  2002  2079.0   \n",
       "3  Total Deaths  France  Female  Children&Teenager (0-14)  2003  1987.0   \n",
       "4  Total Deaths  France  Female  Children&Teenager (0-14)  2004  1891.0   \n",
       "\n",
       "   DeathRate  Unnamed: 7  \n",
       "0   0.000403         NaN  \n",
       "1   0.000408         NaN  \n",
       "2   0.000381         NaN  \n",
       "3   0.000363         NaN  \n",
       "4   0.000346         NaN  "
      ]
     },
     "execution_count": 2,
     "metadata": {},
     "output_type": "execute_result"
    }
   ],
   "source": [
    "data = pd.read_csv(\"Sunburst_Total.csv\")\n",
    "data.head()"
   ]
  },
  {
   "cell_type": "code",
   "execution_count": 5,
   "id": "be36f7b7-f2dd-479f-af1d-7a91ef70f504",
   "metadata": {},
   "outputs": [
    {
     "data": {
      "application/vnd.plotly.v1+json": {
       "config": {
        "plotlyServerURL": "https://plot.ly"
       },
       "data": [
        {
         "branchvalues": "total",
         "customdata": [
          [
           0.000402511
          ],
          [
           0.000596356
          ],
          [
           0.000424469
          ],
          [
           0.000533178
          ],
          [
           0.0007456839999999999
          ],
          [
           0.000534577
          ],
          [
           0.002197961
          ],
          [
           0.003064269
          ],
          [
           0.002689915
          ],
          [
           0.005140843
          ],
          [
           0.005050856
          ],
          [
           0.004300877
          ],
          [
           0.040136495
          ],
          [
           0.049162344
          ],
          [
           0.051378066
          ],
          [
           0.051596862
          ],
          [
           0.056582062
          ],
          [
           0.058735795
          ],
          [
           0.000323936
          ],
          [
           0.000464299
          ],
          [
           0.000310532
          ],
          [
           0.000942297
          ],
          [
           0.001196931
          ],
          [
           0.000796332
          ],
          [
           0.000408414
          ],
          [
           0.000584707
          ],
          [
           0.000428997
          ],
          [
           0.00052747
          ],
          [
           0.000729882
          ],
          [
           0.000514827
          ],
          [
           0.002195174
          ],
          [
           0.003110282
          ],
          [
           0.002630574
          ],
          [
           0.005117751
          ],
          [
           0.005084689
          ],
          [
           0.004231016
          ],
          [
           0.039550088
          ],
          [
           0.048994278
          ],
          [
           0.050764393
          ],
          [
           0.05077491700000001
          ],
          [
           0.05579427700000001
          ],
          [
           0.057282952
          ],
          [
           0.000341215
          ],
          [
           0.000468325
          ],
          [
           0.000300224
          ],
          [
           0.000953669
          ],
          [
           0.001230572
          ],
          [
           0.000764108
          ],
          [
           0.000380936
          ],
          [
           0.000586464
          ],
          [
           0.000395231
          ],
          [
           0.000475461
          ],
          [
           0.000733784
          ],
          [
           0.000519272
          ],
          [
           0.002190151
          ],
          [
           0.0031269849999999997
          ],
          [
           0.002603061
          ],
          [
           0.005071378
          ],
          [
           0.005144716
          ],
          [
           0.004194736
          ],
          [
           0.03962774
          ],
          [
           0.049100694
          ],
          [
           0.051256304
          ],
          [
           0.050300992
          ],
          [
           0.055595164
          ],
          [
           0.056877187
          ],
          [
           0.000323858
          ],
          [
           0.00046994
          ],
          [
           0.000293954
          ],
          [
           0.00091011
          ],
          [
           0.001234843
          ],
          [
           0.000754974
          ],
          [
           0.000363487
          ],
          [
           0.000576804
          ],
          [
           0.00044045000000000005
          ],
          [
           0.00047482399999999994
          ],
          [
           0.000738022
          ],
          [
           0.00051167
          ],
          [
           0.002206186
          ],
          [
           0.003159684
          ],
          [
           0.002592261
          ],
          [
           0.005075308
          ],
          [
           0.005185367
          ],
          [
           0.004157991
          ],
          [
           0.041067431
          ],
          [
           0.048741153
          ],
          [
           0.051879764
          ],
          [
           0.051043736
          ],
          [
           0.054625548
          ],
          [
           0.056511264
          ],
          [
           0.000288294
          ],
          [
           0.000481208
          ],
          [
           0.000292286
          ],
          [
           0.000826169
          ],
          [
           0.001235201
          ],
          [
           0.000705043
          ],
          [
           0.000345575
          ],
          [
           0.000580742
          ],
          [
           0.000409871
          ],
          [
           0.000441004
          ],
          [
           0.0007210690000000001
          ],
          [
           0.000505006
          ],
          [
           0.002148861
          ],
          [
           0.003117553
          ],
          [
           0.00250314
          ],
          [
           0.004798955
          ],
          [
           0.005108556
          ],
          [
           0.004003031
          ],
          [
           0.036222345
          ],
          [
           0.047017119
          ],
          [
           0.048819607
          ],
          [
           0.047351066
          ],
          [
           0.052600374
          ],
          [
           0.053691995
          ],
          [
           0.000275017
          ],
          [
           0.000473151
          ],
          [
           0.00029158
          ],
          [
           0.000773744
          ],
          [
           0.001234378
          ],
          [
           0.000656638
          ],
          [
           0.00032425
          ],
          [
           0.000580262
          ],
          [
           0.000409033
          ],
          [
           0.000412857
          ],
          [
           0.0007306259999999998
          ],
          [
           0.000519014
          ],
          [
           0.002135283
          ],
          [
           0.003164371
          ],
          [
           0.0024962
          ],
          [
           0.004840295
          ],
          [
           0.005212207
          ],
          [
           0.003952179
          ],
          [
           0.03753141299999999
          ],
          [
           0.047535586
          ],
          [
           0.048743825
          ],
          [
           0.04825324200000001
          ],
          [
           0.052646017
          ],
          [
           0.052831696
          ],
          [
           0.000270776
          ],
          [
           0.000466345
          ],
          [
           0.000279953
          ],
          [
           0.000767393
          ],
          [
           0.001266915
          ],
          [
           0.000630508
          ],
          [
           0.00033121400000000003
          ],
          [
           0.000580451
          ],
          [
           0.00043537200000000006
          ],
          [
           0.00042871
          ],
          [
           0.000715538
          ],
          [
           0.000523407
          ],
          [
           0.002155282
          ],
          [
           0.00316711
          ],
          [
           0.002496236
          ],
          [
           0.004825782
          ],
          [
           0.00520364
          ],
          [
           0.003996998
          ],
          [
           0.036092203
          ],
          [
           0.04620762
          ],
          [
           0.047170333
          ],
          [
           0.046580365
          ],
          [
           0.051112593
          ],
          [
           0.051255065
          ],
          [
           0.000259904
          ],
          [
           0.00047487999999999995
          ],
          [
           0.000278693
          ],
          [
           0.000708398
          ],
          [
           0.001295098
          ],
          [
           0.000688621
          ],
          [
           0.000315372
          ],
          [
           0.000590367
          ],
          [
           0.000422347
          ],
          [
           0.000414169
          ],
          [
           0.0007269130000000001
          ],
          [
           0.000531922
          ],
          [
           0.002143327
          ],
          [
           0.003135863
          ],
          [
           0.002494247
          ],
          [
           0.004793141
          ],
          [
           0.005176515
          ],
          [
           0.003944369
          ],
          [
           0.036336084
          ],
          [
           0.045421863
          ],
          [
           0.047329916
          ],
          [
           0.04678366099999999
          ],
          [
           0.050137132
          ],
          [
           0.050864024
          ],
          [
           0.000249217
          ],
          [
           0.00046678499999999994
          ],
          [
           0.000261951
          ],
          [
           0.000716639
          ],
          [
           0.001252346
          ],
          [
           0.000672718
          ],
          [
           0.000333837
          ],
          [
           0.000565259
          ],
          [
           0.000420141
          ],
          [
           0.000397441
          ],
          [
           0.000696245
          ],
          [
           0.000513908
          ],
          [
           0.002180583
          ],
          [
           0.003158255
          ],
          [
           0.002505699
          ],
          [
           0.004769596
          ],
          [
           0.00519187
          ],
          [
           0.003913126
          ],
          [
           0.037209406
          ],
          [
           0.04571328
          ],
          [
           0.047462171
          ],
          [
           0.046992841
          ],
          [
           0.050065106000000005
          ],
          [
           0.050437919
          ],
          [
           0.000234609
          ],
          [
           0.000444657
          ],
          [
           0.000270542
          ],
          [
           0.000707784
          ],
          [
           0.001196981
          ],
          [
           0.000670361
          ],
          [
           0.000329616
          ],
          [
           0.000534835
          ],
          [
           0.00041529
          ],
          [
           0.000407344
          ],
          [
           0.000659704
          ],
          [
           0.000486311
          ],
          [
           0.002197046
          ],
          [
           0.0031818559999999994
          ],
          [
           0.002426346
          ],
          [
           0.004814603
          ],
          [
           0.005195698
          ],
          [
           0.003815128
          ],
          [
           0.037402009
          ],
          [
           0.04354555
          ],
          [
           0.044551741
          ],
          [
           0.046561333
          ],
          [
           0.048123965
          ],
          [
           0.048230938999999994
          ],
          [
           0.000249936
          ],
          [
           0.000447163
          ],
          [
           0.000262029
          ],
          [
           0.000694253
          ],
          [
           0.001123294
          ],
          [
           0.000631252
          ],
          [
           0.00031382400000000004
          ],
          [
           0.000500546
          ],
          [
           0.000401373
          ],
          [
           0.00038039
          ],
          [
           0.000615079
          ],
          [
           0.00046089700000000004
          ],
          [
           0.002186471
          ],
          [
           0.003140464
          ],
          [
           0.002402987
          ],
          [
           0.004797613
          ],
          [
           0.005137673
          ],
          [
           0.003747292
          ],
          [
           0.037217439
          ],
          [
           0.043598457
          ],
          [
           0.044298115
          ],
          [
           0.046251740000000006
          ],
          [
           0.047913384
          ],
          [
           0.047325218999999995
          ],
          [
           0.00023661400000000004
          ],
          [
           0.00042788600000000004
          ],
          [
           0.000251628
          ],
          [
           0.000666317
          ],
          [
           0.001098798
          ],
          [
           0.000563914
          ],
          [
           0.000296233
          ],
          [
           0.000491934
          ],
          [
           0.000362667
          ],
          [
           0.00035649
          ],
          [
           0.000604997
          ],
          [
           0.00048002
          ],
          [
           0.00216224
          ],
          [
           0.003196517
          ],
          [
           0.002350772
          ],
          [
           0.004678557
          ],
          [
           0.005198711
          ],
          [
           0.00360644
          ],
          [
           0.036486353
          ],
          [
           0.043640084
          ],
          [
           0.042753992
          ],
          [
           0.045240168
          ],
          [
           0.04752374399999999
          ],
          [
           0.045785502
          ],
          [
           0.00023108
          ],
          [
           0.00042743499999999994
          ],
          [
           0.000238333
          ],
          [
           0.000656326
          ],
          [
           0.001106472
          ],
          [
           0.000518979
          ],
          [
           0.000295972
          ],
          [
           0.000483968
          ],
          [
           0.000357298
          ],
          [
           0.000359736
          ],
          [
           0.000594516
          ],
          [
           0.000452786
          ],
          [
           0.002131915
          ],
          [
           0.00318369
          ],
          [
           0.002286874
          ],
          [
           0.004619094
          ],
          [
           0.00520086
          ],
          [
           0.003463683
          ],
          [
           0.038037254
          ],
          [
           0.042867763
          ],
          [
           0.043769635
          ],
          [
           0.045860876
          ],
          [
           0.046745995
          ],
          [
           0.045965447
          ],
          [
           0.000225387
          ],
          [
           0.000430469
          ],
          [
           0.00022098400000000002
          ],
          [
           0.000604521
          ],
          [
           0.001094821
          ],
          [
           0.000490162
          ],
          [
           0.000305061
          ],
          [
           0.000479299
          ],
          [
           0.000338293
          ],
          [
           0.000365633
          ],
          [
           0.000593389
          ],
          [
           0.000414901
          ],
          [
           0.002110914
          ],
          [
           0.003217391
          ],
          [
           0.002260597
          ],
          [
           0.004494291
          ],
          [
           0.005254685
          ],
          [
           0.003518816
          ],
          [
           0.037004732
          ],
          [
           0.042164609
          ],
          [
           0.042972716
          ],
          [
           0.044616138
          ],
          [
           0.046186615
          ],
          [
           0.045369554
          ],
          [
           0.00020594
          ],
          [
           0.00042579200000000003
          ],
          [
           0.000220851
          ],
          [
           0.000566425
          ],
          [
           0.001074256
          ],
          [
           0.000480594
          ],
          [
           0.000287233
          ],
          [
           0.000472097
          ],
          [
           0.000335427
          ],
          [
           0.000347102
          ],
          [
           0.000583001
          ],
          [
           0.000400848
          ],
          [
           0.002067271
          ],
          [
           0.003283692
          ],
          [
           0.00225048
          ],
          [
           0.004320749
          ],
          [
           0.005313632
          ],
          [
           0.003459373
          ],
          [
           0.035321167
          ],
          [
           0.040928764
          ],
          [
           0.041206088
          ],
          [
           0.04242104
          ],
          [
           0.045251352
          ],
          [
           0.04404451499999999
          ],
          [
           0.000203051
          ],
          [
           0.000434458
          ],
          [
           0.00023595799999999998
          ],
          [
           0.000542138
          ],
          [
           0.001094264
          ],
          [
           0.00049274
          ],
          [
           0.000290547
          ],
          [
           0.000481715
          ],
          [
           0.000315007
          ],
          [
           0.000361067
          ],
          [
           0.000591489
          ],
          [
           0.000406815
          ],
          [
           0.002069507
          ],
          [
           0.003325401
          ],
          [
           0.002274447
          ],
          [
           0.004371093
          ],
          [
           0.005404657
          ],
          [
           0.003513747
          ],
          [
           0.037287067
          ],
          [
           0.041071928
          ],
          [
           0.04327459
          ],
          [
           0.043789877
          ],
          [
           0.045270495
          ],
          [
           0.045479133
          ],
          [
           0.000210784
          ],
          [
           0.000460237
          ],
          [
           0.0002282
          ],
          [
           0.000551656
          ],
          [
           0.001170962
          ],
          [
           0.000491623
          ],
          [
           0.000282611
          ],
          [
           0.000483793
          ],
          [
           0.000326266
          ],
          [
           0.0003452
          ],
          [
           0.000586043
          ],
          [
           0.000379115
          ],
          [
           0.002058345
          ],
          [
           0.003385953
          ],
          [
           0.002321726
          ],
          [
           0.004279459
          ],
          [
           0.005518712
          ],
          [
           0.0035366719999999994
          ],
          [
           0.036423624
          ],
          [
           0.039789495
          ],
          [
           0.041586487
          ],
          [
           0.042693155
          ],
          [
           0.044314521
          ],
          [
           0.044479321
          ],
          [
           0.000212871
          ],
          [
           0.000496565
          ],
          [
           0.000236151
          ],
          [
           0.00052373
          ],
          [
           0.001284122
          ],
          [
           0.000509081
          ],
          [
           0.000288739
          ],
          [
           0.000462895
          ],
          [
           0.000309253
          ],
          [
           0.00034309
          ],
          [
           0.000576609
          ],
          [
           0.000376527
          ],
          [
           0.002074102
          ],
          [
           0.003394117
          ],
          [
           0.002266273
          ],
          [
           0.004188545
          ],
          [
           0.005555828
          ],
          [
           0.003517408
          ],
          [
           0.036826162
          ],
          [
           0.03967029
          ],
          [
           0.041782212
          ],
          [
           0.042611952
          ],
          [
           0.044380065
          ],
          [
           0.044764028
          ],
          [
           0.000198932
          ],
          [
           0.000504863
          ],
          [
           0.00021189400000000001
          ],
          [
           0.000520273
          ],
          [
           0.001291772
          ],
          [
           0.000472641
          ],
          [
           0.000285016
          ],
          [
           0.000447997
          ],
          [
           0.000298803
          ],
          [
           0.000349633
          ],
          [
           0.000558713
          ],
          [
           0.00035827
          ],
          [
           0.002064487
          ],
          [
           0.003351411
          ],
          [
           0.002319799
          ],
          [
           0.004141665
          ],
          [
           0.005541329
          ],
          [
           0.003579866
          ],
          [
           0.036205959
          ],
          [
           0.038850978
          ],
          [
           0.041584766
          ],
          [
           0.042093906
          ],
          [
           0.043877987
          ],
          [
           0.044736628
          ],
          [
           0.000199181
          ],
          [
           0.000491368
          ],
          [
           0.000236177
          ],
          [
           0.000515399
          ],
          [
           0.001225776
          ],
          [
           0.00052308
          ],
          [
           0.000273898
          ],
          [
           0.0004440669999999999
          ],
          [
           0.000294739
          ],
          [
           0.000351596
          ],
          [
           0.000544646
          ],
          [
           0.000352431
          ],
          [
           0.002034997
          ],
          [
           0.003331694
          ],
          [
           0.002287889
          ],
          [
           0.004021001
          ],
          [
           0.005529176
          ],
          [
           0.003519533
          ],
          [
           0.035817835
          ],
          [
           0.037750647
          ],
          [
           0.039792093
          ],
          [
           0.041504285
          ],
          [
           0.04311065
          ],
          [
           0.043572522
          ],
          [
           0.000195404
          ],
          [
           0.000479188
          ],
          [
           0.000235939
          ],
          [
           0.00051753
          ],
          [
           0.001215426
          ],
          [
           0.000510828
          ],
          [
           0.00026038
          ],
          [
           0.00041926500000000005
          ],
          [
           0.000264594
          ],
          [
           0.000316352
          ],
          [
           0.00052134
          ],
          [
           0.000327394
          ],
          [
           0.002055316
          ],
          [
           0.0038620390000000003
          ],
          [
           0.00250431
          ],
          [
           0.004135548
          ],
          [
           0.006608843
          ],
          [
           0.004003903
          ],
          [
           0.03841611
          ],
          [
           0.043390668
          ],
          [
           0.044353883
          ],
          [
           0.045489881
          ],
          [
           0.050164201
          ],
          [
           0.049948417
          ],
          [
           0.000188311
          ],
          [
           0.00057113
          ],
          [
           0.00021940399999999997
          ],
          [
           0.00049815
          ],
          [
           0.001485587
          ],
          [
           0.00047936600000000006
          ],
          [
           0.0003240770180994269
          ],
          [
           0.0005272119326034592
          ],
          [
           0.00037805900891657476
          ],
          [
           0.00040741174468041785
          ],
          [
           0.0006544387543768007
          ],
          [
           0.0004638621282834838
          ],
          [
           0.002131961770515448
          ],
          [
           0.0032548029887896875
          ],
          [
           0.0024308172654532423
          ],
          [
           0.0046516117922037895
          ],
          [
           0.005354996595874576
          ],
          [
           0.003821657937391418
          ],
          [
           0.0374282106820882
          ],
          [
           0.043936326219876295
          ],
          [
           0.04561548655992232
          ],
          [
           0.04597530445778638
          ],
          [
           0.04888570831840835
          ],
          [
           0.04935910041804256
          ],
          [
           0.0002526622313797314
          ],
          [
           0.00046937594391120464
          ],
          [
           0.00025841923838424726
          ],
          [
           0.00070622378522833
          ],
          [
           0.0012168967990719584
          ],
          [
           0.000609197429403359
          ],
          [
           0.033019344811084164
          ],
          [
           0.035647660324191525
          ],
          [
           0.040108724363287294
          ],
          [
           0.035426617825318134
          ],
          [
           0.034353963584150424
          ],
          [
           0.0396979848030979
          ],
          [
           0.034237840331068414
          ],
          [
           0.034998341404512204
          ],
          [
           0.039909968559517
          ]
         ],
         "domain": {
          "x": [
           0,
           1
          ],
          "y": [
           0,
           1
          ]
         },
         "hovertemplate": "labels=%{label}<br>Deaths=%{value}<br>parent=%{parent}<br>id=%{id}<br>DeathRate=%{color}<extra></extra>",
         "ids": [
          "France/Female/Children&Teenager (0-14)/2000",
          "The United States of America/Female/Children&Teenager (0-14)/2000",
          "United Kingdom/Female/Children&Teenager (0-14)/2000",
          "France/Male/Children&Teenager (0-14)/2000",
          "The United States of America/Male/Children&Teenager (0-14)/2000",
          "United Kingdom/Male/Children&Teenager (0-14)/2000",
          "France/Female/Middle-Aged (30-64)/2000",
          "The United States of America/Female/Middle-Aged (30-64)/2000",
          "United Kingdom/Female/Middle-Aged (30-64)/2000",
          "France/Male/Middle-Aged (30-64)/2000",
          "The United States of America/Male/Middle-Aged (30-64)/2000",
          "United Kingdom/Male/Middle-Aged (30-64)/2000",
          "France/Female/Older People (65-110+)/2000",
          "The United States of America/Female/Older People (65-110+)/2000",
          "United Kingdom/Female/Older People (65-110+)/2000",
          "France/Male/Older People (65-110+)/2000",
          "The United States of America/Male/Older People (65-110+)/2000",
          "United Kingdom/Male/Older People (65-110+)/2000",
          "France/Female/Young People (15-29)/2000",
          "The United States of America/Female/Young People (15-29)/2000",
          "United Kingdom/Female/Young People (15-29)/2000",
          "France/Male/Young People (15-29)/2000",
          "The United States of America/Male/Young People (15-29)/2000",
          "United Kingdom/Male/Young People (15-29)/2000",
          "France/Female/Children&Teenager (0-14)/2001",
          "The United States of America/Female/Children&Teenager (0-14)/2001",
          "United Kingdom/Female/Children&Teenager (0-14)/2001",
          "France/Male/Children&Teenager (0-14)/2001",
          "The United States of America/Male/Children&Teenager (0-14)/2001",
          "United Kingdom/Male/Children&Teenager (0-14)/2001",
          "France/Female/Middle-Aged (30-64)/2001",
          "The United States of America/Female/Middle-Aged (30-64)/2001",
          "United Kingdom/Female/Middle-Aged (30-64)/2001",
          "France/Male/Middle-Aged (30-64)/2001",
          "The United States of America/Male/Middle-Aged (30-64)/2001",
          "United Kingdom/Male/Middle-Aged (30-64)/2001",
          "France/Female/Older People (65-110+)/2001",
          "The United States of America/Female/Older People (65-110+)/2001",
          "United Kingdom/Female/Older People (65-110+)/2001",
          "France/Male/Older People (65-110+)/2001",
          "The United States of America/Male/Older People (65-110+)/2001",
          "United Kingdom/Male/Older People (65-110+)/2001",
          "France/Female/Young People (15-29)/2001",
          "The United States of America/Female/Young People (15-29)/2001",
          "United Kingdom/Female/Young People (15-29)/2001",
          "France/Male/Young People (15-29)/2001",
          "The United States of America/Male/Young People (15-29)/2001",
          "United Kingdom/Male/Young People (15-29)/2001",
          "France/Female/Children&Teenager (0-14)/2002",
          "The United States of America/Female/Children&Teenager (0-14)/2002",
          "United Kingdom/Female/Children&Teenager (0-14)/2002",
          "France/Male/Children&Teenager (0-14)/2002",
          "The United States of America/Male/Children&Teenager (0-14)/2002",
          "United Kingdom/Male/Children&Teenager (0-14)/2002",
          "France/Female/Middle-Aged (30-64)/2002",
          "The United States of America/Female/Middle-Aged (30-64)/2002",
          "United Kingdom/Female/Middle-Aged (30-64)/2002",
          "France/Male/Middle-Aged (30-64)/2002",
          "The United States of America/Male/Middle-Aged (30-64)/2002",
          "United Kingdom/Male/Middle-Aged (30-64)/2002",
          "France/Female/Older People (65-110+)/2002",
          "The United States of America/Female/Older People (65-110+)/2002",
          "United Kingdom/Female/Older People (65-110+)/2002",
          "France/Male/Older People (65-110+)/2002",
          "The United States of America/Male/Older People (65-110+)/2002",
          "United Kingdom/Male/Older People (65-110+)/2002",
          "France/Female/Young People (15-29)/2002",
          "The United States of America/Female/Young People (15-29)/2002",
          "United Kingdom/Female/Young People (15-29)/2002",
          "France/Male/Young People (15-29)/2002",
          "The United States of America/Male/Young People (15-29)/2002",
          "United Kingdom/Male/Young People (15-29)/2002",
          "France/Female/Children&Teenager (0-14)/2003",
          "The United States of America/Female/Children&Teenager (0-14)/2003",
          "United Kingdom/Female/Children&Teenager (0-14)/2003",
          "France/Male/Children&Teenager (0-14)/2003",
          "The United States of America/Male/Children&Teenager (0-14)/2003",
          "United Kingdom/Male/Children&Teenager (0-14)/2003",
          "France/Female/Middle-Aged (30-64)/2003",
          "The United States of America/Female/Middle-Aged (30-64)/2003",
          "United Kingdom/Female/Middle-Aged (30-64)/2003",
          "France/Male/Middle-Aged (30-64)/2003",
          "The United States of America/Male/Middle-Aged (30-64)/2003",
          "United Kingdom/Male/Middle-Aged (30-64)/2003",
          "France/Female/Older People (65-110+)/2003",
          "The United States of America/Female/Older People (65-110+)/2003",
          "United Kingdom/Female/Older People (65-110+)/2003",
          "France/Male/Older People (65-110+)/2003",
          "The United States of America/Male/Older People (65-110+)/2003",
          "United Kingdom/Male/Older People (65-110+)/2003",
          "France/Female/Young People (15-29)/2003",
          "The United States of America/Female/Young People (15-29)/2003",
          "United Kingdom/Female/Young People (15-29)/2003",
          "France/Male/Young People (15-29)/2003",
          "The United States of America/Male/Young People (15-29)/2003",
          "United Kingdom/Male/Young People (15-29)/2003",
          "France/Female/Children&Teenager (0-14)/2004",
          "The United States of America/Female/Children&Teenager (0-14)/2004",
          "United Kingdom/Female/Children&Teenager (0-14)/2004",
          "France/Male/Children&Teenager (0-14)/2004",
          "The United States of America/Male/Children&Teenager (0-14)/2004",
          "United Kingdom/Male/Children&Teenager (0-14)/2004",
          "France/Female/Middle-Aged (30-64)/2004",
          "The United States of America/Female/Middle-Aged (30-64)/2004",
          "United Kingdom/Female/Middle-Aged (30-64)/2004",
          "France/Male/Middle-Aged (30-64)/2004",
          "The United States of America/Male/Middle-Aged (30-64)/2004",
          "United Kingdom/Male/Middle-Aged (30-64)/2004",
          "France/Female/Older People (65-110+)/2004",
          "The United States of America/Female/Older People (65-110+)/2004",
          "United Kingdom/Female/Older People (65-110+)/2004",
          "France/Male/Older People (65-110+)/2004",
          "The United States of America/Male/Older People (65-110+)/2004",
          "United Kingdom/Male/Older People (65-110+)/2004",
          "France/Female/Young People (15-29)/2004",
          "The United States of America/Female/Young People (15-29)/2004",
          "United Kingdom/Female/Young People (15-29)/2004",
          "France/Male/Young People (15-29)/2004",
          "The United States of America/Male/Young People (15-29)/2004",
          "United Kingdom/Male/Young People (15-29)/2004",
          "France/Female/Children&Teenager (0-14)/2005",
          "The United States of America/Female/Children&Teenager (0-14)/2005",
          "United Kingdom/Female/Children&Teenager (0-14)/2005",
          "France/Male/Children&Teenager (0-14)/2005",
          "The United States of America/Male/Children&Teenager (0-14)/2005",
          "United Kingdom/Male/Children&Teenager (0-14)/2005",
          "France/Female/Middle-Aged (30-64)/2005",
          "The United States of America/Female/Middle-Aged (30-64)/2005",
          "United Kingdom/Female/Middle-Aged (30-64)/2005",
          "France/Male/Middle-Aged (30-64)/2005",
          "The United States of America/Male/Middle-Aged (30-64)/2005",
          "United Kingdom/Male/Middle-Aged (30-64)/2005",
          "France/Female/Older People (65-110+)/2005",
          "The United States of America/Female/Older People (65-110+)/2005",
          "United Kingdom/Female/Older People (65-110+)/2005",
          "France/Male/Older People (65-110+)/2005",
          "The United States of America/Male/Older People (65-110+)/2005",
          "United Kingdom/Male/Older People (65-110+)/2005",
          "France/Female/Young People (15-29)/2005",
          "The United States of America/Female/Young People (15-29)/2005",
          "United Kingdom/Female/Young People (15-29)/2005",
          "France/Male/Young People (15-29)/2005",
          "The United States of America/Male/Young People (15-29)/2005",
          "United Kingdom/Male/Young People (15-29)/2005",
          "France/Female/Children&Teenager (0-14)/2006",
          "The United States of America/Female/Children&Teenager (0-14)/2006",
          "United Kingdom/Female/Children&Teenager (0-14)/2006",
          "France/Male/Children&Teenager (0-14)/2006",
          "The United States of America/Male/Children&Teenager (0-14)/2006",
          "United Kingdom/Male/Children&Teenager (0-14)/2006",
          "France/Female/Middle-Aged (30-64)/2006",
          "The United States of America/Female/Middle-Aged (30-64)/2006",
          "United Kingdom/Female/Middle-Aged (30-64)/2006",
          "France/Male/Middle-Aged (30-64)/2006",
          "The United States of America/Male/Middle-Aged (30-64)/2006",
          "United Kingdom/Male/Middle-Aged (30-64)/2006",
          "France/Female/Older People (65-110+)/2006",
          "The United States of America/Female/Older People (65-110+)/2006",
          "United Kingdom/Female/Older People (65-110+)/2006",
          "France/Male/Older People (65-110+)/2006",
          "The United States of America/Male/Older People (65-110+)/2006",
          "United Kingdom/Male/Older People (65-110+)/2006",
          "France/Female/Young People (15-29)/2006",
          "The United States of America/Female/Young People (15-29)/2006",
          "United Kingdom/Female/Young People (15-29)/2006",
          "France/Male/Young People (15-29)/2006",
          "The United States of America/Male/Young People (15-29)/2006",
          "United Kingdom/Male/Young People (15-29)/2006",
          "France/Female/Children&Teenager (0-14)/2007",
          "The United States of America/Female/Children&Teenager (0-14)/2007",
          "United Kingdom/Female/Children&Teenager (0-14)/2007",
          "France/Male/Children&Teenager (0-14)/2007",
          "The United States of America/Male/Children&Teenager (0-14)/2007",
          "United Kingdom/Male/Children&Teenager (0-14)/2007",
          "France/Female/Middle-Aged (30-64)/2007",
          "The United States of America/Female/Middle-Aged (30-64)/2007",
          "United Kingdom/Female/Middle-Aged (30-64)/2007",
          "France/Male/Middle-Aged (30-64)/2007",
          "The United States of America/Male/Middle-Aged (30-64)/2007",
          "United Kingdom/Male/Middle-Aged (30-64)/2007",
          "France/Female/Older People (65-110+)/2007",
          "The United States of America/Female/Older People (65-110+)/2007",
          "United Kingdom/Female/Older People (65-110+)/2007",
          "France/Male/Older People (65-110+)/2007",
          "The United States of America/Male/Older People (65-110+)/2007",
          "United Kingdom/Male/Older People (65-110+)/2007",
          "France/Female/Young People (15-29)/2007",
          "The United States of America/Female/Young People (15-29)/2007",
          "United Kingdom/Female/Young People (15-29)/2007",
          "France/Male/Young People (15-29)/2007",
          "The United States of America/Male/Young People (15-29)/2007",
          "United Kingdom/Male/Young People (15-29)/2007",
          "France/Female/Children&Teenager (0-14)/2008",
          "The United States of America/Female/Children&Teenager (0-14)/2008",
          "United Kingdom/Female/Children&Teenager (0-14)/2008",
          "France/Male/Children&Teenager (0-14)/2008",
          "The United States of America/Male/Children&Teenager (0-14)/2008",
          "United Kingdom/Male/Children&Teenager (0-14)/2008",
          "France/Female/Middle-Aged (30-64)/2008",
          "The United States of America/Female/Middle-Aged (30-64)/2008",
          "United Kingdom/Female/Middle-Aged (30-64)/2008",
          "France/Male/Middle-Aged (30-64)/2008",
          "The United States of America/Male/Middle-Aged (30-64)/2008",
          "United Kingdom/Male/Middle-Aged (30-64)/2008",
          "France/Female/Older People (65-110+)/2008",
          "The United States of America/Female/Older People (65-110+)/2008",
          "United Kingdom/Female/Older People (65-110+)/2008",
          "France/Male/Older People (65-110+)/2008",
          "The United States of America/Male/Older People (65-110+)/2008",
          "United Kingdom/Male/Older People (65-110+)/2008",
          "France/Female/Young People (15-29)/2008",
          "The United States of America/Female/Young People (15-29)/2008",
          "United Kingdom/Female/Young People (15-29)/2008",
          "France/Male/Young People (15-29)/2008",
          "The United States of America/Male/Young People (15-29)/2008",
          "United Kingdom/Male/Young People (15-29)/2008",
          "France/Female/Children&Teenager (0-14)/2009",
          "The United States of America/Female/Children&Teenager (0-14)/2009",
          "United Kingdom/Female/Children&Teenager (0-14)/2009",
          "France/Male/Children&Teenager (0-14)/2009",
          "The United States of America/Male/Children&Teenager (0-14)/2009",
          "United Kingdom/Male/Children&Teenager (0-14)/2009",
          "France/Female/Middle-Aged (30-64)/2009",
          "The United States of America/Female/Middle-Aged (30-64)/2009",
          "United Kingdom/Female/Middle-Aged (30-64)/2009",
          "France/Male/Middle-Aged (30-64)/2009",
          "The United States of America/Male/Middle-Aged (30-64)/2009",
          "United Kingdom/Male/Middle-Aged (30-64)/2009",
          "France/Female/Older People (65-110+)/2009",
          "The United States of America/Female/Older People (65-110+)/2009",
          "United Kingdom/Female/Older People (65-110+)/2009",
          "France/Male/Older People (65-110+)/2009",
          "The United States of America/Male/Older People (65-110+)/2009",
          "United Kingdom/Male/Older People (65-110+)/2009",
          "France/Female/Young People (15-29)/2009",
          "The United States of America/Female/Young People (15-29)/2009",
          "United Kingdom/Female/Young People (15-29)/2009",
          "France/Male/Young People (15-29)/2009",
          "The United States of America/Male/Young People (15-29)/2009",
          "United Kingdom/Male/Young People (15-29)/2009",
          "France/Female/Children&Teenager (0-14)/2010",
          "The United States of America/Female/Children&Teenager (0-14)/2010",
          "United Kingdom/Female/Children&Teenager (0-14)/2010",
          "France/Male/Children&Teenager (0-14)/2010",
          "The United States of America/Male/Children&Teenager (0-14)/2010",
          "United Kingdom/Male/Children&Teenager (0-14)/2010",
          "France/Female/Middle-Aged (30-64)/2010",
          "The United States of America/Female/Middle-Aged (30-64)/2010",
          "United Kingdom/Female/Middle-Aged (30-64)/2010",
          "France/Male/Middle-Aged (30-64)/2010",
          "The United States of America/Male/Middle-Aged (30-64)/2010",
          "United Kingdom/Male/Middle-Aged (30-64)/2010",
          "France/Female/Older People (65-110+)/2010",
          "The United States of America/Female/Older People (65-110+)/2010",
          "United Kingdom/Female/Older People (65-110+)/2010",
          "France/Male/Older People (65-110+)/2010",
          "The United States of America/Male/Older People (65-110+)/2010",
          "United Kingdom/Male/Older People (65-110+)/2010",
          "France/Female/Young People (15-29)/2010",
          "The United States of America/Female/Young People (15-29)/2010",
          "United Kingdom/Female/Young People (15-29)/2010",
          "France/Male/Young People (15-29)/2010",
          "The United States of America/Male/Young People (15-29)/2010",
          "United Kingdom/Male/Young People (15-29)/2010",
          "France/Female/Children&Teenager (0-14)/2011",
          "The United States of America/Female/Children&Teenager (0-14)/2011",
          "United Kingdom/Female/Children&Teenager (0-14)/2011",
          "France/Male/Children&Teenager (0-14)/2011",
          "The United States of America/Male/Children&Teenager (0-14)/2011",
          "United Kingdom/Male/Children&Teenager (0-14)/2011",
          "France/Female/Middle-Aged (30-64)/2011",
          "The United States of America/Female/Middle-Aged (30-64)/2011",
          "United Kingdom/Female/Middle-Aged (30-64)/2011",
          "France/Male/Middle-Aged (30-64)/2011",
          "The United States of America/Male/Middle-Aged (30-64)/2011",
          "United Kingdom/Male/Middle-Aged (30-64)/2011",
          "France/Female/Older People (65-110+)/2011",
          "The United States of America/Female/Older People (65-110+)/2011",
          "United Kingdom/Female/Older People (65-110+)/2011",
          "France/Male/Older People (65-110+)/2011",
          "The United States of America/Male/Older People (65-110+)/2011",
          "United Kingdom/Male/Older People (65-110+)/2011",
          "France/Female/Young People (15-29)/2011",
          "The United States of America/Female/Young People (15-29)/2011",
          "United Kingdom/Female/Young People (15-29)/2011",
          "France/Male/Young People (15-29)/2011",
          "The United States of America/Male/Young People (15-29)/2011",
          "United Kingdom/Male/Young People (15-29)/2011",
          "France/Female/Children&Teenager (0-14)/2012",
          "The United States of America/Female/Children&Teenager (0-14)/2012",
          "United Kingdom/Female/Children&Teenager (0-14)/2012",
          "France/Male/Children&Teenager (0-14)/2012",
          "The United States of America/Male/Children&Teenager (0-14)/2012",
          "United Kingdom/Male/Children&Teenager (0-14)/2012",
          "France/Female/Middle-Aged (30-64)/2012",
          "The United States of America/Female/Middle-Aged (30-64)/2012",
          "United Kingdom/Female/Middle-Aged (30-64)/2012",
          "France/Male/Middle-Aged (30-64)/2012",
          "The United States of America/Male/Middle-Aged (30-64)/2012",
          "United Kingdom/Male/Middle-Aged (30-64)/2012",
          "France/Female/Older People (65-110+)/2012",
          "The United States of America/Female/Older People (65-110+)/2012",
          "United Kingdom/Female/Older People (65-110+)/2012",
          "France/Male/Older People (65-110+)/2012",
          "The United States of America/Male/Older People (65-110+)/2012",
          "United Kingdom/Male/Older People (65-110+)/2012",
          "France/Female/Young People (15-29)/2012",
          "The United States of America/Female/Young People (15-29)/2012",
          "United Kingdom/Female/Young People (15-29)/2012",
          "France/Male/Young People (15-29)/2012",
          "The United States of America/Male/Young People (15-29)/2012",
          "United Kingdom/Male/Young People (15-29)/2012",
          "France/Female/Children&Teenager (0-14)/2013",
          "The United States of America/Female/Children&Teenager (0-14)/2013",
          "United Kingdom/Female/Children&Teenager (0-14)/2013",
          "France/Male/Children&Teenager (0-14)/2013",
          "The United States of America/Male/Children&Teenager (0-14)/2013",
          "United Kingdom/Male/Children&Teenager (0-14)/2013",
          "France/Female/Middle-Aged (30-64)/2013",
          "The United States of America/Female/Middle-Aged (30-64)/2013",
          "United Kingdom/Female/Middle-Aged (30-64)/2013",
          "France/Male/Middle-Aged (30-64)/2013",
          "The United States of America/Male/Middle-Aged (30-64)/2013",
          "United Kingdom/Male/Middle-Aged (30-64)/2013",
          "France/Female/Older People (65-110+)/2013",
          "The United States of America/Female/Older People (65-110+)/2013",
          "United Kingdom/Female/Older People (65-110+)/2013",
          "France/Male/Older People (65-110+)/2013",
          "The United States of America/Male/Older People (65-110+)/2013",
          "United Kingdom/Male/Older People (65-110+)/2013",
          "France/Female/Young People (15-29)/2013",
          "The United States of America/Female/Young People (15-29)/2013",
          "United Kingdom/Female/Young People (15-29)/2013",
          "France/Male/Young People (15-29)/2013",
          "The United States of America/Male/Young People (15-29)/2013",
          "United Kingdom/Male/Young People (15-29)/2013",
          "France/Female/Children&Teenager (0-14)/2014",
          "The United States of America/Female/Children&Teenager (0-14)/2014",
          "United Kingdom/Female/Children&Teenager (0-14)/2014",
          "France/Male/Children&Teenager (0-14)/2014",
          "The United States of America/Male/Children&Teenager (0-14)/2014",
          "United Kingdom/Male/Children&Teenager (0-14)/2014",
          "France/Female/Middle-Aged (30-64)/2014",
          "The United States of America/Female/Middle-Aged (30-64)/2014",
          "United Kingdom/Female/Middle-Aged (30-64)/2014",
          "France/Male/Middle-Aged (30-64)/2014",
          "The United States of America/Male/Middle-Aged (30-64)/2014",
          "United Kingdom/Male/Middle-Aged (30-64)/2014",
          "France/Female/Older People (65-110+)/2014",
          "The United States of America/Female/Older People (65-110+)/2014",
          "United Kingdom/Female/Older People (65-110+)/2014",
          "France/Male/Older People (65-110+)/2014",
          "The United States of America/Male/Older People (65-110+)/2014",
          "United Kingdom/Male/Older People (65-110+)/2014",
          "France/Female/Young People (15-29)/2014",
          "The United States of America/Female/Young People (15-29)/2014",
          "United Kingdom/Female/Young People (15-29)/2014",
          "France/Male/Young People (15-29)/2014",
          "The United States of America/Male/Young People (15-29)/2014",
          "United Kingdom/Male/Young People (15-29)/2014",
          "France/Female/Children&Teenager (0-14)/2015",
          "The United States of America/Female/Children&Teenager (0-14)/2015",
          "United Kingdom/Female/Children&Teenager (0-14)/2015",
          "France/Male/Children&Teenager (0-14)/2015",
          "The United States of America/Male/Children&Teenager (0-14)/2015",
          "United Kingdom/Male/Children&Teenager (0-14)/2015",
          "France/Female/Middle-Aged (30-64)/2015",
          "The United States of America/Female/Middle-Aged (30-64)/2015",
          "United Kingdom/Female/Middle-Aged (30-64)/2015",
          "France/Male/Middle-Aged (30-64)/2015",
          "The United States of America/Male/Middle-Aged (30-64)/2015",
          "United Kingdom/Male/Middle-Aged (30-64)/2015",
          "France/Female/Older People (65-110+)/2015",
          "The United States of America/Female/Older People (65-110+)/2015",
          "United Kingdom/Female/Older People (65-110+)/2015",
          "France/Male/Older People (65-110+)/2015",
          "The United States of America/Male/Older People (65-110+)/2015",
          "United Kingdom/Male/Older People (65-110+)/2015",
          "France/Female/Young People (15-29)/2015",
          "The United States of America/Female/Young People (15-29)/2015",
          "United Kingdom/Female/Young People (15-29)/2015",
          "France/Male/Young People (15-29)/2015",
          "The United States of America/Male/Young People (15-29)/2015",
          "United Kingdom/Male/Young People (15-29)/2015",
          "France/Female/Children&Teenager (0-14)/2016",
          "The United States of America/Female/Children&Teenager (0-14)/2016",
          "United Kingdom/Female/Children&Teenager (0-14)/2016",
          "France/Male/Children&Teenager (0-14)/2016",
          "The United States of America/Male/Children&Teenager (0-14)/2016",
          "United Kingdom/Male/Children&Teenager (0-14)/2016",
          "France/Female/Middle-Aged (30-64)/2016",
          "The United States of America/Female/Middle-Aged (30-64)/2016",
          "United Kingdom/Female/Middle-Aged (30-64)/2016",
          "France/Male/Middle-Aged (30-64)/2016",
          "The United States of America/Male/Middle-Aged (30-64)/2016",
          "United Kingdom/Male/Middle-Aged (30-64)/2016",
          "France/Female/Older People (65-110+)/2016",
          "The United States of America/Female/Older People (65-110+)/2016",
          "United Kingdom/Female/Older People (65-110+)/2016",
          "France/Male/Older People (65-110+)/2016",
          "The United States of America/Male/Older People (65-110+)/2016",
          "United Kingdom/Male/Older People (65-110+)/2016",
          "France/Female/Young People (15-29)/2016",
          "The United States of America/Female/Young People (15-29)/2016",
          "United Kingdom/Female/Young People (15-29)/2016",
          "France/Male/Young People (15-29)/2016",
          "The United States of America/Male/Young People (15-29)/2016",
          "United Kingdom/Male/Young People (15-29)/2016",
          "France/Female/Children&Teenager (0-14)/2017",
          "The United States of America/Female/Children&Teenager (0-14)/2017",
          "United Kingdom/Female/Children&Teenager (0-14)/2017",
          "France/Male/Children&Teenager (0-14)/2017",
          "The United States of America/Male/Children&Teenager (0-14)/2017",
          "United Kingdom/Male/Children&Teenager (0-14)/2017",
          "France/Female/Middle-Aged (30-64)/2017",
          "The United States of America/Female/Middle-Aged (30-64)/2017",
          "United Kingdom/Female/Middle-Aged (30-64)/2017",
          "France/Male/Middle-Aged (30-64)/2017",
          "The United States of America/Male/Middle-Aged (30-64)/2017",
          "United Kingdom/Male/Middle-Aged (30-64)/2017",
          "France/Female/Older People (65-110+)/2017",
          "The United States of America/Female/Older People (65-110+)/2017",
          "United Kingdom/Female/Older People (65-110+)/2017",
          "France/Male/Older People (65-110+)/2017",
          "The United States of America/Male/Older People (65-110+)/2017",
          "United Kingdom/Male/Older People (65-110+)/2017",
          "France/Female/Young People (15-29)/2017",
          "The United States of America/Female/Young People (15-29)/2017",
          "United Kingdom/Female/Young People (15-29)/2017",
          "France/Male/Young People (15-29)/2017",
          "The United States of America/Male/Young People (15-29)/2017",
          "United Kingdom/Male/Young People (15-29)/2017",
          "France/Female/Children&Teenager (0-14)/2018",
          "The United States of America/Female/Children&Teenager (0-14)/2018",
          "United Kingdom/Female/Children&Teenager (0-14)/2018",
          "France/Male/Children&Teenager (0-14)/2018",
          "The United States of America/Male/Children&Teenager (0-14)/2018",
          "United Kingdom/Male/Children&Teenager (0-14)/2018",
          "France/Female/Middle-Aged (30-64)/2018",
          "The United States of America/Female/Middle-Aged (30-64)/2018",
          "United Kingdom/Female/Middle-Aged (30-64)/2018",
          "France/Male/Middle-Aged (30-64)/2018",
          "The United States of America/Male/Middle-Aged (30-64)/2018",
          "United Kingdom/Male/Middle-Aged (30-64)/2018",
          "France/Female/Older People (65-110+)/2018",
          "The United States of America/Female/Older People (65-110+)/2018",
          "United Kingdom/Female/Older People (65-110+)/2018",
          "France/Male/Older People (65-110+)/2018",
          "The United States of America/Male/Older People (65-110+)/2018",
          "United Kingdom/Male/Older People (65-110+)/2018",
          "France/Female/Young People (15-29)/2018",
          "The United States of America/Female/Young People (15-29)/2018",
          "United Kingdom/Female/Young People (15-29)/2018",
          "France/Male/Young People (15-29)/2018",
          "The United States of America/Male/Young People (15-29)/2018",
          "United Kingdom/Male/Young People (15-29)/2018",
          "France/Female/Children&Teenager (0-14)/2019",
          "The United States of America/Female/Children&Teenager (0-14)/2019",
          "United Kingdom/Female/Children&Teenager (0-14)/2019",
          "France/Male/Children&Teenager (0-14)/2019",
          "The United States of America/Male/Children&Teenager (0-14)/2019",
          "United Kingdom/Male/Children&Teenager (0-14)/2019",
          "France/Female/Middle-Aged (30-64)/2019",
          "The United States of America/Female/Middle-Aged (30-64)/2019",
          "United Kingdom/Female/Middle-Aged (30-64)/2019",
          "France/Male/Middle-Aged (30-64)/2019",
          "The United States of America/Male/Middle-Aged (30-64)/2019",
          "United Kingdom/Male/Middle-Aged (30-64)/2019",
          "France/Female/Older People (65-110+)/2019",
          "The United States of America/Female/Older People (65-110+)/2019",
          "United Kingdom/Female/Older People (65-110+)/2019",
          "France/Male/Older People (65-110+)/2019",
          "The United States of America/Male/Older People (65-110+)/2019",
          "United Kingdom/Male/Older People (65-110+)/2019",
          "France/Female/Young People (15-29)/2019",
          "The United States of America/Female/Young People (15-29)/2019",
          "United Kingdom/Female/Young People (15-29)/2019",
          "France/Male/Young People (15-29)/2019",
          "The United States of America/Male/Young People (15-29)/2019",
          "United Kingdom/Male/Young People (15-29)/2019",
          "France/Female/Children&Teenager (0-14)/2020",
          "The United States of America/Female/Children&Teenager (0-14)/2020",
          "United Kingdom/Female/Children&Teenager (0-14)/2020",
          "France/Male/Children&Teenager (0-14)/2020",
          "The United States of America/Male/Children&Teenager (0-14)/2020",
          "United Kingdom/Male/Children&Teenager (0-14)/2020",
          "France/Female/Middle-Aged (30-64)/2020",
          "The United States of America/Female/Middle-Aged (30-64)/2020",
          "United Kingdom/Female/Middle-Aged (30-64)/2020",
          "France/Male/Middle-Aged (30-64)/2020",
          "The United States of America/Male/Middle-Aged (30-64)/2020",
          "United Kingdom/Male/Middle-Aged (30-64)/2020",
          "France/Female/Older People (65-110+)/2020",
          "The United States of America/Female/Older People (65-110+)/2020",
          "United Kingdom/Female/Older People (65-110+)/2020",
          "France/Male/Older People (65-110+)/2020",
          "The United States of America/Male/Older People (65-110+)/2020",
          "United Kingdom/Male/Older People (65-110+)/2020",
          "France/Female/Young People (15-29)/2020",
          "The United States of America/Female/Young People (15-29)/2020",
          "United Kingdom/Female/Young People (15-29)/2020",
          "France/Male/Young People (15-29)/2020",
          "The United States of America/Male/Young People (15-29)/2020",
          "United Kingdom/Male/Young People (15-29)/2020",
          "France/Female/Children&Teenager (0-14)",
          "The United States of America/Female/Children&Teenager (0-14)",
          "United Kingdom/Female/Children&Teenager (0-14)",
          "France/Male/Children&Teenager (0-14)",
          "The United States of America/Male/Children&Teenager (0-14)",
          "United Kingdom/Male/Children&Teenager (0-14)",
          "France/Female/Middle-Aged (30-64)",
          "The United States of America/Female/Middle-Aged (30-64)",
          "United Kingdom/Female/Middle-Aged (30-64)",
          "France/Male/Middle-Aged (30-64)",
          "The United States of America/Male/Middle-Aged (30-64)",
          "United Kingdom/Male/Middle-Aged (30-64)",
          "France/Female/Older People (65-110+)",
          "The United States of America/Female/Older People (65-110+)",
          "United Kingdom/Female/Older People (65-110+)",
          "France/Male/Older People (65-110+)",
          "The United States of America/Male/Older People (65-110+)",
          "United Kingdom/Male/Older People (65-110+)",
          "France/Female/Young People (15-29)",
          "The United States of America/Female/Young People (15-29)",
          "United Kingdom/Female/Young People (15-29)",
          "France/Male/Young People (15-29)",
          "The United States of America/Male/Young People (15-29)",
          "United Kingdom/Male/Young People (15-29)",
          "France/Female",
          "The United States of America/Female",
          "United Kingdom/Female",
          "France/Male",
          "The United States of America/Male",
          "United Kingdom/Male",
          "France",
          "The United States of America",
          "United Kingdom"
         ],
         "labels": [
          "2000",
          "2000",
          "2000",
          "2000",
          "2000",
          "2000",
          "2000",
          "2000",
          "2000",
          "2000",
          "2000",
          "2000",
          "2000",
          "2000",
          "2000",
          "2000",
          "2000",
          "2000",
          "2000",
          "2000",
          "2000",
          "2000",
          "2000",
          "2000",
          "2001",
          "2001",
          "2001",
          "2001",
          "2001",
          "2001",
          "2001",
          "2001",
          "2001",
          "2001",
          "2001",
          "2001",
          "2001",
          "2001",
          "2001",
          "2001",
          "2001",
          "2001",
          "2001",
          "2001",
          "2001",
          "2001",
          "2001",
          "2001",
          "2002",
          "2002",
          "2002",
          "2002",
          "2002",
          "2002",
          "2002",
          "2002",
          "2002",
          "2002",
          "2002",
          "2002",
          "2002",
          "2002",
          "2002",
          "2002",
          "2002",
          "2002",
          "2002",
          "2002",
          "2002",
          "2002",
          "2002",
          "2002",
          "2003",
          "2003",
          "2003",
          "2003",
          "2003",
          "2003",
          "2003",
          "2003",
          "2003",
          "2003",
          "2003",
          "2003",
          "2003",
          "2003",
          "2003",
          "2003",
          "2003",
          "2003",
          "2003",
          "2003",
          "2003",
          "2003",
          "2003",
          "2003",
          "2004",
          "2004",
          "2004",
          "2004",
          "2004",
          "2004",
          "2004",
          "2004",
          "2004",
          "2004",
          "2004",
          "2004",
          "2004",
          "2004",
          "2004",
          "2004",
          "2004",
          "2004",
          "2004",
          "2004",
          "2004",
          "2004",
          "2004",
          "2004",
          "2005",
          "2005",
          "2005",
          "2005",
          "2005",
          "2005",
          "2005",
          "2005",
          "2005",
          "2005",
          "2005",
          "2005",
          "2005",
          "2005",
          "2005",
          "2005",
          "2005",
          "2005",
          "2005",
          "2005",
          "2005",
          "2005",
          "2005",
          "2005",
          "2006",
          "2006",
          "2006",
          "2006",
          "2006",
          "2006",
          "2006",
          "2006",
          "2006",
          "2006",
          "2006",
          "2006",
          "2006",
          "2006",
          "2006",
          "2006",
          "2006",
          "2006",
          "2006",
          "2006",
          "2006",
          "2006",
          "2006",
          "2006",
          "2007",
          "2007",
          "2007",
          "2007",
          "2007",
          "2007",
          "2007",
          "2007",
          "2007",
          "2007",
          "2007",
          "2007",
          "2007",
          "2007",
          "2007",
          "2007",
          "2007",
          "2007",
          "2007",
          "2007",
          "2007",
          "2007",
          "2007",
          "2007",
          "2008",
          "2008",
          "2008",
          "2008",
          "2008",
          "2008",
          "2008",
          "2008",
          "2008",
          "2008",
          "2008",
          "2008",
          "2008",
          "2008",
          "2008",
          "2008",
          "2008",
          "2008",
          "2008",
          "2008",
          "2008",
          "2008",
          "2008",
          "2008",
          "2009",
          "2009",
          "2009",
          "2009",
          "2009",
          "2009",
          "2009",
          "2009",
          "2009",
          "2009",
          "2009",
          "2009",
          "2009",
          "2009",
          "2009",
          "2009",
          "2009",
          "2009",
          "2009",
          "2009",
          "2009",
          "2009",
          "2009",
          "2009",
          "2010",
          "2010",
          "2010",
          "2010",
          "2010",
          "2010",
          "2010",
          "2010",
          "2010",
          "2010",
          "2010",
          "2010",
          "2010",
          "2010",
          "2010",
          "2010",
          "2010",
          "2010",
          "2010",
          "2010",
          "2010",
          "2010",
          "2010",
          "2010",
          "2011",
          "2011",
          "2011",
          "2011",
          "2011",
          "2011",
          "2011",
          "2011",
          "2011",
          "2011",
          "2011",
          "2011",
          "2011",
          "2011",
          "2011",
          "2011",
          "2011",
          "2011",
          "2011",
          "2011",
          "2011",
          "2011",
          "2011",
          "2011",
          "2012",
          "2012",
          "2012",
          "2012",
          "2012",
          "2012",
          "2012",
          "2012",
          "2012",
          "2012",
          "2012",
          "2012",
          "2012",
          "2012",
          "2012",
          "2012",
          "2012",
          "2012",
          "2012",
          "2012",
          "2012",
          "2012",
          "2012",
          "2012",
          "2013",
          "2013",
          "2013",
          "2013",
          "2013",
          "2013",
          "2013",
          "2013",
          "2013",
          "2013",
          "2013",
          "2013",
          "2013",
          "2013",
          "2013",
          "2013",
          "2013",
          "2013",
          "2013",
          "2013",
          "2013",
          "2013",
          "2013",
          "2013",
          "2014",
          "2014",
          "2014",
          "2014",
          "2014",
          "2014",
          "2014",
          "2014",
          "2014",
          "2014",
          "2014",
          "2014",
          "2014",
          "2014",
          "2014",
          "2014",
          "2014",
          "2014",
          "2014",
          "2014",
          "2014",
          "2014",
          "2014",
          "2014",
          "2015",
          "2015",
          "2015",
          "2015",
          "2015",
          "2015",
          "2015",
          "2015",
          "2015",
          "2015",
          "2015",
          "2015",
          "2015",
          "2015",
          "2015",
          "2015",
          "2015",
          "2015",
          "2015",
          "2015",
          "2015",
          "2015",
          "2015",
          "2015",
          "2016",
          "2016",
          "2016",
          "2016",
          "2016",
          "2016",
          "2016",
          "2016",
          "2016",
          "2016",
          "2016",
          "2016",
          "2016",
          "2016",
          "2016",
          "2016",
          "2016",
          "2016",
          "2016",
          "2016",
          "2016",
          "2016",
          "2016",
          "2016",
          "2017",
          "2017",
          "2017",
          "2017",
          "2017",
          "2017",
          "2017",
          "2017",
          "2017",
          "2017",
          "2017",
          "2017",
          "2017",
          "2017",
          "2017",
          "2017",
          "2017",
          "2017",
          "2017",
          "2017",
          "2017",
          "2017",
          "2017",
          "2017",
          "2018",
          "2018",
          "2018",
          "2018",
          "2018",
          "2018",
          "2018",
          "2018",
          "2018",
          "2018",
          "2018",
          "2018",
          "2018",
          "2018",
          "2018",
          "2018",
          "2018",
          "2018",
          "2018",
          "2018",
          "2018",
          "2018",
          "2018",
          "2018",
          "2019",
          "2019",
          "2019",
          "2019",
          "2019",
          "2019",
          "2019",
          "2019",
          "2019",
          "2019",
          "2019",
          "2019",
          "2019",
          "2019",
          "2019",
          "2019",
          "2019",
          "2019",
          "2019",
          "2019",
          "2019",
          "2019",
          "2019",
          "2019",
          "2020",
          "2020",
          "2020",
          "2020",
          "2020",
          "2020",
          "2020",
          "2020",
          "2020",
          "2020",
          "2020",
          "2020",
          "2020",
          "2020",
          "2020",
          "2020",
          "2020",
          "2020",
          "2020",
          "2020",
          "2020",
          "2020",
          "2020",
          "2020",
          "Children&Teenager (0-14)",
          "Children&Teenager (0-14)",
          "Children&Teenager (0-14)",
          "Children&Teenager (0-14)",
          "Children&Teenager (0-14)",
          "Children&Teenager (0-14)",
          "Middle-Aged (30-64)",
          "Middle-Aged (30-64)",
          "Middle-Aged (30-64)",
          "Middle-Aged (30-64)",
          "Middle-Aged (30-64)",
          "Middle-Aged (30-64)",
          "Older People (65-110+)",
          "Older People (65-110+)",
          "Older People (65-110+)",
          "Older People (65-110+)",
          "Older People (65-110+)",
          "Older People (65-110+)",
          "Young People (15-29)",
          "Young People (15-29)",
          "Young People (15-29)",
          "Young People (15-29)",
          "Young People (15-29)",
          "Young People (15-29)",
          "Female",
          "Female",
          "Female",
          "Male",
          "Male",
          "Male",
          "France",
          "The United States of America",
          "United Kingdom"
         ],
         "marker": {
          "coloraxis": "coloraxis",
          "colors": [
           0.000402511,
           0.000596356,
           0.000424469,
           0.000533178,
           0.0007456839999999999,
           0.000534577,
           0.002197961,
           0.003064269,
           0.002689915,
           0.005140843,
           0.005050856,
           0.004300877,
           0.040136495,
           0.049162344,
           0.051378066,
           0.051596862,
           0.056582062,
           0.058735795,
           0.000323936,
           0.000464299,
           0.000310532,
           0.000942297,
           0.001196931,
           0.000796332,
           0.000408414,
           0.000584707,
           0.000428997,
           0.00052747,
           0.000729882,
           0.000514827,
           0.002195174,
           0.003110282,
           0.002630574,
           0.005117751,
           0.005084689,
           0.004231016,
           0.039550088,
           0.048994278,
           0.050764393,
           0.05077491700000001,
           0.05579427700000001,
           0.057282952,
           0.000341215,
           0.000468325,
           0.000300224,
           0.000953669,
           0.001230572,
           0.000764108,
           0.000380936,
           0.000586464,
           0.000395231,
           0.000475461,
           0.000733784,
           0.000519272,
           0.002190151,
           0.0031269849999999997,
           0.002603061,
           0.005071378,
           0.005144716,
           0.004194736,
           0.03962774,
           0.049100694,
           0.051256304,
           0.050300992,
           0.055595164,
           0.056877187,
           0.000323858,
           0.00046994,
           0.000293954,
           0.00091011,
           0.001234843,
           0.000754974,
           0.000363487,
           0.000576804,
           0.00044045000000000005,
           0.00047482399999999994,
           0.000738022,
           0.00051167,
           0.002206186,
           0.003159684,
           0.002592261,
           0.005075308,
           0.005185367,
           0.004157991,
           0.041067431,
           0.048741153,
           0.051879764,
           0.051043736,
           0.054625548,
           0.056511264,
           0.000288294,
           0.000481208,
           0.000292286,
           0.000826169,
           0.001235201,
           0.000705043,
           0.000345575,
           0.000580742,
           0.000409871,
           0.000441004,
           0.0007210690000000001,
           0.000505006,
           0.002148861,
           0.003117553,
           0.00250314,
           0.004798955,
           0.005108556,
           0.004003031,
           0.036222345,
           0.047017119,
           0.048819607,
           0.047351066,
           0.052600374,
           0.053691995,
           0.000275017,
           0.000473151,
           0.00029158,
           0.000773744,
           0.001234378,
           0.000656638,
           0.00032425,
           0.000580262,
           0.000409033,
           0.000412857,
           0.0007306259999999998,
           0.000519014,
           0.002135283,
           0.003164371,
           0.0024962,
           0.004840295,
           0.005212207,
           0.003952179,
           0.03753141299999999,
           0.047535586,
           0.048743825,
           0.04825324200000001,
           0.052646017,
           0.052831696,
           0.000270776,
           0.000466345,
           0.000279953,
           0.000767393,
           0.001266915,
           0.000630508,
           0.00033121400000000003,
           0.000580451,
           0.00043537200000000006,
           0.00042871,
           0.000715538,
           0.000523407,
           0.002155282,
           0.00316711,
           0.002496236,
           0.004825782,
           0.00520364,
           0.003996998,
           0.036092203,
           0.04620762,
           0.047170333,
           0.046580365,
           0.051112593,
           0.051255065,
           0.000259904,
           0.00047487999999999995,
           0.000278693,
           0.000708398,
           0.001295098,
           0.000688621,
           0.000315372,
           0.000590367,
           0.000422347,
           0.000414169,
           0.0007269130000000001,
           0.000531922,
           0.002143327,
           0.003135863,
           0.002494247,
           0.004793141,
           0.005176515,
           0.003944369,
           0.036336084,
           0.045421863,
           0.047329916,
           0.04678366099999999,
           0.050137132,
           0.050864024,
           0.000249217,
           0.00046678499999999994,
           0.000261951,
           0.000716639,
           0.001252346,
           0.000672718,
           0.000333837,
           0.000565259,
           0.000420141,
           0.000397441,
           0.000696245,
           0.000513908,
           0.002180583,
           0.003158255,
           0.002505699,
           0.004769596,
           0.00519187,
           0.003913126,
           0.037209406,
           0.04571328,
           0.047462171,
           0.046992841,
           0.050065106000000005,
           0.050437919,
           0.000234609,
           0.000444657,
           0.000270542,
           0.000707784,
           0.001196981,
           0.000670361,
           0.000329616,
           0.000534835,
           0.00041529,
           0.000407344,
           0.000659704,
           0.000486311,
           0.002197046,
           0.0031818559999999994,
           0.002426346,
           0.004814603,
           0.005195698,
           0.003815128,
           0.037402009,
           0.04354555,
           0.044551741,
           0.046561333,
           0.048123965,
           0.048230938999999994,
           0.000249936,
           0.000447163,
           0.000262029,
           0.000694253,
           0.001123294,
           0.000631252,
           0.00031382400000000004,
           0.000500546,
           0.000401373,
           0.00038039,
           0.000615079,
           0.00046089700000000004,
           0.002186471,
           0.003140464,
           0.002402987,
           0.004797613,
           0.005137673,
           0.003747292,
           0.037217439,
           0.043598457,
           0.044298115,
           0.046251740000000006,
           0.047913384,
           0.047325218999999995,
           0.00023661400000000004,
           0.00042788600000000004,
           0.000251628,
           0.000666317,
           0.001098798,
           0.000563914,
           0.000296233,
           0.000491934,
           0.000362667,
           0.00035649,
           0.000604997,
           0.00048002,
           0.00216224,
           0.003196517,
           0.002350772,
           0.004678557,
           0.005198711,
           0.00360644,
           0.036486353,
           0.043640084,
           0.042753992,
           0.045240168,
           0.04752374399999999,
           0.045785502,
           0.00023108,
           0.00042743499999999994,
           0.000238333,
           0.000656326,
           0.001106472,
           0.000518979,
           0.000295972,
           0.000483968,
           0.000357298,
           0.000359736,
           0.000594516,
           0.000452786,
           0.002131915,
           0.00318369,
           0.002286874,
           0.004619094,
           0.00520086,
           0.003463683,
           0.038037254,
           0.042867763,
           0.043769635,
           0.045860876,
           0.046745995,
           0.045965447,
           0.000225387,
           0.000430469,
           0.00022098400000000002,
           0.000604521,
           0.001094821,
           0.000490162,
           0.000305061,
           0.000479299,
           0.000338293,
           0.000365633,
           0.000593389,
           0.000414901,
           0.002110914,
           0.003217391,
           0.002260597,
           0.004494291,
           0.005254685,
           0.003518816,
           0.037004732,
           0.042164609,
           0.042972716,
           0.044616138,
           0.046186615,
           0.045369554,
           0.00020594,
           0.00042579200000000003,
           0.000220851,
           0.000566425,
           0.001074256,
           0.000480594,
           0.000287233,
           0.000472097,
           0.000335427,
           0.000347102,
           0.000583001,
           0.000400848,
           0.002067271,
           0.003283692,
           0.00225048,
           0.004320749,
           0.005313632,
           0.003459373,
           0.035321167,
           0.040928764,
           0.041206088,
           0.04242104,
           0.045251352,
           0.04404451499999999,
           0.000203051,
           0.000434458,
           0.00023595799999999998,
           0.000542138,
           0.001094264,
           0.00049274,
           0.000290547,
           0.000481715,
           0.000315007,
           0.000361067,
           0.000591489,
           0.000406815,
           0.002069507,
           0.003325401,
           0.002274447,
           0.004371093,
           0.005404657,
           0.003513747,
           0.037287067,
           0.041071928,
           0.04327459,
           0.043789877,
           0.045270495,
           0.045479133,
           0.000210784,
           0.000460237,
           0.0002282,
           0.000551656,
           0.001170962,
           0.000491623,
           0.000282611,
           0.000483793,
           0.000326266,
           0.0003452,
           0.000586043,
           0.000379115,
           0.002058345,
           0.003385953,
           0.002321726,
           0.004279459,
           0.005518712,
           0.0035366719999999994,
           0.036423624,
           0.039789495,
           0.041586487,
           0.042693155,
           0.044314521,
           0.044479321,
           0.000212871,
           0.000496565,
           0.000236151,
           0.00052373,
           0.001284122,
           0.000509081,
           0.000288739,
           0.000462895,
           0.000309253,
           0.00034309,
           0.000576609,
           0.000376527,
           0.002074102,
           0.003394117,
           0.002266273,
           0.004188545,
           0.005555828,
           0.003517408,
           0.036826162,
           0.03967029,
           0.041782212,
           0.042611952,
           0.044380065,
           0.044764028,
           0.000198932,
           0.000504863,
           0.00021189400000000001,
           0.000520273,
           0.001291772,
           0.000472641,
           0.000285016,
           0.000447997,
           0.000298803,
           0.000349633,
           0.000558713,
           0.00035827,
           0.002064487,
           0.003351411,
           0.002319799,
           0.004141665,
           0.005541329,
           0.003579866,
           0.036205959,
           0.038850978,
           0.041584766,
           0.042093906,
           0.043877987,
           0.044736628,
           0.000199181,
           0.000491368,
           0.000236177,
           0.000515399,
           0.001225776,
           0.00052308,
           0.000273898,
           0.0004440669999999999,
           0.000294739,
           0.000351596,
           0.000544646,
           0.000352431,
           0.002034997,
           0.003331694,
           0.002287889,
           0.004021001,
           0.005529176,
           0.003519533,
           0.035817835,
           0.037750647,
           0.039792093,
           0.041504285,
           0.04311065,
           0.043572522,
           0.000195404,
           0.000479188,
           0.000235939,
           0.00051753,
           0.001215426,
           0.000510828,
           0.00026038,
           0.00041926500000000005,
           0.000264594,
           0.000316352,
           0.00052134,
           0.000327394,
           0.002055316,
           0.0038620390000000003,
           0.00250431,
           0.004135548,
           0.006608843,
           0.004003903,
           0.03841611,
           0.043390668,
           0.044353883,
           0.045489881,
           0.050164201,
           0.049948417,
           0.000188311,
           0.00057113,
           0.00021940399999999997,
           0.00049815,
           0.001485587,
           0.00047936600000000006,
           0.0003240770180994269,
           0.0005272119326034592,
           0.00037805900891657476,
           0.00040741174468041785,
           0.0006544387543768007,
           0.0004638621282834838,
           0.002131961770515448,
           0.0032548029887896875,
           0.0024308172654532423,
           0.0046516117922037895,
           0.005354996595874576,
           0.003821657937391418,
           0.0374282106820882,
           0.043936326219876295,
           0.04561548655992232,
           0.04597530445778638,
           0.04888570831840835,
           0.04935910041804256,
           0.0002526622313797314,
           0.00046937594391120464,
           0.00025841923838424726,
           0.00070622378522833,
           0.0012168967990719584,
           0.000609197429403359,
           0.033019344811084164,
           0.035647660324191525,
           0.040108724363287294,
           0.035426617825318134,
           0.034353963584150424,
           0.0396979848030979,
           0.034237840331068414,
           0.034998341404512204,
           0.039909968559517
          ]
         },
         "name": "",
         "parents": [
          "France/Female/Children&Teenager (0-14)",
          "The United States of America/Female/Children&Teenager (0-14)",
          "United Kingdom/Female/Children&Teenager (0-14)",
          "France/Male/Children&Teenager (0-14)",
          "The United States of America/Male/Children&Teenager (0-14)",
          "United Kingdom/Male/Children&Teenager (0-14)",
          "France/Female/Middle-Aged (30-64)",
          "The United States of America/Female/Middle-Aged (30-64)",
          "United Kingdom/Female/Middle-Aged (30-64)",
          "France/Male/Middle-Aged (30-64)",
          "The United States of America/Male/Middle-Aged (30-64)",
          "United Kingdom/Male/Middle-Aged (30-64)",
          "France/Female/Older People (65-110+)",
          "The United States of America/Female/Older People (65-110+)",
          "United Kingdom/Female/Older People (65-110+)",
          "France/Male/Older People (65-110+)",
          "The United States of America/Male/Older People (65-110+)",
          "United Kingdom/Male/Older People (65-110+)",
          "France/Female/Young People (15-29)",
          "The United States of America/Female/Young People (15-29)",
          "United Kingdom/Female/Young People (15-29)",
          "France/Male/Young People (15-29)",
          "The United States of America/Male/Young People (15-29)",
          "United Kingdom/Male/Young People (15-29)",
          "France/Female/Children&Teenager (0-14)",
          "The United States of America/Female/Children&Teenager (0-14)",
          "United Kingdom/Female/Children&Teenager (0-14)",
          "France/Male/Children&Teenager (0-14)",
          "The United States of America/Male/Children&Teenager (0-14)",
          "United Kingdom/Male/Children&Teenager (0-14)",
          "France/Female/Middle-Aged (30-64)",
          "The United States of America/Female/Middle-Aged (30-64)",
          "United Kingdom/Female/Middle-Aged (30-64)",
          "France/Male/Middle-Aged (30-64)",
          "The United States of America/Male/Middle-Aged (30-64)",
          "United Kingdom/Male/Middle-Aged (30-64)",
          "France/Female/Older People (65-110+)",
          "The United States of America/Female/Older People (65-110+)",
          "United Kingdom/Female/Older People (65-110+)",
          "France/Male/Older People (65-110+)",
          "The United States of America/Male/Older People (65-110+)",
          "United Kingdom/Male/Older People (65-110+)",
          "France/Female/Young People (15-29)",
          "The United States of America/Female/Young People (15-29)",
          "United Kingdom/Female/Young People (15-29)",
          "France/Male/Young People (15-29)",
          "The United States of America/Male/Young People (15-29)",
          "United Kingdom/Male/Young People (15-29)",
          "France/Female/Children&Teenager (0-14)",
          "The United States of America/Female/Children&Teenager (0-14)",
          "United Kingdom/Female/Children&Teenager (0-14)",
          "France/Male/Children&Teenager (0-14)",
          "The United States of America/Male/Children&Teenager (0-14)",
          "United Kingdom/Male/Children&Teenager (0-14)",
          "France/Female/Middle-Aged (30-64)",
          "The United States of America/Female/Middle-Aged (30-64)",
          "United Kingdom/Female/Middle-Aged (30-64)",
          "France/Male/Middle-Aged (30-64)",
          "The United States of America/Male/Middle-Aged (30-64)",
          "United Kingdom/Male/Middle-Aged (30-64)",
          "France/Female/Older People (65-110+)",
          "The United States of America/Female/Older People (65-110+)",
          "United Kingdom/Female/Older People (65-110+)",
          "France/Male/Older People (65-110+)",
          "The United States of America/Male/Older People (65-110+)",
          "United Kingdom/Male/Older People (65-110+)",
          "France/Female/Young People (15-29)",
          "The United States of America/Female/Young People (15-29)",
          "United Kingdom/Female/Young People (15-29)",
          "France/Male/Young People (15-29)",
          "The United States of America/Male/Young People (15-29)",
          "United Kingdom/Male/Young People (15-29)",
          "France/Female/Children&Teenager (0-14)",
          "The United States of America/Female/Children&Teenager (0-14)",
          "United Kingdom/Female/Children&Teenager (0-14)",
          "France/Male/Children&Teenager (0-14)",
          "The United States of America/Male/Children&Teenager (0-14)",
          "United Kingdom/Male/Children&Teenager (0-14)",
          "France/Female/Middle-Aged (30-64)",
          "The United States of America/Female/Middle-Aged (30-64)",
          "United Kingdom/Female/Middle-Aged (30-64)",
          "France/Male/Middle-Aged (30-64)",
          "The United States of America/Male/Middle-Aged (30-64)",
          "United Kingdom/Male/Middle-Aged (30-64)",
          "France/Female/Older People (65-110+)",
          "The United States of America/Female/Older People (65-110+)",
          "United Kingdom/Female/Older People (65-110+)",
          "France/Male/Older People (65-110+)",
          "The United States of America/Male/Older People (65-110+)",
          "United Kingdom/Male/Older People (65-110+)",
          "France/Female/Young People (15-29)",
          "The United States of America/Female/Young People (15-29)",
          "United Kingdom/Female/Young People (15-29)",
          "France/Male/Young People (15-29)",
          "The United States of America/Male/Young People (15-29)",
          "United Kingdom/Male/Young People (15-29)",
          "France/Female/Children&Teenager (0-14)",
          "The United States of America/Female/Children&Teenager (0-14)",
          "United Kingdom/Female/Children&Teenager (0-14)",
          "France/Male/Children&Teenager (0-14)",
          "The United States of America/Male/Children&Teenager (0-14)",
          "United Kingdom/Male/Children&Teenager (0-14)",
          "France/Female/Middle-Aged (30-64)",
          "The United States of America/Female/Middle-Aged (30-64)",
          "United Kingdom/Female/Middle-Aged (30-64)",
          "France/Male/Middle-Aged (30-64)",
          "The United States of America/Male/Middle-Aged (30-64)",
          "United Kingdom/Male/Middle-Aged (30-64)",
          "France/Female/Older People (65-110+)",
          "The United States of America/Female/Older People (65-110+)",
          "United Kingdom/Female/Older People (65-110+)",
          "France/Male/Older People (65-110+)",
          "The United States of America/Male/Older People (65-110+)",
          "United Kingdom/Male/Older People (65-110+)",
          "France/Female/Young People (15-29)",
          "The United States of America/Female/Young People (15-29)",
          "United Kingdom/Female/Young People (15-29)",
          "France/Male/Young People (15-29)",
          "The United States of America/Male/Young People (15-29)",
          "United Kingdom/Male/Young People (15-29)",
          "France/Female/Children&Teenager (0-14)",
          "The United States of America/Female/Children&Teenager (0-14)",
          "United Kingdom/Female/Children&Teenager (0-14)",
          "France/Male/Children&Teenager (0-14)",
          "The United States of America/Male/Children&Teenager (0-14)",
          "United Kingdom/Male/Children&Teenager (0-14)",
          "France/Female/Middle-Aged (30-64)",
          "The United States of America/Female/Middle-Aged (30-64)",
          "United Kingdom/Female/Middle-Aged (30-64)",
          "France/Male/Middle-Aged (30-64)",
          "The United States of America/Male/Middle-Aged (30-64)",
          "United Kingdom/Male/Middle-Aged (30-64)",
          "France/Female/Older People (65-110+)",
          "The United States of America/Female/Older People (65-110+)",
          "United Kingdom/Female/Older People (65-110+)",
          "France/Male/Older People (65-110+)",
          "The United States of America/Male/Older People (65-110+)",
          "United Kingdom/Male/Older People (65-110+)",
          "France/Female/Young People (15-29)",
          "The United States of America/Female/Young People (15-29)",
          "United Kingdom/Female/Young People (15-29)",
          "France/Male/Young People (15-29)",
          "The United States of America/Male/Young People (15-29)",
          "United Kingdom/Male/Young People (15-29)",
          "France/Female/Children&Teenager (0-14)",
          "The United States of America/Female/Children&Teenager (0-14)",
          "United Kingdom/Female/Children&Teenager (0-14)",
          "France/Male/Children&Teenager (0-14)",
          "The United States of America/Male/Children&Teenager (0-14)",
          "United Kingdom/Male/Children&Teenager (0-14)",
          "France/Female/Middle-Aged (30-64)",
          "The United States of America/Female/Middle-Aged (30-64)",
          "United Kingdom/Female/Middle-Aged (30-64)",
          "France/Male/Middle-Aged (30-64)",
          "The United States of America/Male/Middle-Aged (30-64)",
          "United Kingdom/Male/Middle-Aged (30-64)",
          "France/Female/Older People (65-110+)",
          "The United States of America/Female/Older People (65-110+)",
          "United Kingdom/Female/Older People (65-110+)",
          "France/Male/Older People (65-110+)",
          "The United States of America/Male/Older People (65-110+)",
          "United Kingdom/Male/Older People (65-110+)",
          "France/Female/Young People (15-29)",
          "The United States of America/Female/Young People (15-29)",
          "United Kingdom/Female/Young People (15-29)",
          "France/Male/Young People (15-29)",
          "The United States of America/Male/Young People (15-29)",
          "United Kingdom/Male/Young People (15-29)",
          "France/Female/Children&Teenager (0-14)",
          "The United States of America/Female/Children&Teenager (0-14)",
          "United Kingdom/Female/Children&Teenager (0-14)",
          "France/Male/Children&Teenager (0-14)",
          "The United States of America/Male/Children&Teenager (0-14)",
          "United Kingdom/Male/Children&Teenager (0-14)",
          "France/Female/Middle-Aged (30-64)",
          "The United States of America/Female/Middle-Aged (30-64)",
          "United Kingdom/Female/Middle-Aged (30-64)",
          "France/Male/Middle-Aged (30-64)",
          "The United States of America/Male/Middle-Aged (30-64)",
          "United Kingdom/Male/Middle-Aged (30-64)",
          "France/Female/Older People (65-110+)",
          "The United States of America/Female/Older People (65-110+)",
          "United Kingdom/Female/Older People (65-110+)",
          "France/Male/Older People (65-110+)",
          "The United States of America/Male/Older People (65-110+)",
          "United Kingdom/Male/Older People (65-110+)",
          "France/Female/Young People (15-29)",
          "The United States of America/Female/Young People (15-29)",
          "United Kingdom/Female/Young People (15-29)",
          "France/Male/Young People (15-29)",
          "The United States of America/Male/Young People (15-29)",
          "United Kingdom/Male/Young People (15-29)",
          "France/Female/Children&Teenager (0-14)",
          "The United States of America/Female/Children&Teenager (0-14)",
          "United Kingdom/Female/Children&Teenager (0-14)",
          "France/Male/Children&Teenager (0-14)",
          "The United States of America/Male/Children&Teenager (0-14)",
          "United Kingdom/Male/Children&Teenager (0-14)",
          "France/Female/Middle-Aged (30-64)",
          "The United States of America/Female/Middle-Aged (30-64)",
          "United Kingdom/Female/Middle-Aged (30-64)",
          "France/Male/Middle-Aged (30-64)",
          "The United States of America/Male/Middle-Aged (30-64)",
          "United Kingdom/Male/Middle-Aged (30-64)",
          "France/Female/Older People (65-110+)",
          "The United States of America/Female/Older People (65-110+)",
          "United Kingdom/Female/Older People (65-110+)",
          "France/Male/Older People (65-110+)",
          "The United States of America/Male/Older People (65-110+)",
          "United Kingdom/Male/Older People (65-110+)",
          "France/Female/Young People (15-29)",
          "The United States of America/Female/Young People (15-29)",
          "United Kingdom/Female/Young People (15-29)",
          "France/Male/Young People (15-29)",
          "The United States of America/Male/Young People (15-29)",
          "United Kingdom/Male/Young People (15-29)",
          "France/Female/Children&Teenager (0-14)",
          "The United States of America/Female/Children&Teenager (0-14)",
          "United Kingdom/Female/Children&Teenager (0-14)",
          "France/Male/Children&Teenager (0-14)",
          "The United States of America/Male/Children&Teenager (0-14)",
          "United Kingdom/Male/Children&Teenager (0-14)",
          "France/Female/Middle-Aged (30-64)",
          "The United States of America/Female/Middle-Aged (30-64)",
          "United Kingdom/Female/Middle-Aged (30-64)",
          "France/Male/Middle-Aged (30-64)",
          "The United States of America/Male/Middle-Aged (30-64)",
          "United Kingdom/Male/Middle-Aged (30-64)",
          "France/Female/Older People (65-110+)",
          "The United States of America/Female/Older People (65-110+)",
          "United Kingdom/Female/Older People (65-110+)",
          "France/Male/Older People (65-110+)",
          "The United States of America/Male/Older People (65-110+)",
          "United Kingdom/Male/Older People (65-110+)",
          "France/Female/Young People (15-29)",
          "The United States of America/Female/Young People (15-29)",
          "United Kingdom/Female/Young People (15-29)",
          "France/Male/Young People (15-29)",
          "The United States of America/Male/Young People (15-29)",
          "United Kingdom/Male/Young People (15-29)",
          "France/Female/Children&Teenager (0-14)",
          "The United States of America/Female/Children&Teenager (0-14)",
          "United Kingdom/Female/Children&Teenager (0-14)",
          "France/Male/Children&Teenager (0-14)",
          "The United States of America/Male/Children&Teenager (0-14)",
          "United Kingdom/Male/Children&Teenager (0-14)",
          "France/Female/Middle-Aged (30-64)",
          "The United States of America/Female/Middle-Aged (30-64)",
          "United Kingdom/Female/Middle-Aged (30-64)",
          "France/Male/Middle-Aged (30-64)",
          "The United States of America/Male/Middle-Aged (30-64)",
          "United Kingdom/Male/Middle-Aged (30-64)",
          "France/Female/Older People (65-110+)",
          "The United States of America/Female/Older People (65-110+)",
          "United Kingdom/Female/Older People (65-110+)",
          "France/Male/Older People (65-110+)",
          "The United States of America/Male/Older People (65-110+)",
          "United Kingdom/Male/Older People (65-110+)",
          "France/Female/Young People (15-29)",
          "The United States of America/Female/Young People (15-29)",
          "United Kingdom/Female/Young People (15-29)",
          "France/Male/Young People (15-29)",
          "The United States of America/Male/Young People (15-29)",
          "United Kingdom/Male/Young People (15-29)",
          "France/Female/Children&Teenager (0-14)",
          "The United States of America/Female/Children&Teenager (0-14)",
          "United Kingdom/Female/Children&Teenager (0-14)",
          "France/Male/Children&Teenager (0-14)",
          "The United States of America/Male/Children&Teenager (0-14)",
          "United Kingdom/Male/Children&Teenager (0-14)",
          "France/Female/Middle-Aged (30-64)",
          "The United States of America/Female/Middle-Aged (30-64)",
          "United Kingdom/Female/Middle-Aged (30-64)",
          "France/Male/Middle-Aged (30-64)",
          "The United States of America/Male/Middle-Aged (30-64)",
          "United Kingdom/Male/Middle-Aged (30-64)",
          "France/Female/Older People (65-110+)",
          "The United States of America/Female/Older People (65-110+)",
          "United Kingdom/Female/Older People (65-110+)",
          "France/Male/Older People (65-110+)",
          "The United States of America/Male/Older People (65-110+)",
          "United Kingdom/Male/Older People (65-110+)",
          "France/Female/Young People (15-29)",
          "The United States of America/Female/Young People (15-29)",
          "United Kingdom/Female/Young People (15-29)",
          "France/Male/Young People (15-29)",
          "The United States of America/Male/Young People (15-29)",
          "United Kingdom/Male/Young People (15-29)",
          "France/Female/Children&Teenager (0-14)",
          "The United States of America/Female/Children&Teenager (0-14)",
          "United Kingdom/Female/Children&Teenager (0-14)",
          "France/Male/Children&Teenager (0-14)",
          "The United States of America/Male/Children&Teenager (0-14)",
          "United Kingdom/Male/Children&Teenager (0-14)",
          "France/Female/Middle-Aged (30-64)",
          "The United States of America/Female/Middle-Aged (30-64)",
          "United Kingdom/Female/Middle-Aged (30-64)",
          "France/Male/Middle-Aged (30-64)",
          "The United States of America/Male/Middle-Aged (30-64)",
          "United Kingdom/Male/Middle-Aged (30-64)",
          "France/Female/Older People (65-110+)",
          "The United States of America/Female/Older People (65-110+)",
          "United Kingdom/Female/Older People (65-110+)",
          "France/Male/Older People (65-110+)",
          "The United States of America/Male/Older People (65-110+)",
          "United Kingdom/Male/Older People (65-110+)",
          "France/Female/Young People (15-29)",
          "The United States of America/Female/Young People (15-29)",
          "United Kingdom/Female/Young People (15-29)",
          "France/Male/Young People (15-29)",
          "The United States of America/Male/Young People (15-29)",
          "United Kingdom/Male/Young People (15-29)",
          "France/Female/Children&Teenager (0-14)",
          "The United States of America/Female/Children&Teenager (0-14)",
          "United Kingdom/Female/Children&Teenager (0-14)",
          "France/Male/Children&Teenager (0-14)",
          "The United States of America/Male/Children&Teenager (0-14)",
          "United Kingdom/Male/Children&Teenager (0-14)",
          "France/Female/Middle-Aged (30-64)",
          "The United States of America/Female/Middle-Aged (30-64)",
          "United Kingdom/Female/Middle-Aged (30-64)",
          "France/Male/Middle-Aged (30-64)",
          "The United States of America/Male/Middle-Aged (30-64)",
          "United Kingdom/Male/Middle-Aged (30-64)",
          "France/Female/Older People (65-110+)",
          "The United States of America/Female/Older People (65-110+)",
          "United Kingdom/Female/Older People (65-110+)",
          "France/Male/Older People (65-110+)",
          "The United States of America/Male/Older People (65-110+)",
          "United Kingdom/Male/Older People (65-110+)",
          "France/Female/Young People (15-29)",
          "The United States of America/Female/Young People (15-29)",
          "United Kingdom/Female/Young People (15-29)",
          "France/Male/Young People (15-29)",
          "The United States of America/Male/Young People (15-29)",
          "United Kingdom/Male/Young People (15-29)",
          "France/Female/Children&Teenager (0-14)",
          "The United States of America/Female/Children&Teenager (0-14)",
          "United Kingdom/Female/Children&Teenager (0-14)",
          "France/Male/Children&Teenager (0-14)",
          "The United States of America/Male/Children&Teenager (0-14)",
          "United Kingdom/Male/Children&Teenager (0-14)",
          "France/Female/Middle-Aged (30-64)",
          "The United States of America/Female/Middle-Aged (30-64)",
          "United Kingdom/Female/Middle-Aged (30-64)",
          "France/Male/Middle-Aged (30-64)",
          "The United States of America/Male/Middle-Aged (30-64)",
          "United Kingdom/Male/Middle-Aged (30-64)",
          "France/Female/Older People (65-110+)",
          "The United States of America/Female/Older People (65-110+)",
          "United Kingdom/Female/Older People (65-110+)",
          "France/Male/Older People (65-110+)",
          "The United States of America/Male/Older People (65-110+)",
          "United Kingdom/Male/Older People (65-110+)",
          "France/Female/Young People (15-29)",
          "The United States of America/Female/Young People (15-29)",
          "United Kingdom/Female/Young People (15-29)",
          "France/Male/Young People (15-29)",
          "The United States of America/Male/Young People (15-29)",
          "United Kingdom/Male/Young People (15-29)",
          "France/Female/Children&Teenager (0-14)",
          "The United States of America/Female/Children&Teenager (0-14)",
          "United Kingdom/Female/Children&Teenager (0-14)",
          "France/Male/Children&Teenager (0-14)",
          "The United States of America/Male/Children&Teenager (0-14)",
          "United Kingdom/Male/Children&Teenager (0-14)",
          "France/Female/Middle-Aged (30-64)",
          "The United States of America/Female/Middle-Aged (30-64)",
          "United Kingdom/Female/Middle-Aged (30-64)",
          "France/Male/Middle-Aged (30-64)",
          "The United States of America/Male/Middle-Aged (30-64)",
          "United Kingdom/Male/Middle-Aged (30-64)",
          "France/Female/Older People (65-110+)",
          "The United States of America/Female/Older People (65-110+)",
          "United Kingdom/Female/Older People (65-110+)",
          "France/Male/Older People (65-110+)",
          "The United States of America/Male/Older People (65-110+)",
          "United Kingdom/Male/Older People (65-110+)",
          "France/Female/Young People (15-29)",
          "The United States of America/Female/Young People (15-29)",
          "United Kingdom/Female/Young People (15-29)",
          "France/Male/Young People (15-29)",
          "The United States of America/Male/Young People (15-29)",
          "United Kingdom/Male/Young People (15-29)",
          "France/Female/Children&Teenager (0-14)",
          "The United States of America/Female/Children&Teenager (0-14)",
          "United Kingdom/Female/Children&Teenager (0-14)",
          "France/Male/Children&Teenager (0-14)",
          "The United States of America/Male/Children&Teenager (0-14)",
          "United Kingdom/Male/Children&Teenager (0-14)",
          "France/Female/Middle-Aged (30-64)",
          "The United States of America/Female/Middle-Aged (30-64)",
          "United Kingdom/Female/Middle-Aged (30-64)",
          "France/Male/Middle-Aged (30-64)",
          "The United States of America/Male/Middle-Aged (30-64)",
          "United Kingdom/Male/Middle-Aged (30-64)",
          "France/Female/Older People (65-110+)",
          "The United States of America/Female/Older People (65-110+)",
          "United Kingdom/Female/Older People (65-110+)",
          "France/Male/Older People (65-110+)",
          "The United States of America/Male/Older People (65-110+)",
          "United Kingdom/Male/Older People (65-110+)",
          "France/Female/Young People (15-29)",
          "The United States of America/Female/Young People (15-29)",
          "United Kingdom/Female/Young People (15-29)",
          "France/Male/Young People (15-29)",
          "The United States of America/Male/Young People (15-29)",
          "United Kingdom/Male/Young People (15-29)",
          "France/Female/Children&Teenager (0-14)",
          "The United States of America/Female/Children&Teenager (0-14)",
          "United Kingdom/Female/Children&Teenager (0-14)",
          "France/Male/Children&Teenager (0-14)",
          "The United States of America/Male/Children&Teenager (0-14)",
          "United Kingdom/Male/Children&Teenager (0-14)",
          "France/Female/Middle-Aged (30-64)",
          "The United States of America/Female/Middle-Aged (30-64)",
          "United Kingdom/Female/Middle-Aged (30-64)",
          "France/Male/Middle-Aged (30-64)",
          "The United States of America/Male/Middle-Aged (30-64)",
          "United Kingdom/Male/Middle-Aged (30-64)",
          "France/Female/Older People (65-110+)",
          "The United States of America/Female/Older People (65-110+)",
          "United Kingdom/Female/Older People (65-110+)",
          "France/Male/Older People (65-110+)",
          "The United States of America/Male/Older People (65-110+)",
          "United Kingdom/Male/Older People (65-110+)",
          "France/Female/Young People (15-29)",
          "The United States of America/Female/Young People (15-29)",
          "United Kingdom/Female/Young People (15-29)",
          "France/Male/Young People (15-29)",
          "The United States of America/Male/Young People (15-29)",
          "United Kingdom/Male/Young People (15-29)",
          "France/Female/Children&Teenager (0-14)",
          "The United States of America/Female/Children&Teenager (0-14)",
          "United Kingdom/Female/Children&Teenager (0-14)",
          "France/Male/Children&Teenager (0-14)",
          "The United States of America/Male/Children&Teenager (0-14)",
          "United Kingdom/Male/Children&Teenager (0-14)",
          "France/Female/Middle-Aged (30-64)",
          "The United States of America/Female/Middle-Aged (30-64)",
          "United Kingdom/Female/Middle-Aged (30-64)",
          "France/Male/Middle-Aged (30-64)",
          "The United States of America/Male/Middle-Aged (30-64)",
          "United Kingdom/Male/Middle-Aged (30-64)",
          "France/Female/Older People (65-110+)",
          "The United States of America/Female/Older People (65-110+)",
          "United Kingdom/Female/Older People (65-110+)",
          "France/Male/Older People (65-110+)",
          "The United States of America/Male/Older People (65-110+)",
          "United Kingdom/Male/Older People (65-110+)",
          "France/Female/Young People (15-29)",
          "The United States of America/Female/Young People (15-29)",
          "United Kingdom/Female/Young People (15-29)",
          "France/Male/Young People (15-29)",
          "The United States of America/Male/Young People (15-29)",
          "United Kingdom/Male/Young People (15-29)",
          "France/Female/Children&Teenager (0-14)",
          "The United States of America/Female/Children&Teenager (0-14)",
          "United Kingdom/Female/Children&Teenager (0-14)",
          "France/Male/Children&Teenager (0-14)",
          "The United States of America/Male/Children&Teenager (0-14)",
          "United Kingdom/Male/Children&Teenager (0-14)",
          "France/Female/Middle-Aged (30-64)",
          "The United States of America/Female/Middle-Aged (30-64)",
          "United Kingdom/Female/Middle-Aged (30-64)",
          "France/Male/Middle-Aged (30-64)",
          "The United States of America/Male/Middle-Aged (30-64)",
          "United Kingdom/Male/Middle-Aged (30-64)",
          "France/Female/Older People (65-110+)",
          "The United States of America/Female/Older People (65-110+)",
          "United Kingdom/Female/Older People (65-110+)",
          "France/Male/Older People (65-110+)",
          "The United States of America/Male/Older People (65-110+)",
          "United Kingdom/Male/Older People (65-110+)",
          "France/Female/Young People (15-29)",
          "The United States of America/Female/Young People (15-29)",
          "United Kingdom/Female/Young People (15-29)",
          "France/Male/Young People (15-29)",
          "The United States of America/Male/Young People (15-29)",
          "United Kingdom/Male/Young People (15-29)",
          "France/Female/Children&Teenager (0-14)",
          "The United States of America/Female/Children&Teenager (0-14)",
          "United Kingdom/Female/Children&Teenager (0-14)",
          "France/Male/Children&Teenager (0-14)",
          "The United States of America/Male/Children&Teenager (0-14)",
          "United Kingdom/Male/Children&Teenager (0-14)",
          "France/Female/Middle-Aged (30-64)",
          "The United States of America/Female/Middle-Aged (30-64)",
          "United Kingdom/Female/Middle-Aged (30-64)",
          "France/Male/Middle-Aged (30-64)",
          "The United States of America/Male/Middle-Aged (30-64)",
          "United Kingdom/Male/Middle-Aged (30-64)",
          "France/Female/Older People (65-110+)",
          "The United States of America/Female/Older People (65-110+)",
          "United Kingdom/Female/Older People (65-110+)",
          "France/Male/Older People (65-110+)",
          "The United States of America/Male/Older People (65-110+)",
          "United Kingdom/Male/Older People (65-110+)",
          "France/Female/Young People (15-29)",
          "The United States of America/Female/Young People (15-29)",
          "United Kingdom/Female/Young People (15-29)",
          "France/Male/Young People (15-29)",
          "The United States of America/Male/Young People (15-29)",
          "United Kingdom/Male/Young People (15-29)",
          "France/Female",
          "The United States of America/Female",
          "United Kingdom/Female",
          "France/Male",
          "The United States of America/Male",
          "United Kingdom/Male",
          "France/Female",
          "The United States of America/Female",
          "United Kingdom/Female",
          "France/Male",
          "The United States of America/Male",
          "United Kingdom/Male",
          "France/Female",
          "The United States of America/Female",
          "United Kingdom/Female",
          "France/Male",
          "The United States of America/Male",
          "United Kingdom/Male",
          "France/Female",
          "The United States of America/Female",
          "United Kingdom/Female",
          "France/Male",
          "The United States of America/Male",
          "United Kingdom/Male",
          "France",
          "The United States of America",
          "United Kingdom",
          "France",
          "The United States of America",
          "United Kingdom",
          "",
          "",
          ""
         ],
         "type": "sunburst",
         "values": [
          2183,
          17494,
          2328,
          3034,
          22954.56,
          3079,
          29446,
          197467.78,
          36711.14,
          67359,
          316382.08,
          57552,
          225295,
          997510.55,
          277406.85,
          196036,
          802542.59,
          225070,
          1897,
          13300.72,
          1735,
          5614,
          35698.73,
          4485,
          2224,
          17226.25,
          2334,
          3016,
          22556.23,
          2942,
          29753,
          203647.84,
          36296,
          67773,
          323820.76,
          57210,
          224833,
          998635.9,
          275211,
          195843,
          800065.74,
          222309,
          1989,
          13493.97,
          1670,
          5642,
          36978.22,
          4296,
          2079,
          17323.02,
          2135.01,
          2725,
          22724.34,
          2944.01,
          30053,
          207820.14,
          36269.14,
          67911,
          332540.17,
          57250.24,
          228125,
          1005342.99,
          278344.85,
          197017,
          806618.63,
          223387.74,
          1880,
          13636.82,
          1632,
          5354,
          37380.8,
          4253.02,
          1987,
          17066,
          2366,
          2726,
          22885.13,
          2883.01,
          30659,
          212678.15,
          36410.09,
          68734,
          339210.91,
          57189.52,
          239002,
          1002472.07,
          282178.86,
          202727,
          802149.52,
          224539.5,
          1667,
          14107.81,
          1629.01,
          4837,
          37718.44,
          3992.01,
          1891,
          17198.03,
          2191,
          2533,
          22372.13,
          2834,
          30220,
          212189.41,
          35365,
          65669,
          337748.75,
          55388,
          212643,
          972506.75,
          266043,
          190361,
          783394.34,
          215864,
          1588,
          14052.85,
          1643,
          4524,
          38152.76,
          3754,
          1777,
          17171.76,
          2179,
          2375,
          22643.64,
          2904,
          30331,
          217728.13,
          35466,
          66791,
          348315.23,
          55024,
          223222.01,
          991385.57,
          266608.01,
          196967,
          796964.68,
          215214,
          1569,
          14056.56,
          1607,
          4501,
          39752.42,
          3661,
          1820,
          17161.67,
          2313,
          2471,
          22147.15,
          2918,
          30905,
          220222.66,
          35691,
          67084,
          351368.95,
          56029,
          216367.99,
          972401.11,
          258385,
          192069.01,
          787166.98,
          211178,
          1516,
          14536.55,
          1634,
          4183,
          41258.88,
          4076,
          1742,
          17480.59,
          2242,
          2401,
          22526.82,
          2962,
          31018,
          220189.24,
          35864,
          67228,
          352911.99,
          55575,
          218593.03,
          967584.6,
          260124,
          194332.99,
          788102.17,
          212285,
          1457,
          14489.54,
          1567,
          4244,
          40427.04,
          4068,
          1852,
          16794.56,
          2237,
          2314,
          21641.77,
          2871,
          31801,
          223684.05,
          36179,
          67358,
          356948.18,
          55375,
          225410.01,
          991352.78,
          262888,
          197839,
          808576.73,
          214369,
          1371,
          13955.53,
          1648,
          4186,
          39030.24,
          4130,
          1844,
          15948.06,
          2221,
          2390,
          20568.97,
          2729,
          32220,
          227299.52,
          35180,
          68317,
          360196.05,
          54263,
          228678,
          962390.54,
          249798,
          199115,
          799724.62,
          209887,
          1457,
          14145.91,
          1614,
          4095,
          36889.35,
          3925,
          1769,
          14965.43,
          2158,
          2247,
          19219.33,
          2600,
          32232,
          226534.13,
          35029,
          68401,
          359534.08,
          53592,
          229679.01,
          980907.91,
          251976,
          200852,
          817453.04,
          211226,
          1374,
          13595.45,
          1558,
          3915,
          36225.52,
          3527,
          1679,
          14722.34,
          1962,
          2118,
          18913.47,
          2724,
          32097,
          232678.27,
          34473,
          67137,
          366985.13,
          51854,
          227217.01,
          999453.97,
          246824,
          199385,
          832462.48,
          209635,
          1332,
          13625.35,
          1482,
          3830,
          36616.85,
          3278,
          1688,
          14477.48,
          1947,
          2149,
          18571.44,
          2588,
          31702,
          232915.65,
          33621,
          66307,
          368952,
          49867,
          243080.99,
          1008396.33,
          258733.01,
          209513.99,
          849789.69,
          217777,
          1288,
          13767.52,
          1376,
          3498,
          36408.84,
          3115,
          1749,
          14329.33,
          1859,
          2198,
          18520.34,
          2392,
          31395,
          236009.76,
          33252,
          64486,
          373855.21,
          50624,
          242668,
          1026964.45,
          260805.02,
          211484.02,
          877769.85,
          223101.01,
          1169,
          13655.42,
          1371,
          3259,
          35888.62,
          3054,
          1652,
          14109.55,
          1859,
          2092,
          18187.48,
          2331,
          30712,
          241640.86,
          33200,
          61854,
          379387.42,
          49884,
          237829.99,
          1028443.96,
          255366,
          208591,
          893927.06,
          223106,
          1152,
          13982.58,
          1461,
          3120,
          36738.04,
          3134,
          1675,
          14390.42,
          1763,
          2178,
          18443.29,
          2389,
          30706,
          245546.87,
          33722,
          62382,
          387485.8,
          50917,
          257574.99,
          1064416.14,
          273178.97,
          222891,
          927953.26,
          236267.01,
          1193,
          14872.49,
          1411,
          3170,
          39521.75,
          3134,
          1621,
          14445.38,
          1847,
          2072,
          18265.27,
          2253,
          30483,
          250889.45,
          34640,
          60842,
          397467.55,
          51604,
          257676.01,
          1062576.62,
          266262.01,
          224168.99,
          940970.19,
          235892.99,
          1203,
          16104.47,
          1456,
          3007,
          43529.01,
          3251,
          1649,
          13817.32,
          1771,
          2049,
          17970.16,
          2265,
          30694,
          252200.95,
          34033,
          59439,
          401721.91,
          51652,
          265924.99,
          1091960.2,
          271226.98,
          229752.99,
          975528.18,
          241914.01,
          1118,
          16413.44,
          1298,
          2979,
          43890.77,
          3012,
          1622,
          13355.28,
          1728,
          2080,
          17394.29,
          2177,
          30553,
          249532.31,
          35067,
          58689,
          401945.05,
          52865,
          266689,
          1101869.89,
          273410.99,
          232849.01,
          997489.52,
          246014.01,
          1117,
          15978.4,
          1435,
          2953,
          41640.13,
          3317,
          1549,
          13194.36,
          1715,
          2082,
          16902.18,
          2156,
          30153,
          248415.93,
          34796,
          57004,
          402145.07,
          52259,
          269213.01,
          1103852.17,
          265193.01,
          235339.01,
          1013580.79,
          243937,
          1094,
          15552.5,
          1424,
          2974,
          41194.89,
          3227,
          1463,
          12490.22,
          1543,
          1861,
          16248.76,
          2009,
          30440,
          289233.63,
          38289,
          58562,
          487771.79,
          59783,
          294337.01,
          1293649.63,
          299547.98,
          264014.99,
          1215822.25,
          284117.01,
          1053,
          18471.42,
          1317,
          2868,
          50041.26,
          3023,
          37515,
          325161.05,
          42698.01,
          49111,
          421656.75,
          54950.020000000004,
          647573,
          4848524.73,
          739553.37,
          1359327,
          7746694.08,
          1135756.76,
          5034059.05,
          21624074.13,
          5599511.54,
          4401149,
          18318052.31,
          4747090.28,
          29484,
          305795.3,
          31968.01,
          82753,
          824982.56,
          75712.03,
          5748631.05,
          27103555.21,
          6413730.93,
          5892340,
          27311385.7,
          6013509.09,
          11640971.05,
          54414940.91,
          12427240.02
         ]
        }
       ],
       "layout": {
        "autosize": true,
        "coloraxis": {
         "colorbar": {
          "title": {
           "text": "DeathRate"
          }
         },
         "colorscale": [
          [
           0,
           "rgb(214, 249, 207)"
          ],
          [
           0.09090909090909091,
           "rgb(186, 228, 174)"
          ],
          [
           0.18181818181818182,
           "rgb(156, 209, 143)"
          ],
          [
           0.2727272727272727,
           "rgb(124, 191, 115)"
          ],
          [
           0.36363636363636365,
           "rgb(85, 174, 91)"
          ],
          [
           0.45454545454545453,
           "rgb(37, 157, 81)"
          ],
          [
           0.5454545454545454,
           "rgb(7, 138, 78)"
          ],
          [
           0.6363636363636364,
           "rgb(13, 117, 71)"
          ],
          [
           0.7272727272727273,
           "rgb(23, 95, 61)"
          ],
          [
           0.8181818181818182,
           "rgb(25, 75, 49)"
          ],
          [
           0.9090909090909091,
           "rgb(23, 55, 35)"
          ],
          [
           1,
           "rgb(17, 36, 20)"
          ]
         ]
        },
        "legend": {
         "tracegroupgap": 0
        },
        "margin": {
         "b": 30,
         "l": 2,
         "r": 2,
         "t": 34
        },
        "template": {
         "data": {
          "bar": [
           {
            "error_x": {
             "color": "#2a3f5f"
            },
            "error_y": {
             "color": "#2a3f5f"
            },
            "marker": {
             "line": {
              "color": "#E5ECF6",
              "width": 0.5
             },
             "pattern": {
              "fillmode": "overlay",
              "size": 10,
              "solidity": 0.2
             }
            },
            "type": "bar"
           }
          ],
          "barpolar": [
           {
            "marker": {
             "line": {
              "color": "#E5ECF6",
              "width": 0.5
             },
             "pattern": {
              "fillmode": "overlay",
              "size": 10,
              "solidity": 0.2
             }
            },
            "type": "barpolar"
           }
          ],
          "carpet": [
           {
            "aaxis": {
             "endlinecolor": "#2a3f5f",
             "gridcolor": "white",
             "linecolor": "white",
             "minorgridcolor": "white",
             "startlinecolor": "#2a3f5f"
            },
            "baxis": {
             "endlinecolor": "#2a3f5f",
             "gridcolor": "white",
             "linecolor": "white",
             "minorgridcolor": "white",
             "startlinecolor": "#2a3f5f"
            },
            "type": "carpet"
           }
          ],
          "choropleth": [
           {
            "colorbar": {
             "outlinewidth": 0,
             "ticks": ""
            },
            "type": "choropleth"
           }
          ],
          "contour": [
           {
            "colorbar": {
             "outlinewidth": 0,
             "ticks": ""
            },
            "colorscale": [
             [
              0,
              "#0d0887"
             ],
             [
              0.1111111111111111,
              "#46039f"
             ],
             [
              0.2222222222222222,
              "#7201a8"
             ],
             [
              0.3333333333333333,
              "#9c179e"
             ],
             [
              0.4444444444444444,
              "#bd3786"
             ],
             [
              0.5555555555555556,
              "#d8576b"
             ],
             [
              0.6666666666666666,
              "#ed7953"
             ],
             [
              0.7777777777777778,
              "#fb9f3a"
             ],
             [
              0.8888888888888888,
              "#fdca26"
             ],
             [
              1,
              "#f0f921"
             ]
            ],
            "type": "contour"
           }
          ],
          "contourcarpet": [
           {
            "colorbar": {
             "outlinewidth": 0,
             "ticks": ""
            },
            "type": "contourcarpet"
           }
          ],
          "heatmap": [
           {
            "colorbar": {
             "outlinewidth": 0,
             "ticks": ""
            },
            "colorscale": [
             [
              0,
              "#0d0887"
             ],
             [
              0.1111111111111111,
              "#46039f"
             ],
             [
              0.2222222222222222,
              "#7201a8"
             ],
             [
              0.3333333333333333,
              "#9c179e"
             ],
             [
              0.4444444444444444,
              "#bd3786"
             ],
             [
              0.5555555555555556,
              "#d8576b"
             ],
             [
              0.6666666666666666,
              "#ed7953"
             ],
             [
              0.7777777777777778,
              "#fb9f3a"
             ],
             [
              0.8888888888888888,
              "#fdca26"
             ],
             [
              1,
              "#f0f921"
             ]
            ],
            "type": "heatmap"
           }
          ],
          "heatmapgl": [
           {
            "colorbar": {
             "outlinewidth": 0,
             "ticks": ""
            },
            "colorscale": [
             [
              0,
              "#0d0887"
             ],
             [
              0.1111111111111111,
              "#46039f"
             ],
             [
              0.2222222222222222,
              "#7201a8"
             ],
             [
              0.3333333333333333,
              "#9c179e"
             ],
             [
              0.4444444444444444,
              "#bd3786"
             ],
             [
              0.5555555555555556,
              "#d8576b"
             ],
             [
              0.6666666666666666,
              "#ed7953"
             ],
             [
              0.7777777777777778,
              "#fb9f3a"
             ],
             [
              0.8888888888888888,
              "#fdca26"
             ],
             [
              1,
              "#f0f921"
             ]
            ],
            "type": "heatmapgl"
           }
          ],
          "histogram": [
           {
            "marker": {
             "pattern": {
              "fillmode": "overlay",
              "size": 10,
              "solidity": 0.2
             }
            },
            "type": "histogram"
           }
          ],
          "histogram2d": [
           {
            "colorbar": {
             "outlinewidth": 0,
             "ticks": ""
            },
            "colorscale": [
             [
              0,
              "#0d0887"
             ],
             [
              0.1111111111111111,
              "#46039f"
             ],
             [
              0.2222222222222222,
              "#7201a8"
             ],
             [
              0.3333333333333333,
              "#9c179e"
             ],
             [
              0.4444444444444444,
              "#bd3786"
             ],
             [
              0.5555555555555556,
              "#d8576b"
             ],
             [
              0.6666666666666666,
              "#ed7953"
             ],
             [
              0.7777777777777778,
              "#fb9f3a"
             ],
             [
              0.8888888888888888,
              "#fdca26"
             ],
             [
              1,
              "#f0f921"
             ]
            ],
            "type": "histogram2d"
           }
          ],
          "histogram2dcontour": [
           {
            "colorbar": {
             "outlinewidth": 0,
             "ticks": ""
            },
            "colorscale": [
             [
              0,
              "#0d0887"
             ],
             [
              0.1111111111111111,
              "#46039f"
             ],
             [
              0.2222222222222222,
              "#7201a8"
             ],
             [
              0.3333333333333333,
              "#9c179e"
             ],
             [
              0.4444444444444444,
              "#bd3786"
             ],
             [
              0.5555555555555556,
              "#d8576b"
             ],
             [
              0.6666666666666666,
              "#ed7953"
             ],
             [
              0.7777777777777778,
              "#fb9f3a"
             ],
             [
              0.8888888888888888,
              "#fdca26"
             ],
             [
              1,
              "#f0f921"
             ]
            ],
            "type": "histogram2dcontour"
           }
          ],
          "mesh3d": [
           {
            "colorbar": {
             "outlinewidth": 0,
             "ticks": ""
            },
            "type": "mesh3d"
           }
          ],
          "parcoords": [
           {
            "line": {
             "colorbar": {
              "outlinewidth": 0,
              "ticks": ""
             }
            },
            "type": "parcoords"
           }
          ],
          "pie": [
           {
            "automargin": true,
            "type": "pie"
           }
          ],
          "scatter": [
           {
            "fillpattern": {
             "fillmode": "overlay",
             "size": 10,
             "solidity": 0.2
            },
            "type": "scatter"
           }
          ],
          "scatter3d": [
           {
            "line": {
             "colorbar": {
              "outlinewidth": 0,
              "ticks": ""
             }
            },
            "marker": {
             "colorbar": {
              "outlinewidth": 0,
              "ticks": ""
             }
            },
            "type": "scatter3d"
           }
          ],
          "scattercarpet": [
           {
            "marker": {
             "colorbar": {
              "outlinewidth": 0,
              "ticks": ""
             }
            },
            "type": "scattercarpet"
           }
          ],
          "scattergeo": [
           {
            "marker": {
             "colorbar": {
              "outlinewidth": 0,
              "ticks": ""
             }
            },
            "type": "scattergeo"
           }
          ],
          "scattergl": [
           {
            "marker": {
             "colorbar": {
              "outlinewidth": 0,
              "ticks": ""
             }
            },
            "type": "scattergl"
           }
          ],
          "scattermapbox": [
           {
            "marker": {
             "colorbar": {
              "outlinewidth": 0,
              "ticks": ""
             }
            },
            "type": "scattermapbox"
           }
          ],
          "scatterpolar": [
           {
            "marker": {
             "colorbar": {
              "outlinewidth": 0,
              "ticks": ""
             }
            },
            "type": "scatterpolar"
           }
          ],
          "scatterpolargl": [
           {
            "marker": {
             "colorbar": {
              "outlinewidth": 0,
              "ticks": ""
             }
            },
            "type": "scatterpolargl"
           }
          ],
          "scatterternary": [
           {
            "marker": {
             "colorbar": {
              "outlinewidth": 0,
              "ticks": ""
             }
            },
            "type": "scatterternary"
           }
          ],
          "surface": [
           {
            "colorbar": {
             "outlinewidth": 0,
             "ticks": ""
            },
            "colorscale": [
             [
              0,
              "#0d0887"
             ],
             [
              0.1111111111111111,
              "#46039f"
             ],
             [
              0.2222222222222222,
              "#7201a8"
             ],
             [
              0.3333333333333333,
              "#9c179e"
             ],
             [
              0.4444444444444444,
              "#bd3786"
             ],
             [
              0.5555555555555556,
              "#d8576b"
             ],
             [
              0.6666666666666666,
              "#ed7953"
             ],
             [
              0.7777777777777778,
              "#fb9f3a"
             ],
             [
              0.8888888888888888,
              "#fdca26"
             ],
             [
              1,
              "#f0f921"
             ]
            ],
            "type": "surface"
           }
          ],
          "table": [
           {
            "cells": {
             "fill": {
              "color": "#EBF0F8"
             },
             "line": {
              "color": "white"
             }
            },
            "header": {
             "fill": {
              "color": "#C8D4E3"
             },
             "line": {
              "color": "white"
             }
            },
            "type": "table"
           }
          ]
         },
         "layout": {
          "annotationdefaults": {
           "arrowcolor": "#2a3f5f",
           "arrowhead": 0,
           "arrowwidth": 1
          },
          "autotypenumbers": "strict",
          "coloraxis": {
           "colorbar": {
            "outlinewidth": 0,
            "ticks": ""
           }
          },
          "colorscale": {
           "diverging": [
            [
             0,
             "#8e0152"
            ],
            [
             0.1,
             "#c51b7d"
            ],
            [
             0.2,
             "#de77ae"
            ],
            [
             0.3,
             "#f1b6da"
            ],
            [
             0.4,
             "#fde0ef"
            ],
            [
             0.5,
             "#f7f7f7"
            ],
            [
             0.6,
             "#e6f5d0"
            ],
            [
             0.7,
             "#b8e186"
            ],
            [
             0.8,
             "#7fbc41"
            ],
            [
             0.9,
             "#4d9221"
            ],
            [
             1,
             "#276419"
            ]
           ],
           "sequential": [
            [
             0,
             "#0d0887"
            ],
            [
             0.1111111111111111,
             "#46039f"
            ],
            [
             0.2222222222222222,
             "#7201a8"
            ],
            [
             0.3333333333333333,
             "#9c179e"
            ],
            [
             0.4444444444444444,
             "#bd3786"
            ],
            [
             0.5555555555555556,
             "#d8576b"
            ],
            [
             0.6666666666666666,
             "#ed7953"
            ],
            [
             0.7777777777777778,
             "#fb9f3a"
            ],
            [
             0.8888888888888888,
             "#fdca26"
            ],
            [
             1,
             "#f0f921"
            ]
           ],
           "sequentialminus": [
            [
             0,
             "#0d0887"
            ],
            [
             0.1111111111111111,
             "#46039f"
            ],
            [
             0.2222222222222222,
             "#7201a8"
            ],
            [
             0.3333333333333333,
             "#9c179e"
            ],
            [
             0.4444444444444444,
             "#bd3786"
            ],
            [
             0.5555555555555556,
             "#d8576b"
            ],
            [
             0.6666666666666666,
             "#ed7953"
            ],
            [
             0.7777777777777778,
             "#fb9f3a"
            ],
            [
             0.8888888888888888,
             "#fdca26"
            ],
            [
             1,
             "#f0f921"
            ]
           ]
          },
          "colorway": [
           "#636efa",
           "#EF553B",
           "#00cc96",
           "#ab63fa",
           "#FFA15A",
           "#19d3f3",
           "#FF6692",
           "#B6E880",
           "#FF97FF",
           "#FECB52"
          ],
          "font": {
           "color": "#2a3f5f"
          },
          "geo": {
           "bgcolor": "white",
           "lakecolor": "white",
           "landcolor": "#E5ECF6",
           "showlakes": true,
           "showland": true,
           "subunitcolor": "white"
          },
          "hoverlabel": {
           "align": "left"
          },
          "hovermode": "closest",
          "mapbox": {
           "style": "light"
          },
          "paper_bgcolor": "white",
          "plot_bgcolor": "#E5ECF6",
          "polar": {
           "angularaxis": {
            "gridcolor": "white",
            "linecolor": "white",
            "ticks": ""
           },
           "bgcolor": "#E5ECF6",
           "radialaxis": {
            "gridcolor": "white",
            "linecolor": "white",
            "ticks": ""
           }
          },
          "scene": {
           "xaxis": {
            "backgroundcolor": "#E5ECF6",
            "gridcolor": "white",
            "gridwidth": 2,
            "linecolor": "white",
            "showbackground": true,
            "ticks": "",
            "zerolinecolor": "white"
           },
           "yaxis": {
            "backgroundcolor": "#E5ECF6",
            "gridcolor": "white",
            "gridwidth": 2,
            "linecolor": "white",
            "showbackground": true,
            "ticks": "",
            "zerolinecolor": "white"
           },
           "zaxis": {
            "backgroundcolor": "#E5ECF6",
            "gridcolor": "white",
            "gridwidth": 2,
            "linecolor": "white",
            "showbackground": true,
            "ticks": "",
            "zerolinecolor": "white"
           }
          },
          "shapedefaults": {
           "line": {
            "color": "#2a3f5f"
           }
          },
          "ternary": {
           "aaxis": {
            "gridcolor": "white",
            "linecolor": "white",
            "ticks": ""
           },
           "baxis": {
            "gridcolor": "white",
            "linecolor": "white",
            "ticks": ""
           },
           "bgcolor": "#E5ECF6",
           "caxis": {
            "gridcolor": "white",
            "linecolor": "white",
            "ticks": ""
           }
          },
          "title": {
           "x": 0.05
          },
          "xaxis": {
           "automargin": true,
           "gridcolor": "white",
           "linecolor": "white",
           "ticks": "",
           "title": {
            "standoff": 15
           },
           "zerolinecolor": "white",
           "zerolinewidth": 2
          },
          "yaxis": {
           "automargin": true,
           "gridcolor": "white",
           "linecolor": "white",
           "ticks": "",
           "title": {
            "standoff": 15
           },
           "zerolinecolor": "white",
           "zerolinewidth": 2
          }
         }
        },
        "title": {
         "text": "Deaths and Death Rates of USA, UK and France from different age groups and gender from 2000 to 2020"
        }
       }
      },
      "image/png": "[encoded data removed]",
      "text/html": [
       "<div>                            <div id=\"9200cd89-1e9b-4577-8a44-75aa4db1338c\" class=\"plotly-graph-div\" style=\"height:525px; width:100%;\"></div>            <script type=\"text/javascript\">                require([\"plotly\"], function(Plotly) {                    window.PLOTLYENV=window.PLOTLYENV || {};                                    if (document.getElementById(\"9200cd89-1e9b-4577-8a44-75aa4db1338c\")) {                    Plotly.newPlot(                        \"9200cd89-1e9b-4577-8a44-75aa4db1338c\",                        [{\"branchvalues\":\"total\",\"customdata\":[[0.000402511],[0.000596356],[0.000424469],[0.000533178],[0.0007456839999999999],[0.000534577],[0.002197961],[0.003064269],[0.002689915],[0.005140843],[0.005050856],[0.004300877],[0.040136495],[0.049162344],[0.051378066],[0.051596862],[0.056582062],[0.058735795],[0.000323936],[0.000464299],[0.000310532],[0.000942297],[0.001196931],[0.000796332],[0.000408414],[0.000584707],[0.000428997],[0.00052747],[0.000729882],[0.000514827],[0.002195174],[0.003110282],[0.002630574],[0.005117751],[0.005084689],[0.004231016],[0.039550088],[0.048994278],[0.050764393],[0.05077491700000001],[0.05579427700000001],[0.057282952],[0.000341215],[0.000468325],[0.000300224],[0.000953669],[0.001230572],[0.000764108],[0.000380936],[0.000586464],[0.000395231],[0.000475461],[0.000733784],[0.000519272],[0.002190151],[0.0031269849999999997],[0.002603061],[0.005071378],[0.005144716],[0.004194736],[0.03962774],[0.049100694],[0.051256304],[0.050300992],[0.055595164],[0.056877187],[0.000323858],[0.00046994],[0.000293954],[0.00091011],[0.001234843],[0.000754974],[0.000363487],[0.000576804],[0.00044045000000000005],[0.00047482399999999994],[0.000738022],[0.00051167],[0.002206186],[0.003159684],[0.002592261],[0.005075308],[0.005185367],[0.004157991],[0.041067431],[0.048741153],[0.051879764],[0.051043736],[0.054625548],[0.056511264],[0.000288294],[0.000481208],[0.000292286],[0.000826169],[0.001235201],[0.000705043],[0.000345575],[0.000580742],[0.000409871],[0.000441004],[0.0007210690000000001],[0.000505006],[0.002148861],[0.003117553],[0.00250314],[0.004798955],[0.005108556],[0.004003031],[0.036222345],[0.047017119],[0.048819607],[0.047351066],[0.052600374],[0.053691995],[0.000275017],[0.000473151],[0.00029158],[0.000773744],[0.001234378],[0.000656638],[0.00032425],[0.000580262],[0.000409033],[0.000412857],[0.0007306259999999998],[0.000519014],[0.002135283],[0.003164371],[0.0024962],[0.004840295],[0.005212207],[0.003952179],[0.03753141299999999],[0.047535586],[0.048743825],[0.04825324200000001],[0.052646017],[0.052831696],[0.000270776],[0.000466345],[0.000279953],[0.000767393],[0.001266915],[0.000630508],[0.00033121400000000003],[0.000580451],[0.00043537200000000006],[0.00042871],[0.000715538],[0.000523407],[0.002155282],[0.00316711],[0.002496236],[0.004825782],[0.00520364],[0.003996998],[0.036092203],[0.04620762],[0.047170333],[0.046580365],[0.051112593],[0.051255065],[0.000259904],[0.00047487999999999995],[0.000278693],[0.000708398],[0.001295098],[0.000688621],[0.000315372],[0.000590367],[0.000422347],[0.000414169],[0.0007269130000000001],[0.000531922],[0.002143327],[0.003135863],[0.002494247],[0.004793141],[0.005176515],[0.003944369],[0.036336084],[0.045421863],[0.047329916],[0.04678366099999999],[0.050137132],[0.050864024],[0.000249217],[0.00046678499999999994],[0.000261951],[0.000716639],[0.001252346],[0.000672718],[0.000333837],[0.000565259],[0.000420141],[0.000397441],[0.000696245],[0.000513908],[0.002180583],[0.003158255],[0.002505699],[0.004769596],[0.00519187],[0.003913126],[0.037209406],[0.04571328],[0.047462171],[0.046992841],[0.050065106000000005],[0.050437919],[0.000234609],[0.000444657],[0.000270542],[0.000707784],[0.001196981],[0.000670361],[0.000329616],[0.000534835],[0.00041529],[0.000407344],[0.000659704],[0.000486311],[0.002197046],[0.0031818559999999994],[0.002426346],[0.004814603],[0.005195698],[0.003815128],[0.037402009],[0.04354555],[0.044551741],[0.046561333],[0.048123965],[0.048230938999999994],[0.000249936],[0.000447163],[0.000262029],[0.000694253],[0.001123294],[0.000631252],[0.00031382400000000004],[0.000500546],[0.000401373],[0.00038039],[0.000615079],[0.00046089700000000004],[0.002186471],[0.003140464],[0.002402987],[0.004797613],[0.005137673],[0.003747292],[0.037217439],[0.043598457],[0.044298115],[0.046251740000000006],[0.047913384],[0.047325218999999995],[0.00023661400000000004],[0.00042788600000000004],[0.000251628],[0.000666317],[0.001098798],[0.000563914],[0.000296233],[0.000491934],[0.000362667],[0.00035649],[0.000604997],[0.00048002],[0.00216224],[0.003196517],[0.002350772],[0.004678557],[0.005198711],[0.00360644],[0.036486353],[0.043640084],[0.042753992],[0.045240168],[0.04752374399999999],[0.045785502],[0.00023108],[0.00042743499999999994],[0.000238333],[0.000656326],[0.001106472],[0.000518979],[0.000295972],[0.000483968],[0.000357298],[0.000359736],[0.000594516],[0.000452786],[0.002131915],[0.00318369],[0.002286874],[0.004619094],[0.00520086],[0.003463683],[0.038037254],[0.042867763],[0.043769635],[0.045860876],[0.046745995],[0.045965447],[0.000225387],[0.000430469],[0.00022098400000000002],[0.000604521],[0.001094821],[0.000490162],[0.000305061],[0.000479299],[0.000338293],[0.000365633],[0.000593389],[0.000414901],[0.002110914],[0.003217391],[0.002260597],[0.004494291],[0.005254685],[0.003518816],[0.037004732],[0.042164609],[0.042972716],[0.044616138],[0.046186615],[0.045369554],[0.00020594],[0.00042579200000000003],[0.000220851],[0.000566425],[0.001074256],[0.000480594],[0.000287233],[0.000472097],[0.000335427],[0.000347102],[0.000583001],[0.000400848],[0.002067271],[0.003283692],[0.00225048],[0.004320749],[0.005313632],[0.003459373],[0.035321167],[0.040928764],[0.041206088],[0.04242104],[0.045251352],[0.04404451499999999],[0.000203051],[0.000434458],[0.00023595799999999998],[0.000542138],[0.001094264],[0.00049274],[0.000290547],[0.000481715],[0.000315007],[0.000361067],[0.000591489],[0.000406815],[0.002069507],[0.003325401],[0.002274447],[0.004371093],[0.005404657],[0.003513747],[0.037287067],[0.041071928],[0.04327459],[0.043789877],[0.045270495],[0.045479133],[0.000210784],[0.000460237],[0.0002282],[0.000551656],[0.001170962],[0.000491623],[0.000282611],[0.000483793],[0.000326266],[0.0003452],[0.000586043],[0.000379115],[0.002058345],[0.003385953],[0.002321726],[0.004279459],[0.005518712],[0.0035366719999999994],[0.036423624],[0.039789495],[0.041586487],[0.042693155],[0.044314521],[0.044479321],[0.000212871],[0.000496565],[0.000236151],[0.00052373],[0.001284122],[0.000509081],[0.000288739],[0.000462895],[0.000309253],[0.00034309],[0.000576609],[0.000376527],[0.002074102],[0.003394117],[0.002266273],[0.004188545],[0.005555828],[0.003517408],[0.036826162],[0.03967029],[0.041782212],[0.042611952],[0.044380065],[0.044764028],[0.000198932],[0.000504863],[0.00021189400000000001],[0.000520273],[0.001291772],[0.000472641],[0.000285016],[0.000447997],[0.000298803],[0.000349633],[0.000558713],[0.00035827],[0.002064487],[0.003351411],[0.002319799],[0.004141665],[0.005541329],[0.003579866],[0.036205959],[0.038850978],[0.041584766],[0.042093906],[0.043877987],[0.044736628],[0.000199181],[0.000491368],[0.000236177],[0.000515399],[0.001225776],[0.00052308],[0.000273898],[0.0004440669999999999],[0.000294739],[0.000351596],[0.000544646],[0.000352431],[0.002034997],[0.003331694],[0.002287889],[0.004021001],[0.005529176],[0.003519533],[0.035817835],[0.037750647],[0.039792093],[0.041504285],[0.04311065],[0.043572522],[0.000195404],[0.000479188],[0.000235939],[0.00051753],[0.001215426],[0.000510828],[0.00026038],[0.00041926500000000005],[0.000264594],[0.000316352],[0.00052134],[0.000327394],[0.002055316],[0.0038620390000000003],[0.00250431],[0.004135548],[0.006608843],[0.004003903],[0.03841611],[0.043390668],[0.044353883],[0.045489881],[0.050164201],[0.049948417],[0.000188311],[0.00057113],[0.00021940399999999997],[0.00049815],[0.001485587],[0.00047936600000000006],[0.0003240770180994269],[0.0005272119326034592],[0.00037805900891657476],[0.00040741174468041785],[0.0006544387543768007],[0.0004638621282834838],[0.002131961770515448],[0.0032548029887896875],[0.0024308172654532423],[0.0046516117922037895],[0.005354996595874576],[0.003821657937391418],[0.0374282106820882],[0.043936326219876295],[0.04561548655992232],[0.04597530445778638],[0.04888570831840835],[0.04935910041804256],[0.0002526622313797314],[0.00046937594391120464],[0.00025841923838424726],[0.00070622378522833],[0.0012168967990719584],[0.000609197429403359],[0.033019344811084164],[0.035647660324191525],[0.040108724363287294],[0.035426617825318134],[0.034353963584150424],[0.0396979848030979],[0.034237840331068414],[0.034998341404512204],[0.039909968559517]],\"domain\":{\"x\":[0.0,1.0],\"y\":[0.0,1.0]},\"hovertemplate\":\"labels=%{label}<br>Deaths=%{value}<br>parent=%{parent}<br>id=%{id}<br>DeathRate=%{color}<extra></extra>\",\"ids\":[\"France/Female/Children&Teenager (0-14)/2000\",\"The United States of America/Female/Children&Teenager (0-14)/2000\",\"United Kingdom/Female/Children&Teenager (0-14)/2000\",\"France/Male/Children&Teenager (0-14)/2000\",\"The United States of America/Male/Children&Teenager (0-14)/2000\",\"United Kingdom/Male/Children&Teenager (0-14)/2000\",\"France/Female/Middle-Aged (30-64)/2000\",\"The United States of America/Female/Middle-Aged (30-64)/2000\",\"United Kingdom/Female/Middle-Aged (30-64)/2000\",\"France/Male/Middle-Aged (30-64)/2000\",\"The United States of America/Male/Middle-Aged (30-64)/2000\",\"United Kingdom/Male/Middle-Aged (30-64)/2000\",\"France/Female/Older People (65-110+)/2000\",\"The United States of America/Female/Older People (65-110+)/2000\",\"United Kingdom/Female/Older People (65-110+)/2000\",\"France/Male/Older People (65-110+)/2000\",\"The United States of America/Male/Older People (65-110+)/2000\",\"United Kingdom/Male/Older People (65-110+)/2000\",\"France/Female/Young People (15-29)/2000\",\"The United States of America/Female/Young People (15-29)/2000\",\"United Kingdom/Female/Young People (15-29)/2000\",\"France/Male/Young People (15-29)/2000\",\"The United States of America/Male/Young People (15-29)/2000\",\"United Kingdom/Male/Young People (15-29)/2000\",\"France/Female/Children&Teenager (0-14)/2001\",\"The United States of America/Female/Children&Teenager (0-14)/2001\",\"United Kingdom/Female/Children&Teenager (0-14)/2001\",\"France/Male/Children&Teenager (0-14)/2001\",\"The United States of America/Male/Children&Teenager (0-14)/2001\",\"United Kingdom/Male/Children&Teenager (0-14)/2001\",\"France/Female/Middle-Aged (30-64)/2001\",\"The United States of America/Female/Middle-Aged (30-64)/2001\",\"United Kingdom/Female/Middle-Aged (30-64)/2001\",\"France/Male/Middle-Aged (30-64)/2001\",\"The United States of America/Male/Middle-Aged (30-64)/2001\",\"United Kingdom/Male/Middle-Aged (30-64)/2001\",\"France/Female/Older People (65-110+)/2001\",\"The United States of America/Female/Older People (65-110+)/2001\",\"United Kingdom/Female/Older People (65-110+)/2001\",\"France/Male/Older People (65-110+)/2001\",\"The United States of America/Male/Older People (65-110+)/2001\",\"United Kingdom/Male/Older People (65-110+)/2001\",\"France/Female/Young People (15-29)/2001\",\"The United States of America/Female/Young People (15-29)/2001\",\"United Kingdom/Female/Young People (15-29)/2001\",\"France/Male/Young People (15-29)/2001\",\"The United States of America/Male/Young People (15-29)/2001\",\"United Kingdom/Male/Young People (15-29)/2001\",\"France/Female/Children&Teenager (0-14)/2002\",\"The United States of America/Female/Children&Teenager (0-14)/2002\",\"United Kingdom/Female/Children&Teenager (0-14)/2002\",\"France/Male/Children&Teenager (0-14)/2002\",\"The United States of America/Male/Children&Teenager (0-14)/2002\",\"United Kingdom/Male/Children&Teenager (0-14)/2002\",\"France/Female/Middle-Aged (30-64)/2002\",\"The United States of America/Female/Middle-Aged (30-64)/2002\",\"United Kingdom/Female/Middle-Aged (30-64)/2002\",\"France/Male/Middle-Aged (30-64)/2002\",\"The United States of America/Male/Middle-Aged (30-64)/2002\",\"United Kingdom/Male/Middle-Aged (30-64)/2002\",\"France/Female/Older People (65-110+)/2002\",\"The United States of America/Female/Older People (65-110+)/2002\",\"United Kingdom/Female/Older People (65-110+)/2002\",\"France/Male/Older People (65-110+)/2002\",\"The United States of America/Male/Older People (65-110+)/2002\",\"United Kingdom/Male/Older People (65-110+)/2002\",\"France/Female/Young People (15-29)/2002\",\"The United States of America/Female/Young People (15-29)/2002\",\"United Kingdom/Female/Young People (15-29)/2002\",\"France/Male/Young People (15-29)/2002\",\"The United States of America/Male/Young People (15-29)/2002\",\"United Kingdom/Male/Young People (15-29)/2002\",\"France/Female/Children&Teenager (0-14)/2003\",\"The United States of America/Female/Children&Teenager (0-14)/2003\",\"United Kingdom/Female/Children&Teenager (0-14)/2003\",\"France/Male/Children&Teenager (0-14)/2003\",\"The United States of America/Male/Children&Teenager (0-14)/2003\",\"United Kingdom/Male/Children&Teenager (0-14)/2003\",\"France/Female/Middle-Aged (30-64)/2003\",\"The United States of America/Female/Middle-Aged (30-64)/2003\",\"United Kingdom/Female/Middle-Aged (30-64)/2003\",\"France/Male/Middle-Aged (30-64)/2003\",\"The United States of America/Male/Middle-Aged (30-64)/2003\",\"United Kingdom/Male/Middle-Aged (30-64)/2003\",\"France/Female/Older People (65-110+)/2003\",\"The United States of America/Female/Older People (65-110+)/2003\",\"United Kingdom/Female/Older People (65-110+)/2003\",\"France/Male/Older People (65-110+)/2003\",\"The United States of America/Male/Older People (65-110+)/2003\",\"United Kingdom/Male/Older People (65-110+)/2003\",\"France/Female/Young People (15-29)/2003\",\"The United States of America/Female/Young People (15-29)/2003\",\"United Kingdom/Female/Young People (15-29)/2003\",\"France/Male/Young People (15-29)/2003\",\"The United States of America/Male/Young People (15-29)/2003\",\"United Kingdom/Male/Young People (15-29)/2003\",\"France/Female/Children&Teenager (0-14)/2004\",\"The United States of America/Female/Children&Teenager (0-14)/2004\",\"United Kingdom/Female/Children&Teenager (0-14)/2004\",\"France/Male/Children&Teenager (0-14)/2004\",\"The United States of America/Male/Children&Teenager (0-14)/2004\",\"United Kingdom/Male/Children&Teenager (0-14)/2004\",\"France/Female/Middle-Aged (30-64)/2004\",\"The United States of America/Female/Middle-Aged (30-64)/2004\",\"United Kingdom/Female/Middle-Aged (30-64)/2004\",\"France/Male/Middle-Aged (30-64)/2004\",\"The United States of America/Male/Middle-Aged (30-64)/2004\",\"United Kingdom/Male/Middle-Aged (30-64)/2004\",\"France/Female/Older People (65-110+)/2004\",\"The United States of America/Female/Older People (65-110+)/2004\",\"United Kingdom/Female/Older People (65-110+)/2004\",\"France/Male/Older People (65-110+)/2004\",\"The United States of America/Male/Older People (65-110+)/2004\",\"United Kingdom/Male/Older People (65-110+)/2004\",\"France/Female/Young People (15-29)/2004\",\"The United States of America/Female/Young People (15-29)/2004\",\"United Kingdom/Female/Young People (15-29)/2004\",\"France/Male/Young People (15-29)/2004\",\"The United States of America/Male/Young People (15-29)/2004\",\"United Kingdom/Male/Young People (15-29)/2004\",\"France/Female/Children&Teenager (0-14)/2005\",\"The United States of America/Female/Children&Teenager (0-14)/2005\",\"United Kingdom/Female/Children&Teenager (0-14)/2005\",\"France/Male/Children&Teenager (0-14)/2005\",\"The United States of America/Male/Children&Teenager (0-14)/2005\",\"United Kingdom/Male/Children&Teenager (0-14)/2005\",\"France/Female/Middle-Aged (30-64)/2005\",\"The United States of America/Female/Middle-Aged (30-64)/2005\",\"United Kingdom/Female/Middle-Aged (30-64)/2005\",\"France/Male/Middle-Aged (30-64)/2005\",\"The United States of America/Male/Middle-Aged (30-64)/2005\",\"United Kingdom/Male/Middle-Aged (30-64)/2005\",\"France/Female/Older People (65-110+)/2005\",\"The United States of America/Female/Older People (65-110+)/2005\",\"United Kingdom/Female/Older People (65-110+)/2005\",\"France/Male/Older People (65-110+)/2005\",\"The United States of America/Male/Older People (65-110+)/2005\",\"United Kingdom/Male/Older People (65-110+)/2005\",\"France/Female/Young People (15-29)/2005\",\"The United States of America/Female/Young People (15-29)/2005\",\"United Kingdom/Female/Young People (15-29)/2005\",\"France/Male/Young People (15-29)/2005\",\"The United States of America/Male/Young People (15-29)/2005\",\"United Kingdom/Male/Young People (15-29)/2005\",\"France/Female/Children&Teenager (0-14)/2006\",\"The United States of America/Female/Children&Teenager (0-14)/2006\",\"United Kingdom/Female/Children&Teenager (0-14)/2006\",\"France/Male/Children&Teenager (0-14)/2006\",\"The United States of America/Male/Children&Teenager (0-14)/2006\",\"United Kingdom/Male/Children&Teenager (0-14)/2006\",\"France/Female/Middle-Aged (30-64)/2006\",\"The United States of America/Female/Middle-Aged (30-64)/2006\",\"United Kingdom/Female/Middle-Aged (30-64)/2006\",\"France/Male/Middle-Aged (30-64)/2006\",\"The United States of America/Male/Middle-Aged (30-64)/2006\",\"United Kingdom/Male/Middle-Aged (30-64)/2006\",\"France/Female/Older People (65-110+)/2006\",\"The United States of America/Female/Older People (65-110+)/2006\",\"United Kingdom/Female/Older People (65-110+)/2006\",\"France/Male/Older People (65-110+)/2006\",\"The United States of America/Male/Older People (65-110+)/2006\",\"United Kingdom/Male/Older People (65-110+)/2006\",\"France/Female/Young People (15-29)/2006\",\"The United States of America/Female/Young People (15-29)/2006\",\"United Kingdom/Female/Young People (15-29)/2006\",\"France/Male/Young People (15-29)/2006\",\"The United States of America/Male/Young People (15-29)/2006\",\"United Kingdom/Male/Young People (15-29)/2006\",\"France/Female/Children&Teenager (0-14)/2007\",\"The United States of America/Female/Children&Teenager (0-14)/2007\",\"United Kingdom/Female/Children&Teenager (0-14)/2007\",\"France/Male/Children&Teenager (0-14)/2007\",\"The United States of America/Male/Children&Teenager (0-14)/2007\",\"United Kingdom/Male/Children&Teenager (0-14)/2007\",\"France/Female/Middle-Aged (30-64)/2007\",\"The United States of America/Female/Middle-Aged (30-64)/2007\",\"United Kingdom/Female/Middle-Aged (30-64)/2007\",\"France/Male/Middle-Aged (30-64)/2007\",\"The United States of America/Male/Middle-Aged (30-64)/2007\",\"United Kingdom/Male/Middle-Aged (30-64)/2007\",\"France/Female/Older People (65-110+)/2007\",\"The United States of America/Female/Older People (65-110+)/2007\",\"United Kingdom/Female/Older People (65-110+)/2007\",\"France/Male/Older People (65-110+)/2007\",\"The United States of America/Male/Older People (65-110+)/2007\",\"United Kingdom/Male/Older People (65-110+)/2007\",\"France/Female/Young People (15-29)/2007\",\"The United States of America/Female/Young People (15-29)/2007\",\"United Kingdom/Female/Young People (15-29)/2007\",\"France/Male/Young People (15-29)/2007\",\"The United States of America/Male/Young People (15-29)/2007\",\"United Kingdom/Male/Young People (15-29)/2007\",\"France/Female/Children&Teenager (0-14)/2008\",\"The United States of America/Female/Children&Teenager (0-14)/2008\",\"United Kingdom/Female/Children&Teenager (0-14)/2008\",\"France/Male/Children&Teenager (0-14)/2008\",\"The United States of America/Male/Children&Teenager (0-14)/2008\",\"United Kingdom/Male/Children&Teenager (0-14)/2008\",\"France/Female/Middle-Aged (30-64)/2008\",\"The United States of America/Female/Middle-Aged (30-64)/2008\",\"United Kingdom/Female/Middle-Aged (30-64)/2008\",\"France/Male/Middle-Aged (30-64)/2008\",\"The United States of America/Male/Middle-Aged (30-64)/2008\",\"United Kingdom/Male/Middle-Aged (30-64)/2008\",\"France/Female/Older People (65-110+)/2008\",\"The United States of America/Female/Older People (65-110+)/2008\",\"United Kingdom/Female/Older People (65-110+)/2008\",\"France/Male/Older People (65-110+)/2008\",\"The United States of America/Male/Older People (65-110+)/2008\",\"United Kingdom/Male/Older People (65-110+)/2008\",\"France/Female/Young People (15-29)/2008\",\"The United States of America/Female/Young People (15-29)/2008\",\"United Kingdom/Female/Young People (15-29)/2008\",\"France/Male/Young People (15-29)/2008\",\"The United States of America/Male/Young People (15-29)/2008\",\"United Kingdom/Male/Young People (15-29)/2008\",\"France/Female/Children&Teenager (0-14)/2009\",\"The United States of America/Female/Children&Teenager (0-14)/2009\",\"United Kingdom/Female/Children&Teenager (0-14)/2009\",\"France/Male/Children&Teenager (0-14)/2009\",\"The United States of America/Male/Children&Teenager (0-14)/2009\",\"United Kingdom/Male/Children&Teenager (0-14)/2009\",\"France/Female/Middle-Aged (30-64)/2009\",\"The United States of America/Female/Middle-Aged (30-64)/2009\",\"United Kingdom/Female/Middle-Aged (30-64)/2009\",\"France/Male/Middle-Aged (30-64)/2009\",\"The United States of America/Male/Middle-Aged (30-64)/2009\",\"United Kingdom/Male/Middle-Aged (30-64)/2009\",\"France/Female/Older People (65-110+)/2009\",\"The United States of America/Female/Older People (65-110+)/2009\",\"United Kingdom/Female/Older People (65-110+)/2009\",\"France/Male/Older People (65-110+)/2009\",\"The United States of America/Male/Older People (65-110+)/2009\",\"United Kingdom/Male/Older People (65-110+)/2009\",\"France/Female/Young People (15-29)/2009\",\"The United States of America/Female/Young People (15-29)/2009\",\"United Kingdom/Female/Young People (15-29)/2009\",\"France/Male/Young People (15-29)/2009\",\"The United States of America/Male/Young People (15-29)/2009\",\"United Kingdom/Male/Young People (15-29)/2009\",\"France/Female/Children&Teenager (0-14)/2010\",\"The United States of America/Female/Children&Teenager (0-14)/2010\",\"United Kingdom/Female/Children&Teenager (0-14)/2010\",\"France/Male/Children&Teenager (0-14)/2010\",\"The United States of America/Male/Children&Teenager (0-14)/2010\",\"United Kingdom/Male/Children&Teenager (0-14)/2010\",\"France/Female/Middle-Aged (30-64)/2010\",\"The United States of America/Female/Middle-Aged (30-64)/2010\",\"United Kingdom/Female/Middle-Aged (30-64)/2010\",\"France/Male/Middle-Aged (30-64)/2010\",\"The United States of America/Male/Middle-Aged (30-64)/2010\",\"United Kingdom/Male/Middle-Aged (30-64)/2010\",\"France/Female/Older People (65-110+)/2010\",\"The United States of America/Female/Older People (65-110+)/2010\",\"United Kingdom/Female/Older People (65-110+)/2010\",\"France/Male/Older People (65-110+)/2010\",\"The United States of America/Male/Older People (65-110+)/2010\",\"United Kingdom/Male/Older People (65-110+)/2010\",\"France/Female/Young People (15-29)/2010\",\"The United States of America/Female/Young People (15-29)/2010\",\"United Kingdom/Female/Young People (15-29)/2010\",\"France/Male/Young People (15-29)/2010\",\"The United States of America/Male/Young People (15-29)/2010\",\"United Kingdom/Male/Young People (15-29)/2010\",\"France/Female/Children&Teenager (0-14)/2011\",\"The United States of America/Female/Children&Teenager (0-14)/2011\",\"United Kingdom/Female/Children&Teenager (0-14)/2011\",\"France/Male/Children&Teenager (0-14)/2011\",\"The United States of America/Male/Children&Teenager (0-14)/2011\",\"United Kingdom/Male/Children&Teenager (0-14)/2011\",\"France/Female/Middle-Aged (30-64)/2011\",\"The United States of America/Female/Middle-Aged (30-64)/2011\",\"United Kingdom/Female/Middle-Aged (30-64)/2011\",\"France/Male/Middle-Aged (30-64)/2011\",\"The United States of America/Male/Middle-Aged (30-64)/2011\",\"United Kingdom/Male/Middle-Aged (30-64)/2011\",\"France/Female/Older People (65-110+)/2011\",\"The United States of America/Female/Older People (65-110+)/2011\",\"United Kingdom/Female/Older People (65-110+)/2011\",\"France/Male/Older People (65-110+)/2011\",\"The United States of America/Male/Older People (65-110+)/2011\",\"United Kingdom/Male/Older People (65-110+)/2011\",\"France/Female/Young People (15-29)/2011\",\"The United States of America/Female/Young People (15-29)/2011\",\"United Kingdom/Female/Young People (15-29)/2011\",\"France/Male/Young People (15-29)/2011\",\"The United States of America/Male/Young People (15-29)/2011\",\"United Kingdom/Male/Young People (15-29)/2011\",\"France/Female/Children&Teenager (0-14)/2012\",\"The United States of America/Female/Children&Teenager (0-14)/2012\",\"United Kingdom/Female/Children&Teenager (0-14)/2012\",\"France/Male/Children&Teenager (0-14)/2012\",\"The United States of America/Male/Children&Teenager (0-14)/2012\",\"United Kingdom/Male/Children&Teenager (0-14)/2012\",\"France/Female/Middle-Aged (30-64)/2012\",\"The United States of America/Female/Middle-Aged (30-64)/2012\",\"United Kingdom/Female/Middle-Aged (30-64)/2012\",\"France/Male/Middle-Aged (30-64)/2012\",\"The United States of America/Male/Middle-Aged (30-64)/2012\",\"United Kingdom/Male/Middle-Aged (30-64)/2012\",\"France/Female/Older People (65-110+)/2012\",\"The United States of America/Female/Older People (65-110+)/2012\",\"United Kingdom/Female/Older People (65-110+)/2012\",\"France/Male/Older People (65-110+)/2012\",\"The United States of America/Male/Older People (65-110+)/2012\",\"United Kingdom/Male/Older People (65-110+)/2012\",\"France/Female/Young People (15-29)/2012\",\"The United States of America/Female/Young People (15-29)/2012\",\"United Kingdom/Female/Young People (15-29)/2012\",\"France/Male/Young People (15-29)/2012\",\"The United States of America/Male/Young People (15-29)/2012\",\"United Kingdom/Male/Young People (15-29)/2012\",\"France/Female/Children&Teenager (0-14)/2013\",\"The United States of America/Female/Children&Teenager (0-14)/2013\",\"United Kingdom/Female/Children&Teenager (0-14)/2013\",\"France/Male/Children&Teenager (0-14)/2013\",\"The United States of America/Male/Children&Teenager (0-14)/2013\",\"United Kingdom/Male/Children&Teenager (0-14)/2013\",\"France/Female/Middle-Aged (30-64)/2013\",\"The United States of America/Female/Middle-Aged (30-64)/2013\",\"United Kingdom/Female/Middle-Aged (30-64)/2013\",\"France/Male/Middle-Aged (30-64)/2013\",\"The United States of America/Male/Middle-Aged (30-64)/2013\",\"United Kingdom/Male/Middle-Aged (30-64)/2013\",\"France/Female/Older People (65-110+)/2013\",\"The United States of America/Female/Older People (65-110+)/2013\",\"United Kingdom/Female/Older People (65-110+)/2013\",\"France/Male/Older People (65-110+)/2013\",\"The United States of America/Male/Older People (65-110+)/2013\",\"United Kingdom/Male/Older People (65-110+)/2013\",\"France/Female/Young People (15-29)/2013\",\"The United States of America/Female/Young People (15-29)/2013\",\"United Kingdom/Female/Young People (15-29)/2013\",\"France/Male/Young People (15-29)/2013\",\"The United States of America/Male/Young People (15-29)/2013\",\"United Kingdom/Male/Young People (15-29)/2013\",\"France/Female/Children&Teenager (0-14)/2014\",\"The United States of America/Female/Children&Teenager (0-14)/2014\",\"United Kingdom/Female/Children&Teenager (0-14)/2014\",\"France/Male/Children&Teenager (0-14)/2014\",\"The United States of America/Male/Children&Teenager (0-14)/2014\",\"United Kingdom/Male/Children&Teenager (0-14)/2014\",\"France/Female/Middle-Aged (30-64)/2014\",\"The United States of America/Female/Middle-Aged (30-64)/2014\",\"United Kingdom/Female/Middle-Aged (30-64)/2014\",\"France/Male/Middle-Aged (30-64)/2014\",\"The United States of America/Male/Middle-Aged (30-64)/2014\",\"United Kingdom/Male/Middle-Aged (30-64)/2014\",\"France/Female/Older People (65-110+)/2014\",\"The United States of America/Female/Older People (65-110+)/2014\",\"United Kingdom/Female/Older People (65-110+)/2014\",\"France/Male/Older People (65-110+)/2014\",\"The United States of America/Male/Older People (65-110+)/2014\",\"United Kingdom/Male/Older People (65-110+)/2014\",\"France/Female/Young People (15-29)/2014\",\"The United States of America/Female/Young People (15-29)/2014\",\"United Kingdom/Female/Young People (15-29)/2014\",\"France/Male/Young People (15-29)/2014\",\"The United States of America/Male/Young People (15-29)/2014\",\"United Kingdom/Male/Young People (15-29)/2014\",\"France/Female/Children&Teenager (0-14)/2015\",\"The United States of America/Female/Children&Teenager (0-14)/2015\",\"United Kingdom/Female/Children&Teenager (0-14)/2015\",\"France/Male/Children&Teenager (0-14)/2015\",\"The United States of America/Male/Children&Teenager (0-14)/2015\",\"United Kingdom/Male/Children&Teenager (0-14)/2015\",\"France/Female/Middle-Aged (30-64)/2015\",\"The United States of America/Female/Middle-Aged (30-64)/2015\",\"United Kingdom/Female/Middle-Aged (30-64)/2015\",\"France/Male/Middle-Aged (30-64)/2015\",\"The United States of America/Male/Middle-Aged (30-64)/2015\",\"United Kingdom/Male/Middle-Aged (30-64)/2015\",\"France/Female/Older People (65-110+)/2015\",\"The United States of America/Female/Older People (65-110+)/2015\",\"United Kingdom/Female/Older People (65-110+)/2015\",\"France/Male/Older People (65-110+)/2015\",\"The United States of America/Male/Older People (65-110+)/2015\",\"United Kingdom/Male/Older People (65-110+)/2015\",\"France/Female/Young People (15-29)/2015\",\"The United States of America/Female/Young People (15-29)/2015\",\"United Kingdom/Female/Young People (15-29)/2015\",\"France/Male/Young People (15-29)/2015\",\"The United States of America/Male/Young People (15-29)/2015\",\"United Kingdom/Male/Young People (15-29)/2015\",\"France/Female/Children&Teenager (0-14)/2016\",\"The United States of America/Female/Children&Teenager (0-14)/2016\",\"United Kingdom/Female/Children&Teenager (0-14)/2016\",\"France/Male/Children&Teenager (0-14)/2016\",\"The United States of America/Male/Children&Teenager (0-14)/2016\",\"United Kingdom/Male/Children&Teenager (0-14)/2016\",\"France/Female/Middle-Aged (30-64)/2016\",\"The United States of America/Female/Middle-Aged (30-64)/2016\",\"United Kingdom/Female/Middle-Aged (30-64)/2016\",\"France/Male/Middle-Aged (30-64)/2016\",\"The United States of America/Male/Middle-Aged (30-64)/2016\",\"United Kingdom/Male/Middle-Aged (30-64)/2016\",\"France/Female/Older People (65-110+)/2016\",\"The United States of America/Female/Older People (65-110+)/2016\",\"United Kingdom/Female/Older People (65-110+)/2016\",\"France/Male/Older People (65-110+)/2016\",\"The United States of America/Male/Older People (65-110+)/2016\",\"United Kingdom/Male/Older People (65-110+)/2016\",\"France/Female/Young People (15-29)/2016\",\"The United States of America/Female/Young People (15-29)/2016\",\"United Kingdom/Female/Young People (15-29)/2016\",\"France/Male/Young People (15-29)/2016\",\"The United States of America/Male/Young People (15-29)/2016\",\"United Kingdom/Male/Young People (15-29)/2016\",\"France/Female/Children&Teenager (0-14)/2017\",\"The United States of America/Female/Children&Teenager (0-14)/2017\",\"United Kingdom/Female/Children&Teenager (0-14)/2017\",\"France/Male/Children&Teenager (0-14)/2017\",\"The United States of America/Male/Children&Teenager (0-14)/2017\",\"United Kingdom/Male/Children&Teenager (0-14)/2017\",\"France/Female/Middle-Aged (30-64)/2017\",\"The United States of America/Female/Middle-Aged (30-64)/2017\",\"United Kingdom/Female/Middle-Aged (30-64)/2017\",\"France/Male/Middle-Aged (30-64)/2017\",\"The United States of America/Male/Middle-Aged (30-64)/2017\",\"United Kingdom/Male/Middle-Aged (30-64)/2017\",\"France/Female/Older People (65-110+)/2017\",\"The United States of America/Female/Older People (65-110+)/2017\",\"United Kingdom/Female/Older People (65-110+)/2017\",\"France/Male/Older People (65-110+)/2017\",\"The United States of America/Male/Older People (65-110+)/2017\",\"United Kingdom/Male/Older People (65-110+)/2017\",\"France/Female/Young People (15-29)/2017\",\"The United States of America/Female/Young People (15-29)/2017\",\"United Kingdom/Female/Young People (15-29)/2017\",\"France/Male/Young People (15-29)/2017\",\"The United States of America/Male/Young People (15-29)/2017\",\"United Kingdom/Male/Young People (15-29)/2017\",\"France/Female/Children&Teenager (0-14)/2018\",\"The United States of America/Female/Children&Teenager (0-14)/2018\",\"United Kingdom/Female/Children&Teenager (0-14)/2018\",\"France/Male/Children&Teenager (0-14)/2018\",\"The United States of America/Male/Children&Teenager (0-14)/2018\",\"United Kingdom/Male/Children&Teenager (0-14)/2018\",\"France/Female/Middle-Aged (30-64)/2018\",\"The United States of America/Female/Middle-Aged (30-64)/2018\",\"United Kingdom/Female/Middle-Aged (30-64)/2018\",\"France/Male/Middle-Aged (30-64)/2018\",\"The United States of America/Male/Middle-Aged (30-64)/2018\",\"United Kingdom/Male/Middle-Aged (30-64)/2018\",\"France/Female/Older People (65-110+)/2018\",\"The United States of America/Female/Older People (65-110+)/2018\",\"United Kingdom/Female/Older People (65-110+)/2018\",\"France/Male/Older People (65-110+)/2018\",\"The United States of America/Male/Older People (65-110+)/2018\",\"United Kingdom/Male/Older People (65-110+)/2018\",\"France/Female/Young People (15-29)/2018\",\"The United States of America/Female/Young People (15-29)/2018\",\"United Kingdom/Female/Young People (15-29)/2018\",\"France/Male/Young People (15-29)/2018\",\"The United States of America/Male/Young People (15-29)/2018\",\"United Kingdom/Male/Young People (15-29)/2018\",\"France/Female/Children&Teenager (0-14)/2019\",\"The United States of America/Female/Children&Teenager (0-14)/2019\",\"United Kingdom/Female/Children&Teenager (0-14)/2019\",\"France/Male/Children&Teenager (0-14)/2019\",\"The United States of America/Male/Children&Teenager (0-14)/2019\",\"United Kingdom/Male/Children&Teenager (0-14)/2019\",\"France/Female/Middle-Aged (30-64)/2019\",\"The United States of America/Female/Middle-Aged (30-64)/2019\",\"United Kingdom/Female/Middle-Aged (30-64)/2019\",\"France/Male/Middle-Aged (30-64)/2019\",\"The United States of America/Male/Middle-Aged (30-64)/2019\",\"United Kingdom/Male/Middle-Aged (30-64)/2019\",\"France/Female/Older People (65-110+)/2019\",\"The United States of America/Female/Older People (65-110+)/2019\",\"United Kingdom/Female/Older People (65-110+)/2019\",\"France/Male/Older People (65-110+)/2019\",\"The United States of America/Male/Older People (65-110+)/2019\",\"United Kingdom/Male/Older People (65-110+)/2019\",\"France/Female/Young People (15-29)/2019\",\"The United States of America/Female/Young People (15-29)/2019\",\"United Kingdom/Female/Young People (15-29)/2019\",\"France/Male/Young People (15-29)/2019\",\"The United States of America/Male/Young People (15-29)/2019\",\"United Kingdom/Male/Young People (15-29)/2019\",\"France/Female/Children&Teenager (0-14)/2020\",\"The United States of America/Female/Children&Teenager (0-14)/2020\",\"United Kingdom/Female/Children&Teenager (0-14)/2020\",\"France/Male/Children&Teenager (0-14)/2020\",\"The United States of America/Male/Children&Teenager (0-14)/2020\",\"United Kingdom/Male/Children&Teenager (0-14)/2020\",\"France/Female/Middle-Aged (30-64)/2020\",\"The United States of America/Female/Middle-Aged (30-64)/2020\",\"United Kingdom/Female/Middle-Aged (30-64)/2020\",\"France/Male/Middle-Aged (30-64)/2020\",\"The United States of America/Male/Middle-Aged (30-64)/2020\",\"United Kingdom/Male/Middle-Aged (30-64)/2020\",\"France/Female/Older People (65-110+)/2020\",\"The United States of America/Female/Older People (65-110+)/2020\",\"United Kingdom/Female/Older People (65-110+)/2020\",\"France/Male/Older People (65-110+)/2020\",\"The United States of America/Male/Older People (65-110+)/2020\",\"United Kingdom/Male/Older People (65-110+)/2020\",\"France/Female/Young People (15-29)/2020\",\"The United States of America/Female/Young People (15-29)/2020\",\"United Kingdom/Female/Young People (15-29)/2020\",\"France/Male/Young People (15-29)/2020\",\"The United States of America/Male/Young People (15-29)/2020\",\"United Kingdom/Male/Young People (15-29)/2020\",\"France/Female/Children&Teenager (0-14)\",\"The United States of America/Female/Children&Teenager (0-14)\",\"United Kingdom/Female/Children&Teenager (0-14)\",\"France/Male/Children&Teenager (0-14)\",\"The United States of America/Male/Children&Teenager (0-14)\",\"United Kingdom/Male/Children&Teenager (0-14)\",\"France/Female/Middle-Aged (30-64)\",\"The United States of America/Female/Middle-Aged (30-64)\",\"United Kingdom/Female/Middle-Aged (30-64)\",\"France/Male/Middle-Aged (30-64)\",\"The United States of America/Male/Middle-Aged (30-64)\",\"United Kingdom/Male/Middle-Aged (30-64)\",\"France/Female/Older People (65-110+)\",\"The United States of America/Female/Older People (65-110+)\",\"United Kingdom/Female/Older People (65-110+)\",\"France/Male/Older People (65-110+)\",\"The United States of America/Male/Older People (65-110+)\",\"United Kingdom/Male/Older People (65-110+)\",\"France/Female/Young People (15-29)\",\"The United States of America/Female/Young People (15-29)\",\"United Kingdom/Female/Young People (15-29)\",\"France/Male/Young People (15-29)\",\"The United States of America/Male/Young People (15-29)\",\"United Kingdom/Male/Young People (15-29)\",\"France/Female\",\"The United States of America/Female\",\"United Kingdom/Female\",\"France/Male\",\"The United States of America/Male\",\"United Kingdom/Male\",\"France\",\"The United States of America\",\"United Kingdom\"],\"labels\":[\"2000\",\"2000\",\"2000\",\"2000\",\"2000\",\"2000\",\"2000\",\"2000\",\"2000\",\"2000\",\"2000\",\"2000\",\"2000\",\"2000\",\"2000\",\"2000\",\"2000\",\"2000\",\"2000\",\"2000\",\"2000\",\"2000\",\"2000\",\"2000\",\"2001\",\"2001\",\"2001\",\"2001\",\"2001\",\"2001\",\"2001\",\"2001\",\"2001\",\"2001\",\"2001\",\"2001\",\"2001\",\"2001\",\"2001\",\"2001\",\"2001\",\"2001\",\"2001\",\"2001\",\"2001\",\"2001\",\"2001\",\"2001\",\"2002\",\"2002\",\"2002\",\"2002\",\"2002\",\"2002\",\"2002\",\"2002\",\"2002\",\"2002\",\"2002\",\"2002\",\"2002\",\"2002\",\"2002\",\"2002\",\"2002\",\"2002\",\"2002\",\"2002\",\"2002\",\"2002\",\"2002\",\"2002\",\"2003\",\"2003\",\"2003\",\"2003\",\"2003\",\"2003\",\"2003\",\"2003\",\"2003\",\"2003\",\"2003\",\"2003\",\"2003\",\"2003\",\"2003\",\"2003\",\"2003\",\"2003\",\"2003\",\"2003\",\"2003\",\"2003\",\"2003\",\"2003\",\"2004\",\"2004\",\"2004\",\"2004\",\"2004\",\"2004\",\"2004\",\"2004\",\"2004\",\"2004\",\"2004\",\"2004\",\"2004\",\"2004\",\"2004\",\"2004\",\"2004\",\"2004\",\"2004\",\"2004\",\"2004\",\"2004\",\"2004\",\"2004\",\"2005\",\"2005\",\"2005\",\"2005\",\"2005\",\"2005\",\"2005\",\"2005\",\"2005\",\"2005\",\"2005\",\"2005\",\"2005\",\"2005\",\"2005\",\"2005\",\"2005\",\"2005\",\"2005\",\"2005\",\"2005\",\"2005\",\"2005\",\"2005\",\"2006\",\"2006\",\"2006\",\"2006\",\"2006\",\"2006\",\"2006\",\"2006\",\"2006\",\"2006\",\"2006\",\"2006\",\"2006\",\"2006\",\"2006\",\"2006\",\"2006\",\"2006\",\"2006\",\"2006\",\"2006\",\"2006\",\"2006\",\"2006\",\"2007\",\"2007\",\"2007\",\"2007\",\"2007\",\"2007\",\"2007\",\"2007\",\"2007\",\"2007\",\"2007\",\"2007\",\"2007\",\"2007\",\"2007\",\"2007\",\"2007\",\"2007\",\"2007\",\"2007\",\"2007\",\"2007\",\"2007\",\"2007\",\"2008\",\"2008\",\"2008\",\"2008\",\"2008\",\"2008\",\"2008\",\"2008\",\"2008\",\"2008\",\"2008\",\"2008\",\"2008\",\"2008\",\"2008\",\"2008\",\"2008\",\"2008\",\"2008\",\"2008\",\"2008\",\"2008\",\"2008\",\"2008\",\"2009\",\"2009\",\"2009\",\"2009\",\"2009\",\"2009\",\"2009\",\"2009\",\"2009\",\"2009\",\"2009\",\"2009\",\"2009\",\"2009\",\"2009\",\"2009\",\"2009\",\"2009\",\"2009\",\"2009\",\"2009\",\"2009\",\"2009\",\"2009\",\"2010\",\"2010\",\"2010\",\"2010\",\"2010\",\"2010\",\"2010\",\"2010\",\"2010\",\"2010\",\"2010\",\"2010\",\"2010\",\"2010\",\"2010\",\"2010\",\"2010\",\"2010\",\"2010\",\"2010\",\"2010\",\"2010\",\"2010\",\"2010\",\"2011\",\"2011\",\"2011\",\"2011\",\"2011\",\"2011\",\"2011\",\"2011\",\"2011\",\"2011\",\"2011\",\"2011\",\"2011\",\"2011\",\"2011\",\"2011\",\"2011\",\"2011\",\"2011\",\"2011\",\"2011\",\"2011\",\"2011\",\"2011\",\"2012\",\"2012\",\"2012\",\"2012\",\"2012\",\"2012\",\"2012\",\"2012\",\"2012\",\"2012\",\"2012\",\"2012\",\"2012\",\"2012\",\"2012\",\"2012\",\"2012\",\"2012\",\"2012\",\"2012\",\"2012\",\"2012\",\"2012\",\"2012\",\"2013\",\"2013\",\"2013\",\"2013\",\"2013\",\"2013\",\"2013\",\"2013\",\"2013\",\"2013\",\"2013\",\"2013\",\"2013\",\"2013\",\"2013\",\"2013\",\"2013\",\"2013\",\"2013\",\"2013\",\"2013\",\"2013\",\"2013\",\"2013\",\"2014\",\"2014\",\"2014\",\"2014\",\"2014\",\"2014\",\"2014\",\"2014\",\"2014\",\"2014\",\"2014\",\"2014\",\"2014\",\"2014\",\"2014\",\"2014\",\"2014\",\"2014\",\"2014\",\"2014\",\"2014\",\"2014\",\"2014\",\"2014\",\"2015\",\"2015\",\"2015\",\"2015\",\"2015\",\"2015\",\"2015\",\"2015\",\"2015\",\"2015\",\"2015\",\"2015\",\"2015\",\"2015\",\"2015\",\"2015\",\"2015\",\"2015\",\"2015\",\"2015\",\"2015\",\"2015\",\"2015\",\"2015\",\"2016\",\"2016\",\"2016\",\"2016\",\"2016\",\"2016\",\"2016\",\"2016\",\"2016\",\"2016\",\"2016\",\"2016\",\"2016\",\"2016\",\"2016\",\"2016\",\"2016\",\"2016\",\"2016\",\"2016\",\"2016\",\"2016\",\"2016\",\"2016\",\"2017\",\"2017\",\"2017\",\"2017\",\"2017\",\"2017\",\"2017\",\"2017\",\"2017\",\"2017\",\"2017\",\"2017\",\"2017\",\"2017\",\"2017\",\"2017\",\"2017\",\"2017\",\"2017\",\"2017\",\"2017\",\"2017\",\"2017\",\"2017\",\"2018\",\"2018\",\"2018\",\"2018\",\"2018\",\"2018\",\"2018\",\"2018\",\"2018\",\"2018\",\"2018\",\"2018\",\"2018\",\"2018\",\"2018\",\"2018\",\"2018\",\"2018\",\"2018\",\"2018\",\"2018\",\"2018\",\"2018\",\"2018\",\"2019\",\"2019\",\"2019\",\"2019\",\"2019\",\"2019\",\"2019\",\"2019\",\"2019\",\"2019\",\"2019\",\"2019\",\"2019\",\"2019\",\"2019\",\"2019\",\"2019\",\"2019\",\"2019\",\"2019\",\"2019\",\"2019\",\"2019\",\"2019\",\"2020\",\"2020\",\"2020\",\"2020\",\"2020\",\"2020\",\"2020\",\"2020\",\"2020\",\"2020\",\"2020\",\"2020\",\"2020\",\"2020\",\"2020\",\"2020\",\"2020\",\"2020\",\"2020\",\"2020\",\"2020\",\"2020\",\"2020\",\"2020\",\"Children&Teenager (0-14)\",\"Children&Teenager (0-14)\",\"Children&Teenager (0-14)\",\"Children&Teenager (0-14)\",\"Children&Teenager (0-14)\",\"Children&Teenager (0-14)\",\"Middle-Aged (30-64)\",\"Middle-Aged (30-64)\",\"Middle-Aged (30-64)\",\"Middle-Aged (30-64)\",\"Middle-Aged (30-64)\",\"Middle-Aged (30-64)\",\"Older People (65-110+)\",\"Older People (65-110+)\",\"Older People (65-110+)\",\"Older People (65-110+)\",\"Older People (65-110+)\",\"Older People (65-110+)\",\"Young People (15-29)\",\"Young People (15-29)\",\"Young People (15-29)\",\"Young People (15-29)\",\"Young People (15-29)\",\"Young People (15-29)\",\"Female\",\"Female\",\"Female\",\"Male\",\"Male\",\"Male\",\"France\",\"The United States of America\",\"United Kingdom\"],\"marker\":{\"coloraxis\":\"coloraxis\",\"colors\":[0.000402511,0.000596356,0.000424469,0.000533178,0.0007456839999999999,0.000534577,0.002197961,0.003064269,0.002689915,0.005140843,0.005050856,0.004300877,0.040136495,0.049162344,0.051378066,0.051596862,0.056582062,0.058735795,0.000323936,0.000464299,0.000310532,0.000942297,0.001196931,0.000796332,0.000408414,0.000584707,0.000428997,0.00052747,0.000729882,0.000514827,0.002195174,0.003110282,0.002630574,0.005117751,0.005084689,0.004231016,0.039550088,0.048994278,0.050764393,0.05077491700000001,0.05579427700000001,0.057282952,0.000341215,0.000468325,0.000300224,0.000953669,0.001230572,0.000764108,0.000380936,0.000586464,0.000395231,0.000475461,0.000733784,0.000519272,0.002190151,0.0031269849999999997,0.002603061,0.005071378,0.005144716,0.004194736,0.03962774,0.049100694,0.051256304,0.050300992,0.055595164,0.056877187,0.000323858,0.00046994,0.000293954,0.00091011,0.001234843,0.000754974,0.000363487,0.000576804,0.00044045000000000005,0.00047482399999999994,0.000738022,0.00051167,0.002206186,0.003159684,0.002592261,0.005075308,0.005185367,0.004157991,0.041067431,0.048741153,0.051879764,0.051043736,0.054625548,0.056511264,0.000288294,0.000481208,0.000292286,0.000826169,0.001235201,0.000705043,0.000345575,0.000580742,0.000409871,0.000441004,0.0007210690000000001,0.000505006,0.002148861,0.003117553,0.00250314,0.004798955,0.005108556,0.004003031,0.036222345,0.047017119,0.048819607,0.047351066,0.052600374,0.053691995,0.000275017,0.000473151,0.00029158,0.000773744,0.001234378,0.000656638,0.00032425,0.000580262,0.000409033,0.000412857,0.0007306259999999998,0.000519014,0.002135283,0.003164371,0.0024962,0.004840295,0.005212207,0.003952179,0.03753141299999999,0.047535586,0.048743825,0.04825324200000001,0.052646017,0.052831696,0.000270776,0.000466345,0.000279953,0.000767393,0.001266915,0.000630508,0.00033121400000000003,0.000580451,0.00043537200000000006,0.00042871,0.000715538,0.000523407,0.002155282,0.00316711,0.002496236,0.004825782,0.00520364,0.003996998,0.036092203,0.04620762,0.047170333,0.046580365,0.051112593,0.051255065,0.000259904,0.00047487999999999995,0.000278693,0.000708398,0.001295098,0.000688621,0.000315372,0.000590367,0.000422347,0.000414169,0.0007269130000000001,0.000531922,0.002143327,0.003135863,0.002494247,0.004793141,0.005176515,0.003944369,0.036336084,0.045421863,0.047329916,0.04678366099999999,0.050137132,0.050864024,0.000249217,0.00046678499999999994,0.000261951,0.000716639,0.001252346,0.000672718,0.000333837,0.000565259,0.000420141,0.000397441,0.000696245,0.000513908,0.002180583,0.003158255,0.002505699,0.004769596,0.00519187,0.003913126,0.037209406,0.04571328,0.047462171,0.046992841,0.050065106000000005,0.050437919,0.000234609,0.000444657,0.000270542,0.000707784,0.001196981,0.000670361,0.000329616,0.000534835,0.00041529,0.000407344,0.000659704,0.000486311,0.002197046,0.0031818559999999994,0.002426346,0.004814603,0.005195698,0.003815128,0.037402009,0.04354555,0.044551741,0.046561333,0.048123965,0.048230938999999994,0.000249936,0.000447163,0.000262029,0.000694253,0.001123294,0.000631252,0.00031382400000000004,0.000500546,0.000401373,0.00038039,0.000615079,0.00046089700000000004,0.002186471,0.003140464,0.002402987,0.004797613,0.005137673,0.003747292,0.037217439,0.043598457,0.044298115,0.046251740000000006,0.047913384,0.047325218999999995,0.00023661400000000004,0.00042788600000000004,0.000251628,0.000666317,0.001098798,0.000563914,0.000296233,0.000491934,0.000362667,0.00035649,0.000604997,0.00048002,0.00216224,0.003196517,0.002350772,0.004678557,0.005198711,0.00360644,0.036486353,0.043640084,0.042753992,0.045240168,0.04752374399999999,0.045785502,0.00023108,0.00042743499999999994,0.000238333,0.000656326,0.001106472,0.000518979,0.000295972,0.000483968,0.000357298,0.000359736,0.000594516,0.000452786,0.002131915,0.00318369,0.002286874,0.004619094,0.00520086,0.003463683,0.038037254,0.042867763,0.043769635,0.045860876,0.046745995,0.045965447,0.000225387,0.000430469,0.00022098400000000002,0.000604521,0.001094821,0.000490162,0.000305061,0.000479299,0.000338293,0.000365633,0.000593389,0.000414901,0.002110914,0.003217391,0.002260597,0.004494291,0.005254685,0.003518816,0.037004732,0.042164609,0.042972716,0.044616138,0.046186615,0.045369554,0.00020594,0.00042579200000000003,0.000220851,0.000566425,0.001074256,0.000480594,0.000287233,0.000472097,0.000335427,0.000347102,0.000583001,0.000400848,0.002067271,0.003283692,0.00225048,0.004320749,0.005313632,0.003459373,0.035321167,0.040928764,0.041206088,0.04242104,0.045251352,0.04404451499999999,0.000203051,0.000434458,0.00023595799999999998,0.000542138,0.001094264,0.00049274,0.000290547,0.000481715,0.000315007,0.000361067,0.000591489,0.000406815,0.002069507,0.003325401,0.002274447,0.004371093,0.005404657,0.003513747,0.037287067,0.041071928,0.04327459,0.043789877,0.045270495,0.045479133,0.000210784,0.000460237,0.0002282,0.000551656,0.001170962,0.000491623,0.000282611,0.000483793,0.000326266,0.0003452,0.000586043,0.000379115,0.002058345,0.003385953,0.002321726,0.004279459,0.005518712,0.0035366719999999994,0.036423624,0.039789495,0.041586487,0.042693155,0.044314521,0.044479321,0.000212871,0.000496565,0.000236151,0.00052373,0.001284122,0.000509081,0.000288739,0.000462895,0.000309253,0.00034309,0.000576609,0.000376527,0.002074102,0.003394117,0.002266273,0.004188545,0.005555828,0.003517408,0.036826162,0.03967029,0.041782212,0.042611952,0.044380065,0.044764028,0.000198932,0.000504863,0.00021189400000000001,0.000520273,0.001291772,0.000472641,0.000285016,0.000447997,0.000298803,0.000349633,0.000558713,0.00035827,0.002064487,0.003351411,0.002319799,0.004141665,0.005541329,0.003579866,0.036205959,0.038850978,0.041584766,0.042093906,0.043877987,0.044736628,0.000199181,0.000491368,0.000236177,0.000515399,0.001225776,0.00052308,0.000273898,0.0004440669999999999,0.000294739,0.000351596,0.000544646,0.000352431,0.002034997,0.003331694,0.002287889,0.004021001,0.005529176,0.003519533,0.035817835,0.037750647,0.039792093,0.041504285,0.04311065,0.043572522,0.000195404,0.000479188,0.000235939,0.00051753,0.001215426,0.000510828,0.00026038,0.00041926500000000005,0.000264594,0.000316352,0.00052134,0.000327394,0.002055316,0.0038620390000000003,0.00250431,0.004135548,0.006608843,0.004003903,0.03841611,0.043390668,0.044353883,0.045489881,0.050164201,0.049948417,0.000188311,0.00057113,0.00021940399999999997,0.00049815,0.001485587,0.00047936600000000006,0.0003240770180994269,0.0005272119326034592,0.00037805900891657476,0.00040741174468041785,0.0006544387543768007,0.0004638621282834838,0.002131961770515448,0.0032548029887896875,0.0024308172654532423,0.0046516117922037895,0.005354996595874576,0.003821657937391418,0.0374282106820882,0.043936326219876295,0.04561548655992232,0.04597530445778638,0.04888570831840835,0.04935910041804256,0.0002526622313797314,0.00046937594391120464,0.00025841923838424726,0.00070622378522833,0.0012168967990719584,0.000609197429403359,0.033019344811084164,0.035647660324191525,0.040108724363287294,0.035426617825318134,0.034353963584150424,0.0396979848030979,0.034237840331068414,0.034998341404512204,0.039909968559517]},\"name\":\"\",\"parents\":[\"France/Female/Children&Teenager (0-14)\",\"The United States of America/Female/Children&Teenager (0-14)\",\"United Kingdom/Female/Children&Teenager (0-14)\",\"France/Male/Children&Teenager (0-14)\",\"The United States of America/Male/Children&Teenager (0-14)\",\"United Kingdom/Male/Children&Teenager (0-14)\",\"France/Female/Middle-Aged (30-64)\",\"The United States of America/Female/Middle-Aged (30-64)\",\"United Kingdom/Female/Middle-Aged (30-64)\",\"France/Male/Middle-Aged (30-64)\",\"The United States of America/Male/Middle-Aged (30-64)\",\"United Kingdom/Male/Middle-Aged (30-64)\",\"France/Female/Older People (65-110+)\",\"The United States of America/Female/Older People (65-110+)\",\"United Kingdom/Female/Older People (65-110+)\",\"France/Male/Older People (65-110+)\",\"The United States of America/Male/Older People (65-110+)\",\"United Kingdom/Male/Older People (65-110+)\",\"France/Female/Young People (15-29)\",\"The United States of America/Female/Young People (15-29)\",\"United Kingdom/Female/Young People (15-29)\",\"France/Male/Young People (15-29)\",\"The United States of America/Male/Young People (15-29)\",\"United Kingdom/Male/Young People (15-29)\",\"France/Female/Children&Teenager (0-14)\",\"The United States of America/Female/Children&Teenager (0-14)\",\"United Kingdom/Female/Children&Teenager (0-14)\",\"France/Male/Children&Teenager (0-14)\",\"The United States of America/Male/Children&Teenager (0-14)\",\"United Kingdom/Male/Children&Teenager (0-14)\",\"France/Female/Middle-Aged (30-64)\",\"The United States of America/Female/Middle-Aged (30-64)\",\"United Kingdom/Female/Middle-Aged (30-64)\",\"France/Male/Middle-Aged (30-64)\",\"The United States of America/Male/Middle-Aged (30-64)\",\"United Kingdom/Male/Middle-Aged (30-64)\",\"France/Female/Older People (65-110+)\",\"The United States of America/Female/Older People (65-110+)\",\"United Kingdom/Female/Older People (65-110+)\",\"France/Male/Older People (65-110+)\",\"The United States of America/Male/Older People (65-110+)\",\"United Kingdom/Male/Older People (65-110+)\",\"France/Female/Young People (15-29)\",\"The United States of America/Female/Young People (15-29)\",\"United Kingdom/Female/Young People (15-29)\",\"France/Male/Young People (15-29)\",\"The United States of America/Male/Young People (15-29)\",\"United Kingdom/Male/Young People (15-29)\",\"France/Female/Children&Teenager (0-14)\",\"The United States of America/Female/Children&Teenager (0-14)\",\"United Kingdom/Female/Children&Teenager (0-14)\",\"France/Male/Children&Teenager (0-14)\",\"The United States of America/Male/Children&Teenager (0-14)\",\"United Kingdom/Male/Children&Teenager (0-14)\",\"France/Female/Middle-Aged (30-64)\",\"The United States of America/Female/Middle-Aged (30-64)\",\"United Kingdom/Female/Middle-Aged (30-64)\",\"France/Male/Middle-Aged (30-64)\",\"The United States of America/Male/Middle-Aged (30-64)\",\"United Kingdom/Male/Middle-Aged (30-64)\",\"France/Female/Older People (65-110+)\",\"The United States of America/Female/Older People (65-110+)\",\"United Kingdom/Female/Older People (65-110+)\",\"France/Male/Older People (65-110+)\",\"The United States of America/Male/Older People (65-110+)\",\"United Kingdom/Male/Older People (65-110+)\",\"France/Female/Young People (15-29)\",\"The United States of America/Female/Young People (15-29)\",\"United Kingdom/Female/Young People (15-29)\",\"France/Male/Young People (15-29)\",\"The United States of America/Male/Young People (15-29)\",\"United Kingdom/Male/Young People (15-29)\",\"France/Female/Children&Teenager (0-14)\",\"The United States of America/Female/Children&Teenager (0-14)\",\"United Kingdom/Female/Children&Teenager (0-14)\",\"France/Male/Children&Teenager (0-14)\",\"The United States of America/Male/Children&Teenager (0-14)\",\"United Kingdom/Male/Children&Teenager (0-14)\",\"France/Female/Middle-Aged (30-64)\",\"The United States of America/Female/Middle-Aged (30-64)\",\"United Kingdom/Female/Middle-Aged (30-64)\",\"France/Male/Middle-Aged (30-64)\",\"The United States of America/Male/Middle-Aged (30-64)\",\"United Kingdom/Male/Middle-Aged (30-64)\",\"France/Female/Older People (65-110+)\",\"The United States of America/Female/Older People (65-110+)\",\"United Kingdom/Female/Older People (65-110+)\",\"France/Male/Older People (65-110+)\",\"The United States of America/Male/Older People (65-110+)\",\"United Kingdom/Male/Older People (65-110+)\",\"France/Female/Young People (15-29)\",\"The United States of America/Female/Young People (15-29)\",\"United Kingdom/Female/Young People (15-29)\",\"France/Male/Young People (15-29)\",\"The United States of America/Male/Young People (15-29)\",\"United Kingdom/Male/Young People (15-29)\",\"France/Female/Children&Teenager (0-14)\",\"The United States of America/Female/Children&Teenager (0-14)\",\"United Kingdom/Female/Children&Teenager (0-14)\",\"France/Male/Children&Teenager (0-14)\",\"The United States of America/Male/Children&Teenager (0-14)\",\"United Kingdom/Male/Children&Teenager (0-14)\",\"France/Female/Middle-Aged (30-64)\",\"The United States of America/Female/Middle-Aged (30-64)\",\"United Kingdom/Female/Middle-Aged (30-64)\",\"France/Male/Middle-Aged (30-64)\",\"The United States of America/Male/Middle-Aged (30-64)\",\"United Kingdom/Male/Middle-Aged (30-64)\",\"France/Female/Older People (65-110+)\",\"The United States of America/Female/Older People (65-110+)\",\"United Kingdom/Female/Older People (65-110+)\",\"France/Male/Older People (65-110+)\",\"The United States of America/Male/Older People (65-110+)\",\"United Kingdom/Male/Older People (65-110+)\",\"France/Female/Young People (15-29)\",\"The United States of America/Female/Young People (15-29)\",\"United Kingdom/Female/Young People (15-29)\",\"France/Male/Young People (15-29)\",\"The United States of America/Male/Young People (15-29)\",\"United Kingdom/Male/Young People (15-29)\",\"France/Female/Children&Teenager (0-14)\",\"The United States of America/Female/Children&Teenager (0-14)\",\"United Kingdom/Female/Children&Teenager (0-14)\",\"France/Male/Children&Teenager (0-14)\",\"The United States of America/Male/Children&Teenager (0-14)\",\"United Kingdom/Male/Children&Teenager (0-14)\",\"France/Female/Middle-Aged (30-64)\",\"The United States of America/Female/Middle-Aged (30-64)\",\"United Kingdom/Female/Middle-Aged (30-64)\",\"France/Male/Middle-Aged (30-64)\",\"The United States of America/Male/Middle-Aged (30-64)\",\"United Kingdom/Male/Middle-Aged (30-64)\",\"France/Female/Older People (65-110+)\",\"The United States of America/Female/Older People (65-110+)\",\"United Kingdom/Female/Older People (65-110+)\",\"France/Male/Older People (65-110+)\",\"The United States of America/Male/Older People (65-110+)\",\"United Kingdom/Male/Older People (65-110+)\",\"France/Female/Young People (15-29)\",\"The United States of America/Female/Young People (15-29)\",\"United Kingdom/Female/Young People (15-29)\",\"France/Male/Young People (15-29)\",\"The United States of America/Male/Young People (15-29)\",\"United Kingdom/Male/Young People (15-29)\",\"France/Female/Children&Teenager (0-14)\",\"The United States of America/Female/Children&Teenager (0-14)\",\"United Kingdom/Female/Children&Teenager (0-14)\",\"France/Male/Children&Teenager (0-14)\",\"The United States of America/Male/Children&Teenager (0-14)\",\"United Kingdom/Male/Children&Teenager (0-14)\",\"France/Female/Middle-Aged (30-64)\",\"The United States of America/Female/Middle-Aged (30-64)\",\"United Kingdom/Female/Middle-Aged (30-64)\",\"France/Male/Middle-Aged (30-64)\",\"The United States of America/Male/Middle-Aged (30-64)\",\"United Kingdom/Male/Middle-Aged (30-64)\",\"France/Female/Older People (65-110+)\",\"The United States of America/Female/Older People (65-110+)\",\"United Kingdom/Female/Older People (65-110+)\",\"France/Male/Older People (65-110+)\",\"The United States of America/Male/Older People (65-110+)\",\"United Kingdom/Male/Older People (65-110+)\",\"France/Female/Young People (15-29)\",\"The United States of America/Female/Young People (15-29)\",\"United Kingdom/Female/Young People (15-29)\",\"France/Male/Young People (15-29)\",\"The United States of America/Male/Young People (15-29)\",\"United Kingdom/Male/Young People (15-29)\",\"France/Female/Children&Teenager (0-14)\",\"The United States of America/Female/Children&Teenager (0-14)\",\"United Kingdom/Female/Children&Teenager (0-14)\",\"France/Male/Children&Teenager (0-14)\",\"The United States of America/Male/Children&Teenager (0-14)\",\"United Kingdom/Male/Children&Teenager (0-14)\",\"France/Female/Middle-Aged (30-64)\",\"The United States of America/Female/Middle-Aged (30-64)\",\"United Kingdom/Female/Middle-Aged (30-64)\",\"France/Male/Middle-Aged (30-64)\",\"The United States of America/Male/Middle-Aged (30-64)\",\"United Kingdom/Male/Middle-Aged (30-64)\",\"France/Female/Older People (65-110+)\",\"The United States of America/Female/Older People (65-110+)\",\"United Kingdom/Female/Older People (65-110+)\",\"France/Male/Older People (65-110+)\",\"The United States of America/Male/Older People (65-110+)\",\"United Kingdom/Male/Older People (65-110+)\",\"France/Female/Young People (15-29)\",\"The United States of America/Female/Young People (15-29)\",\"United Kingdom/Female/Young People (15-29)\",\"France/Male/Young People (15-29)\",\"The United States of America/Male/Young People (15-29)\",\"United Kingdom/Male/Young People (15-29)\",\"France/Female/Children&Teenager (0-14)\",\"The United States of America/Female/Children&Teenager (0-14)\",\"United Kingdom/Female/Children&Teenager (0-14)\",\"France/Male/Children&Teenager (0-14)\",\"The United States of America/Male/Children&Teenager (0-14)\",\"United Kingdom/Male/Children&Teenager (0-14)\",\"France/Female/Middle-Aged (30-64)\",\"The United States of America/Female/Middle-Aged (30-64)\",\"United Kingdom/Female/Middle-Aged (30-64)\",\"France/Male/Middle-Aged (30-64)\",\"The United States of America/Male/Middle-Aged (30-64)\",\"United Kingdom/Male/Middle-Aged (30-64)\",\"France/Female/Older People (65-110+)\",\"The United States of America/Female/Older People (65-110+)\",\"United Kingdom/Female/Older People (65-110+)\",\"France/Male/Older People (65-110+)\",\"The United States of America/Male/Older People (65-110+)\",\"United Kingdom/Male/Older People (65-110+)\",\"France/Female/Young People (15-29)\",\"The United States of America/Female/Young People (15-29)\",\"United Kingdom/Female/Young People (15-29)\",\"France/Male/Young People (15-29)\",\"The United States of America/Male/Young People (15-29)\",\"United Kingdom/Male/Young People (15-29)\",\"France/Female/Children&Teenager (0-14)\",\"The United States of America/Female/Children&Teenager (0-14)\",\"United Kingdom/Female/Children&Teenager (0-14)\",\"France/Male/Children&Teenager (0-14)\",\"The United States of America/Male/Children&Teenager (0-14)\",\"United Kingdom/Male/Children&Teenager (0-14)\",\"France/Female/Middle-Aged (30-64)\",\"The United States of America/Female/Middle-Aged (30-64)\",\"United Kingdom/Female/Middle-Aged (30-64)\",\"France/Male/Middle-Aged (30-64)\",\"The United States of America/Male/Middle-Aged (30-64)\",\"United Kingdom/Male/Middle-Aged (30-64)\",\"France/Female/Older People (65-110+)\",\"The United States of America/Female/Older People (65-110+)\",\"United Kingdom/Female/Older People (65-110+)\",\"France/Male/Older People (65-110+)\",\"The United States of America/Male/Older People (65-110+)\",\"United Kingdom/Male/Older People (65-110+)\",\"France/Female/Young People (15-29)\",\"The United States of America/Female/Young People (15-29)\",\"United Kingdom/Female/Young People (15-29)\",\"France/Male/Young People (15-29)\",\"The United States of America/Male/Young People (15-29)\",\"United Kingdom/Male/Young People (15-29)\",\"France/Female/Children&Teenager (0-14)\",\"The United States of America/Female/Children&Teenager (0-14)\",\"United Kingdom/Female/Children&Teenager (0-14)\",\"France/Male/Children&Teenager (0-14)\",\"The United States of America/Male/Children&Teenager (0-14)\",\"United Kingdom/Male/Children&Teenager (0-14)\",\"France/Female/Middle-Aged (30-64)\",\"The United States of America/Female/Middle-Aged (30-64)\",\"United Kingdom/Female/Middle-Aged (30-64)\",\"France/Male/Middle-Aged (30-64)\",\"The United States of America/Male/Middle-Aged (30-64)\",\"United Kingdom/Male/Middle-Aged (30-64)\",\"France/Female/Older People (65-110+)\",\"The United States of America/Female/Older People (65-110+)\",\"United Kingdom/Female/Older People (65-110+)\",\"France/Male/Older People (65-110+)\",\"The United States of America/Male/Older People (65-110+)\",\"United Kingdom/Male/Older People (65-110+)\",\"France/Female/Young People (15-29)\",\"The United States of America/Female/Young People (15-29)\",\"United Kingdom/Female/Young People (15-29)\",\"France/Male/Young People (15-29)\",\"The United States of America/Male/Young People (15-29)\",\"United Kingdom/Male/Young People (15-29)\",\"France/Female/Children&Teenager (0-14)\",\"The United States of America/Female/Children&Teenager (0-14)\",\"United Kingdom/Female/Children&Teenager (0-14)\",\"France/Male/Children&Teenager (0-14)\",\"The United States of America/Male/Children&Teenager (0-14)\",\"United Kingdom/Male/Children&Teenager (0-14)\",\"France/Female/Middle-Aged (30-64)\",\"The United States of America/Female/Middle-Aged (30-64)\",\"United Kingdom/Female/Middle-Aged (30-64)\",\"France/Male/Middle-Aged (30-64)\",\"The United States of America/Male/Middle-Aged (30-64)\",\"United Kingdom/Male/Middle-Aged (30-64)\",\"France/Female/Older People (65-110+)\",\"The United States of America/Female/Older People (65-110+)\",\"United Kingdom/Female/Older People (65-110+)\",\"France/Male/Older People (65-110+)\",\"The United States of America/Male/Older People (65-110+)\",\"United Kingdom/Male/Older People (65-110+)\",\"France/Female/Young People (15-29)\",\"The United States of America/Female/Young People (15-29)\",\"United Kingdom/Female/Young People (15-29)\",\"France/Male/Young People (15-29)\",\"The United States of America/Male/Young People (15-29)\",\"United Kingdom/Male/Young People (15-29)\",\"France/Female/Children&Teenager (0-14)\",\"The United States of America/Female/Children&Teenager (0-14)\",\"United Kingdom/Female/Children&Teenager (0-14)\",\"France/Male/Children&Teenager (0-14)\",\"The United States of America/Male/Children&Teenager (0-14)\",\"United Kingdom/Male/Children&Teenager (0-14)\",\"France/Female/Middle-Aged (30-64)\",\"The United States of America/Female/Middle-Aged (30-64)\",\"United Kingdom/Female/Middle-Aged (30-64)\",\"France/Male/Middle-Aged (30-64)\",\"The United States of America/Male/Middle-Aged (30-64)\",\"United Kingdom/Male/Middle-Aged (30-64)\",\"France/Female/Older People (65-110+)\",\"The United States of America/Female/Older People (65-110+)\",\"United Kingdom/Female/Older People (65-110+)\",\"France/Male/Older People (65-110+)\",\"The United States of America/Male/Older People (65-110+)\",\"United Kingdom/Male/Older People (65-110+)\",\"France/Female/Young People (15-29)\",\"The United States of America/Female/Young People (15-29)\",\"United Kingdom/Female/Young People (15-29)\",\"France/Male/Young People (15-29)\",\"The United States of America/Male/Young People (15-29)\",\"United Kingdom/Male/Young People (15-29)\",\"France/Female/Children&Teenager (0-14)\",\"The United States of America/Female/Children&Teenager (0-14)\",\"United Kingdom/Female/Children&Teenager (0-14)\",\"France/Male/Children&Teenager (0-14)\",\"The United States of America/Male/Children&Teenager (0-14)\",\"United Kingdom/Male/Children&Teenager (0-14)\",\"France/Female/Middle-Aged (30-64)\",\"The United States of America/Female/Middle-Aged (30-64)\",\"United Kingdom/Female/Middle-Aged (30-64)\",\"France/Male/Middle-Aged (30-64)\",\"The United States of America/Male/Middle-Aged (30-64)\",\"United Kingdom/Male/Middle-Aged (30-64)\",\"France/Female/Older People (65-110+)\",\"The United States of America/Female/Older People (65-110+)\",\"United Kingdom/Female/Older People (65-110+)\",\"France/Male/Older People (65-110+)\",\"The United States of America/Male/Older People (65-110+)\",\"United Kingdom/Male/Older People (65-110+)\",\"France/Female/Young People (15-29)\",\"The United States of America/Female/Young People (15-29)\",\"United Kingdom/Female/Young People (15-29)\",\"France/Male/Young People (15-29)\",\"The United States of America/Male/Young People (15-29)\",\"United Kingdom/Male/Young People (15-29)\",\"France/Female/Children&Teenager (0-14)\",\"The United States of America/Female/Children&Teenager (0-14)\",\"United Kingdom/Female/Children&Teenager (0-14)\",\"France/Male/Children&Teenager (0-14)\",\"The United States of America/Male/Children&Teenager (0-14)\",\"United Kingdom/Male/Children&Teenager (0-14)\",\"France/Female/Middle-Aged (30-64)\",\"The United States of America/Female/Middle-Aged (30-64)\",\"United Kingdom/Female/Middle-Aged (30-64)\",\"France/Male/Middle-Aged (30-64)\",\"The United States of America/Male/Middle-Aged (30-64)\",\"United Kingdom/Male/Middle-Aged (30-64)\",\"France/Female/Older People (65-110+)\",\"The United States of America/Female/Older People (65-110+)\",\"United Kingdom/Female/Older People (65-110+)\",\"France/Male/Older People (65-110+)\",\"The United States of America/Male/Older People (65-110+)\",\"United Kingdom/Male/Older People (65-110+)\",\"France/Female/Young People (15-29)\",\"The United States of America/Female/Young People (15-29)\",\"United Kingdom/Female/Young People (15-29)\",\"France/Male/Young People (15-29)\",\"The United States of America/Male/Young People (15-29)\",\"United Kingdom/Male/Young People (15-29)\",\"France/Female/Children&Teenager (0-14)\",\"The United States of America/Female/Children&Teenager (0-14)\",\"United Kingdom/Female/Children&Teenager (0-14)\",\"France/Male/Children&Teenager (0-14)\",\"The United States of America/Male/Children&Teenager (0-14)\",\"United Kingdom/Male/Children&Teenager (0-14)\",\"France/Female/Middle-Aged (30-64)\",\"The United States of America/Female/Middle-Aged (30-64)\",\"United Kingdom/Female/Middle-Aged (30-64)\",\"France/Male/Middle-Aged (30-64)\",\"The United States of America/Male/Middle-Aged (30-64)\",\"United Kingdom/Male/Middle-Aged (30-64)\",\"France/Female/Older People (65-110+)\",\"The United States of America/Female/Older People (65-110+)\",\"United Kingdom/Female/Older People (65-110+)\",\"France/Male/Older People (65-110+)\",\"The United States of America/Male/Older People (65-110+)\",\"United Kingdom/Male/Older People (65-110+)\",\"France/Female/Young People (15-29)\",\"The United States of America/Female/Young People (15-29)\",\"United Kingdom/Female/Young People (15-29)\",\"France/Male/Young People (15-29)\",\"The United States of America/Male/Young People (15-29)\",\"United Kingdom/Male/Young People (15-29)\",\"France/Female/Children&Teenager (0-14)\",\"The United States of America/Female/Children&Teenager (0-14)\",\"United Kingdom/Female/Children&Teenager (0-14)\",\"France/Male/Children&Teenager (0-14)\",\"The United States of America/Male/Children&Teenager (0-14)\",\"United Kingdom/Male/Children&Teenager (0-14)\",\"France/Female/Middle-Aged (30-64)\",\"The United States of America/Female/Middle-Aged (30-64)\",\"United Kingdom/Female/Middle-Aged (30-64)\",\"France/Male/Middle-Aged (30-64)\",\"The United States of America/Male/Middle-Aged (30-64)\",\"United Kingdom/Male/Middle-Aged (30-64)\",\"France/Female/Older People (65-110+)\",\"The United States of America/Female/Older People (65-110+)\",\"United Kingdom/Female/Older People (65-110+)\",\"France/Male/Older People (65-110+)\",\"The United States of America/Male/Older People (65-110+)\",\"United Kingdom/Male/Older People (65-110+)\",\"France/Female/Young People (15-29)\",\"The United States of America/Female/Young People (15-29)\",\"United Kingdom/Female/Young People (15-29)\",\"France/Male/Young People (15-29)\",\"The United States of America/Male/Young People (15-29)\",\"United Kingdom/Male/Young People (15-29)\",\"France/Female/Children&Teenager (0-14)\",\"The United States of America/Female/Children&Teenager (0-14)\",\"United Kingdom/Female/Children&Teenager (0-14)\",\"France/Male/Children&Teenager (0-14)\",\"The United States of America/Male/Children&Teenager (0-14)\",\"United Kingdom/Male/Children&Teenager (0-14)\",\"France/Female/Middle-Aged (30-64)\",\"The United States of America/Female/Middle-Aged (30-64)\",\"United Kingdom/Female/Middle-Aged (30-64)\",\"France/Male/Middle-Aged (30-64)\",\"The United States of America/Male/Middle-Aged (30-64)\",\"United Kingdom/Male/Middle-Aged (30-64)\",\"France/Female/Older People (65-110+)\",\"The United States of America/Female/Older People (65-110+)\",\"United Kingdom/Female/Older People (65-110+)\",\"France/Male/Older People (65-110+)\",\"The United States of America/Male/Older People (65-110+)\",\"United Kingdom/Male/Older People (65-110+)\",\"France/Female/Young People (15-29)\",\"The United States of America/Female/Young People (15-29)\",\"United Kingdom/Female/Young People (15-29)\",\"France/Male/Young People (15-29)\",\"The United States of America/Male/Young People (15-29)\",\"United Kingdom/Male/Young People (15-29)\",\"France/Female/Children&Teenager (0-14)\",\"The United States of America/Female/Children&Teenager (0-14)\",\"United Kingdom/Female/Children&Teenager (0-14)\",\"France/Male/Children&Teenager (0-14)\",\"The United States of America/Male/Children&Teenager (0-14)\",\"United Kingdom/Male/Children&Teenager (0-14)\",\"France/Female/Middle-Aged (30-64)\",\"The United States of America/Female/Middle-Aged (30-64)\",\"United Kingdom/Female/Middle-Aged (30-64)\",\"France/Male/Middle-Aged (30-64)\",\"The United States of America/Male/Middle-Aged (30-64)\",\"United Kingdom/Male/Middle-Aged (30-64)\",\"France/Female/Older People (65-110+)\",\"The United States of America/Female/Older People (65-110+)\",\"United Kingdom/Female/Older People (65-110+)\",\"France/Male/Older People (65-110+)\",\"The United States of America/Male/Older People (65-110+)\",\"United Kingdom/Male/Older People (65-110+)\",\"France/Female/Young People (15-29)\",\"The United States of America/Female/Young People (15-29)\",\"United Kingdom/Female/Young People (15-29)\",\"France/Male/Young People (15-29)\",\"The United States of America/Male/Young People (15-29)\",\"United Kingdom/Male/Young People (15-29)\",\"France/Female/Children&Teenager (0-14)\",\"The United States of America/Female/Children&Teenager (0-14)\",\"United Kingdom/Female/Children&Teenager (0-14)\",\"France/Male/Children&Teenager (0-14)\",\"The United States of America/Male/Children&Teenager (0-14)\",\"United Kingdom/Male/Children&Teenager (0-14)\",\"France/Female/Middle-Aged (30-64)\",\"The United States of America/Female/Middle-Aged (30-64)\",\"United Kingdom/Female/Middle-Aged (30-64)\",\"France/Male/Middle-Aged (30-64)\",\"The United States of America/Male/Middle-Aged (30-64)\",\"United Kingdom/Male/Middle-Aged (30-64)\",\"France/Female/Older People (65-110+)\",\"The United States of America/Female/Older People (65-110+)\",\"United Kingdom/Female/Older People (65-110+)\",\"France/Male/Older People (65-110+)\",\"The United States of America/Male/Older People (65-110+)\",\"United Kingdom/Male/Older People (65-110+)\",\"France/Female/Young People (15-29)\",\"The United States of America/Female/Young People (15-29)\",\"United Kingdom/Female/Young People (15-29)\",\"France/Male/Young People (15-29)\",\"The United States of America/Male/Young People (15-29)\",\"United Kingdom/Male/Young People (15-29)\",\"France/Female/Children&Teenager (0-14)\",\"The United States of America/Female/Children&Teenager (0-14)\",\"United Kingdom/Female/Children&Teenager (0-14)\",\"France/Male/Children&Teenager (0-14)\",\"The United States of America/Male/Children&Teenager (0-14)\",\"United Kingdom/Male/Children&Teenager (0-14)\",\"France/Female/Middle-Aged (30-64)\",\"The United States of America/Female/Middle-Aged (30-64)\",\"United Kingdom/Female/Middle-Aged (30-64)\",\"France/Male/Middle-Aged (30-64)\",\"The United States of America/Male/Middle-Aged (30-64)\",\"United Kingdom/Male/Middle-Aged (30-64)\",\"France/Female/Older People (65-110+)\",\"The United States of America/Female/Older People (65-110+)\",\"United Kingdom/Female/Older People (65-110+)\",\"France/Male/Older People (65-110+)\",\"The United States of America/Male/Older People (65-110+)\",\"United Kingdom/Male/Older People (65-110+)\",\"France/Female/Young People (15-29)\",\"The United States of America/Female/Young People (15-29)\",\"United Kingdom/Female/Young People (15-29)\",\"France/Male/Young People (15-29)\",\"The United States of America/Male/Young People (15-29)\",\"United Kingdom/Male/Young People (15-29)\",\"France/Female\",\"The United States of America/Female\",\"United Kingdom/Female\",\"France/Male\",\"The United States of America/Male\",\"United Kingdom/Male\",\"France/Female\",\"The United States of America/Female\",\"United Kingdom/Female\",\"France/Male\",\"The United States of America/Male\",\"United Kingdom/Male\",\"France/Female\",\"The United States of America/Female\",\"United Kingdom/Female\",\"France/Male\",\"The United States of America/Male\",\"United Kingdom/Male\",\"France/Female\",\"The United States of America/Female\",\"United Kingdom/Female\",\"France/Male\",\"The United States of America/Male\",\"United Kingdom/Male\",\"France\",\"The United States of America\",\"United Kingdom\",\"France\",\"The United States of America\",\"United Kingdom\",\"\",\"\",\"\"],\"values\":[2183.0,17494.0,2328.0,3034.0,22954.56,3079.0,29446.0,197467.78,36711.14,67359.0,316382.08,57552.0,225295.0,997510.55,277406.85,196036.0,802542.59,225070.0,1897.0,13300.72,1735.0,5614.0,35698.73,4485.0,2224.0,17226.25,2334.0,3016.0,22556.23,2942.0,29753.0,203647.84,36296.0,67773.0,323820.76,57210.0,224833.0,998635.9,275211.0,195843.0,800065.74,222309.0,1989.0,13493.97,1670.0,5642.0,36978.22,4296.0,2079.0,17323.02,2135.01,2725.0,22724.34,2944.01,30053.0,207820.14,36269.14,67911.0,332540.17,57250.24,228125.0,1005342.99,278344.85,197017.0,806618.63,223387.74,1880.0,13636.82,1632.0,5354.0,37380.8,4253.02,1987.0,17066.0,2366.0,2726.0,22885.13,2883.01,30659.0,212678.15,36410.09,68734.0,339210.91,57189.52,239002.0,1002472.07,282178.86,202727.0,802149.52,224539.5,1667.0,14107.81,1629.01,4837.0,37718.44,3992.01,1891.0,17198.03,2191.0,2533.0,22372.13,2834.0,30220.0,212189.41,35365.0,65669.0,337748.75,55388.0,212643.0,972506.75,266043.0,190361.0,783394.34,215864.0,1588.0,14052.85,1643.0,4524.0,38152.76,3754.0,1777.0,17171.76,2179.0,2375.0,22643.64,2904.0,30331.0,217728.13,35466.0,66791.0,348315.23,55024.0,223222.01,991385.57,266608.01,196967.0,796964.68,215214.0,1569.0,14056.56,1607.0,4501.0,39752.42,3661.0,1820.0,17161.67,2313.0,2471.0,22147.15,2918.0,30905.0,220222.66,35691.0,67084.0,351368.95,56029.0,216367.99,972401.11,258385.0,192069.01,787166.98,211178.0,1516.0,14536.55,1634.0,4183.0,41258.88,4076.0,1742.0,17480.59,2242.0,2401.0,22526.82,2962.0,31018.0,220189.24,35864.0,67228.0,352911.99,55575.0,218593.03,967584.6,260124.0,194332.99,788102.17,212285.0,1457.0,14489.54,1567.0,4244.0,40427.04,4068.0,1852.0,16794.56,2237.0,2314.0,21641.77,2871.0,31801.0,223684.05,36179.0,67358.0,356948.18,55375.0,225410.01,991352.78,262888.0,197839.0,808576.73,214369.0,1371.0,13955.53,1648.0,4186.0,39030.24,4130.0,1844.0,15948.06,2221.0,2390.0,20568.97,2729.0,32220.0,227299.52,35180.0,68317.0,360196.05,54263.0,228678.0,962390.54,249798.0,199115.0,799724.62,209887.0,1457.0,14145.91,1614.0,4095.0,36889.35,3925.0,1769.0,14965.43,2158.0,2247.0,19219.33,2600.0,32232.0,226534.13,35029.0,68401.0,359534.08,53592.0,229679.01,980907.91,251976.0,200852.0,817453.04,211226.0,1374.0,13595.45,1558.0,3915.0,36225.52,3527.0,1679.0,14722.34,1962.0,2118.0,18913.47,2724.0,32097.0,232678.27,34473.0,67137.0,366985.13,51854.0,227217.01,999453.97,246824.0,199385.0,832462.48,209635.0,1332.0,13625.35,1482.0,3830.0,36616.85,3278.0,1688.0,14477.48,1947.0,2149.0,18571.44,2588.0,31702.0,232915.65,33621.0,66307.0,368952.0,49867.0,243080.99,1008396.33,258733.01,209513.99,849789.69,217777.0,1288.0,13767.52,1376.0,3498.0,36408.84,3115.0,1749.0,14329.33,1859.0,2198.0,18520.34,2392.0,31395.0,236009.76,33252.0,64486.0,373855.21,50624.0,242668.0,1026964.45,260805.02,211484.02,877769.85,223101.01,1169.0,13655.42,1371.0,3259.0,35888.62,3054.0,1652.0,14109.55,1859.0,2092.0,18187.48,2331.0,30712.0,241640.86,33200.0,61854.0,379387.42,49884.0,237829.99,1028443.96,255366.0,208591.0,893927.06,223106.0,1152.0,13982.58,1461.0,3120.0,36738.04,3134.0,1675.0,14390.42,1763.0,2178.0,18443.29,2389.0,30706.0,245546.87,33722.0,62382.0,387485.8,50917.0,257574.99,1064416.14,273178.97,222891.0,927953.26,236267.01,1193.0,14872.49,1411.0,3170.0,39521.75,3134.0,1621.0,14445.38,1847.0,2072.0,18265.27,2253.0,30483.0,250889.45,34640.0,60842.0,397467.55,51604.0,257676.01,1062576.62,266262.01,224168.99,940970.19,235892.99,1203.0,16104.47,1456.0,3007.0,43529.01,3251.0,1649.0,13817.32,1771.0,2049.0,17970.16,2265.0,30694.0,252200.95,34033.0,59439.0,401721.91,51652.0,265924.99,1091960.2,271226.98,229752.99,975528.18,241914.01,1118.0,16413.44,1298.0,2979.0,43890.77,3012.0,1622.0,13355.28,1728.0,2080.0,17394.29,2177.0,30553.0,249532.31,35067.0,58689.0,401945.05,52865.0,266689.0,1101869.89,273410.99,232849.01,997489.52,246014.01,1117.0,15978.4,1435.0,2953.0,41640.13,3317.0,1549.0,13194.36,1715.0,2082.0,16902.18,2156.0,30153.0,248415.93,34796.0,57004.0,402145.07,52259.0,269213.01,1103852.17,265193.01,235339.01,1013580.79,243937.0,1094.0,15552.5,1424.0,2974.0,41194.89,3227.0,1463.0,12490.22,1543.0,1861.0,16248.76,2009.0,30440.0,289233.63,38289.0,58562.0,487771.79,59783.0,294337.01,1293649.63,299547.98,264014.99,1215822.25,284117.01,1053.0,18471.42,1317.0,2868.0,50041.26,3023.0,37515.0,325161.05,42698.01,49111.0,421656.75,54950.020000000004,647573.0,4848524.73,739553.37,1359327.0,7746694.08,1135756.76,5034059.05,21624074.13,5599511.54,4401149.0,18318052.31,4747090.28,29484.0,305795.3,31968.01,82753.0,824982.56,75712.03,5748631.05,27103555.21,6413730.93,5892340.0,27311385.7,6013509.09,11640971.05,54414940.91,12427240.02],\"type\":\"sunburst\"}],                        {\"template\":{\"data\":{\"histogram2dcontour\":[{\"type\":\"histogram2dcontour\",\"colorbar\":{\"outlinewidth\":0,\"ticks\":\"\"},\"colorscale\":[[0.0,\"#0d0887\"],[0.1111111111111111,\"#46039f\"],[0.2222222222222222,\"#7201a8\"],[0.3333333333333333,\"#9c179e\"],[0.4444444444444444,\"#bd3786\"],[0.5555555555555556,\"#d8576b\"],[0.6666666666666666,\"#ed7953\"],[0.7777777777777778,\"#fb9f3a\"],[0.8888888888888888,\"#fdca26\"],[1.0,\"#f0f921\"]]}],\"choropleth\":[{\"type\":\"choropleth\",\"colorbar\":{\"outlinewidth\":0,\"ticks\":\"\"}}],\"histogram2d\":[{\"type\":\"histogram2d\",\"colorbar\":{\"outlinewidth\":0,\"ticks\":\"\"},\"colorscale\":[[0.0,\"#0d0887\"],[0.1111111111111111,\"#46039f\"],[0.2222222222222222,\"#7201a8\"],[0.3333333333333333,\"#9c179e\"],[0.4444444444444444,\"#bd3786\"],[0.5555555555555556,\"#d8576b\"],[0.6666666666666666,\"#ed7953\"],[0.7777777777777778,\"#fb9f3a\"],[0.8888888888888888,\"#fdca26\"],[1.0,\"#f0f921\"]]}],\"heatmap\":[{\"type\":\"heatmap\",\"colorbar\":{\"outlinewidth\":0,\"ticks\":\"\"},\"colorscale\":[[0.0,\"#0d0887\"],[0.1111111111111111,\"#46039f\"],[0.2222222222222222,\"#7201a8\"],[0.3333333333333333,\"#9c179e\"],[0.4444444444444444,\"#bd3786\"],[0.5555555555555556,\"#d8576b\"],[0.6666666666666666,\"#ed7953\"],[0.7777777777777778,\"#fb9f3a\"],[0.8888888888888888,\"#fdca26\"],[1.0,\"#f0f921\"]]}],\"heatmapgl\":[{\"type\":\"heatmapgl\",\"colorbar\":{\"outlinewidth\":0,\"ticks\":\"\"},\"colorscale\":[[0.0,\"#0d0887\"],[0.1111111111111111,\"#46039f\"],[0.2222222222222222,\"#7201a8\"],[0.3333333333333333,\"#9c179e\"],[0.4444444444444444,\"#bd3786\"],[0.5555555555555556,\"#d8576b\"],[0.6666666666666666,\"#ed7953\"],[0.7777777777777778,\"#fb9f3a\"],[0.8888888888888888,\"#fdca26\"],[1.0,\"#f0f921\"]]}],\"contourcarpet\":[{\"type\":\"contourcarpet\",\"colorbar\":{\"outlinewidth\":0,\"ticks\":\"\"}}],\"contour\":[{\"type\":\"contour\",\"colorbar\":{\"outlinewidth\":0,\"ticks\":\"\"},\"colorscale\":[[0.0,\"#0d0887\"],[0.1111111111111111,\"#46039f\"],[0.2222222222222222,\"#7201a8\"],[0.3333333333333333,\"#9c179e\"],[0.4444444444444444,\"#bd3786\"],[0.5555555555555556,\"#d8576b\"],[0.6666666666666666,\"#ed7953\"],[0.7777777777777778,\"#fb9f3a\"],[0.8888888888888888,\"#fdca26\"],[1.0,\"#f0f921\"]]}],\"surface\":[{\"type\":\"surface\",\"colorbar\":{\"outlinewidth\":0,\"ticks\":\"\"},\"colorscale\":[[0.0,\"#0d0887\"],[0.1111111111111111,\"#46039f\"],[0.2222222222222222,\"#7201a8\"],[0.3333333333333333,\"#9c179e\"],[0.4444444444444444,\"#bd3786\"],[0.5555555555555556,\"#d8576b\"],[0.6666666666666666,\"#ed7953\"],[0.7777777777777778,\"#fb9f3a\"],[0.8888888888888888,\"#fdca26\"],[1.0,\"#f0f921\"]]}],\"mesh3d\":[{\"type\":\"mesh3d\",\"colorbar\":{\"outlinewidth\":0,\"ticks\":\"\"}}],\"scatter\":[{\"fillpattern\":{\"fillmode\":\"overlay\",\"size\":10,\"solidity\":0.2},\"type\":\"scatter\"}],\"parcoords\":[{\"type\":\"parcoords\",\"line\":{\"colorbar\":{\"outlinewidth\":0,\"ticks\":\"\"}}}],\"scatterpolargl\":[{\"type\":\"scatterpolargl\",\"marker\":{\"colorbar\":{\"outlinewidth\":0,\"ticks\":\"\"}}}],\"bar\":[{\"error_x\":{\"color\":\"#2a3f5f\"},\"error_y\":{\"color\":\"#2a3f5f\"},\"marker\":{\"line\":{\"color\":\"#E5ECF6\",\"width\":0.5},\"pattern\":{\"fillmode\":\"overlay\",\"size\":10,\"solidity\":0.2}},\"type\":\"bar\"}],\"scattergeo\":[{\"type\":\"scattergeo\",\"marker\":{\"colorbar\":{\"outlinewidth\":0,\"ticks\":\"\"}}}],\"scatterpolar\":[{\"type\":\"scatterpolar\",\"marker\":{\"colorbar\":{\"outlinewidth\":0,\"ticks\":\"\"}}}],\"histogram\":[{\"marker\":{\"pattern\":{\"fillmode\":\"overlay\",\"size\":10,\"solidity\":0.2}},\"type\":\"histogram\"}],\"scattergl\":[{\"type\":\"scattergl\",\"marker\":{\"colorbar\":{\"outlinewidth\":0,\"ticks\":\"\"}}}],\"scatter3d\":[{\"type\":\"scatter3d\",\"line\":{\"colorbar\":{\"outlinewidth\":0,\"ticks\":\"\"}},\"marker\":{\"colorbar\":{\"outlinewidth\":0,\"ticks\":\"\"}}}],\"scattermapbox\":[{\"type\":\"scattermapbox\",\"marker\":{\"colorbar\":{\"outlinewidth\":0,\"ticks\":\"\"}}}],\"scatterternary\":[{\"type\":\"scatterternary\",\"marker\":{\"colorbar\":{\"outlinewidth\":0,\"ticks\":\"\"}}}],\"scattercarpet\":[{\"type\":\"scattercarpet\",\"marker\":{\"colorbar\":{\"outlinewidth\":0,\"ticks\":\"\"}}}],\"carpet\":[{\"aaxis\":{\"endlinecolor\":\"#2a3f5f\",\"gridcolor\":\"white\",\"linecolor\":\"white\",\"minorgridcolor\":\"white\",\"startlinecolor\":\"#2a3f5f\"},\"baxis\":{\"endlinecolor\":\"#2a3f5f\",\"gridcolor\":\"white\",\"linecolor\":\"white\",\"minorgridcolor\":\"white\",\"startlinecolor\":\"#2a3f5f\"},\"type\":\"carpet\"}],\"table\":[{\"cells\":{\"fill\":{\"color\":\"#EBF0F8\"},\"line\":{\"color\":\"white\"}},\"header\":{\"fill\":{\"color\":\"#C8D4E3\"},\"line\":{\"color\":\"white\"}},\"type\":\"table\"}],\"barpolar\":[{\"marker\":{\"line\":{\"color\":\"#E5ECF6\",\"width\":0.5},\"pattern\":{\"fillmode\":\"overlay\",\"size\":10,\"solidity\":0.2}},\"type\":\"barpolar\"}],\"pie\":[{\"automargin\":true,\"type\":\"pie\"}]},\"layout\":{\"autotypenumbers\":\"strict\",\"colorway\":[\"#636efa\",\"#EF553B\",\"#00cc96\",\"#ab63fa\",\"#FFA15A\",\"#19d3f3\",\"#FF6692\",\"#B6E880\",\"#FF97FF\",\"#FECB52\"],\"font\":{\"color\":\"#2a3f5f\"},\"hovermode\":\"closest\",\"hoverlabel\":{\"align\":\"left\"},\"paper_bgcolor\":\"white\",\"plot_bgcolor\":\"#E5ECF6\",\"polar\":{\"bgcolor\":\"#E5ECF6\",\"angularaxis\":{\"gridcolor\":\"white\",\"linecolor\":\"white\",\"ticks\":\"\"},\"radialaxis\":{\"gridcolor\":\"white\",\"linecolor\":\"white\",\"ticks\":\"\"}},\"ternary\":{\"bgcolor\":\"#E5ECF6\",\"aaxis\":{\"gridcolor\":\"white\",\"linecolor\":\"white\",\"ticks\":\"\"},\"baxis\":{\"gridcolor\":\"white\",\"linecolor\":\"white\",\"ticks\":\"\"},\"caxis\":{\"gridcolor\":\"white\",\"linecolor\":\"white\",\"ticks\":\"\"}},\"coloraxis\":{\"colorbar\":{\"outlinewidth\":0,\"ticks\":\"\"}},\"colorscale\":{\"sequential\":[[0.0,\"#0d0887\"],[0.1111111111111111,\"#46039f\"],[0.2222222222222222,\"#7201a8\"],[0.3333333333333333,\"#9c179e\"],[0.4444444444444444,\"#bd3786\"],[0.5555555555555556,\"#d8576b\"],[0.6666666666666666,\"#ed7953\"],[0.7777777777777778,\"#fb9f3a\"],[0.8888888888888888,\"#fdca26\"],[1.0,\"#f0f921\"]],\"sequentialminus\":[[0.0,\"#0d0887\"],[0.1111111111111111,\"#46039f\"],[0.2222222222222222,\"#7201a8\"],[0.3333333333333333,\"#9c179e\"],[0.4444444444444444,\"#bd3786\"],[0.5555555555555556,\"#d8576b\"],[0.6666666666666666,\"#ed7953\"],[0.7777777777777778,\"#fb9f3a\"],[0.8888888888888888,\"#fdca26\"],[1.0,\"#f0f921\"]],\"diverging\":[[0,\"#8e0152\"],[0.1,\"#c51b7d\"],[0.2,\"#de77ae\"],[0.3,\"#f1b6da\"],[0.4,\"#fde0ef\"],[0.5,\"#f7f7f7\"],[0.6,\"#e6f5d0\"],[0.7,\"#b8e186\"],[0.8,\"#7fbc41\"],[0.9,\"#4d9221\"],[1,\"#276419\"]]},\"xaxis\":{\"gridcolor\":\"white\",\"linecolor\":\"white\",\"ticks\":\"\",\"title\":{\"standoff\":15},\"zerolinecolor\":\"white\",\"automargin\":true,\"zerolinewidth\":2},\"yaxis\":{\"gridcolor\":\"white\",\"linecolor\":\"white\",\"ticks\":\"\",\"title\":{\"standoff\":15},\"zerolinecolor\":\"white\",\"automargin\":true,\"zerolinewidth\":2},\"scene\":{\"xaxis\":{\"backgroundcolor\":\"#E5ECF6\",\"gridcolor\":\"white\",\"linecolor\":\"white\",\"showbackground\":true,\"ticks\":\"\",\"zerolinecolor\":\"white\",\"gridwidth\":2},\"yaxis\":{\"backgroundcolor\":\"#E5ECF6\",\"gridcolor\":\"white\",\"linecolor\":\"white\",\"showbackground\":true,\"ticks\":\"\",\"zerolinecolor\":\"white\",\"gridwidth\":2},\"zaxis\":{\"backgroundcolor\":\"#E5ECF6\",\"gridcolor\":\"white\",\"linecolor\":\"white\",\"showbackground\":true,\"ticks\":\"\",\"zerolinecolor\":\"white\",\"gridwidth\":2}},\"shapedefaults\":{\"line\":{\"color\":\"#2a3f5f\"}},\"annotationdefaults\":{\"arrowcolor\":\"#2a3f5f\",\"arrowhead\":0,\"arrowwidth\":1},\"geo\":{\"bgcolor\":\"white\",\"landcolor\":\"#E5ECF6\",\"subunitcolor\":\"white\",\"showland\":true,\"showlakes\":true,\"lakecolor\":\"white\"},\"title\":{\"x\":0.05},\"mapbox\":{\"style\":\"light\"}}},\"coloraxis\":{\"colorbar\":{\"title\":{\"text\":\"DeathRate\"}},\"colorscale\":[[0.0,\"rgb(214, 249, 207)\"],[0.09090909090909091,\"rgb(186, 228, 174)\"],[0.18181818181818182,\"rgb(156, 209, 143)\"],[0.2727272727272727,\"rgb(124, 191, 115)\"],[0.36363636363636365,\"rgb(85, 174, 91)\"],[0.45454545454545453,\"rgb(37, 157, 81)\"],[0.5454545454545454,\"rgb(7, 138, 78)\"],[0.6363636363636364,\"rgb(13, 117, 71)\"],[0.7272727272727273,\"rgb(23, 95, 61)\"],[0.8181818181818182,\"rgb(25, 75, 49)\"],[0.9090909090909091,\"rgb(23, 55, 35)\"],[1.0,\"rgb(17, 36, 20)\"]]},\"legend\":{\"tracegroupgap\":0},\"title\":{\"text\":\"Deaths and Death Rates of USA, UK and France from different age groups and gender from 2000 to 2020\"},\"margin\":{\"t\":34,\"b\":30,\"r\":2,\"l\":2}},                        {\"responsive\": true}                    ).then(function(){\n",
       "                            \n",
       "var gd = document.getElementById('9200cd89-1e9b-4577-8a44-75aa4db1338c');\n",
       "var x = new MutationObserver(function (mutations, observer) {{\n",
       "        var display = window.getComputedStyle(gd).display;\n",
       "        if (!display || display === 'none') {{\n",
       "            console.log([gd, 'removed!']);\n",
       "            Plotly.purge(gd);\n",
       "            observer.disconnect();\n",
       "        }}\n",
       "}});\n",
       "\n",
       "// Listen for the removal of the full notebook cells\n",
       "var notebookContainer = gd.closest('#notebook-container');\n",
       "if (notebookContainer) {{\n",
       "    x.observe(notebookContainer, {childList: true});\n",
       "}}\n",
       "\n",
       "// Listen for the clearing of the current output cell\n",
       "var outputEl = gd.closest('.output');\n",
       "if (outputEl) {{\n",
       "    x.observe(outputEl, {childList: true});\n",
       "}}\n",
       "\n",
       "                        })                };                });            </script>        </div>"
      ]
     },
     "metadata": {},
     "output_type": "display_data"
    },
    {
     "data": {
      "application/vnd.plotly.v1+json": {
       "config": {
        "plotlyServerURL": "https://plot.ly"
       },
       "data": [
        {
         "branchvalues": "total",
         "customdata": [
          [
           0.00047850173758865253
          ],
          [
           0.0006810996481219604
          ],
          [
           0.000487169671721842
          ],
          [
           0.0042456815582149685
          ],
          [
           0.0042874288684506025
          ],
          [
           0.0036734816945107073
          ],
          [
           0.045468750412518896
          ],
          [
           0.05247037950654599
          ],
          [
           0.05467374831059799
          ],
          [
           0.0007861219478098788
          ],
          [
           0.0009980607454351017
          ],
          [
           0.0006608234790996784
          ],
          [
           0.00047693936183206107
          ],
          [
           0.0006670196333564424
          ],
          [
           0.00047685747384382113
          ],
          [
           0.004226138163617907
          ],
          [
           0.004322399603378324
          ],
          [
           0.0036097762631702775
          ],
          [
           0.04477573478243351
          ],
          [
           0.05201892984383457
          ],
          [
           0.05367710873551013
          ],
          [
           0.0007940344821124361
          ],
          [
           0.0010267817909642915
          ],
          [
           0.0006342578022125377
          ],
          [
           0.00043455394858451287
          ],
          [
           0.0006700587680146706
          ],
          [
           0.00046713029246390055
          ],
          [
           0.004187486825374627
          ],
          [
           0.004368705750649265
          ],
          [
           0.00357744487371687
          ],
          [
           0.04457388055841108
          ],
          [
           0.05199179303662093
          ],
          [
           0.05375890473832242
          ],
          [
           0.0007577525546032623
          ],
          [
           0.0010303872741456775
          ],
          [
           0.0006271265772214878
          ],
          [
           0.0004278843396987057
          ],
          [
           0.0006691542010666531
          ],
          [
           0.0004795674663793744
          ],
          [
           0.004190291837916151
          ],
          [
           0.00440474179078413
          ],
          [
           0.0035489246778678887
          ],
          [
           0.045645953994267977
          ],
          [
           0.05135675100176191
          ],
          [
           0.05393209676775288
          ],
          [
           0.0006883095865621156
          ],
          [
           0.0010299538523609174
          ],
          [
           0.0005854232013566933
          ],
          [
           0.0004002137108951175
          ],
          [
           0.0006600799123690679
          ],
          [
           0.00046352524676616924
          ],
          [
           0.003963761800780069
          ],
          [
           0.004340342803304884
          ],
          [
           0.003418547344197988
          ],
          [
           0.04147905326662018
          ],
          [
           0.04950808525697562
          ],
          [
           0.051002130107636955
          ],
          [
           0.000644166369764398
          ],
          [
           0.0010294688178843232
          ],
          [
           0.0005455039822123401
          ],
          [
           0.0003749343990847784
          ],
          [
           0.0006657763558763695
          ],
          [
           0.0004718669216997836
          ],
          [
           0.003995525339449352
          ],
          [
           0.004424508504911779
          ],
          [
           0.0033815330588573326
          ],
          [
           0.042557357140335796
          ],
          [
           0.049813010686007166
          ],
          [
           0.05056974214603075
          ],
          [
           0.0006390252779242175
          ],
          [
           0.0010577815014798646
          ],
          [
           0.0005235714235003796
          ],
          [
           0.0003873576998368679
          ],
          [
           0.0006565609430623967
          ],
          [
           0.0004844804171286562
          ],
          [
           0.003983526211084917
          ],
          [
           0.004419006275635502
          ],
          [
           0.0034130065418447445
          ],
          [
           0.04102429997470997
          ],
          [
           0.04840192711737421
          ],
          [
           0.049007371979425556
          ],
          [
           0.0005890934020003509
          ],
          [
           0.001081404155039938
          ],
          [
           0.0005713141082311734
          ],
          [
           0.00037262799734491916
          ],
          [
           0.0006672514362511845
          ],
          [
           0.0004847146306687164
          ],
          [
           0.003956547849622376
          ],
          [
           0.004392483158043423
          ],
          [
           0.003375605393573858
          ],
          [
           0.041252966875690966
          ],
          [
           0.047538478443330895
          ],
          [
           0.04891802739664994
          ],
          [
           0.0005971803341519032
          ],
          [
           0.0010450785858249004
          ],
          [
           0.0005584905130434783
          ],
          [
           0.00036916577004320695
          ],
          [
           0.0006390113297676963
          ],
          [
           0.0004728436344949099
          ],
          [
           0.003939281026946621
          ],
          [
           0.00440843564028361
          ],
          [
           0.0033569591319986022
          ],
          [
           0.04178247044016254
          ],
          [
           0.047668237245302884
          ],
          [
           0.048798784445192006
          ],
          [
           0.0005910442258412813
          ],
          [
           0.0009988319469293359
          ],
          [
           0.0005563247050882658
          ],
          [
           0.00037349174870099204
          ],
          [
           0.0006051700386088353
          ],
          [
           0.00045444480989898986
          ],
          [
           0.003975730877895699
          ],
          [
           0.004416551154763635
          ],
          [
           0.0032688879279988373
          ],
          [
           0.04166518955288422
          ],
          [
           0.04562343416965739
          ],
          [
           0.046231621419474206
          ],
          [
           0.0005776517988112393
          ],
          [
           0.0009358845839568564
          ],
          [
           0.000523664723957393
          ],
          [
           0.00035106847260956174
          ],
          [
           0.0005649386569292866
          ],
          [
           0.00043389977595628416
          ],
          [
           0.003961283675186072
          ],
          [
           0.004365687767695437
          ],
          [
           0.0032159319403640223
          ],
          [
           0.04143213522931924
          ],
          [
           0.045559826431163464
          ],
          [
           0.04567851290308332
          ],
          [
           0.0005546868389109473
          ],
          [
           0.0009157154435905201
          ],
          [
           0.0004682322717797444
          ],
          [
           0.00032984488464577296
          ],
          [
           0.0005555095065393103
          ],
          [
           0.00043088500512163894
          ],
          [
           0.0038646602836628573
          ],
          [
           0.004421830109613193
          ],
          [
           0.0031050135289770295
          ],
          [
           0.04057770597739221
          ],
          [
           0.0454049031515922
          ],
          [
           0.04414625417217756
          ],
          [
           0.0005465957264626114
          ],
          [
           0.0009223216883506296
          ],
          [
           0.0004316014008403361
          ],
          [
           0.0003316844930935627
          ],
          [
           0.0005460891086207961
          ],
          [
           0.000411790380154355
          ],
          [
           0.003814590855819364
          ],
          [
           0.0044202391081635635
          ],
          [
           0.002989776625562955
          ],
          [
           0.04165894300210024
          ],
          [
           0.04464136453050128
          ],
          [
           0.04477317603772972
          ],
          [
           0.0005024891170079399
          ],
          [
           0.0009125343724518875
          ],
          [
           0.00040768840213760855
          ],
          [
           0.000338792253103623
          ],
          [
           0.0005436218863668951
          ],
          [
           0.0003813996422018349
          ],
          [
           0.003713884862026887
          ],
          [
           0.0044662788910388
          ],
          [
           0.0030200046810529833
          ],
          [
           0.040549119491069874
          ],
          [
           0.04401809355336742
          ],
          [
           0.044077759015492865
          ],
          [
           0.0004712563087172538
          ],
          [
           0.0008955251521547295
          ],
          [
           0.0004001176942372881
          ],
          [
           0.0003206854433760684
          ],
          [
           0.0005345505532189802
          ],
          [
           0.0003718223105011933
          ],
          [
           0.003573079052762353
          ],
          [
           0.004523786411408769
          ],
          [
           0.0029763046884117277
          ],
          [
           0.038638595261926034
          ],
          [
           0.04293882259026697
          ],
          [
           0.04252961392055961
          ],
          [
           0.000450698808988764
          ],
          [
           0.0009123697293960522
          ],
          [
           0.0004110950594124048
          ],
          [
           0.00033041010926550745
          ],
          [
           0.000543377045393591
          ],
          [
           0.000367831978805395
          ],
          [
           0.003611892031926779
          ],
          [
           0.0045981349563135035
          ],
          [
           0.003019983196079821
          ],
          [
           0.040303758823931175
          ],
          [
           0.04302742577816223
          ],
          [
           0.044296996306997315
          ],
          [
           0.0004584494228741691
          ],
          [
           0.0009766353496919896
          ],
          [
           0.0004098430543454345
          ],
          [
           0.00031772727619821286
          ],
          [
           0.0005408882841811458
          ],
          [
           0.00035530717000000004
          ],
          [
           0.0035380823992663566
          ],
          [
           0.004693415546822893
          ],
          [
           0.003048687566995965
          ],
          [
           0.03934040103834987
          ],
          [
           0.04191468346763303
          ],
          [
           0.04294542848586325
          ],
          [
           0.0004349025945368171
          ],
          [
           0.001071436305994049
          ],
          [
           0.000424656508816656
          ],
          [
           0.00031885398080043264
          ],
          [
           0.0005271800195812942
          ],
          [
           0.00034700711546085234
          ],
          [
           0.0034684900429698337
          ],
          [
           0.004722112586188882
          ],
          [
           0.003020472976892105
          ],
          [
           0.039507948574445166
          ],
          [
           0.04189256040229339
          ],
          [
           0.04318795248789623
          ],
          [
           0.00043258463339028555
          ],
          [
           0.0010775931946237253
          ],
          [
           0.0003941144092807425
          ],
          [
           0.0003213216077795786
          ],
          [
           0.0005106263704803026
          ],
          [
           0.0003319552814340589
          ],
          [
           0.003430519805652047
          ],
          [
           0.00470253500530066
          ],
          [
           0.0030773553157326114
          ],
          [
           0.038950500160906794
          ],
          [
           0.04123951079269874
          ],
          [
           0.04307757479739446
          ],
          [
           0.00042861386339066343
          ],
          [
           0.0010221146989012042
          ],
          [
           0.00043644157302188556
          ],
          [
           0.00031844970366290285
          ],
          [
           0.0005005520432049663
          ],
          [
           0.000326871253164557
          ],
          [
           0.0033339193127918582
          ],
          [
           0.004690070159520384
          ],
          [
           0.0030272432449715697
          ],
          [
           0.03847017501721864
          ],
          [
           0.04031639343815045
          ],
          [
           0.04160339166804159
          ],
          [
           0.00043090122812192725
          ],
          [
           0.0010136485879463355
          ],
          [
           0.00042666503805633197
          ],
          [
           0.0002917169109506618
          ],
          [
           0.0004769772840476594
          ],
          [
           0.00030011348198198196
          ],
          [
           0.003424077897305679
          ],
          [
           0.005586368675665789
          ],
          [
           0.0034184360331083285
          ],
          [
           0.041760920406029335
          ],
          [
           0.04667239918740396
          ],
          [
           0.047077195687340284
          ],
          [
           0.0004149415156847743
          ],
          [
           0.0012390440342462156
          ],
          [
           0.0004004789138248848
          ],
          [
           0.00037132209183155174
          ],
          [
           0.0005990447788234829
          ],
          [
           0.000426343476358202
          ],
          [
           0.0038385880623244806
          ],
          [
           0.004546527859019105
          ],
          [
           0.00327316151026182
          ],
          [
           0.041415089723279064
          ],
          [
           0.04620618634660938
          ],
          [
           0.047333081695709225
          ],
          [
           0.0005870758317577981
          ],
          [
           0.001014745366641066
          ],
          [
           0.0005050585312539816
          ],
          [
           0.034237840331068414
          ],
          [
           0.034998341404512204
          ],
          [
           0.039909968559517
          ]
         ],
         "domain": {
          "x": [
           0,
           1
          ],
          "y": [
           0,
           1
          ]
         },
         "hovertemplate": "labels=%{label}<br>Deaths=%{value}<br>parent=%{parent}<br>id=%{id}<br>DeathRate=%{color}<extra></extra>",
         "ids": [
          "France/Children&Teenager (0-14)/2000",
          "The United States of America/Children&Teenager (0-14)/2000",
          "United Kingdom/Children&Teenager (0-14)/2000",
          "France/Middle-Aged (30-64)/2000",
          "The United States of America/Middle-Aged (30-64)/2000",
          "United Kingdom/Middle-Aged (30-64)/2000",
          "France/Older People (65-110+)/2000",
          "The United States of America/Older People (65-110+)/2000",
          "United Kingdom/Older People (65-110+)/2000",
          "France/Young People (15-29)/2000",
          "The United States of America/Young People (15-29)/2000",
          "United Kingdom/Young People (15-29)/2000",
          "France/Children&Teenager (0-14)/2001",
          "The United States of America/Children&Teenager (0-14)/2001",
          "United Kingdom/Children&Teenager (0-14)/2001",
          "France/Middle-Aged (30-64)/2001",
          "The United States of America/Middle-Aged (30-64)/2001",
          "United Kingdom/Middle-Aged (30-64)/2001",
          "France/Older People (65-110+)/2001",
          "The United States of America/Older People (65-110+)/2001",
          "United Kingdom/Older People (65-110+)/2001",
          "France/Young People (15-29)/2001",
          "The United States of America/Young People (15-29)/2001",
          "United Kingdom/Young People (15-29)/2001",
          "France/Children&Teenager (0-14)/2002",
          "The United States of America/Children&Teenager (0-14)/2002",
          "United Kingdom/Children&Teenager (0-14)/2002",
          "France/Middle-Aged (30-64)/2002",
          "The United States of America/Middle-Aged (30-64)/2002",
          "United Kingdom/Middle-Aged (30-64)/2002",
          "France/Older People (65-110+)/2002",
          "The United States of America/Older People (65-110+)/2002",
          "United Kingdom/Older People (65-110+)/2002",
          "France/Young People (15-29)/2002",
          "The United States of America/Young People (15-29)/2002",
          "United Kingdom/Young People (15-29)/2002",
          "France/Children&Teenager (0-14)/2003",
          "The United States of America/Children&Teenager (0-14)/2003",
          "United Kingdom/Children&Teenager (0-14)/2003",
          "France/Middle-Aged (30-64)/2003",
          "The United States of America/Middle-Aged (30-64)/2003",
          "United Kingdom/Middle-Aged (30-64)/2003",
          "France/Older People (65-110+)/2003",
          "The United States of America/Older People (65-110+)/2003",
          "United Kingdom/Older People (65-110+)/2003",
          "France/Young People (15-29)/2003",
          "The United States of America/Young People (15-29)/2003",
          "United Kingdom/Young People (15-29)/2003",
          "France/Children&Teenager (0-14)/2004",
          "The United States of America/Children&Teenager (0-14)/2004",
          "United Kingdom/Children&Teenager (0-14)/2004",
          "France/Middle-Aged (30-64)/2004",
          "The United States of America/Middle-Aged (30-64)/2004",
          "United Kingdom/Middle-Aged (30-64)/2004",
          "France/Older People (65-110+)/2004",
          "The United States of America/Older People (65-110+)/2004",
          "United Kingdom/Older People (65-110+)/2004",
          "France/Young People (15-29)/2004",
          "The United States of America/Young People (15-29)/2004",
          "United Kingdom/Young People (15-29)/2004",
          "France/Children&Teenager (0-14)/2005",
          "The United States of America/Children&Teenager (0-14)/2005",
          "United Kingdom/Children&Teenager (0-14)/2005",
          "France/Middle-Aged (30-64)/2005",
          "The United States of America/Middle-Aged (30-64)/2005",
          "United Kingdom/Middle-Aged (30-64)/2005",
          "France/Older People (65-110+)/2005",
          "The United States of America/Older People (65-110+)/2005",
          "United Kingdom/Older People (65-110+)/2005",
          "France/Young People (15-29)/2005",
          "The United States of America/Young People (15-29)/2005",
          "United Kingdom/Young People (15-29)/2005",
          "France/Children&Teenager (0-14)/2006",
          "The United States of America/Children&Teenager (0-14)/2006",
          "United Kingdom/Children&Teenager (0-14)/2006",
          "France/Middle-Aged (30-64)/2006",
          "The United States of America/Middle-Aged (30-64)/2006",
          "United Kingdom/Middle-Aged (30-64)/2006",
          "France/Older People (65-110+)/2006",
          "The United States of America/Older People (65-110+)/2006",
          "United Kingdom/Older People (65-110+)/2006",
          "France/Young People (15-29)/2006",
          "The United States of America/Young People (15-29)/2006",
          "United Kingdom/Young People (15-29)/2006",
          "France/Children&Teenager (0-14)/2007",
          "The United States of America/Children&Teenager (0-14)/2007",
          "United Kingdom/Children&Teenager (0-14)/2007",
          "France/Middle-Aged (30-64)/2007",
          "The United States of America/Middle-Aged (30-64)/2007",
          "United Kingdom/Middle-Aged (30-64)/2007",
          "France/Older People (65-110+)/2007",
          "The United States of America/Older People (65-110+)/2007",
          "United Kingdom/Older People (65-110+)/2007",
          "France/Young People (15-29)/2007",
          "The United States of America/Young People (15-29)/2007",
          "United Kingdom/Young People (15-29)/2007",
          "France/Children&Teenager (0-14)/2008",
          "The United States of America/Children&Teenager (0-14)/2008",
          "United Kingdom/Children&Teenager (0-14)/2008",
          "France/Middle-Aged (30-64)/2008",
          "The United States of America/Middle-Aged (30-64)/2008",
          "United Kingdom/Middle-Aged (30-64)/2008",
          "France/Older People (65-110+)/2008",
          "The United States of America/Older People (65-110+)/2008",
          "United Kingdom/Older People (65-110+)/2008",
          "France/Young People (15-29)/2008",
          "The United States of America/Young People (15-29)/2008",
          "United Kingdom/Young People (15-29)/2008",
          "France/Children&Teenager (0-14)/2009",
          "The United States of America/Children&Teenager (0-14)/2009",
          "United Kingdom/Children&Teenager (0-14)/2009",
          "France/Middle-Aged (30-64)/2009",
          "The United States of America/Middle-Aged (30-64)/2009",
          "United Kingdom/Middle-Aged (30-64)/2009",
          "France/Older People (65-110+)/2009",
          "The United States of America/Older People (65-110+)/2009",
          "United Kingdom/Older People (65-110+)/2009",
          "France/Young People (15-29)/2009",
          "The United States of America/Young People (15-29)/2009",
          "United Kingdom/Young People (15-29)/2009",
          "France/Children&Teenager (0-14)/2010",
          "The United States of America/Children&Teenager (0-14)/2010",
          "United Kingdom/Children&Teenager (0-14)/2010",
          "France/Middle-Aged (30-64)/2010",
          "The United States of America/Middle-Aged (30-64)/2010",
          "United Kingdom/Middle-Aged (30-64)/2010",
          "France/Older People (65-110+)/2010",
          "The United States of America/Older People (65-110+)/2010",
          "United Kingdom/Older People (65-110+)/2010",
          "France/Young People (15-29)/2010",
          "The United States of America/Young People (15-29)/2010",
          "United Kingdom/Young People (15-29)/2010",
          "France/Children&Teenager (0-14)/2011",
          "The United States of America/Children&Teenager (0-14)/2011",
          "United Kingdom/Children&Teenager (0-14)/2011",
          "France/Middle-Aged (30-64)/2011",
          "The United States of America/Middle-Aged (30-64)/2011",
          "United Kingdom/Middle-Aged (30-64)/2011",
          "France/Older People (65-110+)/2011",
          "The United States of America/Older People (65-110+)/2011",
          "United Kingdom/Older People (65-110+)/2011",
          "France/Young People (15-29)/2011",
          "The United States of America/Young People (15-29)/2011",
          "United Kingdom/Young People (15-29)/2011",
          "France/Children&Teenager (0-14)/2012",
          "The United States of America/Children&Teenager (0-14)/2012",
          "United Kingdom/Children&Teenager (0-14)/2012",
          "France/Middle-Aged (30-64)/2012",
          "The United States of America/Middle-Aged (30-64)/2012",
          "United Kingdom/Middle-Aged (30-64)/2012",
          "France/Older People (65-110+)/2012",
          "The United States of America/Older People (65-110+)/2012",
          "United Kingdom/Older People (65-110+)/2012",
          "France/Young People (15-29)/2012",
          "The United States of America/Young People (15-29)/2012",
          "United Kingdom/Young People (15-29)/2012",
          "France/Children&Teenager (0-14)/2013",
          "The United States of America/Children&Teenager (0-14)/2013",
          "United Kingdom/Children&Teenager (0-14)/2013",
          "France/Middle-Aged (30-64)/2013",
          "The United States of America/Middle-Aged (30-64)/2013",
          "United Kingdom/Middle-Aged (30-64)/2013",
          "France/Older People (65-110+)/2013",
          "The United States of America/Older People (65-110+)/2013",
          "United Kingdom/Older People (65-110+)/2013",
          "France/Young People (15-29)/2013",
          "The United States of America/Young People (15-29)/2013",
          "United Kingdom/Young People (15-29)/2013",
          "France/Children&Teenager (0-14)/2014",
          "The United States of America/Children&Teenager (0-14)/2014",
          "United Kingdom/Children&Teenager (0-14)/2014",
          "France/Middle-Aged (30-64)/2014",
          "The United States of America/Middle-Aged (30-64)/2014",
          "United Kingdom/Middle-Aged (30-64)/2014",
          "France/Older People (65-110+)/2014",
          "The United States of America/Older People (65-110+)/2014",
          "United Kingdom/Older People (65-110+)/2014",
          "France/Young People (15-29)/2014",
          "The United States of America/Young People (15-29)/2014",
          "United Kingdom/Young People (15-29)/2014",
          "France/Children&Teenager (0-14)/2015",
          "The United States of America/Children&Teenager (0-14)/2015",
          "United Kingdom/Children&Teenager (0-14)/2015",
          "France/Middle-Aged (30-64)/2015",
          "The United States of America/Middle-Aged (30-64)/2015",
          "United Kingdom/Middle-Aged (30-64)/2015",
          "France/Older People (65-110+)/2015",
          "The United States of America/Older People (65-110+)/2015",
          "United Kingdom/Older People (65-110+)/2015",
          "France/Young People (15-29)/2015",
          "The United States of America/Young People (15-29)/2015",
          "United Kingdom/Young People (15-29)/2015",
          "France/Children&Teenager (0-14)/2016",
          "The United States of America/Children&Teenager (0-14)/2016",
          "United Kingdom/Children&Teenager (0-14)/2016",
          "France/Middle-Aged (30-64)/2016",
          "The United States of America/Middle-Aged (30-64)/2016",
          "United Kingdom/Middle-Aged (30-64)/2016",
          "France/Older People (65-110+)/2016",
          "The United States of America/Older People (65-110+)/2016",
          "United Kingdom/Older People (65-110+)/2016",
          "France/Young People (15-29)/2016",
          "The United States of America/Young People (15-29)/2016",
          "United Kingdom/Young People (15-29)/2016",
          "France/Children&Teenager (0-14)/2017",
          "The United States of America/Children&Teenager (0-14)/2017",
          "United Kingdom/Children&Teenager (0-14)/2017",
          "France/Middle-Aged (30-64)/2017",
          "The United States of America/Middle-Aged (30-64)/2017",
          "United Kingdom/Middle-Aged (30-64)/2017",
          "France/Older People (65-110+)/2017",
          "The United States of America/Older People (65-110+)/2017",
          "United Kingdom/Older People (65-110+)/2017",
          "France/Young People (15-29)/2017",
          "The United States of America/Young People (15-29)/2017",
          "United Kingdom/Young People (15-29)/2017",
          "France/Children&Teenager (0-14)/2018",
          "The United States of America/Children&Teenager (0-14)/2018",
          "United Kingdom/Children&Teenager (0-14)/2018",
          "France/Middle-Aged (30-64)/2018",
          "The United States of America/Middle-Aged (30-64)/2018",
          "United Kingdom/Middle-Aged (30-64)/2018",
          "France/Older People (65-110+)/2018",
          "The United States of America/Older People (65-110+)/2018",
          "United Kingdom/Older People (65-110+)/2018",
          "France/Young People (15-29)/2018",
          "The United States of America/Young People (15-29)/2018",
          "United Kingdom/Young People (15-29)/2018",
          "France/Children&Teenager (0-14)/2019",
          "The United States of America/Children&Teenager (0-14)/2019",
          "United Kingdom/Children&Teenager (0-14)/2019",
          "France/Middle-Aged (30-64)/2019",
          "The United States of America/Middle-Aged (30-64)/2019",
          "United Kingdom/Middle-Aged (30-64)/2019",
          "France/Older People (65-110+)/2019",
          "The United States of America/Older People (65-110+)/2019",
          "United Kingdom/Older People (65-110+)/2019",
          "France/Young People (15-29)/2019",
          "The United States of America/Young People (15-29)/2019",
          "United Kingdom/Young People (15-29)/2019",
          "France/Children&Teenager (0-14)/2020",
          "The United States of America/Children&Teenager (0-14)/2020",
          "United Kingdom/Children&Teenager (0-14)/2020",
          "France/Middle-Aged (30-64)/2020",
          "The United States of America/Middle-Aged (30-64)/2020",
          "United Kingdom/Middle-Aged (30-64)/2020",
          "France/Older People (65-110+)/2020",
          "The United States of America/Older People (65-110+)/2020",
          "United Kingdom/Older People (65-110+)/2020",
          "France/Young People (15-29)/2020",
          "The United States of America/Young People (15-29)/2020",
          "United Kingdom/Young People (15-29)/2020",
          "France/Children&Teenager (0-14)",
          "The United States of America/Children&Teenager (0-14)",
          "United Kingdom/Children&Teenager (0-14)",
          "France/Middle-Aged (30-64)",
          "The United States of America/Middle-Aged (30-64)",
          "United Kingdom/Middle-Aged (30-64)",
          "France/Older People (65-110+)",
          "The United States of America/Older People (65-110+)",
          "United Kingdom/Older People (65-110+)",
          "France/Young People (15-29)",
          "The United States of America/Young People (15-29)",
          "United Kingdom/Young People (15-29)",
          "France",
          "The United States of America",
          "United Kingdom"
         ],
         "labels": [
          "2000",
          "2000",
          "2000",
          "2000",
          "2000",
          "2000",
          "2000",
          "2000",
          "2000",
          "2000",
          "2000",
          "2000",
          "2001",
          "2001",
          "2001",
          "2001",
          "2001",
          "2001",
          "2001",
          "2001",
          "2001",
          "2001",
          "2001",
          "2001",
          "2002",
          "2002",
          "2002",
          "2002",
          "2002",
          "2002",
          "2002",
          "2002",
          "2002",
          "2002",
          "2002",
          "2002",
          "2003",
          "2003",
          "2003",
          "2003",
          "2003",
          "2003",
          "2003",
          "2003",
          "2003",
          "2003",
          "2003",
          "2003",
          "2004",
          "2004",
          "2004",
          "2004",
          "2004",
          "2004",
          "2004",
          "2004",
          "2004",
          "2004",
          "2004",
          "2004",
          "2005",
          "2005",
          "2005",
          "2005",
          "2005",
          "2005",
          "2005",
          "2005",
          "2005",
          "2005",
          "2005",
          "2005",
          "2006",
          "2006",
          "2006",
          "2006",
          "2006",
          "2006",
          "2006",
          "2006",
          "2006",
          "2006",
          "2006",
          "2006",
          "2007",
          "2007",
          "2007",
          "2007",
          "2007",
          "2007",
          "2007",
          "2007",
          "2007",
          "2007",
          "2007",
          "2007",
          "2008",
          "2008",
          "2008",
          "2008",
          "2008",
          "2008",
          "2008",
          "2008",
          "2008",
          "2008",
          "2008",
          "2008",
          "2009",
          "2009",
          "2009",
          "2009",
          "2009",
          "2009",
          "2009",
          "2009",
          "2009",
          "2009",
          "2009",
          "2009",
          "2010",
          "2010",
          "2010",
          "2010",
          "2010",
          "2010",
          "2010",
          "2010",
          "2010",
          "2010",
          "2010",
          "2010",
          "2011",
          "2011",
          "2011",
          "2011",
          "2011",
          "2011",
          "2011",
          "2011",
          "2011",
          "2011",
          "2011",
          "2011",
          "2012",
          "2012",
          "2012",
          "2012",
          "2012",
          "2012",
          "2012",
          "2012",
          "2012",
          "2012",
          "2012",
          "2012",
          "2013",
          "2013",
          "2013",
          "2013",
          "2013",
          "2013",
          "2013",
          "2013",
          "2013",
          "2013",
          "2013",
          "2013",
          "2014",
          "2014",
          "2014",
          "2014",
          "2014",
          "2014",
          "2014",
          "2014",
          "2014",
          "2014",
          "2014",
          "2014",
          "2015",
          "2015",
          "2015",
          "2015",
          "2015",
          "2015",
          "2015",
          "2015",
          "2015",
          "2015",
          "2015",
          "2015",
          "2016",
          "2016",
          "2016",
          "2016",
          "2016",
          "2016",
          "2016",
          "2016",
          "2016",
          "2016",
          "2016",
          "2016",
          "2017",
          "2017",
          "2017",
          "2017",
          "2017",
          "2017",
          "2017",
          "2017",
          "2017",
          "2017",
          "2017",
          "2017",
          "2018",
          "2018",
          "2018",
          "2018",
          "2018",
          "2018",
          "2018",
          "2018",
          "2018",
          "2018",
          "2018",
          "2018",
          "2019",
          "2019",
          "2019",
          "2019",
          "2019",
          "2019",
          "2019",
          "2019",
          "2019",
          "2019",
          "2019",
          "2019",
          "2020",
          "2020",
          "2020",
          "2020",
          "2020",
          "2020",
          "2020",
          "2020",
          "2020",
          "2020",
          "2020",
          "2020",
          "Children&Teenager (0-14)",
          "Children&Teenager (0-14)",
          "Children&Teenager (0-14)",
          "Middle-Aged (30-64)",
          "Middle-Aged (30-64)",
          "Middle-Aged (30-64)",
          "Older People (65-110+)",
          "Older People (65-110+)",
          "Older People (65-110+)",
          "Young People (15-29)",
          "Young People (15-29)",
          "Young People (15-29)",
          "France",
          "The United States of America",
          "United Kingdom"
         ],
         "marker": {
          "coloraxis": "coloraxis",
          "colors": [
           0.00047850173758865253,
           0.0006810996481219604,
           0.000487169671721842,
           0.0042456815582149685,
           0.0042874288684506025,
           0.0036734816945107073,
           0.045468750412518896,
           0.05247037950654599,
           0.05467374831059799,
           0.0007861219478098788,
           0.0009980607454351017,
           0.0006608234790996784,
           0.00047693936183206107,
           0.0006670196333564424,
           0.00047685747384382113,
           0.004226138163617907,
           0.004322399603378324,
           0.0036097762631702775,
           0.04477573478243351,
           0.05201892984383457,
           0.05367710873551013,
           0.0007940344821124361,
           0.0010267817909642915,
           0.0006342578022125377,
           0.00043455394858451287,
           0.0006700587680146706,
           0.00046713029246390055,
           0.004187486825374627,
           0.004368705750649265,
           0.00357744487371687,
           0.04457388055841108,
           0.05199179303662093,
           0.05375890473832242,
           0.0007577525546032623,
           0.0010303872741456775,
           0.0006271265772214878,
           0.0004278843396987057,
           0.0006691542010666531,
           0.0004795674663793744,
           0.004190291837916151,
           0.00440474179078413,
           0.0035489246778678887,
           0.045645953994267977,
           0.05135675100176191,
           0.05393209676775288,
           0.0006883095865621156,
           0.0010299538523609174,
           0.0005854232013566933,
           0.0004002137108951175,
           0.0006600799123690679,
           0.00046352524676616924,
           0.003963761800780069,
           0.004340342803304884,
           0.003418547344197988,
           0.04147905326662018,
           0.04950808525697562,
           0.051002130107636955,
           0.000644166369764398,
           0.0010294688178843232,
           0.0005455039822123401,
           0.0003749343990847784,
           0.0006657763558763695,
           0.0004718669216997836,
           0.003995525339449352,
           0.004424508504911779,
           0.0033815330588573326,
           0.042557357140335796,
           0.049813010686007166,
           0.05056974214603075,
           0.0006390252779242175,
           0.0010577815014798646,
           0.0005235714235003796,
           0.0003873576998368679,
           0.0006565609430623967,
           0.0004844804171286562,
           0.003983526211084917,
           0.004419006275635502,
           0.0034130065418447445,
           0.04102429997470997,
           0.04840192711737421,
           0.049007371979425556,
           0.0005890934020003509,
           0.001081404155039938,
           0.0005713141082311734,
           0.00037262799734491916,
           0.0006672514362511845,
           0.0004847146306687164,
           0.003956547849622376,
           0.004392483158043423,
           0.003375605393573858,
           0.041252966875690966,
           0.047538478443330895,
           0.04891802739664994,
           0.0005971803341519032,
           0.0010450785858249004,
           0.0005584905130434783,
           0.00036916577004320695,
           0.0006390113297676963,
           0.0004728436344949099,
           0.003939281026946621,
           0.00440843564028361,
           0.0033569591319986022,
           0.04178247044016254,
           0.047668237245302884,
           0.048798784445192006,
           0.0005910442258412813,
           0.0009988319469293359,
           0.0005563247050882658,
           0.00037349174870099204,
           0.0006051700386088353,
           0.00045444480989898986,
           0.003975730877895699,
           0.004416551154763635,
           0.0032688879279988373,
           0.04166518955288422,
           0.04562343416965739,
           0.046231621419474206,
           0.0005776517988112393,
           0.0009358845839568564,
           0.000523664723957393,
           0.00035106847260956174,
           0.0005649386569292866,
           0.00043389977595628416,
           0.003961283675186072,
           0.004365687767695437,
           0.0032159319403640223,
           0.04143213522931924,
           0.045559826431163464,
           0.04567851290308332,
           0.0005546868389109473,
           0.0009157154435905201,
           0.0004682322717797444,
           0.00032984488464577296,
           0.0005555095065393103,
           0.00043088500512163894,
           0.0038646602836628573,
           0.004421830109613193,
           0.0031050135289770295,
           0.04057770597739221,
           0.0454049031515922,
           0.04414625417217756,
           0.0005465957264626114,
           0.0009223216883506296,
           0.0004316014008403361,
           0.0003316844930935627,
           0.0005460891086207961,
           0.000411790380154355,
           0.003814590855819364,
           0.0044202391081635635,
           0.002989776625562955,
           0.04165894300210024,
           0.04464136453050128,
           0.04477317603772972,
           0.0005024891170079399,
           0.0009125343724518875,
           0.00040768840213760855,
           0.000338792253103623,
           0.0005436218863668951,
           0.0003813996422018349,
           0.003713884862026887,
           0.0044662788910388,
           0.0030200046810529833,
           0.040549119491069874,
           0.04401809355336742,
           0.044077759015492865,
           0.0004712563087172538,
           0.0008955251521547295,
           0.0004001176942372881,
           0.0003206854433760684,
           0.0005345505532189802,
           0.0003718223105011933,
           0.003573079052762353,
           0.004523786411408769,
           0.0029763046884117277,
           0.038638595261926034,
           0.04293882259026697,
           0.04252961392055961,
           0.000450698808988764,
           0.0009123697293960522,
           0.0004110950594124048,
           0.00033041010926550745,
           0.000543377045393591,
           0.000367831978805395,
           0.003611892031926779,
           0.0045981349563135035,
           0.003019983196079821,
           0.040303758823931175,
           0.04302742577816223,
           0.044296996306997315,
           0.0004584494228741691,
           0.0009766353496919896,
           0.0004098430543454345,
           0.00031772727619821286,
           0.0005408882841811458,
           0.00035530717000000004,
           0.0035380823992663566,
           0.004693415546822893,
           0.003048687566995965,
           0.03934040103834987,
           0.04191468346763303,
           0.04294542848586325,
           0.0004349025945368171,
           0.001071436305994049,
           0.000424656508816656,
           0.00031885398080043264,
           0.0005271800195812942,
           0.00034700711546085234,
           0.0034684900429698337,
           0.004722112586188882,
           0.003020472976892105,
           0.039507948574445166,
           0.04189256040229339,
           0.04318795248789623,
           0.00043258463339028555,
           0.0010775931946237253,
           0.0003941144092807425,
           0.0003213216077795786,
           0.0005106263704803026,
           0.0003319552814340589,
           0.003430519805652047,
           0.00470253500530066,
           0.0030773553157326114,
           0.038950500160906794,
           0.04123951079269874,
           0.04307757479739446,
           0.00042861386339066343,
           0.0010221146989012042,
           0.00043644157302188556,
           0.00031844970366290285,
           0.0005005520432049663,
           0.000326871253164557,
           0.0033339193127918582,
           0.004690070159520384,
           0.0030272432449715697,
           0.03847017501721864,
           0.04031639343815045,
           0.04160339166804159,
           0.00043090122812192725,
           0.0010136485879463355,
           0.00042666503805633197,
           0.0002917169109506618,
           0.0004769772840476594,
           0.00030011348198198196,
           0.003424077897305679,
           0.005586368675665789,
           0.0034184360331083285,
           0.041760920406029335,
           0.04667239918740396,
           0.047077195687340284,
           0.0004149415156847743,
           0.0012390440342462156,
           0.0004004789138248848,
           0.00037132209183155174,
           0.0005990447788234829,
           0.000426343476358202,
           0.0038385880623244806,
           0.004546527859019105,
           0.00327316151026182,
           0.041415089723279064,
           0.04620618634660938,
           0.047333081695709225,
           0.0005870758317577981,
           0.001014745366641066,
           0.0005050585312539816,
           0.034237840331068414,
           0.034998341404512204,
           0.039909968559517
          ]
         },
         "name": "",
         "parents": [
          "France/Children&Teenager (0-14)",
          "The United States of America/Children&Teenager (0-14)",
          "United Kingdom/Children&Teenager (0-14)",
          "France/Middle-Aged (30-64)",
          "The United States of America/Middle-Aged (30-64)",
          "United Kingdom/Middle-Aged (30-64)",
          "France/Older People (65-110+)",
          "The United States of America/Older People (65-110+)",
          "United Kingdom/Older People (65-110+)",
          "France/Young People (15-29)",
          "The United States of America/Young People (15-29)",
          "United Kingdom/Young People (15-29)",
          "France/Children&Teenager (0-14)",
          "The United States of America/Children&Teenager (0-14)",
          "United Kingdom/Children&Teenager (0-14)",
          "France/Middle-Aged (30-64)",
          "The United States of America/Middle-Aged (30-64)",
          "United Kingdom/Middle-Aged (30-64)",
          "France/Older People (65-110+)",
          "The United States of America/Older People (65-110+)",
          "United Kingdom/Older People (65-110+)",
          "France/Young People (15-29)",
          "The United States of America/Young People (15-29)",
          "United Kingdom/Young People (15-29)",
          "France/Children&Teenager (0-14)",
          "The United States of America/Children&Teenager (0-14)",
          "United Kingdom/Children&Teenager (0-14)",
          "France/Middle-Aged (30-64)",
          "The United States of America/Middle-Aged (30-64)",
          "United Kingdom/Middle-Aged (30-64)",
          "France/Older People (65-110+)",
          "The United States of America/Older People (65-110+)",
          "United Kingdom/Older People (65-110+)",
          "France/Young People (15-29)",
          "The United States of America/Young People (15-29)",
          "United Kingdom/Young People (15-29)",
          "France/Children&Teenager (0-14)",
          "The United States of America/Children&Teenager (0-14)",
          "United Kingdom/Children&Teenager (0-14)",
          "France/Middle-Aged (30-64)",
          "The United States of America/Middle-Aged (30-64)",
          "United Kingdom/Middle-Aged (30-64)",
          "France/Older People (65-110+)",
          "The United States of America/Older People (65-110+)",
          "United Kingdom/Older People (65-110+)",
          "France/Young People (15-29)",
          "The United States of America/Young People (15-29)",
          "United Kingdom/Young People (15-29)",
          "France/Children&Teenager (0-14)",
          "The United States of America/Children&Teenager (0-14)",
          "United Kingdom/Children&Teenager (0-14)",
          "France/Middle-Aged (30-64)",
          "The United States of America/Middle-Aged (30-64)",
          "United Kingdom/Middle-Aged (30-64)",
          "France/Older People (65-110+)",
          "The United States of America/Older People (65-110+)",
          "United Kingdom/Older People (65-110+)",
          "France/Young People (15-29)",
          "The United States of America/Young People (15-29)",
          "United Kingdom/Young People (15-29)",
          "France/Children&Teenager (0-14)",
          "The United States of America/Children&Teenager (0-14)",
          "United Kingdom/Children&Teenager (0-14)",
          "France/Middle-Aged (30-64)",
          "The United States of America/Middle-Aged (30-64)",
          "United Kingdom/Middle-Aged (30-64)",
          "France/Older People (65-110+)",
          "The United States of America/Older People (65-110+)",
          "United Kingdom/Older People (65-110+)",
          "France/Young People (15-29)",
          "The United States of America/Young People (15-29)",
          "United Kingdom/Young People (15-29)",
          "France/Children&Teenager (0-14)",
          "The United States of America/Children&Teenager (0-14)",
          "United Kingdom/Children&Teenager (0-14)",
          "France/Middle-Aged (30-64)",
          "The United States of America/Middle-Aged (30-64)",
          "United Kingdom/Middle-Aged (30-64)",
          "France/Older People (65-110+)",
          "The United States of America/Older People (65-110+)",
          "United Kingdom/Older People (65-110+)",
          "France/Young People (15-29)",
          "The United States of America/Young People (15-29)",
          "United Kingdom/Young People (15-29)",
          "France/Children&Teenager (0-14)",
          "The United States of America/Children&Teenager (0-14)",
          "United Kingdom/Children&Teenager (0-14)",
          "France/Middle-Aged (30-64)",
          "The United States of America/Middle-Aged (30-64)",
          "United Kingdom/Middle-Aged (30-64)",
          "France/Older People (65-110+)",
          "The United States of America/Older People (65-110+)",
          "United Kingdom/Older People (65-110+)",
          "France/Young People (15-29)",
          "The United States of America/Young People (15-29)",
          "United Kingdom/Young People (15-29)",
          "France/Children&Teenager (0-14)",
          "The United States of America/Children&Teenager (0-14)",
          "United Kingdom/Children&Teenager (0-14)",
          "France/Middle-Aged (30-64)",
          "The United States of America/Middle-Aged (30-64)",
          "United Kingdom/Middle-Aged (30-64)",
          "France/Older People (65-110+)",
          "The United States of America/Older People (65-110+)",
          "United Kingdom/Older People (65-110+)",
          "France/Young People (15-29)",
          "The United States of America/Young People (15-29)",
          "United Kingdom/Young People (15-29)",
          "France/Children&Teenager (0-14)",
          "The United States of America/Children&Teenager (0-14)",
          "United Kingdom/Children&Teenager (0-14)",
          "France/Middle-Aged (30-64)",
          "The United States of America/Middle-Aged (30-64)",
          "United Kingdom/Middle-Aged (30-64)",
          "France/Older People (65-110+)",
          "The United States of America/Older People (65-110+)",
          "United Kingdom/Older People (65-110+)",
          "France/Young People (15-29)",
          "The United States of America/Young People (15-29)",
          "United Kingdom/Young People (15-29)",
          "France/Children&Teenager (0-14)",
          "The United States of America/Children&Teenager (0-14)",
          "United Kingdom/Children&Teenager (0-14)",
          "France/Middle-Aged (30-64)",
          "The United States of America/Middle-Aged (30-64)",
          "United Kingdom/Middle-Aged (30-64)",
          "France/Older People (65-110+)",
          "The United States of America/Older People (65-110+)",
          "United Kingdom/Older People (65-110+)",
          "France/Young People (15-29)",
          "The United States of America/Young People (15-29)",
          "United Kingdom/Young People (15-29)",
          "France/Children&Teenager (0-14)",
          "The United States of America/Children&Teenager (0-14)",
          "United Kingdom/Children&Teenager (0-14)",
          "France/Middle-Aged (30-64)",
          "The United States of America/Middle-Aged (30-64)",
          "United Kingdom/Middle-Aged (30-64)",
          "France/Older People (65-110+)",
          "The United States of America/Older People (65-110+)",
          "United Kingdom/Older People (65-110+)",
          "France/Young People (15-29)",
          "The United States of America/Young People (15-29)",
          "United Kingdom/Young People (15-29)",
          "France/Children&Teenager (0-14)",
          "The United States of America/Children&Teenager (0-14)",
          "United Kingdom/Children&Teenager (0-14)",
          "France/Middle-Aged (30-64)",
          "The United States of America/Middle-Aged (30-64)",
          "United Kingdom/Middle-Aged (30-64)",
          "France/Older People (65-110+)",
          "The United States of America/Older People (65-110+)",
          "United Kingdom/Older People (65-110+)",
          "France/Young People (15-29)",
          "The United States of America/Young People (15-29)",
          "United Kingdom/Young People (15-29)",
          "France/Children&Teenager (0-14)",
          "The United States of America/Children&Teenager (0-14)",
          "United Kingdom/Children&Teenager (0-14)",
          "France/Middle-Aged (30-64)",
          "The United States of America/Middle-Aged (30-64)",
          "United Kingdom/Middle-Aged (30-64)",
          "France/Older People (65-110+)",
          "The United States of America/Older People (65-110+)",
          "United Kingdom/Older People (65-110+)",
          "France/Young People (15-29)",
          "The United States of America/Young People (15-29)",
          "United Kingdom/Young People (15-29)",
          "France/Children&Teenager (0-14)",
          "The United States of America/Children&Teenager (0-14)",
          "United Kingdom/Children&Teenager (0-14)",
          "France/Middle-Aged (30-64)",
          "The United States of America/Middle-Aged (30-64)",
          "United Kingdom/Middle-Aged (30-64)",
          "France/Older People (65-110+)",
          "The United States of America/Older People (65-110+)",
          "United Kingdom/Older People (65-110+)",
          "France/Young People (15-29)",
          "The United States of America/Young People (15-29)",
          "United Kingdom/Young People (15-29)",
          "France/Children&Teenager (0-14)",
          "The United States of America/Children&Teenager (0-14)",
          "United Kingdom/Children&Teenager (0-14)",
          "France/Middle-Aged (30-64)",
          "The United States of America/Middle-Aged (30-64)",
          "United Kingdom/Middle-Aged (30-64)",
          "France/Older People (65-110+)",
          "The United States of America/Older People (65-110+)",
          "United Kingdom/Older People (65-110+)",
          "France/Young People (15-29)",
          "The United States of America/Young People (15-29)",
          "United Kingdom/Young People (15-29)",
          "France/Children&Teenager (0-14)",
          "The United States of America/Children&Teenager (0-14)",
          "United Kingdom/Children&Teenager (0-14)",
          "France/Middle-Aged (30-64)",
          "The United States of America/Middle-Aged (30-64)",
          "United Kingdom/Middle-Aged (30-64)",
          "France/Older People (65-110+)",
          "The United States of America/Older People (65-110+)",
          "United Kingdom/Older People (65-110+)",
          "France/Young People (15-29)",
          "The United States of America/Young People (15-29)",
          "United Kingdom/Young People (15-29)",
          "France/Children&Teenager (0-14)",
          "The United States of America/Children&Teenager (0-14)",
          "United Kingdom/Children&Teenager (0-14)",
          "France/Middle-Aged (30-64)",
          "The United States of America/Middle-Aged (30-64)",
          "United Kingdom/Middle-Aged (30-64)",
          "France/Older People (65-110+)",
          "The United States of America/Older People (65-110+)",
          "United Kingdom/Older People (65-110+)",
          "France/Young People (15-29)",
          "The United States of America/Young People (15-29)",
          "United Kingdom/Young People (15-29)",
          "France/Children&Teenager (0-14)",
          "The United States of America/Children&Teenager (0-14)",
          "United Kingdom/Children&Teenager (0-14)",
          "France/Middle-Aged (30-64)",
          "The United States of America/Middle-Aged (30-64)",
          "United Kingdom/Middle-Aged (30-64)",
          "France/Older People (65-110+)",
          "The United States of America/Older People (65-110+)",
          "United Kingdom/Older People (65-110+)",
          "France/Young People (15-29)",
          "The United States of America/Young People (15-29)",
          "United Kingdom/Young People (15-29)",
          "France/Children&Teenager (0-14)",
          "The United States of America/Children&Teenager (0-14)",
          "United Kingdom/Children&Teenager (0-14)",
          "France/Middle-Aged (30-64)",
          "The United States of America/Middle-Aged (30-64)",
          "United Kingdom/Middle-Aged (30-64)",
          "France/Older People (65-110+)",
          "The United States of America/Older People (65-110+)",
          "United Kingdom/Older People (65-110+)",
          "France/Young People (15-29)",
          "The United States of America/Young People (15-29)",
          "United Kingdom/Young People (15-29)",
          "France/Children&Teenager (0-14)",
          "The United States of America/Children&Teenager (0-14)",
          "United Kingdom/Children&Teenager (0-14)",
          "France/Middle-Aged (30-64)",
          "The United States of America/Middle-Aged (30-64)",
          "United Kingdom/Middle-Aged (30-64)",
          "France/Older People (65-110+)",
          "The United States of America/Older People (65-110+)",
          "United Kingdom/Older People (65-110+)",
          "France/Young People (15-29)",
          "The United States of America/Young People (15-29)",
          "United Kingdom/Young People (15-29)",
          "France",
          "The United States of America",
          "United Kingdom",
          "France",
          "The United States of America",
          "United Kingdom",
          "France",
          "The United States of America",
          "United Kingdom",
          "France",
          "The United States of America",
          "United Kingdom",
          "",
          "",
          ""
         ],
         "type": "sunburst",
         "values": [
          5217,
          40448.56,
          5407,
          96805,
          513849.86,
          94263.14,
          421331,
          1800053.1400000001,
          502476.85,
          7511,
          48999.450000000004,
          6220,
          5240,
          39782.479999999996,
          5276,
          97526,
          527468.6,
          93506,
          420676,
          1798701.6400000001,
          497520,
          7631,
          50472.19,
          5966,
          4804,
          40047.36,
          5079.02,
          97964,
          540360.31,
          93519.38,
          425142,
          1811961.62,
          501732.58999999997,
          7234,
          51017.62,
          5885.02,
          4713,
          39951.130000000005,
          5249.01,
          99393,
          551889.0599999999,
          93599.60999999999,
          441729,
          1804621.5899999999,
          506718.36,
          6504,
          51826.25,
          5621.02,
          4424,
          39570.16,
          5025,
          95889,
          549938.16,
          90753,
          403004,
          1755901.0899999999,
          481907,
          6112,
          52205.61,
          5397,
          4152,
          39815.399999999994,
          5083,
          97122,
          566043.36,
          90490,
          420189.01,
          1788350.25,
          481822.01,
          6070,
          53808.979999999996,
          5268,
          4291,
          39308.82,
          5231,
          97989,
          571591.61,
          91720,
          408437,
          1759568.0899999999,
          469563,
          5699,
          55795.42999999999,
          5710,
          4143,
          40007.41,
          5204,
          98246,
          573101.23,
          91439,
          412926.02,
          1755686.77,
          472409,
          5701,
          54916.58,
          5635,
          4166,
          38436.33,
          5108,
          99159,
          580632.23,
          91554,
          423249.01,
          1799929.51,
          477257,
          5557,
          52985.77,
          5778,
          4234,
          36517.03,
          4950,
          100537,
          587495.57,
          89443,
          427793,
          1762115.1600000001,
          459685,
          5552,
          51035.259999999995,
          5539,
          4016,
          34184.76,
          4758,
          100633,
          586068.21,
          88621,
          430531.01,
          1798360.9500000002,
          463202,
          5289,
          49820.97,
          5085,
          3797,
          33635.81,
          4686,
          99234,
          599663.4,
          86327,
          426602.01,
          1831916.45,
          456459,
          5162,
          50242.2,
          4760,
          3837,
          33048.92,
          4535,
          98009,
          601867.65,
          83488,
          452594.98,
          1858186.02,
          476510.01,
          4786,
          50176.36,
          4491,
          3947,
          32849.67,
          4251,
          95881,
          609864.97,
          83876,
          454152.02,
          1904734.2999999998,
          483906.03,
          4428,
          49544.04,
          4425,
          3744,
          32297.03,
          4190,
          92566,
          621028.28,
          83084,
          446420.99,
          1922371.02,
          478472,
          4272,
          50720.62,
          4595,
          3853,
          32833.71,
          4152,
          93088,
          633032.6699999999,
          84639,
          480465.99,
          1992369.4,
          509445.98,
          4363,
          54394.24,
          4545,
          3693,
          32710.65,
          4100,
          91325,
          648357,
          86244,
          481845,
          2003546.81,
          502155,
          4210,
          59633.48,
          4707,
          3698,
          31787.48,
          4036,
          90133,
          653922.86,
          85685,
          495677.98,
          2067488.38,
          513140.99,
          4097,
          60304.20999999999,
          4310,
          3702,
          30749.57,
          3905,
          89242,
          651477.36,
          87932,
          499538.01,
          2099359.41,
          519425,
          4070,
          57618.53,
          4752,
          3631,
          30096.54,
          3871,
          87157,
          650561,
          87055,
          504552.02,
          2117432.96,
          509130.01,
          4068,
          56747.39,
          4651,
          3324,
          28738.98,
          3552,
          89002,
          777005.4199999999,
          98072,
          558352,
          2509471.88,
          583664.99,
          3921,
          68512.68,
          4340,
          86626,
          746817.8,
          97648.03,
          2006900,
          12595218.81,
          1875310.13,
          9435208.05,
          39942126.44,
          10346601.82,
          112237,
          1130777.86,
          107680.04000000001,
          11640971.05,
          54414940.91,
          12427240.02
         ]
        }
       ],
       "layout": {
        "autosize": true,
        "coloraxis": {
         "colorbar": {
          "title": {
           "text": "DeathRate"
          }
         },
         "colorscale": [
          [
           0,
           "rgb(230, 240, 240)"
          ],
          [
           0.09090909090909091,
           "rgb(191, 221, 229)"
          ],
          [
           0.18181818181818182,
           "rgb(156, 201, 226)"
          ],
          [
           0.2727272727272727,
           "rgb(129, 180, 227)"
          ],
          [
           0.36363636363636365,
           "rgb(115, 154, 228)"
          ],
          [
           0.45454545454545453,
           "rgb(117, 127, 221)"
          ],
          [
           0.5454545454545454,
           "rgb(120, 100, 202)"
          ],
          [
           0.6363636363636364,
           "rgb(119, 74, 175)"
          ],
          [
           0.7272727272727273,
           "rgb(113, 50, 141)"
          ],
          [
           0.8181818181818182,
           "rgb(100, 31, 104)"
          ],
          [
           0.9090909090909091,
           "rgb(80, 20, 66)"
          ],
          [
           1,
           "rgb(54, 14, 36)"
          ]
         ]
        },
        "legend": {
         "tracegroupgap": 0
        },
        "margin": {
         "b": 30,
         "l": 2,
         "r": 2,
         "t": 34
        },
        "template": {
         "data": {
          "bar": [
           {
            "error_x": {
             "color": "#2a3f5f"
            },
            "error_y": {
             "color": "#2a3f5f"
            },
            "marker": {
             "line": {
              "color": "#E5ECF6",
              "width": 0.5
             },
             "pattern": {
              "fillmode": "overlay",
              "size": 10,
              "solidity": 0.2
             }
            },
            "type": "bar"
           }
          ],
          "barpolar": [
           {
            "marker": {
             "line": {
              "color": "#E5ECF6",
              "width": 0.5
             },
             "pattern": {
              "fillmode": "overlay",
              "size": 10,
              "solidity": 0.2
             }
            },
            "type": "barpolar"
           }
          ],
          "carpet": [
           {
            "aaxis": {
             "endlinecolor": "#2a3f5f",
             "gridcolor": "white",
             "linecolor": "white",
             "minorgridcolor": "white",
             "startlinecolor": "#2a3f5f"
            },
            "baxis": {
             "endlinecolor": "#2a3f5f",
             "gridcolor": "white",
             "linecolor": "white",
             "minorgridcolor": "white",
             "startlinecolor": "#2a3f5f"
            },
            "type": "carpet"
           }
          ],
          "choropleth": [
           {
            "colorbar": {
             "outlinewidth": 0,
             "ticks": ""
            },
            "type": "choropleth"
           }
          ],
          "contour": [
           {
            "colorbar": {
             "outlinewidth": 0,
             "ticks": ""
            },
            "colorscale": [
             [
              0,
              "#0d0887"
             ],
             [
              0.1111111111111111,
              "#46039f"
             ],
             [
              0.2222222222222222,
              "#7201a8"
             ],
             [
              0.3333333333333333,
              "#9c179e"
             ],
             [
              0.4444444444444444,
              "#bd3786"
             ],
             [
              0.5555555555555556,
              "#d8576b"
             ],
             [
              0.6666666666666666,
              "#ed7953"
             ],
             [
              0.7777777777777778,
              "#fb9f3a"
             ],
             [
              0.8888888888888888,
              "#fdca26"
             ],
             [
              1,
              "#f0f921"
             ]
            ],
            "type": "contour"
           }
          ],
          "contourcarpet": [
           {
            "colorbar": {
             "outlinewidth": 0,
             "ticks": ""
            },
            "type": "contourcarpet"
           }
          ],
          "heatmap": [
           {
            "colorbar": {
             "outlinewidth": 0,
             "ticks": ""
            },
            "colorscale": [
             [
              0,
              "#0d0887"
             ],
             [
              0.1111111111111111,
              "#46039f"
             ],
             [
              0.2222222222222222,
              "#7201a8"
             ],
             [
              0.3333333333333333,
              "#9c179e"
             ],
             [
              0.4444444444444444,
              "#bd3786"
             ],
             [
              0.5555555555555556,
              "#d8576b"
             ],
             [
              0.6666666666666666,
              "#ed7953"
             ],
             [
              0.7777777777777778,
              "#fb9f3a"
             ],
             [
              0.8888888888888888,
              "#fdca26"
             ],
             [
              1,
              "#f0f921"
             ]
            ],
            "type": "heatmap"
           }
          ],
          "heatmapgl": [
           {
            "colorbar": {
             "outlinewidth": 0,
             "ticks": ""
            },
            "colorscale": [
             [
              0,
              "#0d0887"
             ],
             [
              0.1111111111111111,
              "#46039f"
             ],
             [
              0.2222222222222222,
              "#7201a8"
             ],
             [
              0.3333333333333333,
              "#9c179e"
             ],
             [
              0.4444444444444444,
              "#bd3786"
             ],
             [
              0.5555555555555556,
              "#d8576b"
             ],
             [
              0.6666666666666666,
              "#ed7953"
             ],
             [
              0.7777777777777778,
              "#fb9f3a"
             ],
             [
              0.8888888888888888,
              "#fdca26"
             ],
             [
              1,
              "#f0f921"
             ]
            ],
            "type": "heatmapgl"
           }
          ],
          "histogram": [
           {
            "marker": {
             "pattern": {
              "fillmode": "overlay",
              "size": 10,
              "solidity": 0.2
             }
            },
            "type": "histogram"
           }
          ],
          "histogram2d": [
           {
            "colorbar": {
             "outlinewidth": 0,
             "ticks": ""
            },
            "colorscale": [
             [
              0,
              "#0d0887"
             ],
             [
              0.1111111111111111,
              "#46039f"
             ],
             [
              0.2222222222222222,
              "#7201a8"
             ],
             [
              0.3333333333333333,
              "#9c179e"
             ],
             [
              0.4444444444444444,
              "#bd3786"
             ],
             [
              0.5555555555555556,
              "#d8576b"
             ],
             [
              0.6666666666666666,
              "#ed7953"
             ],
             [
              0.7777777777777778,
              "#fb9f3a"
             ],
             [
              0.8888888888888888,
              "#fdca26"
             ],
             [
              1,
              "#f0f921"
             ]
            ],
            "type": "histogram2d"
           }
          ],
          "histogram2dcontour": [
           {
            "colorbar": {
             "outlinewidth": 0,
             "ticks": ""
            },
            "colorscale": [
             [
              0,
              "#0d0887"
             ],
             [
              0.1111111111111111,
              "#46039f"
             ],
             [
              0.2222222222222222,
              "#7201a8"
             ],
             [
              0.3333333333333333,
              "#9c179e"
             ],
             [
              0.4444444444444444,
              "#bd3786"
             ],
             [
              0.5555555555555556,
              "#d8576b"
             ],
             [
              0.6666666666666666,
              "#ed7953"
             ],
             [
              0.7777777777777778,
              "#fb9f3a"
             ],
             [
              0.8888888888888888,
              "#fdca26"
             ],
             [
              1,
              "#f0f921"
             ]
            ],
            "type": "histogram2dcontour"
           }
          ],
          "mesh3d": [
           {
            "colorbar": {
             "outlinewidth": 0,
             "ticks": ""
            },
            "type": "mesh3d"
           }
          ],
          "parcoords": [
           {
            "line": {
             "colorbar": {
              "outlinewidth": 0,
              "ticks": ""
             }
            },
            "type": "parcoords"
           }
          ],
          "pie": [
           {
            "automargin": true,
            "type": "pie"
           }
          ],
          "scatter": [
           {
            "fillpattern": {
             "fillmode": "overlay",
             "size": 10,
             "solidity": 0.2
            },
            "type": "scatter"
           }
          ],
          "scatter3d": [
           {
            "line": {
             "colorbar": {
              "outlinewidth": 0,
              "ticks": ""
             }
            },
            "marker": {
             "colorbar": {
              "outlinewidth": 0,
              "ticks": ""
             }
            },
            "type": "scatter3d"
           }
          ],
          "scattercarpet": [
           {
            "marker": {
             "colorbar": {
              "outlinewidth": 0,
              "ticks": ""
             }
            },
            "type": "scattercarpet"
           }
          ],
          "scattergeo": [
           {
            "marker": {
             "colorbar": {
              "outlinewidth": 0,
              "ticks": ""
             }
            },
            "type": "scattergeo"
           }
          ],
          "scattergl": [
           {
            "marker": {
             "colorbar": {
              "outlinewidth": 0,
              "ticks": ""
             }
            },
            "type": "scattergl"
           }
          ],
          "scattermapbox": [
           {
            "marker": {
             "colorbar": {
              "outlinewidth": 0,
              "ticks": ""
             }
            },
            "type": "scattermapbox"
           }
          ],
          "scatterpolar": [
           {
            "marker": {
             "colorbar": {
              "outlinewidth": 0,
              "ticks": ""
             }
            },
            "type": "scatterpolar"
           }
          ],
          "scatterpolargl": [
           {
            "marker": {
             "colorbar": {
              "outlinewidth": 0,
              "ticks": ""
             }
            },
            "type": "scatterpolargl"
           }
          ],
          "scatterternary": [
           {
            "marker": {
             "colorbar": {
              "outlinewidth": 0,
              "ticks": ""
             }
            },
            "type": "scatterternary"
           }
          ],
          "surface": [
           {
            "colorbar": {
             "outlinewidth": 0,
             "ticks": ""
            },
            "colorscale": [
             [
              0,
              "#0d0887"
             ],
             [
              0.1111111111111111,
              "#46039f"
             ],
             [
              0.2222222222222222,
              "#7201a8"
             ],
             [
              0.3333333333333333,
              "#9c179e"
             ],
             [
              0.4444444444444444,
              "#bd3786"
             ],
             [
              0.5555555555555556,
              "#d8576b"
             ],
             [
              0.6666666666666666,
              "#ed7953"
             ],
             [
              0.7777777777777778,
              "#fb9f3a"
             ],
             [
              0.8888888888888888,
              "#fdca26"
             ],
             [
              1,
              "#f0f921"
             ]
            ],
            "type": "surface"
           }
          ],
          "table": [
           {
            "cells": {
             "fill": {
              "color": "#EBF0F8"
             },
             "line": {
              "color": "white"
             }
            },
            "header": {
             "fill": {
              "color": "#C8D4E3"
             },
             "line": {
              "color": "white"
             }
            },
            "type": "table"
           }
          ]
         },
         "layout": {
          "annotationdefaults": {
           "arrowcolor": "#2a3f5f",
           "arrowhead": 0,
           "arrowwidth": 1
          },
          "autotypenumbers": "strict",
          "coloraxis": {
           "colorbar": {
            "outlinewidth": 0,
            "ticks": ""
           }
          },
          "colorscale": {
           "diverging": [
            [
             0,
             "#8e0152"
            ],
            [
             0.1,
             "#c51b7d"
            ],
            [
             0.2,
             "#de77ae"
            ],
            [
             0.3,
             "#f1b6da"
            ],
            [
             0.4,
             "#fde0ef"
            ],
            [
             0.5,
             "#f7f7f7"
            ],
            [
             0.6,
             "#e6f5d0"
            ],
            [
             0.7,
             "#b8e186"
            ],
            [
             0.8,
             "#7fbc41"
            ],
            [
             0.9,
             "#4d9221"
            ],
            [
             1,
             "#276419"
            ]
           ],
           "sequential": [
            [
             0,
             "#0d0887"
            ],
            [
             0.1111111111111111,
             "#46039f"
            ],
            [
             0.2222222222222222,
             "#7201a8"
            ],
            [
             0.3333333333333333,
             "#9c179e"
            ],
            [
             0.4444444444444444,
             "#bd3786"
            ],
            [
             0.5555555555555556,
             "#d8576b"
            ],
            [
             0.6666666666666666,
             "#ed7953"
            ],
            [
             0.7777777777777778,
             "#fb9f3a"
            ],
            [
             0.8888888888888888,
             "#fdca26"
            ],
            [
             1,
             "#f0f921"
            ]
           ],
           "sequentialminus": [
            [
             0,
             "#0d0887"
            ],
            [
             0.1111111111111111,
             "#46039f"
            ],
            [
             0.2222222222222222,
             "#7201a8"
            ],
            [
             0.3333333333333333,
             "#9c179e"
            ],
            [
             0.4444444444444444,
             "#bd3786"
            ],
            [
             0.5555555555555556,
             "#d8576b"
            ],
            [
             0.6666666666666666,
             "#ed7953"
            ],
            [
             0.7777777777777778,
             "#fb9f3a"
            ],
            [
             0.8888888888888888,
             "#fdca26"
            ],
            [
             1,
             "#f0f921"
            ]
           ]
          },
          "colorway": [
           "#636efa",
           "#EF553B",
           "#00cc96",
           "#ab63fa",
           "#FFA15A",
           "#19d3f3",
           "#FF6692",
           "#B6E880",
           "#FF97FF",
           "#FECB52"
          ],
          "font": {
           "color": "#2a3f5f"
          },
          "geo": {
           "bgcolor": "white",
           "lakecolor": "white",
           "landcolor": "#E5ECF6",
           "showlakes": true,
           "showland": true,
           "subunitcolor": "white"
          },
          "hoverlabel": {
           "align": "left"
          },
          "hovermode": "closest",
          "mapbox": {
           "style": "light"
          },
          "paper_bgcolor": "white",
          "plot_bgcolor": "#E5ECF6",
          "polar": {
           "angularaxis": {
            "gridcolor": "white",
            "linecolor": "white",
            "ticks": ""
           },
           "bgcolor": "#E5ECF6",
           "radialaxis": {
            "gridcolor": "white",
            "linecolor": "white",
            "ticks": ""
           }
          },
          "scene": {
           "xaxis": {
            "backgroundcolor": "#E5ECF6",
            "gridcolor": "white",
            "gridwidth": 2,
            "linecolor": "white",
            "showbackground": true,
            "ticks": "",
            "zerolinecolor": "white"
           },
           "yaxis": {
            "backgroundcolor": "#E5ECF6",
            "gridcolor": "white",
            "gridwidth": 2,
            "linecolor": "white",
            "showbackground": true,
            "ticks": "",
            "zerolinecolor": "white"
           },
           "zaxis": {
            "backgroundcolor": "#E5ECF6",
            "gridcolor": "white",
            "gridwidth": 2,
            "linecolor": "white",
            "showbackground": true,
            "ticks": "",
            "zerolinecolor": "white"
           }
          },
          "shapedefaults": {
           "line": {
            "color": "#2a3f5f"
           }
          },
          "ternary": {
           "aaxis": {
            "gridcolor": "white",
            "linecolor": "white",
            "ticks": ""
           },
           "baxis": {
            "gridcolor": "white",
            "linecolor": "white",
            "ticks": ""
           },
           "bgcolor": "#E5ECF6",
           "caxis": {
            "gridcolor": "white",
            "linecolor": "white",
            "ticks": ""
           }
          },
          "title": {
           "x": 0.05
          },
          "xaxis": {
           "automargin": true,
           "gridcolor": "white",
           "linecolor": "white",
           "ticks": "",
           "title": {
            "standoff": 15
           },
           "zerolinecolor": "white",
           "zerolinewidth": 2
          },
          "yaxis": {
           "automargin": true,
           "gridcolor": "white",
           "linecolor": "white",
           "ticks": "",
           "title": {
            "standoff": 15
           },
           "zerolinecolor": "white",
           "zerolinewidth": 2
          }
         }
        },
        "title": {
         "text": "Deaths and Death Rates of USA, UK and France from different age groups from 2000 to 2020"
        }
       }
      },
      "image/png": "[encoded data removed]",
      "text/html": [
       "<div>                            <div id=\"08638567-7f3f-4209-8231-ecb8cd1c741b\" class=\"plotly-graph-div\" style=\"height:525px; width:100%;\"></div>            <script type=\"text/javascript\">                require([\"plotly\"], function(Plotly) {                    window.PLOTLYENV=window.PLOTLYENV || {};                                    if (document.getElementById(\"08638567-7f3f-4209-8231-ecb8cd1c741b\")) {                    Plotly.newPlot(                        \"08638567-7f3f-4209-8231-ecb8cd1c741b\",                        [{\"branchvalues\":\"total\",\"customdata\":[[0.00047850173758865253],[0.0006810996481219604],[0.000487169671721842],[0.0042456815582149685],[0.0042874288684506025],[0.0036734816945107073],[0.045468750412518896],[0.05247037950654599],[0.05467374831059799],[0.0007861219478098788],[0.0009980607454351017],[0.0006608234790996784],[0.00047693936183206107],[0.0006670196333564424],[0.00047685747384382113],[0.004226138163617907],[0.004322399603378324],[0.0036097762631702775],[0.04477573478243351],[0.05201892984383457],[0.05367710873551013],[0.0007940344821124361],[0.0010267817909642915],[0.0006342578022125377],[0.00043455394858451287],[0.0006700587680146706],[0.00046713029246390055],[0.004187486825374627],[0.004368705750649265],[0.00357744487371687],[0.04457388055841108],[0.05199179303662093],[0.05375890473832242],[0.0007577525546032623],[0.0010303872741456775],[0.0006271265772214878],[0.0004278843396987057],[0.0006691542010666531],[0.0004795674663793744],[0.004190291837916151],[0.00440474179078413],[0.0035489246778678887],[0.045645953994267977],[0.05135675100176191],[0.05393209676775288],[0.0006883095865621156],[0.0010299538523609174],[0.0005854232013566933],[0.0004002137108951175],[0.0006600799123690679],[0.00046352524676616924],[0.003963761800780069],[0.004340342803304884],[0.003418547344197988],[0.04147905326662018],[0.04950808525697562],[0.051002130107636955],[0.000644166369764398],[0.0010294688178843232],[0.0005455039822123401],[0.0003749343990847784],[0.0006657763558763695],[0.0004718669216997836],[0.003995525339449352],[0.004424508504911779],[0.0033815330588573326],[0.042557357140335796],[0.049813010686007166],[0.05056974214603075],[0.0006390252779242175],[0.0010577815014798646],[0.0005235714235003796],[0.0003873576998368679],[0.0006565609430623967],[0.0004844804171286562],[0.003983526211084917],[0.004419006275635502],[0.0034130065418447445],[0.04102429997470997],[0.04840192711737421],[0.049007371979425556],[0.0005890934020003509],[0.001081404155039938],[0.0005713141082311734],[0.00037262799734491916],[0.0006672514362511845],[0.0004847146306687164],[0.003956547849622376],[0.004392483158043423],[0.003375605393573858],[0.041252966875690966],[0.047538478443330895],[0.04891802739664994],[0.0005971803341519032],[0.0010450785858249004],[0.0005584905130434783],[0.00036916577004320695],[0.0006390113297676963],[0.0004728436344949099],[0.003939281026946621],[0.00440843564028361],[0.0033569591319986022],[0.04178247044016254],[0.047668237245302884],[0.048798784445192006],[0.0005910442258412813],[0.0009988319469293359],[0.0005563247050882658],[0.00037349174870099204],[0.0006051700386088353],[0.00045444480989898986],[0.003975730877895699],[0.004416551154763635],[0.0032688879279988373],[0.04166518955288422],[0.04562343416965739],[0.046231621419474206],[0.0005776517988112393],[0.0009358845839568564],[0.000523664723957393],[0.00035106847260956174],[0.0005649386569292866],[0.00043389977595628416],[0.003961283675186072],[0.004365687767695437],[0.0032159319403640223],[0.04143213522931924],[0.045559826431163464],[0.04567851290308332],[0.0005546868389109473],[0.0009157154435905201],[0.0004682322717797444],[0.00032984488464577296],[0.0005555095065393103],[0.00043088500512163894],[0.0038646602836628573],[0.004421830109613193],[0.0031050135289770295],[0.04057770597739221],[0.0454049031515922],[0.04414625417217756],[0.0005465957264626114],[0.0009223216883506296],[0.0004316014008403361],[0.0003316844930935627],[0.0005460891086207961],[0.000411790380154355],[0.003814590855819364],[0.0044202391081635635],[0.002989776625562955],[0.04165894300210024],[0.04464136453050128],[0.04477317603772972],[0.0005024891170079399],[0.0009125343724518875],[0.00040768840213760855],[0.000338792253103623],[0.0005436218863668951],[0.0003813996422018349],[0.003713884862026887],[0.0044662788910388],[0.0030200046810529833],[0.040549119491069874],[0.04401809355336742],[0.044077759015492865],[0.0004712563087172538],[0.0008955251521547295],[0.0004001176942372881],[0.0003206854433760684],[0.0005345505532189802],[0.0003718223105011933],[0.003573079052762353],[0.004523786411408769],[0.0029763046884117277],[0.038638595261926034],[0.04293882259026697],[0.04252961392055961],[0.000450698808988764],[0.0009123697293960522],[0.0004110950594124048],[0.00033041010926550745],[0.000543377045393591],[0.000367831978805395],[0.003611892031926779],[0.0045981349563135035],[0.003019983196079821],[0.040303758823931175],[0.04302742577816223],[0.044296996306997315],[0.0004584494228741691],[0.0009766353496919896],[0.0004098430543454345],[0.00031772727619821286],[0.0005408882841811458],[0.00035530717000000004],[0.0035380823992663566],[0.004693415546822893],[0.003048687566995965],[0.03934040103834987],[0.04191468346763303],[0.04294542848586325],[0.0004349025945368171],[0.001071436305994049],[0.000424656508816656],[0.00031885398080043264],[0.0005271800195812942],[0.00034700711546085234],[0.0034684900429698337],[0.004722112586188882],[0.003020472976892105],[0.039507948574445166],[0.04189256040229339],[0.04318795248789623],[0.00043258463339028555],[0.0010775931946237253],[0.0003941144092807425],[0.0003213216077795786],[0.0005106263704803026],[0.0003319552814340589],[0.003430519805652047],[0.00470253500530066],[0.0030773553157326114],[0.038950500160906794],[0.04123951079269874],[0.04307757479739446],[0.00042861386339066343],[0.0010221146989012042],[0.00043644157302188556],[0.00031844970366290285],[0.0005005520432049663],[0.000326871253164557],[0.0033339193127918582],[0.004690070159520384],[0.0030272432449715697],[0.03847017501721864],[0.04031639343815045],[0.04160339166804159],[0.00043090122812192725],[0.0010136485879463355],[0.00042666503805633197],[0.0002917169109506618],[0.0004769772840476594],[0.00030011348198198196],[0.003424077897305679],[0.005586368675665789],[0.0034184360331083285],[0.041760920406029335],[0.04667239918740396],[0.047077195687340284],[0.0004149415156847743],[0.0012390440342462156],[0.0004004789138248848],[0.00037132209183155174],[0.0005990447788234829],[0.000426343476358202],[0.0038385880623244806],[0.004546527859019105],[0.00327316151026182],[0.041415089723279064],[0.04620618634660938],[0.047333081695709225],[0.0005870758317577981],[0.001014745366641066],[0.0005050585312539816],[0.034237840331068414],[0.034998341404512204],[0.039909968559517]],\"domain\":{\"x\":[0.0,1.0],\"y\":[0.0,1.0]},\"hovertemplate\":\"labels=%{label}<br>Deaths=%{value}<br>parent=%{parent}<br>id=%{id}<br>DeathRate=%{color}<extra></extra>\",\"ids\":[\"France/Children&Teenager (0-14)/2000\",\"The United States of America/Children&Teenager (0-14)/2000\",\"United Kingdom/Children&Teenager (0-14)/2000\",\"France/Middle-Aged (30-64)/2000\",\"The United States of America/Middle-Aged (30-64)/2000\",\"United Kingdom/Middle-Aged (30-64)/2000\",\"France/Older People (65-110+)/2000\",\"The United States of America/Older People (65-110+)/2000\",\"United Kingdom/Older People (65-110+)/2000\",\"France/Young People (15-29)/2000\",\"The United States of America/Young People (15-29)/2000\",\"United Kingdom/Young People (15-29)/2000\",\"France/Children&Teenager (0-14)/2001\",\"The United States of America/Children&Teenager (0-14)/2001\",\"United Kingdom/Children&Teenager (0-14)/2001\",\"France/Middle-Aged (30-64)/2001\",\"The United States of America/Middle-Aged (30-64)/2001\",\"United Kingdom/Middle-Aged (30-64)/2001\",\"France/Older People (65-110+)/2001\",\"The United States of America/Older People (65-110+)/2001\",\"United Kingdom/Older People (65-110+)/2001\",\"France/Young People (15-29)/2001\",\"The United States of America/Young People (15-29)/2001\",\"United Kingdom/Young People (15-29)/2001\",\"France/Children&Teenager (0-14)/2002\",\"The United States of America/Children&Teenager (0-14)/2002\",\"United Kingdom/Children&Teenager (0-14)/2002\",\"France/Middle-Aged (30-64)/2002\",\"The United States of America/Middle-Aged (30-64)/2002\",\"United Kingdom/Middle-Aged (30-64)/2002\",\"France/Older People (65-110+)/2002\",\"The United States of America/Older People (65-110+)/2002\",\"United Kingdom/Older People (65-110+)/2002\",\"France/Young People (15-29)/2002\",\"The United States of America/Young People (15-29)/2002\",\"United Kingdom/Young People (15-29)/2002\",\"France/Children&Teenager (0-14)/2003\",\"The United States of America/Children&Teenager (0-14)/2003\",\"United Kingdom/Children&Teenager (0-14)/2003\",\"France/Middle-Aged (30-64)/2003\",\"The United States of America/Middle-Aged (30-64)/2003\",\"United Kingdom/Middle-Aged (30-64)/2003\",\"France/Older People (65-110+)/2003\",\"The United States of America/Older People (65-110+)/2003\",\"United Kingdom/Older People (65-110+)/2003\",\"France/Young People (15-29)/2003\",\"The United States of America/Young People (15-29)/2003\",\"United Kingdom/Young People (15-29)/2003\",\"France/Children&Teenager (0-14)/2004\",\"The United States of America/Children&Teenager (0-14)/2004\",\"United Kingdom/Children&Teenager (0-14)/2004\",\"France/Middle-Aged (30-64)/2004\",\"The United States of America/Middle-Aged (30-64)/2004\",\"United Kingdom/Middle-Aged (30-64)/2004\",\"France/Older People (65-110+)/2004\",\"The United States of America/Older People (65-110+)/2004\",\"United Kingdom/Older People (65-110+)/2004\",\"France/Young People (15-29)/2004\",\"The United States of America/Young People (15-29)/2004\",\"United Kingdom/Young People (15-29)/2004\",\"France/Children&Teenager (0-14)/2005\",\"The United States of America/Children&Teenager (0-14)/2005\",\"United Kingdom/Children&Teenager (0-14)/2005\",\"France/Middle-Aged (30-64)/2005\",\"The United States of America/Middle-Aged (30-64)/2005\",\"United Kingdom/Middle-Aged (30-64)/2005\",\"France/Older People (65-110+)/2005\",\"The United States of America/Older People (65-110+)/2005\",\"United Kingdom/Older People (65-110+)/2005\",\"France/Young People (15-29)/2005\",\"The United States of America/Young People (15-29)/2005\",\"United Kingdom/Young People (15-29)/2005\",\"France/Children&Teenager (0-14)/2006\",\"The United States of America/Children&Teenager (0-14)/2006\",\"United Kingdom/Children&Teenager (0-14)/2006\",\"France/Middle-Aged (30-64)/2006\",\"The United States of America/Middle-Aged (30-64)/2006\",\"United Kingdom/Middle-Aged (30-64)/2006\",\"France/Older People (65-110+)/2006\",\"The United States of America/Older People (65-110+)/2006\",\"United Kingdom/Older People (65-110+)/2006\",\"France/Young People (15-29)/2006\",\"The United States of America/Young People (15-29)/2006\",\"United Kingdom/Young People (15-29)/2006\",\"France/Children&Teenager (0-14)/2007\",\"The United States of America/Children&Teenager (0-14)/2007\",\"United Kingdom/Children&Teenager (0-14)/2007\",\"France/Middle-Aged (30-64)/2007\",\"The United States of America/Middle-Aged (30-64)/2007\",\"United Kingdom/Middle-Aged (30-64)/2007\",\"France/Older People (65-110+)/2007\",\"The United States of America/Older People (65-110+)/2007\",\"United Kingdom/Older People (65-110+)/2007\",\"France/Young People (15-29)/2007\",\"The United States of America/Young People (15-29)/2007\",\"United Kingdom/Young People (15-29)/2007\",\"France/Children&Teenager (0-14)/2008\",\"The United States of America/Children&Teenager (0-14)/2008\",\"United Kingdom/Children&Teenager (0-14)/2008\",\"France/Middle-Aged (30-64)/2008\",\"The United States of America/Middle-Aged (30-64)/2008\",\"United Kingdom/Middle-Aged (30-64)/2008\",\"France/Older People (65-110+)/2008\",\"The United States of America/Older People (65-110+)/2008\",\"United Kingdom/Older People (65-110+)/2008\",\"France/Young People (15-29)/2008\",\"The United States of America/Young People (15-29)/2008\",\"United Kingdom/Young People (15-29)/2008\",\"France/Children&Teenager (0-14)/2009\",\"The United States of America/Children&Teenager (0-14)/2009\",\"United Kingdom/Children&Teenager (0-14)/2009\",\"France/Middle-Aged (30-64)/2009\",\"The United States of America/Middle-Aged (30-64)/2009\",\"United Kingdom/Middle-Aged (30-64)/2009\",\"France/Older People (65-110+)/2009\",\"The United States of America/Older People (65-110+)/2009\",\"United Kingdom/Older People (65-110+)/2009\",\"France/Young People (15-29)/2009\",\"The United States of America/Young People (15-29)/2009\",\"United Kingdom/Young People (15-29)/2009\",\"France/Children&Teenager (0-14)/2010\",\"The United States of America/Children&Teenager (0-14)/2010\",\"United Kingdom/Children&Teenager (0-14)/2010\",\"France/Middle-Aged (30-64)/2010\",\"The United States of America/Middle-Aged (30-64)/2010\",\"United Kingdom/Middle-Aged (30-64)/2010\",\"France/Older People (65-110+)/2010\",\"The United States of America/Older People (65-110+)/2010\",\"United Kingdom/Older People (65-110+)/2010\",\"France/Young People (15-29)/2010\",\"The United States of America/Young People (15-29)/2010\",\"United Kingdom/Young People (15-29)/2010\",\"France/Children&Teenager (0-14)/2011\",\"The United States of America/Children&Teenager (0-14)/2011\",\"United Kingdom/Children&Teenager (0-14)/2011\",\"France/Middle-Aged (30-64)/2011\",\"The United States of America/Middle-Aged (30-64)/2011\",\"United Kingdom/Middle-Aged (30-64)/2011\",\"France/Older People (65-110+)/2011\",\"The United States of America/Older People (65-110+)/2011\",\"United Kingdom/Older People (65-110+)/2011\",\"France/Young People (15-29)/2011\",\"The United States of America/Young People (15-29)/2011\",\"United Kingdom/Young People (15-29)/2011\",\"France/Children&Teenager (0-14)/2012\",\"The United States of America/Children&Teenager (0-14)/2012\",\"United Kingdom/Children&Teenager (0-14)/2012\",\"France/Middle-Aged (30-64)/2012\",\"The United States of America/Middle-Aged (30-64)/2012\",\"United Kingdom/Middle-Aged (30-64)/2012\",\"France/Older People (65-110+)/2012\",\"The United States of America/Older People (65-110+)/2012\",\"United Kingdom/Older People (65-110+)/2012\",\"France/Young People (15-29)/2012\",\"The United States of America/Young People (15-29)/2012\",\"United Kingdom/Young People (15-29)/2012\",\"France/Children&Teenager (0-14)/2013\",\"The United States of America/Children&Teenager (0-14)/2013\",\"United Kingdom/Children&Teenager (0-14)/2013\",\"France/Middle-Aged (30-64)/2013\",\"The United States of America/Middle-Aged (30-64)/2013\",\"United Kingdom/Middle-Aged (30-64)/2013\",\"France/Older People (65-110+)/2013\",\"The United States of America/Older People (65-110+)/2013\",\"United Kingdom/Older People (65-110+)/2013\",\"France/Young People (15-29)/2013\",\"The United States of America/Young People (15-29)/2013\",\"United Kingdom/Young People (15-29)/2013\",\"France/Children&Teenager (0-14)/2014\",\"The United States of America/Children&Teenager (0-14)/2014\",\"United Kingdom/Children&Teenager (0-14)/2014\",\"France/Middle-Aged (30-64)/2014\",\"The United States of America/Middle-Aged (30-64)/2014\",\"United Kingdom/Middle-Aged (30-64)/2014\",\"France/Older People (65-110+)/2014\",\"The United States of America/Older People (65-110+)/2014\",\"United Kingdom/Older People (65-110+)/2014\",\"France/Young People (15-29)/2014\",\"The United States of America/Young People (15-29)/2014\",\"United Kingdom/Young People (15-29)/2014\",\"France/Children&Teenager (0-14)/2015\",\"The United States of America/Children&Teenager (0-14)/2015\",\"United Kingdom/Children&Teenager (0-14)/2015\",\"France/Middle-Aged (30-64)/2015\",\"The United States of America/Middle-Aged (30-64)/2015\",\"United Kingdom/Middle-Aged (30-64)/2015\",\"France/Older People (65-110+)/2015\",\"The United States of America/Older People (65-110+)/2015\",\"United Kingdom/Older People (65-110+)/2015\",\"France/Young People (15-29)/2015\",\"The United States of America/Young People (15-29)/2015\",\"United Kingdom/Young People (15-29)/2015\",\"France/Children&Teenager (0-14)/2016\",\"The United States of America/Children&Teenager (0-14)/2016\",\"United Kingdom/Children&Teenager (0-14)/2016\",\"France/Middle-Aged (30-64)/2016\",\"The United States of America/Middle-Aged (30-64)/2016\",\"United Kingdom/Middle-Aged (30-64)/2016\",\"France/Older People (65-110+)/2016\",\"The United States of America/Older People (65-110+)/2016\",\"United Kingdom/Older People (65-110+)/2016\",\"France/Young People (15-29)/2016\",\"The United States of America/Young People (15-29)/2016\",\"United Kingdom/Young People (15-29)/2016\",\"France/Children&Teenager (0-14)/2017\",\"The United States of America/Children&Teenager (0-14)/2017\",\"United Kingdom/Children&Teenager (0-14)/2017\",\"France/Middle-Aged (30-64)/2017\",\"The United States of America/Middle-Aged (30-64)/2017\",\"United Kingdom/Middle-Aged (30-64)/2017\",\"France/Older People (65-110+)/2017\",\"The United States of America/Older People (65-110+)/2017\",\"United Kingdom/Older People (65-110+)/2017\",\"France/Young People (15-29)/2017\",\"The United States of America/Young People (15-29)/2017\",\"United Kingdom/Young People (15-29)/2017\",\"France/Children&Teenager (0-14)/2018\",\"The United States of America/Children&Teenager (0-14)/2018\",\"United Kingdom/Children&Teenager (0-14)/2018\",\"France/Middle-Aged (30-64)/2018\",\"The United States of America/Middle-Aged (30-64)/2018\",\"United Kingdom/Middle-Aged (30-64)/2018\",\"France/Older People (65-110+)/2018\",\"The United States of America/Older People (65-110+)/2018\",\"United Kingdom/Older People (65-110+)/2018\",\"France/Young People (15-29)/2018\",\"The United States of America/Young People (15-29)/2018\",\"United Kingdom/Young People (15-29)/2018\",\"France/Children&Teenager (0-14)/2019\",\"The United States of America/Children&Teenager (0-14)/2019\",\"United Kingdom/Children&Teenager (0-14)/2019\",\"France/Middle-Aged (30-64)/2019\",\"The United States of America/Middle-Aged (30-64)/2019\",\"United Kingdom/Middle-Aged (30-64)/2019\",\"France/Older People (65-110+)/2019\",\"The United States of America/Older People (65-110+)/2019\",\"United Kingdom/Older People (65-110+)/2019\",\"France/Young People (15-29)/2019\",\"The United States of America/Young People (15-29)/2019\",\"United Kingdom/Young People (15-29)/2019\",\"France/Children&Teenager (0-14)/2020\",\"The United States of America/Children&Teenager (0-14)/2020\",\"United Kingdom/Children&Teenager (0-14)/2020\",\"France/Middle-Aged (30-64)/2020\",\"The United States of America/Middle-Aged (30-64)/2020\",\"United Kingdom/Middle-Aged (30-64)/2020\",\"France/Older People (65-110+)/2020\",\"The United States of America/Older People (65-110+)/2020\",\"United Kingdom/Older People (65-110+)/2020\",\"France/Young People (15-29)/2020\",\"The United States of America/Young People (15-29)/2020\",\"United Kingdom/Young People (15-29)/2020\",\"France/Children&Teenager (0-14)\",\"The United States of America/Children&Teenager (0-14)\",\"United Kingdom/Children&Teenager (0-14)\",\"France/Middle-Aged (30-64)\",\"The United States of America/Middle-Aged (30-64)\",\"United Kingdom/Middle-Aged (30-64)\",\"France/Older People (65-110+)\",\"The United States of America/Older People (65-110+)\",\"United Kingdom/Older People (65-110+)\",\"France/Young People (15-29)\",\"The United States of America/Young People (15-29)\",\"United Kingdom/Young People (15-29)\",\"France\",\"The United States of America\",\"United Kingdom\"],\"labels\":[\"2000\",\"2000\",\"2000\",\"2000\",\"2000\",\"2000\",\"2000\",\"2000\",\"2000\",\"2000\",\"2000\",\"2000\",\"2001\",\"2001\",\"2001\",\"2001\",\"2001\",\"2001\",\"2001\",\"2001\",\"2001\",\"2001\",\"2001\",\"2001\",\"2002\",\"2002\",\"2002\",\"2002\",\"2002\",\"2002\",\"2002\",\"2002\",\"2002\",\"2002\",\"2002\",\"2002\",\"2003\",\"2003\",\"2003\",\"2003\",\"2003\",\"2003\",\"2003\",\"2003\",\"2003\",\"2003\",\"2003\",\"2003\",\"2004\",\"2004\",\"2004\",\"2004\",\"2004\",\"2004\",\"2004\",\"2004\",\"2004\",\"2004\",\"2004\",\"2004\",\"2005\",\"2005\",\"2005\",\"2005\",\"2005\",\"2005\",\"2005\",\"2005\",\"2005\",\"2005\",\"2005\",\"2005\",\"2006\",\"2006\",\"2006\",\"2006\",\"2006\",\"2006\",\"2006\",\"2006\",\"2006\",\"2006\",\"2006\",\"2006\",\"2007\",\"2007\",\"2007\",\"2007\",\"2007\",\"2007\",\"2007\",\"2007\",\"2007\",\"2007\",\"2007\",\"2007\",\"2008\",\"2008\",\"2008\",\"2008\",\"2008\",\"2008\",\"2008\",\"2008\",\"2008\",\"2008\",\"2008\",\"2008\",\"2009\",\"2009\",\"2009\",\"2009\",\"2009\",\"2009\",\"2009\",\"2009\",\"2009\",\"2009\",\"2009\",\"2009\",\"2010\",\"2010\",\"2010\",\"2010\",\"2010\",\"2010\",\"2010\",\"2010\",\"2010\",\"2010\",\"2010\",\"2010\",\"2011\",\"2011\",\"2011\",\"2011\",\"2011\",\"2011\",\"2011\",\"2011\",\"2011\",\"2011\",\"2011\",\"2011\",\"2012\",\"2012\",\"2012\",\"2012\",\"2012\",\"2012\",\"2012\",\"2012\",\"2012\",\"2012\",\"2012\",\"2012\",\"2013\",\"2013\",\"2013\",\"2013\",\"2013\",\"2013\",\"2013\",\"2013\",\"2013\",\"2013\",\"2013\",\"2013\",\"2014\",\"2014\",\"2014\",\"2014\",\"2014\",\"2014\",\"2014\",\"2014\",\"2014\",\"2014\",\"2014\",\"2014\",\"2015\",\"2015\",\"2015\",\"2015\",\"2015\",\"2015\",\"2015\",\"2015\",\"2015\",\"2015\",\"2015\",\"2015\",\"2016\",\"2016\",\"2016\",\"2016\",\"2016\",\"2016\",\"2016\",\"2016\",\"2016\",\"2016\",\"2016\",\"2016\",\"2017\",\"2017\",\"2017\",\"2017\",\"2017\",\"2017\",\"2017\",\"2017\",\"2017\",\"2017\",\"2017\",\"2017\",\"2018\",\"2018\",\"2018\",\"2018\",\"2018\",\"2018\",\"2018\",\"2018\",\"2018\",\"2018\",\"2018\",\"2018\",\"2019\",\"2019\",\"2019\",\"2019\",\"2019\",\"2019\",\"2019\",\"2019\",\"2019\",\"2019\",\"2019\",\"2019\",\"2020\",\"2020\",\"2020\",\"2020\",\"2020\",\"2020\",\"2020\",\"2020\",\"2020\",\"2020\",\"2020\",\"2020\",\"Children&Teenager (0-14)\",\"Children&Teenager (0-14)\",\"Children&Teenager (0-14)\",\"Middle-Aged (30-64)\",\"Middle-Aged (30-64)\",\"Middle-Aged (30-64)\",\"Older People (65-110+)\",\"Older People (65-110+)\",\"Older People (65-110+)\",\"Young People (15-29)\",\"Young People (15-29)\",\"Young People (15-29)\",\"France\",\"The United States of America\",\"United Kingdom\"],\"marker\":{\"coloraxis\":\"coloraxis\",\"colors\":[0.00047850173758865253,0.0006810996481219604,0.000487169671721842,0.0042456815582149685,0.0042874288684506025,0.0036734816945107073,0.045468750412518896,0.05247037950654599,0.05467374831059799,0.0007861219478098788,0.0009980607454351017,0.0006608234790996784,0.00047693936183206107,0.0006670196333564424,0.00047685747384382113,0.004226138163617907,0.004322399603378324,0.0036097762631702775,0.04477573478243351,0.05201892984383457,0.05367710873551013,0.0007940344821124361,0.0010267817909642915,0.0006342578022125377,0.00043455394858451287,0.0006700587680146706,0.00046713029246390055,0.004187486825374627,0.004368705750649265,0.00357744487371687,0.04457388055841108,0.05199179303662093,0.05375890473832242,0.0007577525546032623,0.0010303872741456775,0.0006271265772214878,0.0004278843396987057,0.0006691542010666531,0.0004795674663793744,0.004190291837916151,0.00440474179078413,0.0035489246778678887,0.045645953994267977,0.05135675100176191,0.05393209676775288,0.0006883095865621156,0.0010299538523609174,0.0005854232013566933,0.0004002137108951175,0.0006600799123690679,0.00046352524676616924,0.003963761800780069,0.004340342803304884,0.003418547344197988,0.04147905326662018,0.04950808525697562,0.051002130107636955,0.000644166369764398,0.0010294688178843232,0.0005455039822123401,0.0003749343990847784,0.0006657763558763695,0.0004718669216997836,0.003995525339449352,0.004424508504911779,0.0033815330588573326,0.042557357140335796,0.049813010686007166,0.05056974214603075,0.0006390252779242175,0.0010577815014798646,0.0005235714235003796,0.0003873576998368679,0.0006565609430623967,0.0004844804171286562,0.003983526211084917,0.004419006275635502,0.0034130065418447445,0.04102429997470997,0.04840192711737421,0.049007371979425556,0.0005890934020003509,0.001081404155039938,0.0005713141082311734,0.00037262799734491916,0.0006672514362511845,0.0004847146306687164,0.003956547849622376,0.004392483158043423,0.003375605393573858,0.041252966875690966,0.047538478443330895,0.04891802739664994,0.0005971803341519032,0.0010450785858249004,0.0005584905130434783,0.00036916577004320695,0.0006390113297676963,0.0004728436344949099,0.003939281026946621,0.00440843564028361,0.0033569591319986022,0.04178247044016254,0.047668237245302884,0.048798784445192006,0.0005910442258412813,0.0009988319469293359,0.0005563247050882658,0.00037349174870099204,0.0006051700386088353,0.00045444480989898986,0.003975730877895699,0.004416551154763635,0.0032688879279988373,0.04166518955288422,0.04562343416965739,0.046231621419474206,0.0005776517988112393,0.0009358845839568564,0.000523664723957393,0.00035106847260956174,0.0005649386569292866,0.00043389977595628416,0.003961283675186072,0.004365687767695437,0.0032159319403640223,0.04143213522931924,0.045559826431163464,0.04567851290308332,0.0005546868389109473,0.0009157154435905201,0.0004682322717797444,0.00032984488464577296,0.0005555095065393103,0.00043088500512163894,0.0038646602836628573,0.004421830109613193,0.0031050135289770295,0.04057770597739221,0.0454049031515922,0.04414625417217756,0.0005465957264626114,0.0009223216883506296,0.0004316014008403361,0.0003316844930935627,0.0005460891086207961,0.000411790380154355,0.003814590855819364,0.0044202391081635635,0.002989776625562955,0.04165894300210024,0.04464136453050128,0.04477317603772972,0.0005024891170079399,0.0009125343724518875,0.00040768840213760855,0.000338792253103623,0.0005436218863668951,0.0003813996422018349,0.003713884862026887,0.0044662788910388,0.0030200046810529833,0.040549119491069874,0.04401809355336742,0.044077759015492865,0.0004712563087172538,0.0008955251521547295,0.0004001176942372881,0.0003206854433760684,0.0005345505532189802,0.0003718223105011933,0.003573079052762353,0.004523786411408769,0.0029763046884117277,0.038638595261926034,0.04293882259026697,0.04252961392055961,0.000450698808988764,0.0009123697293960522,0.0004110950594124048,0.00033041010926550745,0.000543377045393591,0.000367831978805395,0.003611892031926779,0.0045981349563135035,0.003019983196079821,0.040303758823931175,0.04302742577816223,0.044296996306997315,0.0004584494228741691,0.0009766353496919896,0.0004098430543454345,0.00031772727619821286,0.0005408882841811458,0.00035530717000000004,0.0035380823992663566,0.004693415546822893,0.003048687566995965,0.03934040103834987,0.04191468346763303,0.04294542848586325,0.0004349025945368171,0.001071436305994049,0.000424656508816656,0.00031885398080043264,0.0005271800195812942,0.00034700711546085234,0.0034684900429698337,0.004722112586188882,0.003020472976892105,0.039507948574445166,0.04189256040229339,0.04318795248789623,0.00043258463339028555,0.0010775931946237253,0.0003941144092807425,0.0003213216077795786,0.0005106263704803026,0.0003319552814340589,0.003430519805652047,0.00470253500530066,0.0030773553157326114,0.038950500160906794,0.04123951079269874,0.04307757479739446,0.00042861386339066343,0.0010221146989012042,0.00043644157302188556,0.00031844970366290285,0.0005005520432049663,0.000326871253164557,0.0033339193127918582,0.004690070159520384,0.0030272432449715697,0.03847017501721864,0.04031639343815045,0.04160339166804159,0.00043090122812192725,0.0010136485879463355,0.00042666503805633197,0.0002917169109506618,0.0004769772840476594,0.00030011348198198196,0.003424077897305679,0.005586368675665789,0.0034184360331083285,0.041760920406029335,0.04667239918740396,0.047077195687340284,0.0004149415156847743,0.0012390440342462156,0.0004004789138248848,0.00037132209183155174,0.0005990447788234829,0.000426343476358202,0.0038385880623244806,0.004546527859019105,0.00327316151026182,0.041415089723279064,0.04620618634660938,0.047333081695709225,0.0005870758317577981,0.001014745366641066,0.0005050585312539816,0.034237840331068414,0.034998341404512204,0.039909968559517]},\"name\":\"\",\"parents\":[\"France/Children&Teenager (0-14)\",\"The United States of America/Children&Teenager (0-14)\",\"United Kingdom/Children&Teenager (0-14)\",\"France/Middle-Aged (30-64)\",\"The United States of America/Middle-Aged (30-64)\",\"United Kingdom/Middle-Aged (30-64)\",\"France/Older People (65-110+)\",\"The United States of America/Older People (65-110+)\",\"United Kingdom/Older People (65-110+)\",\"France/Young People (15-29)\",\"The United States of America/Young People (15-29)\",\"United Kingdom/Young People (15-29)\",\"France/Children&Teenager (0-14)\",\"The United States of America/Children&Teenager (0-14)\",\"United Kingdom/Children&Teenager (0-14)\",\"France/Middle-Aged (30-64)\",\"The United States of America/Middle-Aged (30-64)\",\"United Kingdom/Middle-Aged (30-64)\",\"France/Older People (65-110+)\",\"The United States of America/Older People (65-110+)\",\"United Kingdom/Older People (65-110+)\",\"France/Young People (15-29)\",\"The United States of America/Young People (15-29)\",\"United Kingdom/Young People (15-29)\",\"France/Children&Teenager (0-14)\",\"The United States of America/Children&Teenager (0-14)\",\"United Kingdom/Children&Teenager (0-14)\",\"France/Middle-Aged (30-64)\",\"The United States of America/Middle-Aged (30-64)\",\"United Kingdom/Middle-Aged (30-64)\",\"France/Older People (65-110+)\",\"The United States of America/Older People (65-110+)\",\"United Kingdom/Older People (65-110+)\",\"France/Young People (15-29)\",\"The United States of America/Young People (15-29)\",\"United Kingdom/Young People (15-29)\",\"France/Children&Teenager (0-14)\",\"The United States of America/Children&Teenager (0-14)\",\"United Kingdom/Children&Teenager (0-14)\",\"France/Middle-Aged (30-64)\",\"The United States of America/Middle-Aged (30-64)\",\"United Kingdom/Middle-Aged (30-64)\",\"France/Older People (65-110+)\",\"The United States of America/Older People (65-110+)\",\"United Kingdom/Older People (65-110+)\",\"France/Young People (15-29)\",\"The United States of America/Young People (15-29)\",\"United Kingdom/Young People (15-29)\",\"France/Children&Teenager (0-14)\",\"The United States of America/Children&Teenager (0-14)\",\"United Kingdom/Children&Teenager (0-14)\",\"France/Middle-Aged (30-64)\",\"The United States of America/Middle-Aged (30-64)\",\"United Kingdom/Middle-Aged (30-64)\",\"France/Older People (65-110+)\",\"The United States of America/Older People (65-110+)\",\"United Kingdom/Older People (65-110+)\",\"France/Young People (15-29)\",\"The United States of America/Young People (15-29)\",\"United Kingdom/Young People (15-29)\",\"France/Children&Teenager (0-14)\",\"The United States of America/Children&Teenager (0-14)\",\"United Kingdom/Children&Teenager (0-14)\",\"France/Middle-Aged (30-64)\",\"The United States of America/Middle-Aged (30-64)\",\"United Kingdom/Middle-Aged (30-64)\",\"France/Older People (65-110+)\",\"The United States of America/Older People (65-110+)\",\"United Kingdom/Older People (65-110+)\",\"France/Young People (15-29)\",\"The United States of America/Young People (15-29)\",\"United Kingdom/Young People (15-29)\",\"France/Children&Teenager (0-14)\",\"The United States of America/Children&Teenager (0-14)\",\"United Kingdom/Children&Teenager (0-14)\",\"France/Middle-Aged (30-64)\",\"The United States of America/Middle-Aged (30-64)\",\"United Kingdom/Middle-Aged (30-64)\",\"France/Older People (65-110+)\",\"The United States of America/Older People (65-110+)\",\"United Kingdom/Older People (65-110+)\",\"France/Young People (15-29)\",\"The United States of America/Young People (15-29)\",\"United Kingdom/Young People (15-29)\",\"France/Children&Teenager (0-14)\",\"The United States of America/Children&Teenager (0-14)\",\"United Kingdom/Children&Teenager (0-14)\",\"France/Middle-Aged (30-64)\",\"The United States of America/Middle-Aged (30-64)\",\"United Kingdom/Middle-Aged (30-64)\",\"France/Older People (65-110+)\",\"The United States of America/Older People (65-110+)\",\"United Kingdom/Older People (65-110+)\",\"France/Young People (15-29)\",\"The United States of America/Young People (15-29)\",\"United Kingdom/Young People (15-29)\",\"France/Children&Teenager (0-14)\",\"The United States of America/Children&Teenager (0-14)\",\"United Kingdom/Children&Teenager (0-14)\",\"France/Middle-Aged (30-64)\",\"The United States of America/Middle-Aged (30-64)\",\"United Kingdom/Middle-Aged (30-64)\",\"France/Older People (65-110+)\",\"The United States of America/Older People (65-110+)\",\"United Kingdom/Older People (65-110+)\",\"France/Young People (15-29)\",\"The United States of America/Young People (15-29)\",\"United Kingdom/Young People (15-29)\",\"France/Children&Teenager (0-14)\",\"The United States of America/Children&Teenager (0-14)\",\"United Kingdom/Children&Teenager (0-14)\",\"France/Middle-Aged (30-64)\",\"The United States of America/Middle-Aged (30-64)\",\"United Kingdom/Middle-Aged (30-64)\",\"France/Older People (65-110+)\",\"The United States of America/Older People (65-110+)\",\"United Kingdom/Older People (65-110+)\",\"France/Young People (15-29)\",\"The United States of America/Young People (15-29)\",\"United Kingdom/Young People (15-29)\",\"France/Children&Teenager (0-14)\",\"The United States of America/Children&Teenager (0-14)\",\"United Kingdom/Children&Teenager (0-14)\",\"France/Middle-Aged (30-64)\",\"The United States of America/Middle-Aged (30-64)\",\"United Kingdom/Middle-Aged (30-64)\",\"France/Older People (65-110+)\",\"The United States of America/Older People (65-110+)\",\"United Kingdom/Older People (65-110+)\",\"France/Young People (15-29)\",\"The United States of America/Young People (15-29)\",\"United Kingdom/Young People (15-29)\",\"France/Children&Teenager (0-14)\",\"The United States of America/Children&Teenager (0-14)\",\"United Kingdom/Children&Teenager (0-14)\",\"France/Middle-Aged (30-64)\",\"The United States of America/Middle-Aged (30-64)\",\"United Kingdom/Middle-Aged (30-64)\",\"France/Older People (65-110+)\",\"The United States of America/Older People (65-110+)\",\"United Kingdom/Older People (65-110+)\",\"France/Young People (15-29)\",\"The United States of America/Young People (15-29)\",\"United Kingdom/Young People (15-29)\",\"France/Children&Teenager (0-14)\",\"The United States of America/Children&Teenager (0-14)\",\"United Kingdom/Children&Teenager (0-14)\",\"France/Middle-Aged (30-64)\",\"The United States of America/Middle-Aged (30-64)\",\"United Kingdom/Middle-Aged (30-64)\",\"France/Older People (65-110+)\",\"The United States of America/Older People (65-110+)\",\"United Kingdom/Older People (65-110+)\",\"France/Young People (15-29)\",\"The United States of America/Young People (15-29)\",\"United Kingdom/Young People (15-29)\",\"France/Children&Teenager (0-14)\",\"The United States of America/Children&Teenager (0-14)\",\"United Kingdom/Children&Teenager (0-14)\",\"France/Middle-Aged (30-64)\",\"The United States of America/Middle-Aged (30-64)\",\"United Kingdom/Middle-Aged (30-64)\",\"France/Older People (65-110+)\",\"The United States of America/Older People (65-110+)\",\"United Kingdom/Older People (65-110+)\",\"France/Young People (15-29)\",\"The United States of America/Young People (15-29)\",\"United Kingdom/Young People (15-29)\",\"France/Children&Teenager (0-14)\",\"The United States of America/Children&Teenager (0-14)\",\"United Kingdom/Children&Teenager (0-14)\",\"France/Middle-Aged (30-64)\",\"The United States of America/Middle-Aged (30-64)\",\"United Kingdom/Middle-Aged (30-64)\",\"France/Older People (65-110+)\",\"The United States of America/Older People (65-110+)\",\"United Kingdom/Older People (65-110+)\",\"France/Young People (15-29)\",\"The United States of America/Young People (15-29)\",\"United Kingdom/Young People (15-29)\",\"France/Children&Teenager (0-14)\",\"The United States of America/Children&Teenager (0-14)\",\"United Kingdom/Children&Teenager (0-14)\",\"France/Middle-Aged (30-64)\",\"The United States of America/Middle-Aged (30-64)\",\"United Kingdom/Middle-Aged (30-64)\",\"France/Older People (65-110+)\",\"The United States of America/Older People (65-110+)\",\"United Kingdom/Older People (65-110+)\",\"France/Young People (15-29)\",\"The United States of America/Young People (15-29)\",\"United Kingdom/Young People (15-29)\",\"France/Children&Teenager (0-14)\",\"The United States of America/Children&Teenager (0-14)\",\"United Kingdom/Children&Teenager (0-14)\",\"France/Middle-Aged (30-64)\",\"The United States of America/Middle-Aged (30-64)\",\"United Kingdom/Middle-Aged (30-64)\",\"France/Older People (65-110+)\",\"The United States of America/Older People (65-110+)\",\"United Kingdom/Older People (65-110+)\",\"France/Young People (15-29)\",\"The United States of America/Young People (15-29)\",\"United Kingdom/Young People (15-29)\",\"France/Children&Teenager (0-14)\",\"The United States of America/Children&Teenager (0-14)\",\"United Kingdom/Children&Teenager (0-14)\",\"France/Middle-Aged (30-64)\",\"The United States of America/Middle-Aged (30-64)\",\"United Kingdom/Middle-Aged (30-64)\",\"France/Older People (65-110+)\",\"The United States of America/Older People (65-110+)\",\"United Kingdom/Older People (65-110+)\",\"France/Young People (15-29)\",\"The United States of America/Young People (15-29)\",\"United Kingdom/Young People (15-29)\",\"France/Children&Teenager (0-14)\",\"The United States of America/Children&Teenager (0-14)\",\"United Kingdom/Children&Teenager (0-14)\",\"France/Middle-Aged (30-64)\",\"The United States of America/Middle-Aged (30-64)\",\"United Kingdom/Middle-Aged (30-64)\",\"France/Older People (65-110+)\",\"The United States of America/Older People (65-110+)\",\"United Kingdom/Older People (65-110+)\",\"France/Young People (15-29)\",\"The United States of America/Young People (15-29)\",\"United Kingdom/Young People (15-29)\",\"France/Children&Teenager (0-14)\",\"The United States of America/Children&Teenager (0-14)\",\"United Kingdom/Children&Teenager (0-14)\",\"France/Middle-Aged (30-64)\",\"The United States of America/Middle-Aged (30-64)\",\"United Kingdom/Middle-Aged (30-64)\",\"France/Older People (65-110+)\",\"The United States of America/Older People (65-110+)\",\"United Kingdom/Older People (65-110+)\",\"France/Young People (15-29)\",\"The United States of America/Young People (15-29)\",\"United Kingdom/Young People (15-29)\",\"France/Children&Teenager (0-14)\",\"The United States of America/Children&Teenager (0-14)\",\"United Kingdom/Children&Teenager (0-14)\",\"France/Middle-Aged (30-64)\",\"The United States of America/Middle-Aged (30-64)\",\"United Kingdom/Middle-Aged (30-64)\",\"France/Older People (65-110+)\",\"The United States of America/Older People (65-110+)\",\"United Kingdom/Older People (65-110+)\",\"France/Young People (15-29)\",\"The United States of America/Young People (15-29)\",\"United Kingdom/Young People (15-29)\",\"France\",\"The United States of America\",\"United Kingdom\",\"France\",\"The United States of America\",\"United Kingdom\",\"France\",\"The United States of America\",\"United Kingdom\",\"France\",\"The United States of America\",\"United Kingdom\",\"\",\"\",\"\"],\"values\":[5217.0,40448.56,5407.0,96805.0,513849.86,94263.14,421331.0,1800053.1400000001,502476.85,7511.0,48999.450000000004,6220.0,5240.0,39782.479999999996,5276.0,97526.0,527468.6,93506.0,420676.0,1798701.6400000001,497520.0,7631.0,50472.19,5966.0,4804.0,40047.36,5079.02,97964.0,540360.31,93519.38,425142.0,1811961.62,501732.58999999997,7234.0,51017.62,5885.02,4713.0,39951.130000000005,5249.01,99393.0,551889.0599999999,93599.60999999999,441729.0,1804621.5899999999,506718.36,6504.0,51826.25,5621.02,4424.0,39570.16,5025.0,95889.0,549938.16,90753.0,403004.0,1755901.0899999999,481907.0,6112.0,52205.61,5397.0,4152.0,39815.399999999994,5083.0,97122.0,566043.36,90490.0,420189.01,1788350.25,481822.01,6070.0,53808.979999999996,5268.0,4291.0,39308.82,5231.0,97989.0,571591.61,91720.0,408437.0,1759568.0899999999,469563.0,5699.0,55795.42999999999,5710.0,4143.0,40007.41,5204.0,98246.0,573101.23,91439.0,412926.02,1755686.77,472409.0,5701.0,54916.58,5635.0,4166.0,38436.33,5108.0,99159.0,580632.23,91554.0,423249.01,1799929.51,477257.0,5557.0,52985.77,5778.0,4234.0,36517.03,4950.0,100537.0,587495.57,89443.0,427793.0,1762115.1600000001,459685.0,5552.0,51035.259999999995,5539.0,4016.0,34184.76,4758.0,100633.0,586068.21,88621.0,430531.01,1798360.9500000002,463202.0,5289.0,49820.97,5085.0,3797.0,33635.81,4686.0,99234.0,599663.4,86327.0,426602.01,1831916.45,456459.0,5162.0,50242.2,4760.0,3837.0,33048.92,4535.0,98009.0,601867.65,83488.0,452594.98,1858186.02,476510.01,4786.0,50176.36,4491.0,3947.0,32849.67,4251.0,95881.0,609864.97,83876.0,454152.02,1904734.2999999998,483906.03,4428.0,49544.04,4425.0,3744.0,32297.03,4190.0,92566.0,621028.28,83084.0,446420.99,1922371.02,478472.0,4272.0,50720.62,4595.0,3853.0,32833.71,4152.0,93088.0,633032.6699999999,84639.0,480465.99,1992369.4,509445.98,4363.0,54394.24,4545.0,3693.0,32710.65,4100.0,91325.0,648357.0,86244.0,481845.0,2003546.81,502155.0,4210.0,59633.48,4707.0,3698.0,31787.48,4036.0,90133.0,653922.86,85685.0,495677.98,2067488.38,513140.99,4097.0,60304.20999999999,4310.0,3702.0,30749.57,3905.0,89242.0,651477.36,87932.0,499538.01,2099359.41,519425.0,4070.0,57618.53,4752.0,3631.0,30096.54,3871.0,87157.0,650561.0,87055.0,504552.02,2117432.96,509130.01,4068.0,56747.39,4651.0,3324.0,28738.98,3552.0,89002.0,777005.4199999999,98072.0,558352.0,2509471.88,583664.99,3921.0,68512.68,4340.0,86626.0,746817.8,97648.03,2006900.0,12595218.81,1875310.13,9435208.05,39942126.44,10346601.82,112237.0,1130777.86,107680.04000000001,11640971.05,54414940.91,12427240.02],\"type\":\"sunburst\"}],                        {\"template\":{\"data\":{\"histogram2dcontour\":[{\"type\":\"histogram2dcontour\",\"colorbar\":{\"outlinewidth\":0,\"ticks\":\"\"},\"colorscale\":[[0.0,\"#0d0887\"],[0.1111111111111111,\"#46039f\"],[0.2222222222222222,\"#7201a8\"],[0.3333333333333333,\"#9c179e\"],[0.4444444444444444,\"#bd3786\"],[0.5555555555555556,\"#d8576b\"],[0.6666666666666666,\"#ed7953\"],[0.7777777777777778,\"#fb9f3a\"],[0.8888888888888888,\"#fdca26\"],[1.0,\"#f0f921\"]]}],\"choropleth\":[{\"type\":\"choropleth\",\"colorbar\":{\"outlinewidth\":0,\"ticks\":\"\"}}],\"histogram2d\":[{\"type\":\"histogram2d\",\"colorbar\":{\"outlinewidth\":0,\"ticks\":\"\"},\"colorscale\":[[0.0,\"#0d0887\"],[0.1111111111111111,\"#46039f\"],[0.2222222222222222,\"#7201a8\"],[0.3333333333333333,\"#9c179e\"],[0.4444444444444444,\"#bd3786\"],[0.5555555555555556,\"#d8576b\"],[0.6666666666666666,\"#ed7953\"],[0.7777777777777778,\"#fb9f3a\"],[0.8888888888888888,\"#fdca26\"],[1.0,\"#f0f921\"]]}],\"heatmap\":[{\"type\":\"heatmap\",\"colorbar\":{\"outlinewidth\":0,\"ticks\":\"\"},\"colorscale\":[[0.0,\"#0d0887\"],[0.1111111111111111,\"#46039f\"],[0.2222222222222222,\"#7201a8\"],[0.3333333333333333,\"#9c179e\"],[0.4444444444444444,\"#bd3786\"],[0.5555555555555556,\"#d8576b\"],[0.6666666666666666,\"#ed7953\"],[0.7777777777777778,\"#fb9f3a\"],[0.8888888888888888,\"#fdca26\"],[1.0,\"#f0f921\"]]}],\"heatmapgl\":[{\"type\":\"heatmapgl\",\"colorbar\":{\"outlinewidth\":0,\"ticks\":\"\"},\"colorscale\":[[0.0,\"#0d0887\"],[0.1111111111111111,\"#46039f\"],[0.2222222222222222,\"#7201a8\"],[0.3333333333333333,\"#9c179e\"],[0.4444444444444444,\"#bd3786\"],[0.5555555555555556,\"#d8576b\"],[0.6666666666666666,\"#ed7953\"],[0.7777777777777778,\"#fb9f3a\"],[0.8888888888888888,\"#fdca26\"],[1.0,\"#f0f921\"]]}],\"contourcarpet\":[{\"type\":\"contourcarpet\",\"colorbar\":{\"outlinewidth\":0,\"ticks\":\"\"}}],\"contour\":[{\"type\":\"contour\",\"colorbar\":{\"outlinewidth\":0,\"ticks\":\"\"},\"colorscale\":[[0.0,\"#0d0887\"],[0.1111111111111111,\"#46039f\"],[0.2222222222222222,\"#7201a8\"],[0.3333333333333333,\"#9c179e\"],[0.4444444444444444,\"#bd3786\"],[0.5555555555555556,\"#d8576b\"],[0.6666666666666666,\"#ed7953\"],[0.7777777777777778,\"#fb9f3a\"],[0.8888888888888888,\"#fdca26\"],[1.0,\"#f0f921\"]]}],\"surface\":[{\"type\":\"surface\",\"colorbar\":{\"outlinewidth\":0,\"ticks\":\"\"},\"colorscale\":[[0.0,\"#0d0887\"],[0.1111111111111111,\"#46039f\"],[0.2222222222222222,\"#7201a8\"],[0.3333333333333333,\"#9c179e\"],[0.4444444444444444,\"#bd3786\"],[0.5555555555555556,\"#d8576b\"],[0.6666666666666666,\"#ed7953\"],[0.7777777777777778,\"#fb9f3a\"],[0.8888888888888888,\"#fdca26\"],[1.0,\"#f0f921\"]]}],\"mesh3d\":[{\"type\":\"mesh3d\",\"colorbar\":{\"outlinewidth\":0,\"ticks\":\"\"}}],\"scatter\":[{\"fillpattern\":{\"fillmode\":\"overlay\",\"size\":10,\"solidity\":0.2},\"type\":\"scatter\"}],\"parcoords\":[{\"type\":\"parcoords\",\"line\":{\"colorbar\":{\"outlinewidth\":0,\"ticks\":\"\"}}}],\"scatterpolargl\":[{\"type\":\"scatterpolargl\",\"marker\":{\"colorbar\":{\"outlinewidth\":0,\"ticks\":\"\"}}}],\"bar\":[{\"error_x\":{\"color\":\"#2a3f5f\"},\"error_y\":{\"color\":\"#2a3f5f\"},\"marker\":{\"line\":{\"color\":\"#E5ECF6\",\"width\":0.5},\"pattern\":{\"fillmode\":\"overlay\",\"size\":10,\"solidity\":0.2}},\"type\":\"bar\"}],\"scattergeo\":[{\"type\":\"scattergeo\",\"marker\":{\"colorbar\":{\"outlinewidth\":0,\"ticks\":\"\"}}}],\"scatterpolar\":[{\"type\":\"scatterpolar\",\"marker\":{\"colorbar\":{\"outlinewidth\":0,\"ticks\":\"\"}}}],\"histogram\":[{\"marker\":{\"pattern\":{\"fillmode\":\"overlay\",\"size\":10,\"solidity\":0.2}},\"type\":\"histogram\"}],\"scattergl\":[{\"type\":\"scattergl\",\"marker\":{\"colorbar\":{\"outlinewidth\":0,\"ticks\":\"\"}}}],\"scatter3d\":[{\"type\":\"scatter3d\",\"line\":{\"colorbar\":{\"outlinewidth\":0,\"ticks\":\"\"}},\"marker\":{\"colorbar\":{\"outlinewidth\":0,\"ticks\":\"\"}}}],\"scattermapbox\":[{\"type\":\"scattermapbox\",\"marker\":{\"colorbar\":{\"outlinewidth\":0,\"ticks\":\"\"}}}],\"scatterternary\":[{\"type\":\"scatterternary\",\"marker\":{\"colorbar\":{\"outlinewidth\":0,\"ticks\":\"\"}}}],\"scattercarpet\":[{\"type\":\"scattercarpet\",\"marker\":{\"colorbar\":{\"outlinewidth\":0,\"ticks\":\"\"}}}],\"carpet\":[{\"aaxis\":{\"endlinecolor\":\"#2a3f5f\",\"gridcolor\":\"white\",\"linecolor\":\"white\",\"minorgridcolor\":\"white\",\"startlinecolor\":\"#2a3f5f\"},\"baxis\":{\"endlinecolor\":\"#2a3f5f\",\"gridcolor\":\"white\",\"linecolor\":\"white\",\"minorgridcolor\":\"white\",\"startlinecolor\":\"#2a3f5f\"},\"type\":\"carpet\"}],\"table\":[{\"cells\":{\"fill\":{\"color\":\"#EBF0F8\"},\"line\":{\"color\":\"white\"}},\"header\":{\"fill\":{\"color\":\"#C8D4E3\"},\"line\":{\"color\":\"white\"}},\"type\":\"table\"}],\"barpolar\":[{\"marker\":{\"line\":{\"color\":\"#E5ECF6\",\"width\":0.5},\"pattern\":{\"fillmode\":\"overlay\",\"size\":10,\"solidity\":0.2}},\"type\":\"barpolar\"}],\"pie\":[{\"automargin\":true,\"type\":\"pie\"}]},\"layout\":{\"autotypenumbers\":\"strict\",\"colorway\":[\"#636efa\",\"#EF553B\",\"#00cc96\",\"#ab63fa\",\"#FFA15A\",\"#19d3f3\",\"#FF6692\",\"#B6E880\",\"#FF97FF\",\"#FECB52\"],\"font\":{\"color\":\"#2a3f5f\"},\"hovermode\":\"closest\",\"hoverlabel\":{\"align\":\"left\"},\"paper_bgcolor\":\"white\",\"plot_bgcolor\":\"#E5ECF6\",\"polar\":{\"bgcolor\":\"#E5ECF6\",\"angularaxis\":{\"gridcolor\":\"white\",\"linecolor\":\"white\",\"ticks\":\"\"},\"radialaxis\":{\"gridcolor\":\"white\",\"linecolor\":\"white\",\"ticks\":\"\"}},\"ternary\":{\"bgcolor\":\"#E5ECF6\",\"aaxis\":{\"gridcolor\":\"white\",\"linecolor\":\"white\",\"ticks\":\"\"},\"baxis\":{\"gridcolor\":\"white\",\"linecolor\":\"white\",\"ticks\":\"\"},\"caxis\":{\"gridcolor\":\"white\",\"linecolor\":\"white\",\"ticks\":\"\"}},\"coloraxis\":{\"colorbar\":{\"outlinewidth\":0,\"ticks\":\"\"}},\"colorscale\":{\"sequential\":[[0.0,\"#0d0887\"],[0.1111111111111111,\"#46039f\"],[0.2222222222222222,\"#7201a8\"],[0.3333333333333333,\"#9c179e\"],[0.4444444444444444,\"#bd3786\"],[0.5555555555555556,\"#d8576b\"],[0.6666666666666666,\"#ed7953\"],[0.7777777777777778,\"#fb9f3a\"],[0.8888888888888888,\"#fdca26\"],[1.0,\"#f0f921\"]],\"sequentialminus\":[[0.0,\"#0d0887\"],[0.1111111111111111,\"#46039f\"],[0.2222222222222222,\"#7201a8\"],[0.3333333333333333,\"#9c179e\"],[0.4444444444444444,\"#bd3786\"],[0.5555555555555556,\"#d8576b\"],[0.6666666666666666,\"#ed7953\"],[0.7777777777777778,\"#fb9f3a\"],[0.8888888888888888,\"#fdca26\"],[1.0,\"#f0f921\"]],\"diverging\":[[0,\"#8e0152\"],[0.1,\"#c51b7d\"],[0.2,\"#de77ae\"],[0.3,\"#f1b6da\"],[0.4,\"#fde0ef\"],[0.5,\"#f7f7f7\"],[0.6,\"#e6f5d0\"],[0.7,\"#b8e186\"],[0.8,\"#7fbc41\"],[0.9,\"#4d9221\"],[1,\"#276419\"]]},\"xaxis\":{\"gridcolor\":\"white\",\"linecolor\":\"white\",\"ticks\":\"\",\"title\":{\"standoff\":15},\"zerolinecolor\":\"white\",\"automargin\":true,\"zerolinewidth\":2},\"yaxis\":{\"gridcolor\":\"white\",\"linecolor\":\"white\",\"ticks\":\"\",\"title\":{\"standoff\":15},\"zerolinecolor\":\"white\",\"automargin\":true,\"zerolinewidth\":2},\"scene\":{\"xaxis\":{\"backgroundcolor\":\"#E5ECF6\",\"gridcolor\":\"white\",\"linecolor\":\"white\",\"showbackground\":true,\"ticks\":\"\",\"zerolinecolor\":\"white\",\"gridwidth\":2},\"yaxis\":{\"backgroundcolor\":\"#E5ECF6\",\"gridcolor\":\"white\",\"linecolor\":\"white\",\"showbackground\":true,\"ticks\":\"\",\"zerolinecolor\":\"white\",\"gridwidth\":2},\"zaxis\":{\"backgroundcolor\":\"#E5ECF6\",\"gridcolor\":\"white\",\"linecolor\":\"white\",\"showbackground\":true,\"ticks\":\"\",\"zerolinecolor\":\"white\",\"gridwidth\":2}},\"shapedefaults\":{\"line\":{\"color\":\"#2a3f5f\"}},\"annotationdefaults\":{\"arrowcolor\":\"#2a3f5f\",\"arrowhead\":0,\"arrowwidth\":1},\"geo\":{\"bgcolor\":\"white\",\"landcolor\":\"#E5ECF6\",\"subunitcolor\":\"white\",\"showland\":true,\"showlakes\":true,\"lakecolor\":\"white\"},\"title\":{\"x\":0.05},\"mapbox\":{\"style\":\"light\"}}},\"coloraxis\":{\"colorbar\":{\"title\":{\"text\":\"DeathRate\"}},\"colorscale\":[[0.0,\"rgb(230, 240, 240)\"],[0.09090909090909091,\"rgb(191, 221, 229)\"],[0.18181818181818182,\"rgb(156, 201, 226)\"],[0.2727272727272727,\"rgb(129, 180, 227)\"],[0.36363636363636365,\"rgb(115, 154, 228)\"],[0.45454545454545453,\"rgb(117, 127, 221)\"],[0.5454545454545454,\"rgb(120, 100, 202)\"],[0.6363636363636364,\"rgb(119, 74, 175)\"],[0.7272727272727273,\"rgb(113, 50, 141)\"],[0.8181818181818182,\"rgb(100, 31, 104)\"],[0.9090909090909091,\"rgb(80, 20, 66)\"],[1.0,\"rgb(54, 14, 36)\"]]},\"legend\":{\"tracegroupgap\":0},\"title\":{\"text\":\"Deaths and Death Rates of USA, UK and France from different age groups from 2000 to 2020\"},\"margin\":{\"t\":34,\"b\":30,\"r\":2,\"l\":2}},                        {\"responsive\": true}                    ).then(function(){\n",
       "                            \n",
       "var gd = document.getElementById('08638567-7f3f-4209-8231-ecb8cd1c741b');\n",
       "var x = new MutationObserver(function (mutations, observer) {{\n",
       "        var display = window.getComputedStyle(gd).display;\n",
       "        if (!display || display === 'none') {{\n",
       "            console.log([gd, 'removed!']);\n",
       "            Plotly.purge(gd);\n",
       "            observer.disconnect();\n",
       "        }}\n",
       "}});\n",
       "\n",
       "// Listen for the removal of the full notebook cells\n",
       "var notebookContainer = gd.closest('#notebook-container');\n",
       "if (notebookContainer) {{\n",
       "    x.observe(notebookContainer, {childList: true});\n",
       "}}\n",
       "\n",
       "// Listen for the clearing of the current output cell\n",
       "var outputEl = gd.closest('.output');\n",
       "if (outputEl) {{\n",
       "    x.observe(outputEl, {childList: true});\n",
       "}}\n",
       "\n",
       "                        })                };                });            </script>        </div>"
      ]
     },
     "metadata": {},
     "output_type": "display_data"
    },
    {
     "data": {
      "application/vnd.plotly.v1+json": {
       "config": {
        "plotlyServerURL": "https://plot.ly"
       },
       "data": [
        {
         "branchvalues": "total",
         "customdata": [
          [
           0.03519330343649086
          ],
          [
           0.040514562922019944
          ],
          [
           0.04510924499655746
          ],
          [
           0.03847932937101488
          ],
          [
           0.03996963451727454
          ],
          [
           0.046426798554571894
          ],
          [
           0.03461784990164954
          ],
          [
           0.04020849940249185
          ],
          [
           0.044587673104598574
          ],
          [
           0.03782119797913867
          ],
          [
           0.03916407354502244
          ],
          [
           0.0452695816685556
          ],
          [
           0.03474251866194777
          ],
          [
           0.04021263010062826
          ],
          [
           0.04511155686846027
          ],
          [
           0.037584095837788045
          ],
          [
           0.03887197169445786
          ],
          [
           0.04499298249266557
          ],
          [
           0.03616354914733183
          ],
          [
           0.039757135083000675
          ],
          [
           0.045678884221085854
          ],
          [
           0.038355411139618815
          ],
          [
           0.03797141158213577
          ],
          [
           0.044805658856388327
          ],
          [
           0.03153525138456293
          ],
          [
           0.038161706502559185
          ],
          [
           0.04284474398838299
          ],
          [
           0.03547707158357881
          ],
          [
           0.03638540705298489
          ],
          [
           0.042527299509660235
          ],
          [
           0.03286740480808832
          ],
          [
           0.03856322301216931
          ],
          [
           0.0427822047727529
          ],
          [
           0.03632957807085215
          ],
          [
           0.03630064291251495
          ],
          [
           0.04187599421496154
          ],
          [
           0.0314306491237045
          ],
          [
           0.03728322725996939
          ],
          [
           0.04120038403438326
          ],
          [
           0.03489147980679911
          ],
          [
           0.03505312720353325
          ],
          [
           0.0403070157962006
          ],
          [
           0.03168469583257247
          ],
          [
           0.036611832478441644
          ],
          [
           0.04136952045278305
          ],
          [
           0.035114345671807656
          ],
          [
           0.03439214308768251
          ],
          [
           0.040093091097540834
          ],
          [
           0.0324752409011406
          ],
          [
           0.036956670873174204
          ],
          [
           0.04148932703069133
          ],
          [
           0.03541507480857352
          ],
          [
           0.03457560036420502
          ],
          [
           0.03986796376143742
          ],
          [
           0.032645003973815194
          ],
          [
           0.0349618570008902
          ],
          [
           0.038833570249587106
          ],
          [
           0.035060969460241606
          ],
          [
           0.03319623294666436
          ],
          [
           0.038159968801701596
          ],
          [
           0.032519482122980864
          ],
          [
           0.03518664972407563
          ],
          [
           0.03868827589414249
          ],
          [
           0.03493411534113247
          ],
          [
           0.03332089468442241
          ],
          [
           0.037647230390802554
          ],
          [
           0.03187087127343111
          ],
          [
           0.03520332261188949
          ],
          [
           0.03734907950286049
          ],
          [
           0.03427013598704076
          ],
          [
           0.03308547548175237
          ],
          [
           0.036592860466976455
          ],
          [
           0.033534501359338394
          ],
          [
           0.034643706372175447
          ],
          [
           0.038564162070278483
          ],
          [
           0.03523548474778691
          ],
          [
           0.032734015319962034
          ],
          [
           0.037262670877229315
          ],
          [
           0.03266256799403208
          ],
          [
           0.03414018101010625
          ],
          [
           0.037955243053283384
          ],
          [
           0.03456693216930542
          ],
          [
           0.032583571457132164
          ],
          [
           0.03690422597640615
          ],
          [
           0.0311949745231847
          ],
          [
           0.033045687804646784
          ],
          [
           0.03630978566165901
          ],
          [
           0.03307850107644646
          ],
          [
           0.0320108847974196
          ],
          [
           0.035918340666068124
          ],
          [
           0.0332080847099395
          ],
          [
           0.033263948343019836
          ],
          [
           0.03837550697061198
          ],
          [
           0.034531510631988054
          ],
          [
           0.032153915026914955
          ],
          [
           0.03732961795079089
          ],
          [
           0.03247252418256048
          ],
          [
           0.03210071535787659
          ],
          [
           0.036666959085443304
          ],
          [
           0.03389686900692937
          ],
          [
           0.03139390640126228
          ],
          [
           0.036441431867427446
          ],
          [
           0.032925247387038316
          ],
          [
           0.03215171707549506
          ],
          [
           0.03700727052307493
          ],
          [
           0.03412901751736338
          ],
          [
           0.03168133650818341
          ],
          [
           0.03685213551956688
          ],
          [
           0.03240035886336468
          ],
          [
           0.03161998121151686
          ],
          [
           0.03674720606583345
          ],
          [
           0.03387668850777107
          ],
          [
           0.0315782523707325
          ],
          [
           0.03678907625350316
          ],
          [
           0.03213356606994059
          ],
          [
           0.030783222815031288
          ],
          [
           0.035077707787660166
          ],
          [
           0.03362170452670253
          ],
          [
           0.03119705336588652
          ],
          [
           0.0358621981548881
          ],
          [
           0.03474081527037226
          ],
          [
           0.03548366974857206
          ],
          [
           0.03928036229439527
          ],
          [
           0.037439626034843396
          ],
          [
           0.03632846474874136
          ],
          [
           0.041362404908870845
          ],
          [
           0.033019344811084164
          ],
          [
           0.035647660324191525
          ],
          [
           0.040108724363287294
          ],
          [
           0.035426617825318134
          ],
          [
           0.034353963584150424
          ],
          [
           0.0396979848030979
          ],
          [
           0.034237840331068414
          ],
          [
           0.034998341404512204
          ],
          [
           0.039909968559517
          ]
         ],
         "domain": {
          "x": [
           0,
           1
          ],
          "y": [
           0,
           1
          ]
         },
         "hovertemplate": "labels=%{label}<br>Deaths=%{value}<br>parent=%{parent}<br>id=%{id}<br>DeathRate=%{color}<extra></extra>",
         "ids": [
          "France/Female/2000",
          "The United States of America/Female/2000",
          "United Kingdom/Female/2000",
          "France/Male/2000",
          "The United States of America/Male/2000",
          "United Kingdom/Male/2000",
          "France/Female/2001",
          "The United States of America/Female/2001",
          "United Kingdom/Female/2001",
          "France/Male/2001",
          "The United States of America/Male/2001",
          "United Kingdom/Male/2001",
          "France/Female/2002",
          "The United States of America/Female/2002",
          "United Kingdom/Female/2002",
          "France/Male/2002",
          "The United States of America/Male/2002",
          "United Kingdom/Male/2002",
          "France/Female/2003",
          "The United States of America/Female/2003",
          "United Kingdom/Female/2003",
          "France/Male/2003",
          "The United States of America/Male/2003",
          "United Kingdom/Male/2003",
          "France/Female/2004",
          "The United States of America/Female/2004",
          "United Kingdom/Female/2004",
          "France/Male/2004",
          "The United States of America/Male/2004",
          "United Kingdom/Male/2004",
          "France/Female/2005",
          "The United States of America/Female/2005",
          "United Kingdom/Female/2005",
          "France/Male/2005",
          "The United States of America/Male/2005",
          "United Kingdom/Male/2005",
          "France/Female/2006",
          "The United States of America/Female/2006",
          "United Kingdom/Female/2006",
          "France/Male/2006",
          "The United States of America/Male/2006",
          "United Kingdom/Male/2006",
          "France/Female/2007",
          "The United States of America/Female/2007",
          "United Kingdom/Female/2007",
          "France/Male/2007",
          "The United States of America/Male/2007",
          "United Kingdom/Male/2007",
          "France/Female/2008",
          "The United States of America/Female/2008",
          "United Kingdom/Female/2008",
          "France/Male/2008",
          "The United States of America/Male/2008",
          "United Kingdom/Male/2008",
          "France/Female/2009",
          "The United States of America/Female/2009",
          "United Kingdom/Female/2009",
          "France/Male/2009",
          "The United States of America/Male/2009",
          "United Kingdom/Male/2009",
          "France/Female/2010",
          "The United States of America/Female/2010",
          "United Kingdom/Female/2010",
          "France/Male/2010",
          "The United States of America/Male/2010",
          "United Kingdom/Male/2010",
          "France/Female/2011",
          "The United States of America/Female/2011",
          "United Kingdom/Female/2011",
          "France/Male/2011",
          "The United States of America/Male/2011",
          "United Kingdom/Male/2011",
          "France/Female/2012",
          "The United States of America/Female/2012",
          "United Kingdom/Female/2012",
          "France/Male/2012",
          "The United States of America/Male/2012",
          "United Kingdom/Male/2012",
          "France/Female/2013",
          "The United States of America/Female/2013",
          "United Kingdom/Female/2013",
          "France/Male/2013",
          "The United States of America/Male/2013",
          "United Kingdom/Male/2013",
          "France/Female/2014",
          "The United States of America/Female/2014",
          "United Kingdom/Female/2014",
          "France/Male/2014",
          "The United States of America/Male/2014",
          "United Kingdom/Male/2014",
          "France/Female/2015",
          "The United States of America/Female/2015",
          "United Kingdom/Female/2015",
          "France/Male/2015",
          "The United States of America/Male/2015",
          "United Kingdom/Male/2015",
          "France/Female/2016",
          "The United States of America/Female/2016",
          "United Kingdom/Female/2016",
          "France/Male/2016",
          "The United States of America/Male/2016",
          "United Kingdom/Male/2016",
          "France/Female/2017",
          "The United States of America/Female/2017",
          "United Kingdom/Female/2017",
          "France/Male/2017",
          "The United States of America/Male/2017",
          "United Kingdom/Male/2017",
          "France/Female/2018",
          "The United States of America/Female/2018",
          "United Kingdom/Female/2018",
          "France/Male/2018",
          "The United States of America/Male/2018",
          "United Kingdom/Male/2018",
          "France/Female/2019",
          "The United States of America/Female/2019",
          "United Kingdom/Female/2019",
          "France/Male/2019",
          "The United States of America/Male/2019",
          "United Kingdom/Male/2019",
          "France/Female/2020",
          "The United States of America/Female/2020",
          "United Kingdom/Female/2020",
          "France/Male/2020",
          "The United States of America/Male/2020",
          "United Kingdom/Male/2020",
          "France/Female",
          "The United States of America/Female",
          "United Kingdom/Female",
          "France/Male",
          "The United States of America/Male",
          "United Kingdom/Male",
          "France",
          "The United States of America",
          "United Kingdom"
         ],
         "labels": [
          "2000",
          "2000",
          "2000",
          "2000",
          "2000",
          "2000",
          "2001",
          "2001",
          "2001",
          "2001",
          "2001",
          "2001",
          "2002",
          "2002",
          "2002",
          "2002",
          "2002",
          "2002",
          "2003",
          "2003",
          "2003",
          "2003",
          "2003",
          "2003",
          "2004",
          "2004",
          "2004",
          "2004",
          "2004",
          "2004",
          "2005",
          "2005",
          "2005",
          "2005",
          "2005",
          "2005",
          "2006",
          "2006",
          "2006",
          "2006",
          "2006",
          "2006",
          "2007",
          "2007",
          "2007",
          "2007",
          "2007",
          "2007",
          "2008",
          "2008",
          "2008",
          "2008",
          "2008",
          "2008",
          "2009",
          "2009",
          "2009",
          "2009",
          "2009",
          "2009",
          "2010",
          "2010",
          "2010",
          "2010",
          "2010",
          "2010",
          "2011",
          "2011",
          "2011",
          "2011",
          "2011",
          "2011",
          "2012",
          "2012",
          "2012",
          "2012",
          "2012",
          "2012",
          "2013",
          "2013",
          "2013",
          "2013",
          "2013",
          "2013",
          "2014",
          "2014",
          "2014",
          "2014",
          "2014",
          "2014",
          "2015",
          "2015",
          "2015",
          "2015",
          "2015",
          "2015",
          "2016",
          "2016",
          "2016",
          "2016",
          "2016",
          "2016",
          "2017",
          "2017",
          "2017",
          "2017",
          "2017",
          "2017",
          "2018",
          "2018",
          "2018",
          "2018",
          "2018",
          "2018",
          "2019",
          "2019",
          "2019",
          "2019",
          "2019",
          "2019",
          "2020",
          "2020",
          "2020",
          "2020",
          "2020",
          "2020",
          "Female",
          "Female",
          "Female",
          "Male",
          "Male",
          "Male",
          "France",
          "The United States of America",
          "United Kingdom"
         ],
         "marker": {
          "coloraxis": "coloraxis",
          "colors": [
           0.03519330343649086,
           0.040514562922019944,
           0.04510924499655746,
           0.03847932937101488,
           0.03996963451727454,
           0.046426798554571894,
           0.03461784990164954,
           0.04020849940249185,
           0.044587673104598574,
           0.03782119797913867,
           0.03916407354502244,
           0.0452695816685556,
           0.03474251866194777,
           0.04021263010062826,
           0.04511155686846027,
           0.037584095837788045,
           0.03887197169445786,
           0.04499298249266557,
           0.03616354914733183,
           0.039757135083000675,
           0.045678884221085854,
           0.038355411139618815,
           0.03797141158213577,
           0.044805658856388327,
           0.03153525138456293,
           0.038161706502559185,
           0.04284474398838299,
           0.03547707158357881,
           0.03638540705298489,
           0.042527299509660235,
           0.03286740480808832,
           0.03856322301216931,
           0.0427822047727529,
           0.03632957807085215,
           0.03630064291251495,
           0.04187599421496154,
           0.0314306491237045,
           0.03728322725996939,
           0.04120038403438326,
           0.03489147980679911,
           0.03505312720353325,
           0.0403070157962006,
           0.03168469583257247,
           0.036611832478441644,
           0.04136952045278305,
           0.035114345671807656,
           0.03439214308768251,
           0.040093091097540834,
           0.0324752409011406,
           0.036956670873174204,
           0.04148932703069133,
           0.03541507480857352,
           0.03457560036420502,
           0.03986796376143742,
           0.032645003973815194,
           0.0349618570008902,
           0.038833570249587106,
           0.035060969460241606,
           0.03319623294666436,
           0.038159968801701596,
           0.032519482122980864,
           0.03518664972407563,
           0.03868827589414249,
           0.03493411534113247,
           0.03332089468442241,
           0.037647230390802554,
           0.03187087127343111,
           0.03520332261188949,
           0.03734907950286049,
           0.03427013598704076,
           0.03308547548175237,
           0.036592860466976455,
           0.033534501359338394,
           0.034643706372175447,
           0.038564162070278483,
           0.03523548474778691,
           0.032734015319962034,
           0.037262670877229315,
           0.03266256799403208,
           0.03414018101010625,
           0.037955243053283384,
           0.03456693216930542,
           0.032583571457132164,
           0.03690422597640615,
           0.0311949745231847,
           0.033045687804646784,
           0.03630978566165901,
           0.03307850107644646,
           0.0320108847974196,
           0.035918340666068124,
           0.0332080847099395,
           0.033263948343019836,
           0.03837550697061198,
           0.034531510631988054,
           0.032153915026914955,
           0.03732961795079089,
           0.03247252418256048,
           0.03210071535787659,
           0.036666959085443304,
           0.03389686900692937,
           0.03139390640126228,
           0.036441431867427446,
           0.032925247387038316,
           0.03215171707549506,
           0.03700727052307493,
           0.03412901751736338,
           0.03168133650818341,
           0.03685213551956688,
           0.03240035886336468,
           0.03161998121151686,
           0.03674720606583345,
           0.03387668850777107,
           0.0315782523707325,
           0.03678907625350316,
           0.03213356606994059,
           0.030783222815031288,
           0.035077707787660166,
           0.03362170452670253,
           0.03119705336588652,
           0.0358621981548881,
           0.03474081527037226,
           0.03548366974857206,
           0.03928036229439527,
           0.037439626034843396,
           0.03632846474874136,
           0.041362404908870845,
           0.033019344811084164,
           0.035647660324191525,
           0.040108724363287294,
           0.035426617825318134,
           0.034353963584150424,
           0.0396979848030979,
           0.034237840331068414,
           0.034998341404512204,
           0.039909968559517
          ]
         },
         "name": "",
         "parents": [
          "France/Female",
          "The United States of America/Female",
          "United Kingdom/Female",
          "France/Male",
          "The United States of America/Male",
          "United Kingdom/Male",
          "France/Female",
          "The United States of America/Female",
          "United Kingdom/Female",
          "France/Male",
          "The United States of America/Male",
          "United Kingdom/Male",
          "France/Female",
          "The United States of America/Female",
          "United Kingdom/Female",
          "France/Male",
          "The United States of America/Male",
          "United Kingdom/Male",
          "France/Female",
          "The United States of America/Female",
          "United Kingdom/Female",
          "France/Male",
          "The United States of America/Male",
          "United Kingdom/Male",
          "France/Female",
          "The United States of America/Female",
          "United Kingdom/Female",
          "France/Male",
          "The United States of America/Male",
          "United Kingdom/Male",
          "France/Female",
          "The United States of America/Female",
          "United Kingdom/Female",
          "France/Male",
          "The United States of America/Male",
          "United Kingdom/Male",
          "France/Female",
          "The United States of America/Female",
          "United Kingdom/Female",
          "France/Male",
          "The United States of America/Male",
          "United Kingdom/Male",
          "France/Female",
          "The United States of America/Female",
          "United Kingdom/Female",
          "France/Male",
          "The United States of America/Male",
          "United Kingdom/Male",
          "France/Female",
          "The United States of America/Female",
          "United Kingdom/Female",
          "France/Male",
          "The United States of America/Male",
          "United Kingdom/Male",
          "France/Female",
          "The United States of America/Female",
          "United Kingdom/Female",
          "France/Male",
          "The United States of America/Male",
          "United Kingdom/Male",
          "France/Female",
          "The United States of America/Female",
          "United Kingdom/Female",
          "France/Male",
          "The United States of America/Male",
          "United Kingdom/Male",
          "France/Female",
          "The United States of America/Female",
          "United Kingdom/Female",
          "France/Male",
          "The United States of America/Male",
          "United Kingdom/Male",
          "France/Female",
          "The United States of America/Female",
          "United Kingdom/Female",
          "France/Male",
          "The United States of America/Male",
          "United Kingdom/Male",
          "France/Female",
          "The United States of America/Female",
          "United Kingdom/Female",
          "France/Male",
          "The United States of America/Male",
          "United Kingdom/Male",
          "France/Female",
          "The United States of America/Female",
          "United Kingdom/Female",
          "France/Male",
          "The United States of America/Male",
          "United Kingdom/Male",
          "France/Female",
          "The United States of America/Female",
          "United Kingdom/Female",
          "France/Male",
          "The United States of America/Male",
          "United Kingdom/Male",
          "France/Female",
          "The United States of America/Female",
          "United Kingdom/Female",
          "France/Male",
          "The United States of America/Male",
          "United Kingdom/Male",
          "France/Female",
          "The United States of America/Female",
          "United Kingdom/Female",
          "France/Male",
          "The United States of America/Male",
          "United Kingdom/Male",
          "France/Female",
          "The United States of America/Female",
          "United Kingdom/Female",
          "France/Male",
          "The United States of America/Male",
          "United Kingdom/Male",
          "France/Female",
          "The United States of America/Female",
          "United Kingdom/Female",
          "France/Male",
          "The United States of America/Male",
          "United Kingdom/Male",
          "France/Female",
          "The United States of America/Female",
          "United Kingdom/Female",
          "France/Male",
          "The United States of America/Male",
          "United Kingdom/Male",
          "France",
          "The United States of America",
          "United Kingdom",
          "France",
          "The United States of America",
          "United Kingdom",
          "",
          "",
          ""
         ],
         "type": "sunburst",
         "values": [
          258821,
          1225773.05,
          318180.99,
          272043,
          1177577.96,
          290186,
          258799,
          1233003.96,
          315511,
          272274,
          1183420.95,
          286757,
          262137,
          1244122.97,
          318381,
          273007,
          1199263.94,
          287835.01,
          273315,
          1246324.03,
          322583.95999999996,
          279024,
          1201964,
          288604.04,
          246342,
          1215947.04,
          305242,
          263087,
          1181667.98,
          277840,
          256899.01,
          1240342.02,
          305860.01,
          270634,
          1207675.97,
          276803,
          250608.99,
          1224321.99,
          298023,
          265807.01,
          1201941.96,
          274201,
          252810.03,
          1219743.97,
          299797,
          268205.99,
          1203968.02,
          274890,
          260434.01,
          1245786.92,
          302952,
          271697,
          1226196.92,
          276745,
          264199,
          1219784.03,
          288813,
          273917,
          1217378.99,
          270804,
          265054.01,
          1236002.92,
          290721,
          275415,
          1232431.97,
          270945,
          262325.01,
          1260479.93,
          284741,
          272470,
          1254977.93,
          267491,
          277758.99,
          1269556.98,
          295677.01,
          281467.99,
          1273721.97,
          273347,
          276981,
          1290958.96,
          297287.02,
          281427.02,
          1306034.02,
          279171.01,
          271345.99,
          1298176.95,
          291886,
          275657,
          1328240,
          278455,
          291148.99,
          1339225.92,
          310074.97,
          290621,
          1373404.1,
          292707.01,
          290983.01,
          1344015.9200000002,
          304205.01,
          290089.99,
          1400232.02,
          293000.99,
          299385.99,
          1374391.91,
          308328.98,
          294219.99,
          1439111.02,
          298843.01,
          299981,
          1380735.88,
          311640.99,
          296571.01,
          1458468.99,
          304373.01,
          302009.01,
          1381014.96,
          303128.01,
          297399.01,
          1473822.9300000002,
          301579,
          327293.01,
          1613844.9,
          340696.98,
          327305.99,
          1769884.06,
          348932.01,
          5748631.05,
          27103555.21,
          6413730.93,
          5892340,
          27311385.7,
          6013509.09,
          11640971.05,
          54414940.91,
          12427240.02
         ]
        }
       ],
       "layout": {
        "autosize": true,
        "coloraxis": {
         "colorbar": {
          "title": {
           "text": "DeathRate"
          }
         },
         "colorscale": [
          [
           0,
           "rgb(230, 240, 240)"
          ],
          [
           0.09090909090909091,
           "rgb(191, 221, 229)"
          ],
          [
           0.18181818181818182,
           "rgb(156, 201, 226)"
          ],
          [
           0.2727272727272727,
           "rgb(129, 180, 227)"
          ],
          [
           0.36363636363636365,
           "rgb(115, 154, 228)"
          ],
          [
           0.45454545454545453,
           "rgb(117, 127, 221)"
          ],
          [
           0.5454545454545454,
           "rgb(120, 100, 202)"
          ],
          [
           0.6363636363636364,
           "rgb(119, 74, 175)"
          ],
          [
           0.7272727272727273,
           "rgb(113, 50, 141)"
          ],
          [
           0.8181818181818182,
           "rgb(100, 31, 104)"
          ],
          [
           0.9090909090909091,
           "rgb(80, 20, 66)"
          ],
          [
           1,
           "rgb(54, 14, 36)"
          ]
         ]
        },
        "legend": {
         "tracegroupgap": 0
        },
        "margin": {
         "b": 30,
         "l": 2,
         "r": 2,
         "t": 34
        },
        "template": {
         "data": {
          "bar": [
           {
            "error_x": {
             "color": "#2a3f5f"
            },
            "error_y": {
             "color": "#2a3f5f"
            },
            "marker": {
             "line": {
              "color": "#E5ECF6",
              "width": 0.5
             },
             "pattern": {
              "fillmode": "overlay",
              "size": 10,
              "solidity": 0.2
             }
            },
            "type": "bar"
           }
          ],
          "barpolar": [
           {
            "marker": {
             "line": {
              "color": "#E5ECF6",
              "width": 0.5
             },
             "pattern": {
              "fillmode": "overlay",
              "size": 10,
              "solidity": 0.2
             }
            },
            "type": "barpolar"
           }
          ],
          "carpet": [
           {
            "aaxis": {
             "endlinecolor": "#2a3f5f",
             "gridcolor": "white",
             "linecolor": "white",
             "minorgridcolor": "white",
             "startlinecolor": "#2a3f5f"
            },
            "baxis": {
             "endlinecolor": "#2a3f5f",
             "gridcolor": "white",
             "linecolor": "white",
             "minorgridcolor": "white",
             "startlinecolor": "#2a3f5f"
            },
            "type": "carpet"
           }
          ],
          "choropleth": [
           {
            "colorbar": {
             "outlinewidth": 0,
             "ticks": ""
            },
            "type": "choropleth"
           }
          ],
          "contour": [
           {
            "colorbar": {
             "outlinewidth": 0,
             "ticks": ""
            },
            "colorscale": [
             [
              0,
              "#0d0887"
             ],
             [
              0.1111111111111111,
              "#46039f"
             ],
             [
              0.2222222222222222,
              "#7201a8"
             ],
             [
              0.3333333333333333,
              "#9c179e"
             ],
             [
              0.4444444444444444,
              "#bd3786"
             ],
             [
              0.5555555555555556,
              "#d8576b"
             ],
             [
              0.6666666666666666,
              "#ed7953"
             ],
             [
              0.7777777777777778,
              "#fb9f3a"
             ],
             [
              0.8888888888888888,
              "#fdca26"
             ],
             [
              1,
              "#f0f921"
             ]
            ],
            "type": "contour"
           }
          ],
          "contourcarpet": [
           {
            "colorbar": {
             "outlinewidth": 0,
             "ticks": ""
            },
            "type": "contourcarpet"
           }
          ],
          "heatmap": [
           {
            "colorbar": {
             "outlinewidth": 0,
             "ticks": ""
            },
            "colorscale": [
             [
              0,
              "#0d0887"
             ],
             [
              0.1111111111111111,
              "#46039f"
             ],
             [
              0.2222222222222222,
              "#7201a8"
             ],
             [
              0.3333333333333333,
              "#9c179e"
             ],
             [
              0.4444444444444444,
              "#bd3786"
             ],
             [
              0.5555555555555556,
              "#d8576b"
             ],
             [
              0.6666666666666666,
              "#ed7953"
             ],
             [
              0.7777777777777778,
              "#fb9f3a"
             ],
             [
              0.8888888888888888,
              "#fdca26"
             ],
             [
              1,
              "#f0f921"
             ]
            ],
            "type": "heatmap"
           }
          ],
          "heatmapgl": [
           {
            "colorbar": {
             "outlinewidth": 0,
             "ticks": ""
            },
            "colorscale": [
             [
              0,
              "#0d0887"
             ],
             [
              0.1111111111111111,
              "#46039f"
             ],
             [
              0.2222222222222222,
              "#7201a8"
             ],
             [
              0.3333333333333333,
              "#9c179e"
             ],
             [
              0.4444444444444444,
              "#bd3786"
             ],
             [
              0.5555555555555556,
              "#d8576b"
             ],
             [
              0.6666666666666666,
              "#ed7953"
             ],
             [
              0.7777777777777778,
              "#fb9f3a"
             ],
             [
              0.8888888888888888,
              "#fdca26"
             ],
             [
              1,
              "#f0f921"
             ]
            ],
            "type": "heatmapgl"
           }
          ],
          "histogram": [
           {
            "marker": {
             "pattern": {
              "fillmode": "overlay",
              "size": 10,
              "solidity": 0.2
             }
            },
            "type": "histogram"
           }
          ],
          "histogram2d": [
           {
            "colorbar": {
             "outlinewidth": 0,
             "ticks": ""
            },
            "colorscale": [
             [
              0,
              "#0d0887"
             ],
             [
              0.1111111111111111,
              "#46039f"
             ],
             [
              0.2222222222222222,
              "#7201a8"
             ],
             [
              0.3333333333333333,
              "#9c179e"
             ],
             [
              0.4444444444444444,
              "#bd3786"
             ],
             [
              0.5555555555555556,
              "#d8576b"
             ],
             [
              0.6666666666666666,
              "#ed7953"
             ],
             [
              0.7777777777777778,
              "#fb9f3a"
             ],
             [
              0.8888888888888888,
              "#fdca26"
             ],
             [
              1,
              "#f0f921"
             ]
            ],
            "type": "histogram2d"
           }
          ],
          "histogram2dcontour": [
           {
            "colorbar": {
             "outlinewidth": 0,
             "ticks": ""
            },
            "colorscale": [
             [
              0,
              "#0d0887"
             ],
             [
              0.1111111111111111,
              "#46039f"
             ],
             [
              0.2222222222222222,
              "#7201a8"
             ],
             [
              0.3333333333333333,
              "#9c179e"
             ],
             [
              0.4444444444444444,
              "#bd3786"
             ],
             [
              0.5555555555555556,
              "#d8576b"
             ],
             [
              0.6666666666666666,
              "#ed7953"
             ],
             [
              0.7777777777777778,
              "#fb9f3a"
             ],
             [
              0.8888888888888888,
              "#fdca26"
             ],
             [
              1,
              "#f0f921"
             ]
            ],
            "type": "histogram2dcontour"
           }
          ],
          "mesh3d": [
           {
            "colorbar": {
             "outlinewidth": 0,
             "ticks": ""
            },
            "type": "mesh3d"
           }
          ],
          "parcoords": [
           {
            "line": {
             "colorbar": {
              "outlinewidth": 0,
              "ticks": ""
             }
            },
            "type": "parcoords"
           }
          ],
          "pie": [
           {
            "automargin": true,
            "type": "pie"
           }
          ],
          "scatter": [
           {
            "fillpattern": {
             "fillmode": "overlay",
             "size": 10,
             "solidity": 0.2
            },
            "type": "scatter"
           }
          ],
          "scatter3d": [
           {
            "line": {
             "colorbar": {
              "outlinewidth": 0,
              "ticks": ""
             }
            },
            "marker": {
             "colorbar": {
              "outlinewidth": 0,
              "ticks": ""
             }
            },
            "type": "scatter3d"
           }
          ],
          "scattercarpet": [
           {
            "marker": {
             "colorbar": {
              "outlinewidth": 0,
              "ticks": ""
             }
            },
            "type": "scattercarpet"
           }
          ],
          "scattergeo": [
           {
            "marker": {
             "colorbar": {
              "outlinewidth": 0,
              "ticks": ""
             }
            },
            "type": "scattergeo"
           }
          ],
          "scattergl": [
           {
            "marker": {
             "colorbar": {
              "outlinewidth": 0,
              "ticks": ""
             }
            },
            "type": "scattergl"
           }
          ],
          "scattermapbox": [
           {
            "marker": {
             "colorbar": {
              "outlinewidth": 0,
              "ticks": ""
             }
            },
            "type": "scattermapbox"
           }
          ],
          "scatterpolar": [
           {
            "marker": {
             "colorbar": {
              "outlinewidth": 0,
              "ticks": ""
             }
            },
            "type": "scatterpolar"
           }
          ],
          "scatterpolargl": [
           {
            "marker": {
             "colorbar": {
              "outlinewidth": 0,
              "ticks": ""
             }
            },
            "type": "scatterpolargl"
           }
          ],
          "scatterternary": [
           {
            "marker": {
             "colorbar": {
              "outlinewidth": 0,
              "ticks": ""
             }
            },
            "type": "scatterternary"
           }
          ],
          "surface": [
           {
            "colorbar": {
             "outlinewidth": 0,
             "ticks": ""
            },
            "colorscale": [
             [
              0,
              "#0d0887"
             ],
             [
              0.1111111111111111,
              "#46039f"
             ],
             [
              0.2222222222222222,
              "#7201a8"
             ],
             [
              0.3333333333333333,
              "#9c179e"
             ],
             [
              0.4444444444444444,
              "#bd3786"
             ],
             [
              0.5555555555555556,
              "#d8576b"
             ],
             [
              0.6666666666666666,
              "#ed7953"
             ],
             [
              0.7777777777777778,
              "#fb9f3a"
             ],
             [
              0.8888888888888888,
              "#fdca26"
             ],
             [
              1,
              "#f0f921"
             ]
            ],
            "type": "surface"
           }
          ],
          "table": [
           {
            "cells": {
             "fill": {
              "color": "#EBF0F8"
             },
             "line": {
              "color": "white"
             }
            },
            "header": {
             "fill": {
              "color": "#C8D4E3"
             },
             "line": {
              "color": "white"
             }
            },
            "type": "table"
           }
          ]
         },
         "layout": {
          "annotationdefaults": {
           "arrowcolor": "#2a3f5f",
           "arrowhead": 0,
           "arrowwidth": 1
          },
          "autotypenumbers": "strict",
          "coloraxis": {
           "colorbar": {
            "outlinewidth": 0,
            "ticks": ""
           }
          },
          "colorscale": {
           "diverging": [
            [
             0,
             "#8e0152"
            ],
            [
             0.1,
             "#c51b7d"
            ],
            [
             0.2,
             "#de77ae"
            ],
            [
             0.3,
             "#f1b6da"
            ],
            [
             0.4,
             "#fde0ef"
            ],
            [
             0.5,
             "#f7f7f7"
            ],
            [
             0.6,
             "#e6f5d0"
            ],
            [
             0.7,
             "#b8e186"
            ],
            [
             0.8,
             "#7fbc41"
            ],
            [
             0.9,
             "#4d9221"
            ],
            [
             1,
             "#276419"
            ]
           ],
           "sequential": [
            [
             0,
             "#0d0887"
            ],
            [
             0.1111111111111111,
             "#46039f"
            ],
            [
             0.2222222222222222,
             "#7201a8"
            ],
            [
             0.3333333333333333,
             "#9c179e"
            ],
            [
             0.4444444444444444,
             "#bd3786"
            ],
            [
             0.5555555555555556,
             "#d8576b"
            ],
            [
             0.6666666666666666,
             "#ed7953"
            ],
            [
             0.7777777777777778,
             "#fb9f3a"
            ],
            [
             0.8888888888888888,
             "#fdca26"
            ],
            [
             1,
             "#f0f921"
            ]
           ],
           "sequentialminus": [
            [
             0,
             "#0d0887"
            ],
            [
             0.1111111111111111,
             "#46039f"
            ],
            [
             0.2222222222222222,
             "#7201a8"
            ],
            [
             0.3333333333333333,
             "#9c179e"
            ],
            [
             0.4444444444444444,
             "#bd3786"
            ],
            [
             0.5555555555555556,
             "#d8576b"
            ],
            [
             0.6666666666666666,
             "#ed7953"
            ],
            [
             0.7777777777777778,
             "#fb9f3a"
            ],
            [
             0.8888888888888888,
             "#fdca26"
            ],
            [
             1,
             "#f0f921"
            ]
           ]
          },
          "colorway": [
           "#636efa",
           "#EF553B",
           "#00cc96",
           "#ab63fa",
           "#FFA15A",
           "#19d3f3",
           "#FF6692",
           "#B6E880",
           "#FF97FF",
           "#FECB52"
          ],
          "font": {
           "color": "#2a3f5f"
          },
          "geo": {
           "bgcolor": "white",
           "lakecolor": "white",
           "landcolor": "#E5ECF6",
           "showlakes": true,
           "showland": true,
           "subunitcolor": "white"
          },
          "hoverlabel": {
           "align": "left"
          },
          "hovermode": "closest",
          "mapbox": {
           "style": "light"
          },
          "paper_bgcolor": "white",
          "plot_bgcolor": "#E5ECF6",
          "polar": {
           "angularaxis": {
            "gridcolor": "white",
            "linecolor": "white",
            "ticks": ""
           },
           "bgcolor": "#E5ECF6",
           "radialaxis": {
            "gridcolor": "white",
            "linecolor": "white",
            "ticks": ""
           }
          },
          "scene": {
           "xaxis": {
            "backgroundcolor": "#E5ECF6",
            "gridcolor": "white",
            "gridwidth": 2,
            "linecolor": "white",
            "showbackground": true,
            "ticks": "",
            "zerolinecolor": "white"
           },
           "yaxis": {
            "backgroundcolor": "#E5ECF6",
            "gridcolor": "white",
            "gridwidth": 2,
            "linecolor": "white",
            "showbackground": true,
            "ticks": "",
            "zerolinecolor": "white"
           },
           "zaxis": {
            "backgroundcolor": "#E5ECF6",
            "gridcolor": "white",
            "gridwidth": 2,
            "linecolor": "white",
            "showbackground": true,
            "ticks": "",
            "zerolinecolor": "white"
           }
          },
          "shapedefaults": {
           "line": {
            "color": "#2a3f5f"
           }
          },
          "ternary": {
           "aaxis": {
            "gridcolor": "white",
            "linecolor": "white",
            "ticks": ""
           },
           "baxis": {
            "gridcolor": "white",
            "linecolor": "white",
            "ticks": ""
           },
           "bgcolor": "#E5ECF6",
           "caxis": {
            "gridcolor": "white",
            "linecolor": "white",
            "ticks": ""
           }
          },
          "title": {
           "x": 0.05
          },
          "xaxis": {
           "automargin": true,
           "gridcolor": "white",
           "linecolor": "white",
           "ticks": "",
           "title": {
            "standoff": 15
           },
           "zerolinecolor": "white",
           "zerolinewidth": 2
          },
          "yaxis": {
           "automargin": true,
           "gridcolor": "white",
           "linecolor": "white",
           "ticks": "",
           "title": {
            "standoff": 15
           },
           "zerolinecolor": "white",
           "zerolinewidth": 2
          }
         }
        },
        "title": {
         "text": "Deaths and Death Rates of USA, UK and France from different genders from 2000 to 2020"
        }
       }
      },
      "image/png": "[encoded data removed]",
      "text/html": [
       "<div>                            <div id=\"4849bc21-c383-4d14-8865-53756f3ce8dc\" class=\"plotly-graph-div\" style=\"height:525px; width:100%;\"></div>            <script type=\"text/javascript\">                require([\"plotly\"], function(Plotly) {                    window.PLOTLYENV=window.PLOTLYENV || {};                                    if (document.getElementById(\"4849bc21-c383-4d14-8865-53756f3ce8dc\")) {                    Plotly.newPlot(                        \"4849bc21-c383-4d14-8865-53756f3ce8dc\",                        [{\"branchvalues\":\"total\",\"customdata\":[[0.03519330343649086],[0.040514562922019944],[0.04510924499655746],[0.03847932937101488],[0.03996963451727454],[0.046426798554571894],[0.03461784990164954],[0.04020849940249185],[0.044587673104598574],[0.03782119797913867],[0.03916407354502244],[0.0452695816685556],[0.03474251866194777],[0.04021263010062826],[0.04511155686846027],[0.037584095837788045],[0.03887197169445786],[0.04499298249266557],[0.03616354914733183],[0.039757135083000675],[0.045678884221085854],[0.038355411139618815],[0.03797141158213577],[0.044805658856388327],[0.03153525138456293],[0.038161706502559185],[0.04284474398838299],[0.03547707158357881],[0.03638540705298489],[0.042527299509660235],[0.03286740480808832],[0.03856322301216931],[0.0427822047727529],[0.03632957807085215],[0.03630064291251495],[0.04187599421496154],[0.0314306491237045],[0.03728322725996939],[0.04120038403438326],[0.03489147980679911],[0.03505312720353325],[0.0403070157962006],[0.03168469583257247],[0.036611832478441644],[0.04136952045278305],[0.035114345671807656],[0.03439214308768251],[0.040093091097540834],[0.0324752409011406],[0.036956670873174204],[0.04148932703069133],[0.03541507480857352],[0.03457560036420502],[0.03986796376143742],[0.032645003973815194],[0.0349618570008902],[0.038833570249587106],[0.035060969460241606],[0.03319623294666436],[0.038159968801701596],[0.032519482122980864],[0.03518664972407563],[0.03868827589414249],[0.03493411534113247],[0.03332089468442241],[0.037647230390802554],[0.03187087127343111],[0.03520332261188949],[0.03734907950286049],[0.03427013598704076],[0.03308547548175237],[0.036592860466976455],[0.033534501359338394],[0.034643706372175447],[0.038564162070278483],[0.03523548474778691],[0.032734015319962034],[0.037262670877229315],[0.03266256799403208],[0.03414018101010625],[0.037955243053283384],[0.03456693216930542],[0.032583571457132164],[0.03690422597640615],[0.0311949745231847],[0.033045687804646784],[0.03630978566165901],[0.03307850107644646],[0.0320108847974196],[0.035918340666068124],[0.0332080847099395],[0.033263948343019836],[0.03837550697061198],[0.034531510631988054],[0.032153915026914955],[0.03732961795079089],[0.03247252418256048],[0.03210071535787659],[0.036666959085443304],[0.03389686900692937],[0.03139390640126228],[0.036441431867427446],[0.032925247387038316],[0.03215171707549506],[0.03700727052307493],[0.03412901751736338],[0.03168133650818341],[0.03685213551956688],[0.03240035886336468],[0.03161998121151686],[0.03674720606583345],[0.03387668850777107],[0.0315782523707325],[0.03678907625350316],[0.03213356606994059],[0.030783222815031288],[0.035077707787660166],[0.03362170452670253],[0.03119705336588652],[0.0358621981548881],[0.03474081527037226],[0.03548366974857206],[0.03928036229439527],[0.037439626034843396],[0.03632846474874136],[0.041362404908870845],[0.033019344811084164],[0.035647660324191525],[0.040108724363287294],[0.035426617825318134],[0.034353963584150424],[0.0396979848030979],[0.034237840331068414],[0.034998341404512204],[0.039909968559517]],\"domain\":{\"x\":[0.0,1.0],\"y\":[0.0,1.0]},\"hovertemplate\":\"labels=%{label}<br>Deaths=%{value}<br>parent=%{parent}<br>id=%{id}<br>DeathRate=%{color}<extra></extra>\",\"ids\":[\"France/Female/2000\",\"The United States of America/Female/2000\",\"United Kingdom/Female/2000\",\"France/Male/2000\",\"The United States of America/Male/2000\",\"United Kingdom/Male/2000\",\"France/Female/2001\",\"The United States of America/Female/2001\",\"United Kingdom/Female/2001\",\"France/Male/2001\",\"The United States of America/Male/2001\",\"United Kingdom/Male/2001\",\"France/Female/2002\",\"The United States of America/Female/2002\",\"United Kingdom/Female/2002\",\"France/Male/2002\",\"The United States of America/Male/2002\",\"United Kingdom/Male/2002\",\"France/Female/2003\",\"The United States of America/Female/2003\",\"United Kingdom/Female/2003\",\"France/Male/2003\",\"The United States of America/Male/2003\",\"United Kingdom/Male/2003\",\"France/Female/2004\",\"The United States of America/Female/2004\",\"United Kingdom/Female/2004\",\"France/Male/2004\",\"The United States of America/Male/2004\",\"United Kingdom/Male/2004\",\"France/Female/2005\",\"The United States of America/Female/2005\",\"United Kingdom/Female/2005\",\"France/Male/2005\",\"The United States of America/Male/2005\",\"United Kingdom/Male/2005\",\"France/Female/2006\",\"The United States of America/Female/2006\",\"United Kingdom/Female/2006\",\"France/Male/2006\",\"The United States of America/Male/2006\",\"United Kingdom/Male/2006\",\"France/Female/2007\",\"The United States of America/Female/2007\",\"United Kingdom/Female/2007\",\"France/Male/2007\",\"The United States of America/Male/2007\",\"United Kingdom/Male/2007\",\"France/Female/2008\",\"The United States of America/Female/2008\",\"United Kingdom/Female/2008\",\"France/Male/2008\",\"The United States of America/Male/2008\",\"United Kingdom/Male/2008\",\"France/Female/2009\",\"The United States of America/Female/2009\",\"United Kingdom/Female/2009\",\"France/Male/2009\",\"The United States of America/Male/2009\",\"United Kingdom/Male/2009\",\"France/Female/2010\",\"The United States of America/Female/2010\",\"United Kingdom/Female/2010\",\"France/Male/2010\",\"The United States of America/Male/2010\",\"United Kingdom/Male/2010\",\"France/Female/2011\",\"The United States of America/Female/2011\",\"United Kingdom/Female/2011\",\"France/Male/2011\",\"The United States of America/Male/2011\",\"United Kingdom/Male/2011\",\"France/Female/2012\",\"The United States of America/Female/2012\",\"United Kingdom/Female/2012\",\"France/Male/2012\",\"The United States of America/Male/2012\",\"United Kingdom/Male/2012\",\"France/Female/2013\",\"The United States of America/Female/2013\",\"United Kingdom/Female/2013\",\"France/Male/2013\",\"The United States of America/Male/2013\",\"United Kingdom/Male/2013\",\"France/Female/2014\",\"The United States of America/Female/2014\",\"United Kingdom/Female/2014\",\"France/Male/2014\",\"The United States of America/Male/2014\",\"United Kingdom/Male/2014\",\"France/Female/2015\",\"The United States of America/Female/2015\",\"United Kingdom/Female/2015\",\"France/Male/2015\",\"The United States of America/Male/2015\",\"United Kingdom/Male/2015\",\"France/Female/2016\",\"The United States of America/Female/2016\",\"United Kingdom/Female/2016\",\"France/Male/2016\",\"The United States of America/Male/2016\",\"United Kingdom/Male/2016\",\"France/Female/2017\",\"The United States of America/Female/2017\",\"United Kingdom/Female/2017\",\"France/Male/2017\",\"The United States of America/Male/2017\",\"United Kingdom/Male/2017\",\"France/Female/2018\",\"The United States of America/Female/2018\",\"United Kingdom/Female/2018\",\"France/Male/2018\",\"The United States of America/Male/2018\",\"United Kingdom/Male/2018\",\"France/Female/2019\",\"The United States of America/Female/2019\",\"United Kingdom/Female/2019\",\"France/Male/2019\",\"The United States of America/Male/2019\",\"United Kingdom/Male/2019\",\"France/Female/2020\",\"The United States of America/Female/2020\",\"United Kingdom/Female/2020\",\"France/Male/2020\",\"The United States of America/Male/2020\",\"United Kingdom/Male/2020\",\"France/Female\",\"The United States of America/Female\",\"United Kingdom/Female\",\"France/Male\",\"The United States of America/Male\",\"United Kingdom/Male\",\"France\",\"The United States of America\",\"United Kingdom\"],\"labels\":[\"2000\",\"2000\",\"2000\",\"2000\",\"2000\",\"2000\",\"2001\",\"2001\",\"2001\",\"2001\",\"2001\",\"2001\",\"2002\",\"2002\",\"2002\",\"2002\",\"2002\",\"2002\",\"2003\",\"2003\",\"2003\",\"2003\",\"2003\",\"2003\",\"2004\",\"2004\",\"2004\",\"2004\",\"2004\",\"2004\",\"2005\",\"2005\",\"2005\",\"2005\",\"2005\",\"2005\",\"2006\",\"2006\",\"2006\",\"2006\",\"2006\",\"2006\",\"2007\",\"2007\",\"2007\",\"2007\",\"2007\",\"2007\",\"2008\",\"2008\",\"2008\",\"2008\",\"2008\",\"2008\",\"2009\",\"2009\",\"2009\",\"2009\",\"2009\",\"2009\",\"2010\",\"2010\",\"2010\",\"2010\",\"2010\",\"2010\",\"2011\",\"2011\",\"2011\",\"2011\",\"2011\",\"2011\",\"2012\",\"2012\",\"2012\",\"2012\",\"2012\",\"2012\",\"2013\",\"2013\",\"2013\",\"2013\",\"2013\",\"2013\",\"2014\",\"2014\",\"2014\",\"2014\",\"2014\",\"2014\",\"2015\",\"2015\",\"2015\",\"2015\",\"2015\",\"2015\",\"2016\",\"2016\",\"2016\",\"2016\",\"2016\",\"2016\",\"2017\",\"2017\",\"2017\",\"2017\",\"2017\",\"2017\",\"2018\",\"2018\",\"2018\",\"2018\",\"2018\",\"2018\",\"2019\",\"2019\",\"2019\",\"2019\",\"2019\",\"2019\",\"2020\",\"2020\",\"2020\",\"2020\",\"2020\",\"2020\",\"Female\",\"Female\",\"Female\",\"Male\",\"Male\",\"Male\",\"France\",\"The United States of America\",\"United Kingdom\"],\"marker\":{\"coloraxis\":\"coloraxis\",\"colors\":[0.03519330343649086,0.040514562922019944,0.04510924499655746,0.03847932937101488,0.03996963451727454,0.046426798554571894,0.03461784990164954,0.04020849940249185,0.044587673104598574,0.03782119797913867,0.03916407354502244,0.0452695816685556,0.03474251866194777,0.04021263010062826,0.04511155686846027,0.037584095837788045,0.03887197169445786,0.04499298249266557,0.03616354914733183,0.039757135083000675,0.045678884221085854,0.038355411139618815,0.03797141158213577,0.044805658856388327,0.03153525138456293,0.038161706502559185,0.04284474398838299,0.03547707158357881,0.03638540705298489,0.042527299509660235,0.03286740480808832,0.03856322301216931,0.0427822047727529,0.03632957807085215,0.03630064291251495,0.04187599421496154,0.0314306491237045,0.03728322725996939,0.04120038403438326,0.03489147980679911,0.03505312720353325,0.0403070157962006,0.03168469583257247,0.036611832478441644,0.04136952045278305,0.035114345671807656,0.03439214308768251,0.040093091097540834,0.0324752409011406,0.036956670873174204,0.04148932703069133,0.03541507480857352,0.03457560036420502,0.03986796376143742,0.032645003973815194,0.0349618570008902,0.038833570249587106,0.035060969460241606,0.03319623294666436,0.038159968801701596,0.032519482122980864,0.03518664972407563,0.03868827589414249,0.03493411534113247,0.03332089468442241,0.037647230390802554,0.03187087127343111,0.03520332261188949,0.03734907950286049,0.03427013598704076,0.03308547548175237,0.036592860466976455,0.033534501359338394,0.034643706372175447,0.038564162070278483,0.03523548474778691,0.032734015319962034,0.037262670877229315,0.03266256799403208,0.03414018101010625,0.037955243053283384,0.03456693216930542,0.032583571457132164,0.03690422597640615,0.0311949745231847,0.033045687804646784,0.03630978566165901,0.03307850107644646,0.0320108847974196,0.035918340666068124,0.0332080847099395,0.033263948343019836,0.03837550697061198,0.034531510631988054,0.032153915026914955,0.03732961795079089,0.03247252418256048,0.03210071535787659,0.036666959085443304,0.03389686900692937,0.03139390640126228,0.036441431867427446,0.032925247387038316,0.03215171707549506,0.03700727052307493,0.03412901751736338,0.03168133650818341,0.03685213551956688,0.03240035886336468,0.03161998121151686,0.03674720606583345,0.03387668850777107,0.0315782523707325,0.03678907625350316,0.03213356606994059,0.030783222815031288,0.035077707787660166,0.03362170452670253,0.03119705336588652,0.0358621981548881,0.03474081527037226,0.03548366974857206,0.03928036229439527,0.037439626034843396,0.03632846474874136,0.041362404908870845,0.033019344811084164,0.035647660324191525,0.040108724363287294,0.035426617825318134,0.034353963584150424,0.0396979848030979,0.034237840331068414,0.034998341404512204,0.039909968559517]},\"name\":\"\",\"parents\":[\"France/Female\",\"The United States of America/Female\",\"United Kingdom/Female\",\"France/Male\",\"The United States of America/Male\",\"United Kingdom/Male\",\"France/Female\",\"The United States of America/Female\",\"United Kingdom/Female\",\"France/Male\",\"The United States of America/Male\",\"United Kingdom/Male\",\"France/Female\",\"The United States of America/Female\",\"United Kingdom/Female\",\"France/Male\",\"The United States of America/Male\",\"United Kingdom/Male\",\"France/Female\",\"The United States of America/Female\",\"United Kingdom/Female\",\"France/Male\",\"The United States of America/Male\",\"United Kingdom/Male\",\"France/Female\",\"The United States of America/Female\",\"United Kingdom/Female\",\"France/Male\",\"The United States of America/Male\",\"United Kingdom/Male\",\"France/Female\",\"The United States of America/Female\",\"United Kingdom/Female\",\"France/Male\",\"The United States of America/Male\",\"United Kingdom/Male\",\"France/Female\",\"The United States of America/Female\",\"United Kingdom/Female\",\"France/Male\",\"The United States of America/Male\",\"United Kingdom/Male\",\"France/Female\",\"The United States of America/Female\",\"United Kingdom/Female\",\"France/Male\",\"The United States of America/Male\",\"United Kingdom/Male\",\"France/Female\",\"The United States of America/Female\",\"United Kingdom/Female\",\"France/Male\",\"The United States of America/Male\",\"United Kingdom/Male\",\"France/Female\",\"The United States of America/Female\",\"United Kingdom/Female\",\"France/Male\",\"The United States of America/Male\",\"United Kingdom/Male\",\"France/Female\",\"The United States of America/Female\",\"United Kingdom/Female\",\"France/Male\",\"The United States of America/Male\",\"United Kingdom/Male\",\"France/Female\",\"The United States of America/Female\",\"United Kingdom/Female\",\"France/Male\",\"The United States of America/Male\",\"United Kingdom/Male\",\"France/Female\",\"The United States of America/Female\",\"United Kingdom/Female\",\"France/Male\",\"The United States of America/Male\",\"United Kingdom/Male\",\"France/Female\",\"The United States of America/Female\",\"United Kingdom/Female\",\"France/Male\",\"The United States of America/Male\",\"United Kingdom/Male\",\"France/Female\",\"The United States of America/Female\",\"United Kingdom/Female\",\"France/Male\",\"The United States of America/Male\",\"United Kingdom/Male\",\"France/Female\",\"The United States of America/Female\",\"United Kingdom/Female\",\"France/Male\",\"The United States of America/Male\",\"United Kingdom/Male\",\"France/Female\",\"The United States of America/Female\",\"United Kingdom/Female\",\"France/Male\",\"The United States of America/Male\",\"United Kingdom/Male\",\"France/Female\",\"The United States of America/Female\",\"United Kingdom/Female\",\"France/Male\",\"The United States of America/Male\",\"United Kingdom/Male\",\"France/Female\",\"The United States of America/Female\",\"United Kingdom/Female\",\"France/Male\",\"The United States of America/Male\",\"United Kingdom/Male\",\"France/Female\",\"The United States of America/Female\",\"United Kingdom/Female\",\"France/Male\",\"The United States of America/Male\",\"United Kingdom/Male\",\"France/Female\",\"The United States of America/Female\",\"United Kingdom/Female\",\"France/Male\",\"The United States of America/Male\",\"United Kingdom/Male\",\"France\",\"The United States of America\",\"United Kingdom\",\"France\",\"The United States of America\",\"United Kingdom\",\"\",\"\",\"\"],\"values\":[258821.0,1225773.05,318180.99,272043.0,1177577.96,290186.0,258799.0,1233003.96,315511.0,272274.0,1183420.95,286757.0,262137.0,1244122.97,318381.0,273007.0,1199263.94,287835.01,273315.0,1246324.03,322583.95999999996,279024.0,1201964.0,288604.04,246342.0,1215947.04,305242.0,263087.0,1181667.98,277840.0,256899.01,1240342.02,305860.01,270634.0,1207675.97,276803.0,250608.99,1224321.99,298023.0,265807.01,1201941.96,274201.0,252810.03,1219743.97,299797.0,268205.99,1203968.02,274890.0,260434.01,1245786.92,302952.0,271697.0,1226196.92,276745.0,264199.0,1219784.03,288813.0,273917.0,1217378.99,270804.0,265054.01,1236002.92,290721.0,275415.0,1232431.97,270945.0,262325.01,1260479.93,284741.0,272470.0,1254977.93,267491.0,277758.99,1269556.98,295677.01,281467.99,1273721.97,273347.0,276981.0,1290958.96,297287.02,281427.02,1306034.02,279171.01,271345.99,1298176.95,291886.0,275657.0,1328240.0,278455.0,291148.99,1339225.92,310074.97,290621.0,1373404.1,292707.01,290983.01,1344015.9200000002,304205.01,290089.99,1400232.02,293000.99,299385.99,1374391.91,308328.98,294219.99,1439111.02,298843.01,299981.0,1380735.88,311640.99,296571.01,1458468.99,304373.01,302009.01,1381014.96,303128.01,297399.01,1473822.9300000002,301579.0,327293.01,1613844.9,340696.98,327305.99,1769884.06,348932.01,5748631.05,27103555.21,6413730.93,5892340.0,27311385.7,6013509.09,11640971.05,54414940.91,12427240.02],\"type\":\"sunburst\"}],                        {\"template\":{\"data\":{\"histogram2dcontour\":[{\"type\":\"histogram2dcontour\",\"colorbar\":{\"outlinewidth\":0,\"ticks\":\"\"},\"colorscale\":[[0.0,\"#0d0887\"],[0.1111111111111111,\"#46039f\"],[0.2222222222222222,\"#7201a8\"],[0.3333333333333333,\"#9c179e\"],[0.4444444444444444,\"#bd3786\"],[0.5555555555555556,\"#d8576b\"],[0.6666666666666666,\"#ed7953\"],[0.7777777777777778,\"#fb9f3a\"],[0.8888888888888888,\"#fdca26\"],[1.0,\"#f0f921\"]]}],\"choropleth\":[{\"type\":\"choropleth\",\"colorbar\":{\"outlinewidth\":0,\"ticks\":\"\"}}],\"histogram2d\":[{\"type\":\"histogram2d\",\"colorbar\":{\"outlinewidth\":0,\"ticks\":\"\"},\"colorscale\":[[0.0,\"#0d0887\"],[0.1111111111111111,\"#46039f\"],[0.2222222222222222,\"#7201a8\"],[0.3333333333333333,\"#9c179e\"],[0.4444444444444444,\"#bd3786\"],[0.5555555555555556,\"#d8576b\"],[0.6666666666666666,\"#ed7953\"],[0.7777777777777778,\"#fb9f3a\"],[0.8888888888888888,\"#fdca26\"],[1.0,\"#f0f921\"]]}],\"heatmap\":[{\"type\":\"heatmap\",\"colorbar\":{\"outlinewidth\":0,\"ticks\":\"\"},\"colorscale\":[[0.0,\"#0d0887\"],[0.1111111111111111,\"#46039f\"],[0.2222222222222222,\"#7201a8\"],[0.3333333333333333,\"#9c179e\"],[0.4444444444444444,\"#bd3786\"],[0.5555555555555556,\"#d8576b\"],[0.6666666666666666,\"#ed7953\"],[0.7777777777777778,\"#fb9f3a\"],[0.8888888888888888,\"#fdca26\"],[1.0,\"#f0f921\"]]}],\"heatmapgl\":[{\"type\":\"heatmapgl\",\"colorbar\":{\"outlinewidth\":0,\"ticks\":\"\"},\"colorscale\":[[0.0,\"#0d0887\"],[0.1111111111111111,\"#46039f\"],[0.2222222222222222,\"#7201a8\"],[0.3333333333333333,\"#9c179e\"],[0.4444444444444444,\"#bd3786\"],[0.5555555555555556,\"#d8576b\"],[0.6666666666666666,\"#ed7953\"],[0.7777777777777778,\"#fb9f3a\"],[0.8888888888888888,\"#fdca26\"],[1.0,\"#f0f921\"]]}],\"contourcarpet\":[{\"type\":\"contourcarpet\",\"colorbar\":{\"outlinewidth\":0,\"ticks\":\"\"}}],\"contour\":[{\"type\":\"contour\",\"colorbar\":{\"outlinewidth\":0,\"ticks\":\"\"},\"colorscale\":[[0.0,\"#0d0887\"],[0.1111111111111111,\"#46039f\"],[0.2222222222222222,\"#7201a8\"],[0.3333333333333333,\"#9c179e\"],[0.4444444444444444,\"#bd3786\"],[0.5555555555555556,\"#d8576b\"],[0.6666666666666666,\"#ed7953\"],[0.7777777777777778,\"#fb9f3a\"],[0.8888888888888888,\"#fdca26\"],[1.0,\"#f0f921\"]]}],\"surface\":[{\"type\":\"surface\",\"colorbar\":{\"outlinewidth\":0,\"ticks\":\"\"},\"colorscale\":[[0.0,\"#0d0887\"],[0.1111111111111111,\"#46039f\"],[0.2222222222222222,\"#7201a8\"],[0.3333333333333333,\"#9c179e\"],[0.4444444444444444,\"#bd3786\"],[0.5555555555555556,\"#d8576b\"],[0.6666666666666666,\"#ed7953\"],[0.7777777777777778,\"#fb9f3a\"],[0.8888888888888888,\"#fdca26\"],[1.0,\"#f0f921\"]]}],\"mesh3d\":[{\"type\":\"mesh3d\",\"colorbar\":{\"outlinewidth\":0,\"ticks\":\"\"}}],\"scatter\":[{\"fillpattern\":{\"fillmode\":\"overlay\",\"size\":10,\"solidity\":0.2},\"type\":\"scatter\"}],\"parcoords\":[{\"type\":\"parcoords\",\"line\":{\"colorbar\":{\"outlinewidth\":0,\"ticks\":\"\"}}}],\"scatterpolargl\":[{\"type\":\"scatterpolargl\",\"marker\":{\"colorbar\":{\"outlinewidth\":0,\"ticks\":\"\"}}}],\"bar\":[{\"error_x\":{\"color\":\"#2a3f5f\"},\"error_y\":{\"color\":\"#2a3f5f\"},\"marker\":{\"line\":{\"color\":\"#E5ECF6\",\"width\":0.5},\"pattern\":{\"fillmode\":\"overlay\",\"size\":10,\"solidity\":0.2}},\"type\":\"bar\"}],\"scattergeo\":[{\"type\":\"scattergeo\",\"marker\":{\"colorbar\":{\"outlinewidth\":0,\"ticks\":\"\"}}}],\"scatterpolar\":[{\"type\":\"scatterpolar\",\"marker\":{\"colorbar\":{\"outlinewidth\":0,\"ticks\":\"\"}}}],\"histogram\":[{\"marker\":{\"pattern\":{\"fillmode\":\"overlay\",\"size\":10,\"solidity\":0.2}},\"type\":\"histogram\"}],\"scattergl\":[{\"type\":\"scattergl\",\"marker\":{\"colorbar\":{\"outlinewidth\":0,\"ticks\":\"\"}}}],\"scatter3d\":[{\"type\":\"scatter3d\",\"line\":{\"colorbar\":{\"outlinewidth\":0,\"ticks\":\"\"}},\"marker\":{\"colorbar\":{\"outlinewidth\":0,\"ticks\":\"\"}}}],\"scattermapbox\":[{\"type\":\"scattermapbox\",\"marker\":{\"colorbar\":{\"outlinewidth\":0,\"ticks\":\"\"}}}],\"scatterternary\":[{\"type\":\"scatterternary\",\"marker\":{\"colorbar\":{\"outlinewidth\":0,\"ticks\":\"\"}}}],\"scattercarpet\":[{\"type\":\"scattercarpet\",\"marker\":{\"colorbar\":{\"outlinewidth\":0,\"ticks\":\"\"}}}],\"carpet\":[{\"aaxis\":{\"endlinecolor\":\"#2a3f5f\",\"gridcolor\":\"white\",\"linecolor\":\"white\",\"minorgridcolor\":\"white\",\"startlinecolor\":\"#2a3f5f\"},\"baxis\":{\"endlinecolor\":\"#2a3f5f\",\"gridcolor\":\"white\",\"linecolor\":\"white\",\"minorgridcolor\":\"white\",\"startlinecolor\":\"#2a3f5f\"},\"type\":\"carpet\"}],\"table\":[{\"cells\":{\"fill\":{\"color\":\"#EBF0F8\"},\"line\":{\"color\":\"white\"}},\"header\":{\"fill\":{\"color\":\"#C8D4E3\"},\"line\":{\"color\":\"white\"}},\"type\":\"table\"}],\"barpolar\":[{\"marker\":{\"line\":{\"color\":\"#E5ECF6\",\"width\":0.5},\"pattern\":{\"fillmode\":\"overlay\",\"size\":10,\"solidity\":0.2}},\"type\":\"barpolar\"}],\"pie\":[{\"automargin\":true,\"type\":\"pie\"}]},\"layout\":{\"autotypenumbers\":\"strict\",\"colorway\":[\"#636efa\",\"#EF553B\",\"#00cc96\",\"#ab63fa\",\"#FFA15A\",\"#19d3f3\",\"#FF6692\",\"#B6E880\",\"#FF97FF\",\"#FECB52\"],\"font\":{\"color\":\"#2a3f5f\"},\"hovermode\":\"closest\",\"hoverlabel\":{\"align\":\"left\"},\"paper_bgcolor\":\"white\",\"plot_bgcolor\":\"#E5ECF6\",\"polar\":{\"bgcolor\":\"#E5ECF6\",\"angularaxis\":{\"gridcolor\":\"white\",\"linecolor\":\"white\",\"ticks\":\"\"},\"radialaxis\":{\"gridcolor\":\"white\",\"linecolor\":\"white\",\"ticks\":\"\"}},\"ternary\":{\"bgcolor\":\"#E5ECF6\",\"aaxis\":{\"gridcolor\":\"white\",\"linecolor\":\"white\",\"ticks\":\"\"},\"baxis\":{\"gridcolor\":\"white\",\"linecolor\":\"white\",\"ticks\":\"\"},\"caxis\":{\"gridcolor\":\"white\",\"linecolor\":\"white\",\"ticks\":\"\"}},\"coloraxis\":{\"colorbar\":{\"outlinewidth\":0,\"ticks\":\"\"}},\"colorscale\":{\"sequential\":[[0.0,\"#0d0887\"],[0.1111111111111111,\"#46039f\"],[0.2222222222222222,\"#7201a8\"],[0.3333333333333333,\"#9c179e\"],[0.4444444444444444,\"#bd3786\"],[0.5555555555555556,\"#d8576b\"],[0.6666666666666666,\"#ed7953\"],[0.7777777777777778,\"#fb9f3a\"],[0.8888888888888888,\"#fdca26\"],[1.0,\"#f0f921\"]],\"sequentialminus\":[[0.0,\"#0d0887\"],[0.1111111111111111,\"#46039f\"],[0.2222222222222222,\"#7201a8\"],[0.3333333333333333,\"#9c179e\"],[0.4444444444444444,\"#bd3786\"],[0.5555555555555556,\"#d8576b\"],[0.6666666666666666,\"#ed7953\"],[0.7777777777777778,\"#fb9f3a\"],[0.8888888888888888,\"#fdca26\"],[1.0,\"#f0f921\"]],\"diverging\":[[0,\"#8e0152\"],[0.1,\"#c51b7d\"],[0.2,\"#de77ae\"],[0.3,\"#f1b6da\"],[0.4,\"#fde0ef\"],[0.5,\"#f7f7f7\"],[0.6,\"#e6f5d0\"],[0.7,\"#b8e186\"],[0.8,\"#7fbc41\"],[0.9,\"#4d9221\"],[1,\"#276419\"]]},\"xaxis\":{\"gridcolor\":\"white\",\"linecolor\":\"white\",\"ticks\":\"\",\"title\":{\"standoff\":15},\"zerolinecolor\":\"white\",\"automargin\":true,\"zerolinewidth\":2},\"yaxis\":{\"gridcolor\":\"white\",\"linecolor\":\"white\",\"ticks\":\"\",\"title\":{\"standoff\":15},\"zerolinecolor\":\"white\",\"automargin\":true,\"zerolinewidth\":2},\"scene\":{\"xaxis\":{\"backgroundcolor\":\"#E5ECF6\",\"gridcolor\":\"white\",\"linecolor\":\"white\",\"showbackground\":true,\"ticks\":\"\",\"zerolinecolor\":\"white\",\"gridwidth\":2},\"yaxis\":{\"backgroundcolor\":\"#E5ECF6\",\"gridcolor\":\"white\",\"linecolor\":\"white\",\"showbackground\":true,\"ticks\":\"\",\"zerolinecolor\":\"white\",\"gridwidth\":2},\"zaxis\":{\"backgroundcolor\":\"#E5ECF6\",\"gridcolor\":\"white\",\"linecolor\":\"white\",\"showbackground\":true,\"ticks\":\"\",\"zerolinecolor\":\"white\",\"gridwidth\":2}},\"shapedefaults\":{\"line\":{\"color\":\"#2a3f5f\"}},\"annotationdefaults\":{\"arrowcolor\":\"#2a3f5f\",\"arrowhead\":0,\"arrowwidth\":1},\"geo\":{\"bgcolor\":\"white\",\"landcolor\":\"#E5ECF6\",\"subunitcolor\":\"white\",\"showland\":true,\"showlakes\":true,\"lakecolor\":\"white\"},\"title\":{\"x\":0.05},\"mapbox\":{\"style\":\"light\"}}},\"coloraxis\":{\"colorbar\":{\"title\":{\"text\":\"DeathRate\"}},\"colorscale\":[[0.0,\"rgb(230, 240, 240)\"],[0.09090909090909091,\"rgb(191, 221, 229)\"],[0.18181818181818182,\"rgb(156, 201, 226)\"],[0.2727272727272727,\"rgb(129, 180, 227)\"],[0.36363636363636365,\"rgb(115, 154, 228)\"],[0.45454545454545453,\"rgb(117, 127, 221)\"],[0.5454545454545454,\"rgb(120, 100, 202)\"],[0.6363636363636364,\"rgb(119, 74, 175)\"],[0.7272727272727273,\"rgb(113, 50, 141)\"],[0.8181818181818182,\"rgb(100, 31, 104)\"],[0.9090909090909091,\"rgb(80, 20, 66)\"],[1.0,\"rgb(54, 14, 36)\"]]},\"legend\":{\"tracegroupgap\":0},\"title\":{\"text\":\"Deaths and Death Rates of USA, UK and France from different genders from 2000 to 2020\"},\"margin\":{\"t\":34,\"b\":30,\"r\":2,\"l\":2}},                        {\"responsive\": true}                    ).then(function(){\n",
       "                            \n",
       "var gd = document.getElementById('4849bc21-c383-4d14-8865-53756f3ce8dc');\n",
       "var x = new MutationObserver(function (mutations, observer) {{\n",
       "        var display = window.getComputedStyle(gd).display;\n",
       "        if (!display || display === 'none') {{\n",
       "            console.log([gd, 'removed!']);\n",
       "            Plotly.purge(gd);\n",
       "            observer.disconnect();\n",
       "        }}\n",
       "}});\n",
       "\n",
       "// Listen for the removal of the full notebook cells\n",
       "var notebookContainer = gd.closest('#notebook-container');\n",
       "if (notebookContainer) {{\n",
       "    x.observe(notebookContainer, {childList: true});\n",
       "}}\n",
       "\n",
       "// Listen for the clearing of the current output cell\n",
       "var outputEl = gd.closest('.output');\n",
       "if (outputEl) {{\n",
       "    x.observe(outputEl, {childList: true});\n",
       "}}\n",
       "\n",
       "                        })                };                });            </script>        </div>"
      ]
     },
     "metadata": {},
     "output_type": "display_data"
    }
   ],
   "source": [
    "# Colour: #Rdbu_r or #algae or #dense \n",
    "\n",
    "#width = 1080,height = 1920\n",
    "\n",
    "#The total sunburst graph (Country, Gender, Age Group, Year; with Deaths and Death Rate)\n",
    "fig_total = px.sunburst(data, path=[\"Country\",\"Gender\",\"Age Group\",\"Year\"], values = \"Deaths\", \n",
    "                  color = \"DeathRate\",\n",
    "                 color_continuous_scale = 'algae',\n",
    "                       title = \"Deaths and Death Rates of USA, UK and France from different age groups and gender from 2000 to 2020\",\n",
    "                       )\n",
    "\n",
    "fig_total.update_layout(margin=dict(t=34, b=30, r=2, l=2))\n",
    "fig_total.show()\n",
    "\n",
    "#The sub sunburst graph (Country, Age Group, Year; with Deaths and Death Rate)\n",
    "fig_AgeGroup = px.sunburst(data, path=[\"Country\", \"Age Group\",\"Year\"], values = \"Deaths\", \n",
    "                  color = \"DeathRate\",\n",
    "                 color_continuous_scale = 'dense',\n",
    "                title = \"Deaths and Death Rates of USA, UK and France from different age groups from 2000 to 2020\",\n",
    "                ) \n",
    "\n",
    "fig_AgeGroup.update_layout(margin=dict(t=34, b=30, r=2, l=2))\n",
    "fig_AgeGroup.show()\n",
    "\n",
    "#The sub sunburst graph (Country, Gender, Year; with Deaths and Death Rate)\n",
    "fig_Gender = px.sunburst(data, path=[\"Country\", \"Gender\",\"Year\"], values = \"Deaths\", \n",
    "                  color = \"DeathRate\",\n",
    "                 color_continuous_scale = 'dense',\n",
    "                        title = \"Deaths and Death Rates of USA, UK and France from different genders from 2000 to 2020\",\n",
    "                        )\n",
    "\n",
    "fig_Gender.update_layout(margin=dict(t=34, b=30, r=2, l=2))\n",
    "fig_Gender.show()\n"
   ]
  },
  {
   "cell_type": "code",
   "execution_count": 8,
   "id": "ef9a65c6-5797-4c68-9f35-7472f09501cc",
   "metadata": {},
   "outputs": [],
   "source": [
    "import plotly.io as pio\n",
    "pio.write_html(fig_total, file=\"COMP4037CW2_ThreeSunburst.html\", auto_open=True)\n",
    "pio.write_html(fig_total, file=\"index.html\", auto_open=True)\n",
    "pio.write_html(fig_total, file=\"total_Sunburst.html\", auto_open=True)\n",
    "pio.write_html(fig_AgeGroup, file=\"AgeGroup.html\", auto_open=True)\n",
    "pio.write_html(fig_Gender, file=\"Gender.html\", auto_open=True)"
   ]
  },
  {
   "cell_type": "code",
   "execution_count": 9,
   "id": "9a7695e4-fdc7-474c-a7cb-fb21b60cb923",
   "metadata": {},
   "outputs": [],
   "source": [
    "with open('COMP4037CW2_ThreeSunburst.html', 'a') as f:\n",
    "    f.write(fig_AgeGroup.to_html(full_html=False, include_plotlyjs='cdn'))\n",
    "    f.write(fig_Gender.to_html(full_html=False, include_plotlyjs='cdn'))\n",
    "\n",
    "with open('index.html', 'a') as f:\n",
    "    f.write(fig_AgeGroup.to_html(full_html=False, include_plotlyjs='cdn'))\n",
    "    f.write(fig_Gender.to_html(full_html=False, include_plotlyjs='cdn'))"
   ]
  },
  {
   "cell_type": "code",
   "execution_count": null,
   "id": "fe2734c1-35d5-4caa-81d4-46c79d9be7b9",
   "metadata": {},
   "outputs": [],
   "source": []
  }
 ],
 "metadata": {
  "kernelspec": {
   "display_name": "Python 3 (ipykernel)",
   "language": "python",
   "name": "python3"
  },
  "language_info": {
   "codemirror_mode": {
    "name": "ipython",
    "version": 3
   },
   "file_extension": ".py",
   "mimetype": "text/x-python",
   "name": "python",
   "nbconvert_exporter": "python",
   "pygments_lexer": "ipython3",
   "version": "3.10.7"
  }
 },
 "nbformat": 4,
 "nbformat_minor": 5
}
